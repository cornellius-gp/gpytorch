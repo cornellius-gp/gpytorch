{
 "cells": [
  {
   "cell_type": "markdown",
   "metadata": {},
   "source": [
    "# GP Regression with Grid Structured Training Data\n",
    "\n",
    "In this notebook, we demonstrate how to perform GP regression when your training data lies on a regularly spaced grid. For this example, we'll be modeling a 2D function where the training data is on an evenly spaced grid on (0,1)x(0, 2) with 100 grid points in each dimension. \n",
    "\n",
    "In other words, we have 10000 training examples. However, the grid structure of the training data will allow us to perform inference very quickly anyways."
   ]
  },
  {
   "cell_type": "code",
   "execution_count": 1,
   "metadata": {},
   "outputs": [],
   "source": [
    "import gpytorch\n",
    "import torch\n",
    "import math"
   ]
  },
  {
   "cell_type": "markdown",
   "metadata": {},
   "source": [
    "## Make the grid and training data\n",
    "\n",
    "In the next cell, we create the grid, along with the 10000 training examples and labels. After running this cell, we create three important tensors:\n",
    "\n",
    "- `grid` is a tensor that is `grid_size x 2` and contains the 1D grid for each dimension.\n",
    "- `train_x` is a tensor containing the full 10000 training examples.\n",
    "- `train_y` are the labels. For this, we're just using a simple sine function."
   ]
  },
  {
   "cell_type": "code",
   "execution_count": 2,
   "metadata": {},
   "outputs": [],
   "source": [
    "grid_bounds = [(0, 1), (0, 2)]\n",
    "grid_size = 25\n",
    "grid = torch.zeros(grid_size, len(grid_bounds))\n",
    "for i in range(len(grid_bounds)):\n",
    "    grid_diff = float(grid_bounds[i][1] - grid_bounds[i][0]) / (grid_size - 2)\n",
    "    grid[:, i] = torch.linspace(grid_bounds[i][0] - grid_diff, grid_bounds[i][1] + grid_diff, grid_size)\n",
    "\n",
    "train_x = gpytorch.utils.grid.create_data_from_grid(grid)\n",
    "train_y = torch.sin((train_x[:, 0] + train_x[:, 1]) * (2 * math.pi)) + torch.randn_like(train_x[:, 0]).mul(0.01)"
   ]
  },
  {
   "cell_type": "markdown",
   "metadata": {},
   "source": [
    "## Creating the Grid GP Model\n",
    "\n",
    "In the next cell we create our GP model. Like other scalable GP methods, we'll use a scalable kernel that wraps a base kernel. In this case, we create a `GridKernel` that wraps an `RBFKernel`."
   ]
  },
  {
   "cell_type": "code",
   "execution_count": 3,
   "metadata": {},
   "outputs": [],
   "source": [
    "class GridGPRegressionModel(gpytorch.models.ExactGP):\n",
    "    def __init__(self, grid, train_x, train_y, likelihood):\n",
    "        super(GridGPRegressionModel, self).__init__(train_x, train_y, likelihood)\n",
    "        num_dims = train_x.size(-1)\n",
    "        self.mean_module = gpytorch.means.ConstantMean()\n",
    "        self.covar_module = gpytorch.kernels.GridKernel(gpytorch.kernels.RBFKernel(), grid=grid)\n",
    "    \n",
    "    def forward(self, x):\n",
    "        mean_x = self.mean_module(x)\n",
    "        covar_x = self.covar_module(x)\n",
    "        return gpytorch.distributions.MultivariateNormal(mean_x, covar_x)\n",
    "\n",
    "likelihood = gpytorch.likelihoods.GaussianLikelihood()\n",
    "model = GridGPRegressionModel(grid, train_x, train_y, likelihood)\n",
    "        "
   ]
  },
  {
   "cell_type": "code",
   "execution_count": 4,
   "metadata": {},
   "outputs": [
    {
     "name": "stdout",
     "output_type": "stream",
     "text": [
      "Iter 1/50 - Loss: 0.978   lengthscale: 0.693   noise: 0.693\n",
      "Iter 2/50 - Loss: 0.933   lengthscale: 0.644   noise: 0.644\n",
      "Iter 3/50 - Loss: 0.880   lengthscale: 0.598   noise: 0.598\n",
      "Iter 4/50 - Loss: 0.816   lengthscale: 0.554   noise: 0.554\n",
      "Iter 5/50 - Loss: 0.738   lengthscale: 0.513   noise: 0.513\n",
      "Iter 6/50 - Loss: 0.655   lengthscale: 0.474   noise: 0.473\n",
      "Iter 7/50 - Loss: 0.575   lengthscale: 0.438   noise: 0.436\n",
      "Iter 8/50 - Loss: 0.507   lengthscale: 0.403   noise: 0.401\n",
      "Iter 9/50 - Loss: 0.450   lengthscale: 0.372   noise: 0.368\n",
      "Iter 10/50 - Loss: 0.398   lengthscale: 0.345   noise: 0.338\n",
      "Iter 11/50 - Loss: 0.351   lengthscale: 0.321   noise: 0.309\n",
      "Iter 12/50 - Loss: 0.306   lengthscale: 0.301   noise: 0.282\n",
      "Iter 13/50 - Loss: 0.259   lengthscale: 0.283   noise: 0.258\n",
      "Iter 14/50 - Loss: 0.214   lengthscale: 0.269   noise: 0.235\n",
      "Iter 15/50 - Loss: 0.167   lengthscale: 0.256   noise: 0.213\n",
      "Iter 16/50 - Loss: 0.120   lengthscale: 0.245   noise: 0.194\n",
      "Iter 17/50 - Loss: 0.075   lengthscale: 0.236   noise: 0.176\n",
      "Iter 18/50 - Loss: 0.027   lengthscale: 0.228   noise: 0.160\n",
      "Iter 19/50 - Loss: -0.021   lengthscale: 0.222   noise: 0.145\n",
      "Iter 20/50 - Loss: -0.067   lengthscale: 0.217   noise: 0.131\n",
      "Iter 21/50 - Loss: -0.118   lengthscale: 0.213   noise: 0.118\n",
      "Iter 22/50 - Loss: -0.167   lengthscale: 0.210   noise: 0.107\n",
      "Iter 23/50 - Loss: -0.213   lengthscale: 0.208   noise: 0.097\n",
      "Iter 24/50 - Loss: -0.267   lengthscale: 0.207   noise: 0.087\n",
      "Iter 25/50 - Loss: -0.311   lengthscale: 0.207   noise: 0.079\n",
      "Iter 26/50 - Loss: -0.363   lengthscale: 0.208   noise: 0.071\n",
      "Iter 27/50 - Loss: -0.414   lengthscale: 0.209   noise: 0.064\n",
      "Iter 28/50 - Loss: -0.460   lengthscale: 0.212   noise: 0.057\n",
      "Iter 29/50 - Loss: -0.514   lengthscale: 0.216   noise: 0.052\n",
      "Iter 30/50 - Loss: -0.563   lengthscale: 0.221   noise: 0.047\n",
      "Iter 31/50 - Loss: -0.616   lengthscale: 0.227   noise: 0.042\n",
      "Iter 32/50 - Loss: -0.668   lengthscale: 0.234   noise: 0.038\n",
      "Iter 33/50 - Loss: -0.717   lengthscale: 0.243   noise: 0.034\n",
      "Iter 34/50 - Loss: -0.773   lengthscale: 0.253   noise: 0.031\n",
      "Iter 35/50 - Loss: -0.821   lengthscale: 0.264   noise: 0.027\n",
      "Iter 36/50 - Loss: -0.868   lengthscale: 0.276   noise: 0.025\n",
      "Iter 37/50 - Loss: -0.927   lengthscale: 0.290   noise: 0.022\n",
      "Iter 38/50 - Loss: -0.981   lengthscale: 0.305   noise: 0.020\n",
      "Iter 39/50 - Loss: -1.026   lengthscale: 0.320   noise: 0.018\n",
      "Iter 40/50 - Loss: -1.084   lengthscale: 0.338   noise: 0.016\n",
      "Iter 41/50 - Loss: -1.133   lengthscale: 0.355   noise: 0.014\n",
      "Iter 42/50 - Loss: -1.183   lengthscale: 0.371   noise: 0.013\n",
      "Iter 43/50 - Loss: -1.231   lengthscale: 0.385   noise: 0.012\n",
      "Iter 44/50 - Loss: -1.277   lengthscale: 0.397   noise: 0.011\n",
      "Iter 45/50 - Loss: -1.323   lengthscale: 0.402   noise: 0.009\n",
      "Iter 46/50 - Loss: -1.374   lengthscale: 0.403   noise: 0.008\n",
      "Iter 47/50 - Loss: -1.426   lengthscale: 0.401   noise: 0.008\n",
      "Iter 48/50 - Loss: -1.481   lengthscale: 0.395   noise: 0.007\n",
      "Iter 49/50 - Loss: -1.529   lengthscale: 0.388   noise: 0.006\n",
      "Iter 50/50 - Loss: -1.576   lengthscale: 0.379   noise: 0.006\n"
     ]
    }
   ],
   "source": [
    "# this is for running the notebook in our testing framework\n",
    "import os\n",
    "smoke_test = ('CI' in os.environ)\n",
    "training_iter = 2 if smoke_test else 50\n",
    "\n",
    "\n",
    "# Find optimal model hyperparameters\n",
    "model.train()\n",
    "likelihood.train()\n",
    "\n",
    "# Use the adam optimizer\n",
    "optimizer = torch.optim.Adam([\n",
    "    {'params': model.parameters()},  # Includes GaussianLikelihood parameters\n",
    "], lr=0.1)\n",
    "\n",
    "# \"Loss\" for GPs - the marginal log likelihood\n",
    "mll = gpytorch.mlls.ExactMarginalLogLikelihood(likelihood, model)\n",
    "\n",
    "for i in range(training_iter):\n",
    "    # Zero gradients from previous iteration\n",
    "    optimizer.zero_grad()\n",
    "    # Output from model\n",
    "    output = model(train_x)\n",
    "    # Calc loss and backprop gradients\n",
    "    loss = -mll(output, train_y)\n",
    "    loss.backward()\n",
    "    print('Iter %d/%d - Loss: %.3f   lengthscale: %.3f   noise: %.3f' % (\n",
    "        i + 1, training_iter, loss.item(),\n",
    "        model.covar_module.base_kernel.lengthscale.item(),\n",
    "        model.likelihood.noise.item()\n",
    "    ))\n",
    "    optimizer.step()"
   ]
  },
  {
   "cell_type": "markdown",
   "metadata": {},
   "source": [
    "In the next cell, we create a set of 400 test examples and make predictions. Note that unlike other scalable GP methods, testing is more complicated. Because our test data can be different from the training data, in general we may not be able to avoid creating a `num_train x num_test` (e.g., `10000 x 400`) kernel matrix between the training and test data.\n",
    "\n",
    "For this reason, if you have large numbers of test points, memory may become a concern. The time complexity should still be reasonable, however, because we will still exploit structure in the train-train covariance matrix."
   ]
  },
  {
   "cell_type": "code",
   "execution_count": 5,
   "metadata": {},
   "outputs": [],
   "source": [
    "model.eval()\n",
    "likelihood.eval()\n",
    "n = 20\n",
    "test_x = torch.zeros(int(pow(n, 2)), 2)\n",
    "for i in range(n):\n",
    "    for j in range(n):\n",
    "        test_x[i * n + j][0] = float(i) / (n-1)\n",
    "        test_x[i * n + j][1] = float(j) / (n-1)\n",
    "\n",
    "with torch.no_grad(), gpytorch.settings.fast_pred_var():\n",
    "    observed_pred = likelihood(model(test_x))"
   ]
  },
  {
   "cell_type": "code",
   "execution_count": 6,
   "metadata": {},
   "outputs": [
    {
     "data": {
      "image/png": "[encoded data removed]",
      "text/plain": [
       "<Figure size 288x216 with 2 Axes>"
      ]
     },
     "metadata": {
      "needs_background": "light"
     },
     "output_type": "display_data"
    },
    {
     "data": {
      "image/png": "[encoded data removed]",
      "text/plain": [
       "<Figure size 288x216 with 2 Axes>"
      ]
     },
     "metadata": {
      "needs_background": "light"
     },
     "output_type": "display_data"
    },
    {
     "data": {
      "image/png": "[encoded data removed]",
      "text/plain": [
       "<Figure size 288x216 with 2 Axes>"
      ]
     },
     "metadata": {
      "needs_background": "light"
     },
     "output_type": "display_data"
    }
   ],
   "source": [
    "import matplotlib.pyplot as plt\n",
    "%matplotlib inline\n",
    "\n",
    "pred_labels = observed_pred.mean.view(n, n)\n",
    "\n",
    "# Calc abosolute error\n",
    "test_y_actual = torch.sin(((test_x[:, 0] + test_x[:, 1]) * (2 * math.pi))).view(n, n)\n",
    "delta_y = torch.abs(pred_labels - test_y_actual).detach().numpy()\n",
    "\n",
    "# Define a plotting function\n",
    "def ax_plot(f, ax, y_labels, title):\n",
    "    if smoke_test: return  # this is for running the notebook in our testing framework\n",
    "    im = ax.imshow(y_labels)\n",
    "    ax.set_title(title)\n",
    "    f.colorbar(im)\n",
    "\n",
    "# Plot our predictive means\n",
    "f, observed_ax = plt.subplots(1, 1, figsize=(4, 3))\n",
    "ax_plot(f, observed_ax, pred_labels, 'Predicted Values (Likelihood)')\n",
    "\n",
    "# Plot the true values\n",
    "f, observed_ax2 = plt.subplots(1, 1, figsize=(4, 3))\n",
    "ax_plot(f, observed_ax2, test_y_actual, 'Actual Values (Likelihood)')\n",
    "\n",
    "# Plot the absolute errors\n",
    "f, observed_ax3 = plt.subplots(1, 1, figsize=(4, 3))\n",
    "ax_plot(f, observed_ax3, delta_y, 'Absolute Error Surface')"
   ]
  },
  {
   "cell_type": "code",
   "execution_count": null,
   "metadata": {},
   "outputs": [],
   "source": []
  }
 ],
 "metadata": {
  "kernelspec": {
   "display_name": "Python 3",
   "language": "python",
   "name": "python3"
  },
  "language_info": {
   "codemirror_mode": {
    "name": "ipython",
    "version": 3
   },
   "file_extension": ".py",
   "mimetype": "text/x-python",
   "name": "python",
   "nbconvert_exporter": "python",
   "pygments_lexer": "ipython3",
   "version": "3.7.3"
  }
 },
 "nbformat": 4,
 "nbformat_minor": 2
}
