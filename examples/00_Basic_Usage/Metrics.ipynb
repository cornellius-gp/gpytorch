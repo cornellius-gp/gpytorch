{
 "cells": [
  {
   "cell_type": "markdown",
   "metadata": {},
   "source": [
    "# Metrics in GPyTorch\n",
    "\n",
    "In this notebook, we will see how to evaluate GPyTorch models with probabilistic metrics. \n",
    "\n",
    "**Note:** It is encouraged to check the Simple GP Regression notebook first if not done already. We'll reuse most of the code from there.\n",
    "\n",
    "We'll be modeling the function\n",
    "\n",
    "\\begin{align}\n",
    "y &= \\sin(2\\pi x) + \\epsilon \\\\\n",
    "  \\epsilon &\\sim \\mathcal{N}(0, 0.04) \n",
    "\\end{align}"
   ]
  },
  {
   "cell_type": "code",
   "execution_count": 1,
   "metadata": {},
   "outputs": [],
   "source": [
    "import math\n",
    "import torch\n",
    "import gpytorch\n",
    "from matplotlib import pyplot as plt\n",
    "\n",
    "%matplotlib inline\n",
    "%load_ext autoreload\n",
    "%autoreload 2"
   ]
  },
  {
   "cell_type": "markdown",
   "metadata": {},
   "source": [
    "In the next cell, we set up the train and test data."
   ]
  },
  {
   "cell_type": "code",
   "execution_count": 2,
   "metadata": {},
   "outputs": [],
   "source": [
    "# Training data is 100 points in [0,1] inclusive regularly spaced\n",
    "train_x = torch.linspace(0, 1, 100)\n",
    "# True function is sin(2*pi*x) with Gaussian noise\n",
    "train_y = torch.sin(train_x * (2 * math.pi)) + torch.randn(train_x.size()) * math.sqrt(0.04)\n",
    "\n",
    "test_x = torch.linspace(0, 1, 51)\n",
    "test_y = torch.sin(test_x * (2 * math.pi)) + torch.randn(test_x.size()) * math.sqrt(0.04)"
   ]
  },
  {
   "cell_type": "markdown",
   "metadata": {},
   "source": [
    "In the next cell, we define a simple GP regression model."
   ]
  },
  {
   "cell_type": "code",
   "execution_count": 3,
   "metadata": {},
   "outputs": [],
   "source": [
    "# We will use the simplest form of GP model, exact inference\n",
    "class ExactGPModel(gpytorch.models.ExactGP):\n",
    "    def __init__(self, train_x, train_y, likelihood):\n",
    "        super(ExactGPModel, self).__init__(train_x, train_y, likelihood)\n",
    "        self.mean_module = gpytorch.means.ConstantMean()\n",
    "        self.covar_module = gpytorch.kernels.ScaleKernel(gpytorch.kernels.RBFKernel())\n",
    "    \n",
    "    def forward(self, x):\n",
    "        mean_x = self.mean_module(x)\n",
    "        covar_x = self.covar_module(x)\n",
    "        return gpytorch.distributions.MultivariateNormal(mean_x, covar_x)\n",
    "\n",
    "# initialize likelihood and model\n",
    "likelihood = gpytorch.likelihoods.GaussianLikelihood()\n",
    "model = ExactGPModel(train_x, train_y, likelihood)"
   ]
  },
  {
   "cell_type": "markdown",
   "metadata": {},
   "source": [
    "Our model is ready for hyperparameter learning, but, first let us check how it performs on the test data."
   ]
  },
  {
   "cell_type": "code",
   "execution_count": 4,
   "metadata": {},
   "outputs": [
    {
     "data": {
      "image/png": "[encoded data removed]",
      "text/plain": [
       "<Figure size 288x216 with 1 Axes>"
      ]
     },
     "metadata": {
      "needs_background": "light"
     },
     "output_type": "display_data"
    }
   ],
   "source": [
    "model.eval()\n",
    "with torch.no_grad():\n",
    "    untrained_pred_dist = likelihood(model(test_x))\n",
    "    predictive_mean = untrained_pred_dist.mean\n",
    "    lower, upper = untrained_pred_dist.confidence_region()\n",
    "    \n",
    "f, ax = plt.subplots(1, 1, figsize=(4, 3))\n",
    "# Plot training data as black stars\n",
    "ax.plot(train_x, train_y, 'k*')\n",
    "# Plot predictive means as blue line\n",
    "ax.plot(test_x, predictive_mean, 'b')\n",
    "# Shade between the lower and upper confidence bounds\n",
    "ax.fill_between(test_x, lower, upper, alpha=0.5)\n",
    "ax.set_ylim([-3, 3])\n",
    "ax.legend(['Observed Data', 'Mean', 'Confidence'], bbox_to_anchor=(1.6,1));"
   ]
  },
  {
   "cell_type": "markdown",
   "metadata": {},
   "source": [
    "Visually, this does not look like a good fit. Now, let us train the model hyperparameters."
   ]
  },
  {
   "cell_type": "code",
   "execution_count": 5,
   "metadata": {},
   "outputs": [
    {
     "name": "stdout",
     "output_type": "stream",
     "text": [
      "Iter 1/50 - Loss: 0.936   lengthscale: 0.693   noise: 0.693\n",
      "Iter 2/50 - Loss: 0.905   lengthscale: 0.644   noise: 0.644\n",
      "Iter 3/50 - Loss: 0.871   lengthscale: 0.598   noise: 0.598\n",
      "Iter 4/50 - Loss: 0.834   lengthscale: 0.555   noise: 0.554\n",
      "Iter 5/50 - Loss: 0.792   lengthscale: 0.514   noise: 0.513\n",
      "Iter 6/50 - Loss: 0.746   lengthscale: 0.475   noise: 0.474\n",
      "Iter 7/50 - Loss: 0.696   lengthscale: 0.439   noise: 0.437\n",
      "Iter 8/50 - Loss: 0.645   lengthscale: 0.404   noise: 0.402\n",
      "Iter 9/50 - Loss: 0.597   lengthscale: 0.372   noise: 0.369\n",
      "Iter 10/50 - Loss: 0.553   lengthscale: 0.342   noise: 0.339\n",
      "Iter 11/50 - Loss: 0.514   lengthscale: 0.315   noise: 0.311\n",
      "Iter 12/50 - Loss: 0.477   lengthscale: 0.292   noise: 0.284\n",
      "Iter 13/50 - Loss: 0.443   lengthscale: 0.273   noise: 0.259\n",
      "Iter 14/50 - Loss: 0.410   lengthscale: 0.257   noise: 0.237\n",
      "Iter 15/50 - Loss: 0.377   lengthscale: 0.244   noise: 0.216\n",
      "Iter 16/50 - Loss: 0.345   lengthscale: 0.234   noise: 0.197\n",
      "Iter 17/50 - Loss: 0.313   lengthscale: 0.226   noise: 0.179\n",
      "Iter 18/50 - Loss: 0.282   lengthscale: 0.220   noise: 0.163\n",
      "Iter 19/50 - Loss: 0.251   lengthscale: 0.217   noise: 0.148\n",
      "Iter 20/50 - Loss: 0.221   lengthscale: 0.215   noise: 0.135\n",
      "Iter 21/50 - Loss: 0.192   lengthscale: 0.214   noise: 0.122\n",
      "Iter 22/50 - Loss: 0.164   lengthscale: 0.216   noise: 0.111\n",
      "Iter 23/50 - Loss: 0.137   lengthscale: 0.218   noise: 0.101\n",
      "Iter 24/50 - Loss: 0.113   lengthscale: 0.222   noise: 0.092\n",
      "Iter 25/50 - Loss: 0.090   lengthscale: 0.226   noise: 0.084\n",
      "Iter 26/50 - Loss: 0.070   lengthscale: 0.232   noise: 0.077\n",
      "Iter 27/50 - Loss: 0.052   lengthscale: 0.238   noise: 0.071\n",
      "Iter 28/50 - Loss: 0.037   lengthscale: 0.245   noise: 0.065\n",
      "Iter 29/50 - Loss: 0.025   lengthscale: 0.252   noise: 0.060\n",
      "Iter 30/50 - Loss: 0.016   lengthscale: 0.260   noise: 0.055\n",
      "Iter 31/50 - Loss: 0.011   lengthscale: 0.267   noise: 0.051\n",
      "Iter 32/50 - Loss: 0.008   lengthscale: 0.274   noise: 0.048\n",
      "Iter 33/50 - Loss: 0.008   lengthscale: 0.280   noise: 0.045\n",
      "Iter 34/50 - Loss: 0.010   lengthscale: 0.286   noise: 0.042\n",
      "Iter 35/50 - Loss: 0.013   lengthscale: 0.290   noise: 0.040\n",
      "Iter 36/50 - Loss: 0.017   lengthscale: 0.293   noise: 0.038\n",
      "Iter 37/50 - Loss: 0.021   lengthscale: 0.294   noise: 0.037\n",
      "Iter 38/50 - Loss: 0.025   lengthscale: 0.294   noise: 0.036\n",
      "Iter 39/50 - Loss: 0.028   lengthscale: 0.292   noise: 0.035\n",
      "Iter 40/50 - Loss: 0.030   lengthscale: 0.289   noise: 0.034\n",
      "Iter 41/50 - Loss: 0.030   lengthscale: 0.285   noise: 0.034\n",
      "Iter 42/50 - Loss: 0.029   lengthscale: 0.280   noise: 0.034\n",
      "Iter 43/50 - Loss: 0.028   lengthscale: 0.275   noise: 0.034\n",
      "Iter 44/50 - Loss: 0.026   lengthscale: 0.270   noise: 0.035\n",
      "Iter 45/50 - Loss: 0.023   lengthscale: 0.264   noise: 0.035\n",
      "Iter 46/50 - Loss: 0.021   lengthscale: 0.259   noise: 0.036\n",
      "Iter 47/50 - Loss: 0.018   lengthscale: 0.254   noise: 0.037\n",
      "Iter 48/50 - Loss: 0.016   lengthscale: 0.250   noise: 0.038\n",
      "Iter 49/50 - Loss: 0.013   lengthscale: 0.246   noise: 0.039\n",
      "Iter 50/50 - Loss: 0.012   lengthscale: 0.244   noise: 0.040\n"
     ]
    }
   ],
   "source": [
    "# this is for running the notebook in our testing framework\n",
    "import os\n",
    "smoke_test = ('CI' in os.environ)\n",
    "training_iter = 2 if smoke_test else 50\n",
    "\n",
    "\n",
    "# Find optimal model hyperparameters\n",
    "model.train()\n",
    "\n",
    "# Use the adam optimizer\n",
    "optimizer = torch.optim.Adam(model.parameters(), lr=0.1)  # Includes GaussianLikelihood parameters\n",
    "\n",
    "# \"Loss\" for GPs - the marginal log likelihood\n",
    "mll = gpytorch.mlls.ExactMarginalLogLikelihood(likelihood, model)\n",
    "\n",
    "for i in range(training_iter):\n",
    "    # Zero gradients from previous iteration\n",
    "    optimizer.zero_grad()\n",
    "    # Output from model\n",
    "    output = model(train_x)\n",
    "    # Calc loss and backprop gradients\n",
    "    loss = -mll(output, train_y)\n",
    "    loss.backward()\n",
    "    print('Iter %d/%d - Loss: %.3f   lengthscale: %.3f   noise: %.3f' % (\n",
    "        i + 1, training_iter, loss.item(),\n",
    "        model.covar_module.base_kernel.lengthscale.item(),\n",
    "        model.likelihood.noise.item()\n",
    "    ))\n",
    "    optimizer.step()"
   ]
  },
  {
   "cell_type": "markdown",
   "metadata": {},
   "source": [
    "In the next cell, we reevaluate the model on the test data."
   ]
  },
  {
   "cell_type": "code",
   "execution_count": 6,
   "metadata": {},
   "outputs": [
    {
     "data": {
      "image/png": "[encoded data removed]",
      "text/plain": [
       "<Figure size 288x216 with 1 Axes>"
      ]
     },
     "metadata": {
      "needs_background": "light"
     },
     "output_type": "display_data"
    }
   ],
   "source": [
    "model.eval()\n",
    "with torch.no_grad():\n",
    "    trained_pred_dist = likelihood(model(test_x))\n",
    "    predictive_mean = trained_pred_dist.mean\n",
    "    lower, upper = trained_pred_dist.confidence_region()\n",
    "    \n",
    "f, ax = plt.subplots(1, 1, figsize=(4, 3))\n",
    "# Plot training data as black stars\n",
    "ax.plot(train_x, train_y, 'k*')\n",
    "# Plot predictive means as blue line\n",
    "ax.plot(test_x, predictive_mean, 'b')\n",
    "# Shade between the lower and upper confidence bounds\n",
    "ax.fill_between(test_x, lower, upper, alpha=0.5)\n",
    "ax.set_ylim([-3, 3])\n",
    "ax.legend(['Observed Data', 'Mean', 'Confidence'], bbox_to_anchor=(1.6,1));"
   ]
  },
  {
   "cell_type": "markdown",
   "metadata": {},
   "source": [
    "Now our model seems to fit well on the data. It is not always possible to visually evaluate the model in high dimensional cases. Thus, now we evaluate the models with help of probabilistic metrics. We have saved predictive distributions from untrained and trained models as `untrained_pred_dist` and `trained_pred_dist` respectively."
   ]
  },
  {
   "cell_type": "markdown",
   "metadata": {},
   "source": [
    "## Negative Log Predictive Density (NLPD)\n",
    "\n",
    "Negative Log Predictive Density (NLPD) is the most standard probabilistic metric for evaluating GP models. In simple terms, it is negative log likelihood of the test data given the predictive distribution. It can be computed as follows:"
   ]
  },
  {
   "cell_type": "code",
   "execution_count": 7,
   "metadata": {},
   "outputs": [
    {
     "name": "stdout",
     "output_type": "stream",
     "text": [
      "Untrained model NLPD: 45.58, \n",
      "Trained model NLPD: -14.53\n"
     ]
    }
   ],
   "source": [
    "init_nlpd = gpytorch.metrics.negative_log_predictive_density(untrained_pred_dist, test_y)\n",
    "final_nlpd = gpytorch.metrics.negative_log_predictive_density(trained_pred_dist, test_y)\n",
    "\n",
    "print(f'Untrained model NLPD: {init_nlpd:.2f}, \\nTrained model NLPD: {final_nlpd:.2f}')"
   ]
  },
  {
   "cell_type": "markdown",
   "metadata": {},
   "source": [
    "## Mean Standardized Log Loss (MSLL)\n",
    "\n",
    "This metric computes average negative log likelihood of all test points w.r.t their univariate predicitve densities. For more details, see \"page No. 23, Gaussian Processes for Machine Learning, Carl Edward Rasmussen and Christopher K. I. Williams, The MIT Press, 2006. ISBN 0-262-18253-X\""
   ]
  },
  {
   "cell_type": "code",
   "execution_count": 8,
   "metadata": {},
   "outputs": [
    {
     "name": "stdout",
     "output_type": "stream",
     "text": [
      "Untrained model MSLL: 0.82, \n",
      "Trained model MSLL: -0.46\n"
     ]
    }
   ],
   "source": [
    "init_msll = gpytorch.metrics.mean_standardized_log_loss(untrained_pred_dist, test_y)\n",
    "final_msll = gpytorch.metrics.mean_standardized_log_loss(trained_pred_dist, test_y)\n",
    "\n",
    "print(f'Untrained model MSLL: {init_msll:.2f}, \\nTrained model MSLL: {final_msll:.2f}')"
   ]
  },
  {
   "cell_type": "markdown",
   "metadata": {},
   "source": [
    "## Average Coverage Error (ACE)\n",
    "\n",
    "This metric helps in calculating average of quantile coverage error over the [0, 100] range. Quantile coverage error is absolute difference between the percentage of data falling within the `x`% quantile of predictive distribution and `x`, where, `x` can be in range [0, 100]."
   ]
  },
  {
   "cell_type": "code",
   "execution_count": 9,
   "metadata": {},
   "outputs": [
    {
     "name": "stdout",
     "output_type": "stream",
     "text": [
      "Untrained model ACE: 0.16, \n",
      "Trained model ACE: 0.03\n"
     ]
    }
   ],
   "source": [
    "init_ace = gpytorch.metrics.average_coverage_error(untrained_pred_dist, test_y, n_bins=20)\n",
    "final_ace = gpytorch.metrics.average_coverage_error(trained_pred_dist, test_y, n_bins=20)\n",
    "\n",
    "print(f'Untrained model ACE: {init_ace:.2f}, \\nTrained model ACE: {final_ace:.2f}')"
   ]
  },
  {
   "cell_type": "markdown",
   "metadata": {},
   "source": [
    "It is also possible to calculate the quantile coverage error with `gpytorch.metrics.quantile_coverage_error` function."
   ]
  },
  {
   "cell_type": "code",
   "execution_count": 10,
   "metadata": {},
   "outputs": [
    {
     "name": "stdout",
     "output_type": "stream",
     "text": [
      "Quantile 95% Coverage Error: 0.05\n"
     ]
    }
   ],
   "source": [
    "quantile = 95\n",
    "qce = gpytorch.metrics.quantile_coverage_error(trained_pred_dist, test_y, quantile=quantile)\n",
    "print(f'Quantile {quantile}% Coverage Error: {qce:.2f}')"
   ]
  }
 ],
 "metadata": {
  "interpreter": {
   "hash": "d4d1e4263499bec80672ea0156c357c1ee493ec2b1c70f0acce89fc37c4a6abe"
  },
  "kernelspec": {
   "display_name": "Python 3.8.12 ('base')",
   "language": "python",
   "name": "python3"
  },
  "language_info": {
   "codemirror_mode": {
    "name": "ipython",
    "version": 3
   },
   "file_extension": ".py",
   "mimetype": "text/x-python",
   "name": "python",
   "nbconvert_exporter": "python",
   "pygments_lexer": "ipython3",
   "version": "3.8.12"
  },
  "orig_nbformat": 4
 },
 "nbformat": 4,
 "nbformat_minor": 2
}
