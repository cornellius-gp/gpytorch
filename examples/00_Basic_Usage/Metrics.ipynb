{
 "cells": [
  {
   "cell_type": "markdown",
   "metadata": {},
   "source": [
    "# Metrics in GPyTorch\n",
    "\n",
    "In this notebook, we will see how to evaluate GPyTorch models with probabilistic metrics. \n",
    "\n",
    "**Note:** It is encouraged to check the Simple GP Regression notebook first if not done already. We'll reuse most of the code from there.\n",
    "\n",
    "We'll be modeling the function\n",
    "\n",
    "$$\n",
    "\\begin{align}\n",
    "  y &= \\sin(2\\pi x) + \\epsilon \\\\\n",
    "  \\epsilon &\\sim \\mathcal{N}(0, 0.04) \n",
    "\\end{align}\n",
    "$$\n"
   ]
  },
  {
   "cell_type": "code",
   "execution_count": 26,
   "metadata": {},
   "outputs": [
    {
     "name": "stdout",
     "output_type": "stream",
     "text": [
      "The autoreload extension is already loaded. To reload it, use:\n",
      "  %reload_ext autoreload\n"
     ]
    }
   ],
   "source": [
    "import math\n",
    "import torch\n",
    "import gpytorch\n",
    "from matplotlib import pyplot as plt\n",
    "\n",
    "%matplotlib inline\n",
    "%load_ext autoreload\n",
    "%autoreload 2"
   ]
  },
  {
   "cell_type": "markdown",
   "metadata": {},
   "source": [
    "In the next cell, we set up the train and test data."
   ]
  },
  {
   "cell_type": "code",
   "execution_count": 27,
   "metadata": {},
   "outputs": [],
   "source": [
    "# Training data is 100 points in [0,1] inclusive regularly spaced\n",
    "train_x = torch.linspace(0, 1, 100)\n",
    "# True function is sin(2*pi*x) with Gaussian noise\n",
    "train_y = torch.sin(train_x * (2 * math.pi)) + torch.randn(train_x.size()) * math.sqrt(0.04)\n",
    "\n",
    "test_x = torch.linspace(0, 1, 51)\n",
    "test_y = torch.sin(test_x * (2 * math.pi)) + torch.randn(test_x.size()) * math.sqrt(0.04)"
   ]
  },
  {
   "cell_type": "markdown",
   "metadata": {},
   "source": [
    "In the next cell, we define a simple GP regression model."
   ]
  },
  {
   "cell_type": "code",
   "execution_count": 28,
   "metadata": {},
   "outputs": [],
   "source": [
    "# We will use the simplest form of GP model, exact inference\n",
    "class ExactGPModel(gpytorch.models.ExactGP):\n",
    "    def __init__(self, train_x, train_y, likelihood):\n",
    "        super(ExactGPModel, self).__init__(train_x, train_y, likelihood)\n",
    "        self.mean_module = gpytorch.means.ConstantMean()\n",
    "        self.covar_module = gpytorch.kernels.ScaleKernel(gpytorch.kernels.RBFKernel())\n",
    "    \n",
    "    def forward(self, x):\n",
    "        mean_x = self.mean_module(x)\n",
    "        covar_x = self.covar_module(x)\n",
    "        return gpytorch.distributions.MultivariateNormal(mean_x, covar_x)\n",
    "\n",
    "# initialize likelihood and model\n",
    "likelihood = gpytorch.likelihoods.GaussianLikelihood()\n",
    "model = ExactGPModel(train_x, train_y, likelihood)"
   ]
  },
  {
   "cell_type": "markdown",
   "metadata": {},
   "source": [
    "Our model is ready for hyperparameter learning, but, first let us check how it performs on the test data."
   ]
  },
  {
   "cell_type": "code",
   "execution_count": 29,
   "metadata": {},
   "outputs": [
    {
     "data": {
      "image/png": "[encoded data removed]",
      "text/plain": [
       "<Figure size 288x216 with 1 Axes>"
      ]
     },
     "metadata": {
      "needs_background": "light"
     },
     "output_type": "display_data"
    }
   ],
   "source": [
    "model.eval()\n",
    "with torch.no_grad():\n",
    "    untrained_pred_dist = likelihood(model(test_x))\n",
    "    predictive_mean = untrained_pred_dist.mean\n",
    "    lower, upper = untrained_pred_dist.confidence_region()\n",
    "    \n",
    "f, ax = plt.subplots(1, 1, figsize=(4, 3))\n",
    "# Plot training data as black stars\n",
    "ax.plot(train_x, train_y, 'k*')\n",
    "# Plot predictive means as blue line\n",
    "ax.plot(test_x, predictive_mean, 'b')\n",
    "# Shade between the lower and upper confidence bounds\n",
    "ax.fill_between(test_x, lower, upper, alpha=0.5)\n",
    "ax.set_ylim([-3, 3])\n",
    "ax.legend(['Observed Data', 'Mean', 'Confidence'], bbox_to_anchor=(1.6,1));"
   ]
  },
  {
   "cell_type": "markdown",
   "metadata": {},
   "source": [
    "Visually, this does not look like a good fit. Now, let us train the model hyperparameters."
   ]
  },
  {
   "cell_type": "code",
   "execution_count": 30,
   "metadata": {},
   "outputs": [
    {
     "name": "stdout",
     "output_type": "stream",
     "text": [
      "Iter 1/50 - Loss: 0.944   lengthscale: 0.693   noise: 0.693\n",
      "Iter 2/50 - Loss: 0.913   lengthscale: 0.644   noise: 0.644\n",
      "Iter 3/50 - Loss: 0.879   lengthscale: 0.598   noise: 0.598\n",
      "Iter 4/50 - Loss: 0.841   lengthscale: 0.555   noise: 0.554\n",
      "Iter 5/50 - Loss: 0.798   lengthscale: 0.514   noise: 0.513\n",
      "Iter 6/50 - Loss: 0.750   lengthscale: 0.475   noise: 0.474\n",
      "Iter 7/50 - Loss: 0.698   lengthscale: 0.439   noise: 0.437\n",
      "Iter 8/50 - Loss: 0.645   lengthscale: 0.404   noise: 0.402\n",
      "Iter 9/50 - Loss: 0.594   lengthscale: 0.372   noise: 0.369\n",
      "Iter 10/50 - Loss: 0.547   lengthscale: 0.342   noise: 0.339\n",
      "Iter 11/50 - Loss: 0.505   lengthscale: 0.315   noise: 0.310\n",
      "Iter 12/50 - Loss: 0.466   lengthscale: 0.291   noise: 0.284\n",
      "Iter 13/50 - Loss: 0.430   lengthscale: 0.271   noise: 0.259\n",
      "Iter 14/50 - Loss: 0.395   lengthscale: 0.254   noise: 0.236\n",
      "Iter 15/50 - Loss: 0.361   lengthscale: 0.240   noise: 0.215\n",
      "Iter 16/50 - Loss: 0.327   lengthscale: 0.229   noise: 0.196\n",
      "Iter 17/50 - Loss: 0.294   lengthscale: 0.220   noise: 0.178\n",
      "Iter 18/50 - Loss: 0.261   lengthscale: 0.214   noise: 0.162\n",
      "Iter 19/50 - Loss: 0.228   lengthscale: 0.209   noise: 0.147\n",
      "Iter 20/50 - Loss: 0.196   lengthscale: 0.206   noise: 0.134\n",
      "Iter 21/50 - Loss: 0.164   lengthscale: 0.205   noise: 0.122\n",
      "Iter 22/50 - Loss: 0.133   lengthscale: 0.204   noise: 0.110\n",
      "Iter 23/50 - Loss: 0.104   lengthscale: 0.205   noise: 0.100\n",
      "Iter 24/50 - Loss: 0.076   lengthscale: 0.207   noise: 0.091\n",
      "Iter 25/50 - Loss: 0.049   lengthscale: 0.210   noise: 0.083\n",
      "Iter 26/50 - Loss: 0.025   lengthscale: 0.214   noise: 0.076\n",
      "Iter 27/50 - Loss: 0.003   lengthscale: 0.218   noise: 0.069\n",
      "Iter 28/50 - Loss: -0.017   lengthscale: 0.223   noise: 0.063\n",
      "Iter 29/50 - Loss: -0.033   lengthscale: 0.228   noise: 0.058\n",
      "Iter 30/50 - Loss: -0.047   lengthscale: 0.233   noise: 0.053\n",
      "Iter 31/50 - Loss: -0.057   lengthscale: 0.239   noise: 0.049\n",
      "Iter 32/50 - Loss: -0.065   lengthscale: 0.243   noise: 0.045\n",
      "Iter 33/50 - Loss: -0.069   lengthscale: 0.248   noise: 0.042\n",
      "Iter 34/50 - Loss: -0.071   lengthscale: 0.252   noise: 0.039\n",
      "Iter 35/50 - Loss: -0.071   lengthscale: 0.255   noise: 0.037\n",
      "Iter 36/50 - Loss: -0.069   lengthscale: 0.257   noise: 0.035\n",
      "Iter 37/50 - Loss: -0.066   lengthscale: 0.257   noise: 0.033\n",
      "Iter 38/50 - Loss: -0.062   lengthscale: 0.257   noise: 0.032\n",
      "Iter 39/50 - Loss: -0.058   lengthscale: 0.255   noise: 0.031\n",
      "Iter 40/50 - Loss: -0.055   lengthscale: 0.252   noise: 0.030\n",
      "Iter 41/50 - Loss: -0.054   lengthscale: 0.248   noise: 0.029\n",
      "Iter 42/50 - Loss: -0.053   lengthscale: 0.243   noise: 0.029\n",
      "Iter 43/50 - Loss: -0.053   lengthscale: 0.237   noise: 0.029\n",
      "Iter 44/50 - Loss: -0.055   lengthscale: 0.230   noise: 0.029\n",
      "Iter 45/50 - Loss: -0.057   lengthscale: 0.223   noise: 0.029\n",
      "Iter 46/50 - Loss: -0.060   lengthscale: 0.216   noise: 0.029\n",
      "Iter 47/50 - Loss: -0.063   lengthscale: 0.208   noise: 0.030\n",
      "Iter 48/50 - Loss: -0.066   lengthscale: 0.202   noise: 0.030\n",
      "Iter 49/50 - Loss: -0.068   lengthscale: 0.196   noise: 0.031\n",
      "Iter 50/50 - Loss: -0.070   lengthscale: 0.190   noise: 0.032\n"
     ]
    }
   ],
   "source": [
    "# this is for running the notebook in our testing framework\n",
    "import os\n",
    "smoke_test = ('CI' in os.environ)\n",
    "training_iter = 2 if smoke_test else 50\n",
    "\n",
    "\n",
    "# Find optimal model hyperparameters\n",
    "model.train()\n",
    "\n",
    "# Use the adam optimizer\n",
    "optimizer = torch.optim.Adam(model.parameters(), lr=0.1)  # Includes GaussianLikelihood parameters\n",
    "\n",
    "# \"Loss\" for GPs - the marginal log likelihood\n",
    "mll = gpytorch.mlls.ExactMarginalLogLikelihood(likelihood, model)\n",
    "\n",
    "for i in range(training_iter):\n",
    "    # Zero gradients from previous iteration\n",
    "    optimizer.zero_grad()\n",
    "    # Output from model\n",
    "    output = model(train_x)\n",
    "    # Calc loss and backprop gradients\n",
    "    loss = -mll(output, train_y)\n",
    "    loss.backward()\n",
    "    print('Iter %d/%d - Loss: %.3f   lengthscale: %.3f   noise: %.3f' % (\n",
    "        i + 1, training_iter, loss.item(),\n",
    "        model.covar_module.base_kernel.lengthscale.item(),\n",
    "        model.likelihood.noise.item()\n",
    "    ))\n",
    "    optimizer.step()"
   ]
  },
  {
   "cell_type": "markdown",
   "metadata": {},
   "source": [
    "In the next cell, we reevaluate the model on the test data."
   ]
  },
  {
   "cell_type": "code",
   "execution_count": 31,
   "metadata": {},
   "outputs": [
    {
     "data": {
      "image/png": "[encoded data removed]",
      "text/plain": [
       "<Figure size 288x216 with 1 Axes>"
      ]
     },
     "metadata": {
      "needs_background": "light"
     },
     "output_type": "display_data"
    }
   ],
   "source": [
    "model.eval()\n",
    "with torch.no_grad():\n",
    "    trained_pred_dist = likelihood(model(test_x))\n",
    "    predictive_mean = trained_pred_dist.mean\n",
    "    lower, upper = trained_pred_dist.confidence_region()\n",
    "    \n",
    "f, ax = plt.subplots(1, 1, figsize=(4, 3))\n",
    "# Plot training data as black stars\n",
    "ax.plot(train_x, train_y, 'k*')\n",
    "# Plot predictive means as blue line\n",
    "ax.plot(test_x, predictive_mean, 'b')\n",
    "# Shade between the lower and upper confidence bounds\n",
    "ax.fill_between(test_x, lower, upper, alpha=0.5)\n",
    "ax.set_ylim([-3, 3])\n",
    "ax.legend(['Observed Data', 'Mean', 'Confidence'], bbox_to_anchor=(1.6,1));"
   ]
  },
  {
   "cell_type": "markdown",
   "metadata": {},
   "source": [
    "Now our model seems to fit well on the data. It is not always possible to visually evaluate the model in high dimensional cases. Thus, now we evaluate the models with help of probabilistic metrics. We have saved predictive distributions from untrained and trained models as `untrained_pred_dist` and `trained_pred_dist` respectively."
   ]
  },
  {
   "cell_type": "markdown",
   "metadata": {},
   "source": [
    "## Negative Log Predictive Density (NLPD)\n",
    "\n",
    "Negative Log Predictive Density (NLPD) is the most standard probabilistic metric for evaluating GP models. In simple terms, it is negative log likelihood of the test data given the predictive distribution. It can be computed as follows:"
   ]
  },
  {
   "cell_type": "code",
   "execution_count": 32,
   "metadata": {},
   "outputs": [
    {
     "name": "stdout",
     "output_type": "stream",
     "text": [
      "Untrained model NLPD: 0.88, \n",
      "Trained model NLPD: -0.21\n"
     ]
    }
   ],
   "source": [
    "init_nlpd = gpytorch.metrics.negative_log_predictive_density(untrained_pred_dist, test_y)\n",
    "final_nlpd = gpytorch.metrics.negative_log_predictive_density(trained_pred_dist, test_y)\n",
    "\n",
    "print(f'Untrained model NLPD: {init_nlpd:.2f}, \\nTrained model NLPD: {final_nlpd:.2f}')"
   ]
  },
  {
   "cell_type": "markdown",
   "metadata": {},
   "source": [
    "## Mean Standardized Log Loss (MSLL)\n",
    "\n",
    "This metric computes average negative log likelihood of all test points w.r.t their univariate predicitve densities. For more details, see \"page No. 23, Gaussian Processes for Machine Learning, Carl Edward Rasmussen and Christopher K. I. Williams, The MIT Press, 2006. ISBN 0-262-18253-X\""
   ]
  },
  {
   "cell_type": "code",
   "execution_count": 33,
   "metadata": {},
   "outputs": [
    {
     "name": "stdout",
     "output_type": "stream",
     "text": [
      "Untrained model MSLL: 0.82, \n",
      "Trained model MSLL: -0.49\n"
     ]
    }
   ],
   "source": [
    "init_msll = gpytorch.metrics.mean_standardized_log_loss(untrained_pred_dist, test_y)\n",
    "final_msll = gpytorch.metrics.mean_standardized_log_loss(trained_pred_dist, test_y)\n",
    "\n",
    "print(f'Untrained model MSLL: {init_msll:.2f}, \\nTrained model MSLL: {final_msll:.2f}')"
   ]
  },
  {
   "cell_type": "markdown",
   "metadata": {},
   "source": [
    "It is also possible to calculate the quantile coverage error with `gpytorch.metrics.quantile_coverage_error` function."
   ]
  },
  {
   "cell_type": "code",
   "execution_count": 35,
   "metadata": {},
   "outputs": [
    {
     "name": "stdout",
     "output_type": "stream",
     "text": [
      "Quantile 95% Coverage Error: 0.01\n"
     ]
    }
   ],
   "source": [
    "quantile = 95\n",
    "qce = gpytorch.metrics.quantile_coverage_error(trained_pred_dist, test_y, quantile=quantile)\n",
    "print(f'Quantile {quantile}% Coverage Error: {qce:.2f}')"
   ]
  },
  {
   "cell_type": "markdown",
   "metadata": {},
   "source": [
    "## Mean Squared Error (MSE)\n",
    "\n",
    "Mean Squared Error (MSE) is the mean of the squared difference between the test observations and the predictive mean. It is a well-known conventional metric for evaluating regression models. However, it can not take uncertainty into account unlike NLPD, MLSS and ACE."
   ]
  },
  {
   "cell_type": "code",
   "execution_count": 36,
   "metadata": {},
   "outputs": [
    {
     "name": "stdout",
     "output_type": "stream",
     "text": [
      "Untrained model MSE: 0.20, \n",
      "Trained model MSE: 0.04\n"
     ]
    }
   ],
   "source": [
    "init_mse = gpytorch.metrics.mean_squared_error(untrained_pred_dist, test_y, squared=True)\n",
    "final_mse = gpytorch.metrics.mean_squared_error(trained_pred_dist, test_y, squared=True)\n",
    "\n",
    "print(f'Untrained model MSE: {init_mse:.2f}, \\nTrained model MSE: {final_mse:.2f}')"
   ]
  },
  {
   "cell_type": "markdown",
   "metadata": {},
   "source": [
    "## Mean Absolute Error (MAE)\n",
    "\n",
    "Mean Absolute Error (MAE) is the mean of the absolute difference between the test observations and the predictive mean. It is less sensitive to the outliers than MSE."
   ]
  },
  {
   "cell_type": "code",
   "execution_count": 37,
   "metadata": {},
   "outputs": [
    {
     "name": "stdout",
     "output_type": "stream",
     "text": [
      "Untrained model MAE: 0.38, \n",
      "Trained model MSE: 0.16\n"
     ]
    }
   ],
   "source": [
    "init_mae = gpytorch.metrics.mean_absolute_error(untrained_pred_dist, test_y)\n",
    "final_mae = gpytorch.metrics.mean_absolute_error(trained_pred_dist, test_y)\n",
    "\n",
    "print(f'Untrained model MAE: {init_mae:.2f}, \\nTrained model MAE: {final_mae:.2f}')"
   ]
  }
 ],
 "metadata": {
  "interpreter": {
   "hash": "d4d1e4263499bec80672ea0156c357c1ee493ec2b1c70f0acce89fc37c4a6abe"
  },
  "kernelspec": {
   "display_name": "Python 3 (ipykernel)",
   "language": "python",
   "name": "python3"
  },
  "language_info": {
   "codemirror_mode": {
    "name": "ipython",
    "version": 3
   },
   "file_extension": ".py",
   "mimetype": "text/x-python",
   "name": "python",
   "nbconvert_exporter": "python",
   "pygments_lexer": "ipython3",
   "version": "3.8.0"
  }
 },
 "nbformat": 4,
 "nbformat_minor": 2
}
