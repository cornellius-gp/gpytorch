{
 "cells": [
  {
   "cell_type": "code",
   "execution_count": 1,
   "metadata": {
    "collapsed": false
   },
   "outputs": [
    {
     "name": "stderr",
     "output_type": "stream",
     "text": [
      "\n",
      "Bad key \"hatch.linewidth\" on line 54 in\n",
      "/home/gpleiss/.dotfiles/matplotlibrc.\n",
      "You probably need to get an updated matplotlibrc file from\n",
      "http://github.com/matplotlib/matplotlib/blob/master/matplotlibrc.template\n",
      "or from the matplotlib source distribution\n"
     ]
    }
   ],
   "source": [
    "import math\n",
    "import torch\n",
    "import gpytorch\n",
    "from matplotlib import pyplot as plt\n",
    "\n",
    "%matplotlib inline\n",
    "%load_ext autoreload\n",
    "%autoreload 2"
   ]
  },
  {
   "cell_type": "code",
   "execution_count": 2,
   "metadata": {
    "collapsed": true
   },
   "outputs": [],
   "source": [
    "from torch.autograd import Variable\n",
    "train_x = Variable(torch.linspace(0, 1, 11))\n",
    "y1_inds = Variable(torch.zeros(11).long())\n",
    "y2_inds = Variable(torch.ones(11).long())\n",
    "train_y1 = Variable(torch.sin(train_x.data * (2 * math.pi)) + torch.randn(train_x.size()) * 0.2)\n",
    "train_y2 = Variable(torch.cos(train_x.data * (2 * math.pi)) + torch.randn(train_x.size()) * 0.2)"
   ]
  },
  {
   "cell_type": "code",
   "execution_count": 3,
   "metadata": {
    "collapsed": true
   },
   "outputs": [],
   "source": [
    "from torch import optim\n",
    "from gpytorch.kernels import RBFKernel, IndexKernel\n",
    "from gpytorch.means import ConstantMean\n",
    "from gpytorch.likelihoods import GaussianLikelihood\n",
    "from gpytorch.random_variables import GaussianRandomVariable"
   ]
  },
  {
   "cell_type": "code",
   "execution_count": 4,
   "metadata": {
    "collapsed": false
   },
   "outputs": [],
   "source": [
    "class MultitaskGPModel(gpytorch.models.ExactGP):\n",
    "    def __init__(self, train_x, train_y, likelihood):\n",
    "        super(MultitaskGPModel, self).__init__(train_x, train_y, likelihood)\n",
    "        self.mean_module = ConstantMean()\n",
    "        self.covar_module = RBFKernel(log_lengthscale_bounds=(-3, 3))\n",
    "        self.task_covar_module = IndexKernel(n_tasks=2, rank=1)\n",
    "\n",
    "    def forward(self,x,i):\n",
    "        mean_x = self.mean_module(x)\n",
    "        covar_x = self.covar_module(x)\n",
    "        covar_i = self.task_covar_module(i)\n",
    "        covar_xi = covar_x.mul(covar_i)\n",
    "        return GaussianRandomVariable(mean_x, covar_xi)\n",
    "\n",
    "likelihood = GaussianLikelihood(log_noise_bounds=(-6, 6))\n",
    "model = MultitaskGPModel((torch.cat([train_x.data, train_x.data]), torch.cat([y1_inds.data, y2_inds.data])),\n",
    "                         torch.cat([train_y1.data, train_y2.data]), likelihood)"
   ]
  },
  {
   "cell_type": "code",
   "execution_count": 5,
   "metadata": {
    "collapsed": false,
    "scrolled": false
   },
   "outputs": [
    {
     "name": "stdout",
     "output_type": "stream",
     "text": [
      "Iter 1/50 - Loss: 1.251\n",
      "Iter 2/50 - Loss: 1.340\n",
      "Iter 3/50 - Loss: 1.119\n",
      "Iter 4/50 - Loss: 1.108\n",
      "Iter 5/50 - Loss: 1.156\n",
      "Iter 6/50 - Loss: 0.989\n",
      "Iter 7/50 - Loss: 1.049\n",
      "Iter 8/50 - Loss: 0.956\n",
      "Iter 9/50 - Loss: 0.960\n",
      "Iter 10/50 - Loss: 0.977\n",
      "Iter 11/50 - Loss: 0.771\n",
      "Iter 12/50 - Loss: 0.705\n",
      "Iter 13/50 - Loss: 0.789\n",
      "Iter 14/50 - Loss: 0.700\n",
      "Iter 15/50 - Loss: 0.717\n",
      "Iter 16/50 - Loss: 0.516\n",
      "Iter 17/50 - Loss: 0.437\n",
      "Iter 18/50 - Loss: 0.672\n",
      "Iter 19/50 - Loss: 0.425\n",
      "Iter 20/50 - Loss: 0.484\n",
      "Iter 21/50 - Loss: 0.346\n",
      "Iter 22/50 - Loss: 0.443\n",
      "Iter 23/50 - Loss: 0.458\n",
      "Iter 24/50 - Loss: 0.458\n",
      "Iter 25/50 - Loss: 0.494\n",
      "Iter 26/50 - Loss: 0.474\n",
      "Iter 27/50 - Loss: 0.219\n",
      "Iter 28/50 - Loss: 0.391\n",
      "Iter 29/50 - Loss: 0.199\n",
      "Iter 30/50 - Loss: 0.381\n",
      "Iter 31/50 - Loss: 0.448\n",
      "Iter 32/50 - Loss: 0.405\n",
      "Iter 33/50 - Loss: 0.213\n",
      "Iter 34/50 - Loss: 0.444\n",
      "Iter 35/50 - Loss: 0.359\n",
      "Iter 36/50 - Loss: 0.398\n",
      "Iter 37/50 - Loss: 0.323\n",
      "Iter 38/50 - Loss: 0.548\n",
      "Iter 39/50 - Loss: 0.454\n",
      "Iter 40/50 - Loss: 0.338\n",
      "Iter 41/50 - Loss: 0.525\n",
      "Iter 42/50 - Loss: 0.444\n",
      "Iter 43/50 - Loss: 0.358\n",
      "Iter 44/50 - Loss: 0.292\n",
      "Iter 45/50 - Loss: 0.406\n",
      "Iter 46/50 - Loss: 0.459\n",
      "Iter 47/50 - Loss: 0.535\n",
      "Iter 48/50 - Loss: 0.395\n",
      "Iter 49/50 - Loss: 0.338\n",
      "Iter 50/50 - Loss: 0.349\n"
     ]
    }
   ],
   "source": [
    "# Find optimal model hyperparameters\n",
    "model.train()\n",
    "likelihood.train()\n",
    "\n",
    "optimizer = optim.Adam(list(model.parameters()) + list(likelihood.parameters()), lr=0.1)\n",
    "optimizer.n_iter = 0\n",
    "for i in range(50):\n",
    "    optimizer.zero_grad()\n",
    "    output = model(torch.cat([train_x, train_x]), torch.cat([y1_inds, y2_inds]))\n",
    "    loss = -model.marginal_log_likelihood(likelihood, output, torch.cat([train_y1, train_y2]))\n",
    "    loss.backward()\n",
    "    optimizer.n_iter += 1\n",
    "    print('Iter %d/50 - Loss: %.3f' % (i + 1, loss.data[0]))\n",
    "    optimizer.step()"
   ]
  },
  {
   "cell_type": "code",
   "execution_count": 6,
   "metadata": {
    "collapsed": false
   },
   "outputs": [
    {
     "data": {
      "image/png": "[encoded data removed]",
      "text/plain": [
       "<matplotlib.figure.Figure at 0x7facca941190>"
      ]
     },
     "metadata": {},
     "output_type": "display_data"
    }
   ],
   "source": [
    "model.eval()\n",
    "likelihood.eval()\n",
    "\n",
    "f, (y1_ax, y2_ax) = plt.subplots(1, 2, figsize=(8, 3))\n",
    "test_x = Variable(torch.linspace(0, 1, 51))\n",
    "y1_inds_test = Variable(torch.zeros(51).long())\n",
    "y2_inds_test = Variable(torch.ones(51).long())\n",
    "\n",
    "observed_pred_y1 = likelihood(model(test_x, y1_inds_test))\n",
    "observed_pred_y2 = likelihood(model(test_x, y2_inds_test))\n",
    "\n",
    "def ax_plot(ax, train_y, rand_var, title):\n",
    "    lower, upper = rand_var.confidence_region()\n",
    "    ax.plot(train_x.data.numpy(), train_y.data.numpy(), 'k*')\n",
    "    ax.plot(test_x.data.numpy(), rand_var.mean().data.numpy(), 'b')\n",
    "    ax.fill_between(test_x.data.numpy(), lower.data.numpy(), upper.data.numpy(), alpha=0.5)\n",
    "    ax.set_ylim([-3, 3])\n",
    "    ax.legend(['Observed Data', 'Mean', 'Confidence'])\n",
    "    ax.set_title(title)\n",
    "\n",
    "ax_plot(y1_ax, train_y1, observed_pred_y1, 'Observed Values (Likelihood)')\n",
    "ax_plot(y2_ax, train_y2, observed_pred_y2, 'Observed Values (Likelihood)')"
   ]
  }
 ],
 "metadata": {
  "anaconda-cloud": {},
  "kernelspec": {
   "display_name": "Python [default]",
   "language": "python",
   "name": "python2"
  },
  "language_info": {
   "codemirror_mode": {
    "name": "ipython",
    "version": 2
   },
   "file_extension": ".py",
   "mimetype": "text/x-python",
   "name": "python",
   "nbconvert_exporter": "python",
   "pygments_lexer": "ipython2",
   "version": "2.7.12"
  }
 },
 "nbformat": 4,
 "nbformat_minor": 1
}
