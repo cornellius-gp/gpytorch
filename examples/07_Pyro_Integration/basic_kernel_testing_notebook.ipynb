{
 "cells": [
  {
   "cell_type": "code",
   "execution_count": 1,
   "metadata": {},
   "outputs": [],
   "source": [
    "import torch\n",
    "import gpytorch\n"
   ]
  },
  {
   "cell_type": "code",
   "execution_count": 2,
   "metadata": {},
   "outputs": [],
   "source": [
    "train_x = torch.randn(30000, 1)\n",
    "kernel = gpytorch.kernels.keops.SpectralGPKernel(train_x, register_latent_params=True)\n",
    "rhs = torch.randn(30000, 1)"
   ]
  },
  {
   "cell_type": "code",
   "execution_count": 3,
   "metadata": {},
   "outputs": [
    {
     "name": "stdout",
     "output_type": "stream",
     "text": [
      "SHAPES torch.Size([30000, 1]) torch.Size([30000, 1]) torch.Size([50]) torch.Size([50]) False\n"
     ]
    },
    {
     "data": {
      "text/plain": [
       "tensor([[ -11.5222],\n",
       "        [-152.2220],\n",
       "        [ -79.4339],\n",
       "        ...,\n",
       "        [-199.6474],\n",
       "        [  14.2924],\n",
       "        [-147.1197]])"
      ]
     },
     "execution_count": 3,
     "metadata": {},
     "output_type": "execute_result"
    }
   ],
   "source": [
    "kernel(train_x).matmul(rhs)"
   ]
  },
  {
   "cell_type": "code",
   "execution_count": 4,
   "metadata": {},
   "outputs": [
    {
     "name": "stdout",
     "output_type": "stream",
     "text": [
      "SHAPES torch.Size([30000, 1]) torch.Size([30000, 1]) torch.Size([50]) torch.Size([50]) False\n",
      "Compiling libKeOpstorch022824f86f in /home/wesley/.cache/pykeops-1.3-cpython-37/build-libKeOpstorch022824f86f:\n",
      "       formula: Sum_Reduction((Sum((((Extract((Cos(((Var(0,1,0) - Var(1,1,2)) * Var(2,50,2))) * Var(3,50,2)),1,49) + Extract((Cos(((Var(0,1,0) - Var(1,1,2)) * Var(2,50,2))) * Var(3,50,2)),0,49)) / Var(4,1,2)) * Var(5,49,2))) * Var(6,1,2)),0)\n",
      "       aliases: Var(0,1,0); Var(1,1,2); Var(2,50,2); Var(3,50,2); Var(4,1,2); Var(5,49,2); Var(6,1,2); \n",
      "       dtype  : float32\n",
      "... Done.\n"
     ]
    },
    {
     "data": {
      "text/plain": [
       "tensor([[  501.3501],\n",
       "        [-2036.5688],\n",
       "        [   -8.4332],\n",
       "        ...,\n",
       "        [   50.9966],\n",
       "        [  213.1179],\n",
       "        [  -90.3558]])"
      ]
     },
     "execution_count": 4,
     "metadata": {},
     "output_type": "execute_result"
    }
   ],
   "source": [
    "kernel(train_x).add_jitter(1e-3).inv_matmul(rhs)"
   ]
  },
  {
   "cell_type": "code",
   "execution_count": 5,
   "metadata": {},
   "outputs": [
    {
     "name": "stdout",
     "output_type": "stream",
     "text": [
      "SHAPES torch.Size([30000, 1]) torch.Size([30000, 1]) torch.Size([50]) torch.Size([50]) False\n"
     ]
    },
    {
     "data": {
      "text/plain": [
       "tensor([[1783.4788],\n",
       "        [-233.5909],\n",
       "        [ 796.3500],\n",
       "        ...,\n",
       "        [1064.5153],\n",
       "        [2121.6240],\n",
       "        [ 961.6417]])"
      ]
     },
     "execution_count": 5,
     "metadata": {},
     "output_type": "execute_result"
    }
   ],
   "source": [
    "kernel(train_x).add_jitter(1e-3).inv_matmul(torch.randn(30000, 1))"
   ]
  },
  {
   "cell_type": "code",
   "execution_count": null,
   "metadata": {},
   "outputs": [],
   "source": []
  }
 ],
 "metadata": {
  "kernelspec": {
   "display_name": "Python 3",
   "language": "python",
   "name": "python3"
  },
  "language_info": {
   "codemirror_mode": {
    "name": "ipython",
    "version": 3
   },
   "file_extension": ".py",
   "mimetype": "text/x-python",
   "name": "python",
   "nbconvert_exporter": "python",
   "pygments_lexer": "ipython3",
   "version": "3.7.4"
  }
 },
 "nbformat": 4,
 "nbformat_minor": 2
}
