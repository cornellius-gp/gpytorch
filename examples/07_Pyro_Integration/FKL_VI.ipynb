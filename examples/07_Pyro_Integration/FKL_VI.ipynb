{
 "cells": [
  {
   "cell_type": "code",
   "execution_count": 1,
   "metadata": {},
   "outputs": [
    {
     "name": "stdout",
     "output_type": "stream",
     "text": [
      "Automatic pdb calling has been turned ON\n"
     ]
    }
   ],
   "source": [
    "import math\n",
    "import torch\n",
    "import gpytorch\n",
    "import pyro\n",
    "import tqdm\n",
    "from pyro.infer.mcmc import NUTS, MCMC\n",
    "from matplotlib import pyplot as plt\n",
    "\n",
    "%matplotlib inline\n",
    "%load_ext autoreload\n",
    "%autoreload 2\n",
    "%pdb"
   ]
  },
  {
   "cell_type": "code",
   "execution_count": 2,
   "metadata": {},
   "outputs": [],
   "source": [
    "if torch.cuda.is_available():\n",
    "    torch.set_default_tensor_type(torch.cuda.FloatTensor)"
   ]
  },
  {
   "cell_type": "code",
   "execution_count": 3,
   "metadata": {},
   "outputs": [],
   "source": [
    "def generate_data(nx=200, split=150, return_all=False):\n",
    "    full_x = torch.linspace(-15., 15., nx)#.cuda()\n",
    "\n",
    "    #sinc = lambda x: torch.sin(math.pi * x) / (math.pi * x)\n",
    "    #sinc_testfn = lambda x: sinc(x) + sinc(x - 10.) + sinc(x + 10.)\n",
    "    testfn = lambda x: torch.sin(math.pi * x * 0.5) * torch.exp(-0.05 * x.abs()) + \\\n",
    "                       torch.sin(math.pi * 2 * x * 0.05) * torch.exp(-0.05 * x.abs())\n",
    "\n",
    "    full_y = testfn(full_x) + 0.1 * torch.randn_like(full_x)\n",
    "\n",
    "    if not return_all:\n",
    "        train_set = ~((full_x > -4.5) * (full_x < 4.5))\n",
    "        train_x = full_x[train_set]\n",
    "        train_y = full_y[train_set]\n",
    "\n",
    "        test_x = full_x[~train_set]\n",
    "        test_y = full_y[~train_set]\n",
    "\n",
    "        return train_x, train_y, test_x, test_y\n",
    "    else:\n",
    "        return full_x, full_y\n",
    "\n",
    "train_x, train_y, test_x, test_y = generate_data(5000, 3000)\n"
   ]
  },
  {
   "cell_type": "code",
   "execution_count": 4,
   "metadata": {},
   "outputs": [
    {
     "data": {
      "text/plain": [
       "[<matplotlib.lines.Line2D at 0x7f8e51609cd0>]"
      ]
     },
     "execution_count": 4,
     "metadata": {},
     "output_type": "execute_result"
    },
    {
     "data": {
      "image/png": "[encoded data removed]",
      "text/plain": [
       "<Figure size 432x288 with 1 Axes>"
      ]
     },
     "metadata": {
      "needs_background": "light"
     },
     "output_type": "display_data"
    }
   ],
   "source": [
    "plt.plot(train_x.cpu(), train_y.cpu())\n",
    "plt.plot(test_x.cpu(), test_y.cpu())"
   ]
  },
  {
   "cell_type": "code",
   "execution_count": 5,
   "metadata": {},
   "outputs": [],
   "source": [
    "# We will use the simplest form of GP model, exact inference\n",
    "class SpectralGPModel(gpytorch.models.PyroGP):\n",
    "    def __init__(self, train_x, train_y, likelihood):\n",
    "                # Define all the variational stuff\n",
    "        variational_distribution = gpytorch.variational.CholeskyVariationalDistribution(\n",
    "            num_inducing_points=train_y.numel(),\n",
    "        )\n",
    "        variational_strategy = gpytorch.variational.VariationalStrategy(\n",
    "            self, train_x, variational_distribution\n",
    "        )\n",
    "\n",
    "        # Standard initializtation\n",
    "        super(SpectralGPModel, self).__init__(\n",
    "            variational_strategy,\n",
    "            likelihood,\n",
    "            num_data=train_y.numel(),\n",
    "            name_prefix=\"fkl_regression_model\"\n",
    "        )\n",
    "        self.likelihood = likelihood\n",
    "        \n",
    "        self.mean_module = gpytorch.means.ConstantMean()\n",
    "        self.covar_module = gpytorch.kernels.keops.SpectralGPKernel(train_x, register_latent_params=True)\n",
    "    \n",
    "    def forward(self, x):\n",
    "        mean_x = self.mean_module(x)\n",
    "        covar_x = self.covar_module(x)\n",
    "        return gpytorch.distributions.MultivariateNormal(mean_x, covar_x)\n",
    "    \n",
    "class ExactGPModel(gpytorch.models.ExactGP):\n",
    "    def __init__(self, train_x, train_y, likelihood):\n",
    "        super(ExactGPModel, self).__init__(train_x, train_y, likelihood)\n",
    "        # Mean, covar, likelihood\n",
    "        self.mean_module = gpytorch.means.QuadraticMean(input_size = 1, \n",
    "                        raw_quadratic_weights_constraint=gpytorch.constraints.LessThan(0.0),\n",
    "                        raw_bias_constraint=gpytorch.constraints.Positive(), use_weights=False,\n",
    "                        bias_prior=gpytorch.priors.LogNormalPrior(0., 0.3))\n",
    "        \n",
    "        self.mean_module.register_prior('quadratic_weights_prior',\n",
    "                                       gpytorch.priors.LogNormalPrior(0., 0.3),\n",
    "                                       lambda: -self.mean_module.quadratic_weights,\n",
    "                                       lambda x: self.mean_module.initialize(**{'quadratic_weights': -x})\n",
    "                                       )\n",
    "        self.mean_module.quadratic_weights = -10.\n",
    "        self.mean_module.bias = 1.\n",
    "\n",
    "        self.covar_module = gpytorch.kernels.ScaleKernel(\n",
    "                                gpytorch.kernels.MaternKernel(nu=1.5, \n",
    "                                    lengthscale_prior=gpytorch.priors.LogNormalPrior(0., 0.3)),\n",
    "                                    outputscale_prior=gpytorch.priors.LogNormalPrior(0., 0.3),\n",
    "                        )\n",
    "    \n",
    "    def forward(self, x):\n",
    "        mean_x = self.mean_module(x)\n",
    "        covar_x = self.covar_module(x)\n",
    "        return gpytorch.distributions.MultivariateNormal(mean_x, covar_x)"
   ]
  },
  {
   "cell_type": "code",
   "execution_count": 6,
   "metadata": {},
   "outputs": [],
   "source": [
    "from gpytorch.priors import LogNormalPrior, NormalPrior, UniformPrior\n",
    "likelihood = gpytorch.likelihoods.GaussianLikelihood(noise_constraint=gpytorch.constraints.Positive())\n",
    "model = SpectralGPModel(train_x, train_y, likelihood)\n",
    "\n",
    "model.mean_module.register_prior(\"mean_prior\", UniformPrior(-1, 1), \"constant\")\n",
    "likelihood.register_prior(\"noise_prior\", UniformPrior(1e-3, 0.3), \"noise\")"
   ]
  },
  {
   "cell_type": "code",
   "execution_count": 7,
   "metadata": {},
   "outputs": [
    {
     "name": "stdout",
     "output_type": "stream",
     "text": [
      "initializing gp prior\n"
     ]
    }
   ],
   "source": [
    "latent_lh = gpytorch.likelihoods.GaussianLikelihood(noise_constraint=gpytorch.constraints.Positive())\n",
    "latent_lh.register_prior(\"latent_noise_prior\", UniformPrior(1e-5, 1e-4), \"noise\")\n",
    "\n",
    "latent_gp = ExactGPModel(model.covar_module.omega, model.covar_module.omega, latent_lh)\n",
    "model.covar_module.register_prior(\"latent_gp_prior\", gpytorch.priors.GaussianProcessPrior(latent_gp),\n",
    "                                 \"latent_params\")\n",
    "\n",
    "model.train()\n",
    "model.pyro_sample_from_prior()"
   ]
  },
  {
   "cell_type": "code",
   "execution_count": null,
   "metadata": {},
   "outputs": [
    {
     "data": {
      "application/vnd.jupyter.widget-view+json": {
       "model_id": "b7c7a2a8bc2e4ee296d30b57441854ef",
       "version_major": 2,
       "version_minor": 0
      },
      "text/plain": [
       "HBox(children=(IntProgress(value=0, max=500), HTML(value='')))"
      ]
     },
     "metadata": {},
     "output_type": "display_data"
    },
    {
     "name": "stdout",
     "output_type": "stream",
     "text": [
      "Compiling libKeOpstorche05685cf7c in /home/wesley/.cache/pykeops-1.3-cpython-37/build-libKeOpstorche05685cf7c:\n",
      "       formula: Sum_Reduction((Sum((((Extract((Cos(((Var(0,1,0) - Var(1,1,1)) * Var(2,50,2))) * Var(3,50,2)),1,49) + Extract((Cos(((Var(0,1,0) - Var(1,1,1)) * Var(2,50,2))) * Var(3,50,2)),0,49)) / Var(4,1,2)) * Var(5,49,2))) * Var(6,3500,1)),0)\n",
      "       aliases: Var(0,1,0); Var(1,1,1); Var(2,50,2); Var(3,50,2); Var(4,1,2); Var(5,49,2); Var(6,3500,1); \n",
      "       dtype  : float32\n",
      "... Done.\n",
      "Compiling libKeOpstorch4a94cad73d in /home/wesley/.cache/pykeops-1.3-cpython-37/build-libKeOpstorch4a94cad73d:\n",
      "       formula: Grad_WithSavedForward(Sum_Reduction((Sum((((Extract((Cos(((Var(0,1,0) - Var(1,1,1)) * Var(2,50,2))) * Var(3,50,2)),1,49) + Extract((Cos(((Var(0,1,0) - Var(1,1,1)) * Var(2,50,2))) * Var(3,50,2)),0,49)) / Var(4,1,2)) * Var(5,49,2))) * Var(6,3500,1)),0), Var(0,1,0), Var(7,3500,0), Var(8,3500,0))\n",
      "       aliases: Var(0,1,0); Var(1,1,1); Var(2,50,2); Var(3,50,2); Var(4,1,2); Var(5,49,2); Var(6,3500,1); Var(7,3500,0); Var(8,3500,0); \n",
      "       dtype  : float32\n",
      "... Done.\n",
      "Compiling libKeOpstorch6e027fc1e2 in /home/wesley/.cache/pykeops-1.3-cpython-37/build-libKeOpstorch6e027fc1e2:\n",
      "       formula: Grad_WithSavedForward(Sum_Reduction((Sum((((Extract((Cos(((Var(0,1,0) - Var(1,1,1)) * Var(2,50,2))) * Var(3,50,2)),1,49) + Extract((Cos(((Var(0,1,0) - Var(1,1,1)) * Var(2,50,2))) * Var(3,50,2)),0,49)) / Var(4,1,2)) * Var(5,49,2))) * Var(6,3500,1)),0), Var(1,1,1), Var(7,3500,0), Var(8,3500,0))\n",
      "       aliases: Var(0,1,0); Var(1,1,1); Var(2,50,2); Var(3,50,2); Var(4,1,2); Var(5,49,2); Var(6,3500,1); Var(7,3500,0); Var(8,3500,0); \n",
      "       dtype  : float32\n",
      "... Done.\n",
      "Compiling libKeOpstorchcb6f29b3c5 in /home/wesley/.cache/pykeops-1.3-cpython-37/build-libKeOpstorchcb6f29b3c5:\n",
      "       formula: Grad_WithSavedForward(Sum_Reduction((Sum((((Extract((Cos(((Var(0,1,0) - Var(1,1,1)) * Var(2,50,2))) * Var(3,50,2)),1,49) + Extract((Cos(((Var(0,1,0) - Var(1,1,1)) * Var(2,50,2))) * Var(3,50,2)),0,49)) / Var(4,1,2)) * Var(5,49,2))) * Var(6,3500,1)),0), Var(3,50,2), Var(7,3500,0), Var(8,3500,0))\n",
      "       aliases: Var(0,1,0); Var(1,1,1); Var(2,50,2); Var(3,50,2); Var(4,1,2); Var(5,49,2); Var(6,3500,1); Var(7,3500,0); Var(8,3500,0); \n",
      "       dtype  : float32\n",
      "... Done.\n"
     ]
    }
   ],
   "source": [
    "# this is for running the notebook in our testing framework\n",
    "num_iter =  500\n",
    "num_particles = 1\n",
    "\n",
    "def train():\n",
    "    optimizer = pyro.optim.Adam({\"lr\": 1e-2})\n",
    "    elbo = pyro.infer.Trace_ELBO(num_particles=num_particles, vectorize_particles=True, retain_graph=True)\n",
    "    svi = pyro.infer.SVI(model.model, model.guide, optimizer, elbo)\n",
    "\n",
    "    model.train()\n",
    "    iterator = tqdm.tqdm_notebook(range(num_iter))\n",
    "    for i in iterator:\n",
    "        model.zero_grad()\n",
    "        loss = svi.step(train_x, train_y)\n",
    "        iterator.set_postfix(loss=loss, noise=model.likelihood.noise.item())\n",
    "\n",
    "train()"
   ]
  },
  {
   "cell_type": "code",
   "execution_count": null,
   "metadata": {},
   "outputs": [],
   "source": [
    "model.eval();\n",
    "\n",
    "# this gp should probably always stay in prior mode\n",
    "gp_model = model.covar_module.latent_gp_prior.gp_model\n",
    "gp_model.train();"
   ]
  },
  {
   "cell_type": "code",
   "execution_count": null,
   "metadata": {},
   "outputs": [],
   "source": [
    "full_x = torch.linspace(-15., 15)\n",
    "pred_dist = model(full_x)\n",
    "conf_region = pred_dist.confidence_region()\n",
    "pred_mean = pred_dist.mean.data\n",
    "\n",
    "plt.plot(test_x.cpu(), test_y.cpu(), marker='*', label = 'Test Data', color = 'blue')\n",
    "plt.plot(train_x.cpu(), train_y.cpu(), label = 'Train Data', color = 'blue')\n",
    "plt.plot(full_x.cpu(), pred_mean.cpu(), label = 'Pred Mean', color = 'orange')\n",
    "plt.fill_between(full_x.cpu(), conf_region[0].data.cpu(), conf_region[1].data.cpu(), color = 'orange',\n",
    "                alpha = 0.5, label = 'Pred Confidence Region')\n",
    "plt.legend()"
   ]
  },
  {
   "cell_type": "code",
   "execution_count": null,
   "metadata": {},
   "outputs": [],
   "source": [
    "with torch.no_grad():\n",
    "    omega = model.covar_module.latent_gp_prior.gp_model.train_inputs[0]\n",
    "    gp_model = model.covar_module.latent_gp_prior.gp_model\n",
    "    gp_model.train()\n",
    "    spectral_dist = gp_model(omega)\n",
    "    \n",
    "spectral_c_region = [o.cpu().detach() for o in spectral_dist.confidence_region()]\n",
    "plt.plot(omega.cpu(), spectral_dist.mean.cpu())\n",
    "plt.fill_between(omega.cpu().view(-1), *spectral_c_region, alpha = 0.3)"
   ]
  },
  {
   "cell_type": "code",
   "execution_count": null,
   "metadata": {},
   "outputs": [],
   "source": []
  }
 ],
 "metadata": {
  "anaconda-cloud": {},
  "kernelspec": {
   "display_name": "Python 3",
   "language": "python",
   "name": "python3"
  },
  "language_info": {
   "codemirror_mode": {
    "name": "ipython",
    "version": 3
   },
   "file_extension": ".py",
   "mimetype": "text/x-python",
   "name": "python",
   "nbconvert_exporter": "python",
   "pygments_lexer": "ipython3",
   "version": "3.7.4"
  }
 },
 "nbformat": 4,
 "nbformat_minor": 1
}
