{
 "cells": [
  {
   "cell_type": "markdown",
   "metadata": {},
   "source": [
    "\n",
    "# Latent Function Inference with Pyro + GPyTorch (Low-Level Interface)\n",
    "\n",
    "## Overview\n",
    "\n",
    "In this example, we will give an overview of the low-level Pyro-GPyTorch integration.\n",
    "The low-level interface makes it possible to write GP models in a Pyro-style -- i.e. defining your own `model` and `guide` functions.\n",
    "\n",
    "These are the key differences between the high-level and low-level interface:\n",
    "\n",
    "**High level interface**\n",
    "\n",
    "- Base class is `gpytorch.models.PyroGP`.\n",
    "- GPyTorch automatically defines the `model` and `guide` functions for Pyro.\n",
    "- Best used when *prediction* is the primary goal\n",
    "\n",
    "**Low level interface**\n",
    "\n",
    "- Base class is `gpytorch.models.ApproximateGP`.\n",
    "- User defines the `model` and `guide` functions for Pyro.\n",
    "- Best used when *inference* is the primary goal"
   ]
  },
  {
   "cell_type": "code",
   "execution_count": 1,
   "metadata": {},
   "outputs": [],
   "source": [
    "import math\n",
    "import torch\n",
    "import pyro\n",
    "import tqdm\n",
    "import gpytorch\n",
    "import numpy as np\n",
    "from matplotlib import pyplot as plt\n",
    "\n",
    "%matplotlib inline"
   ]
  },
  {
   "cell_type": "markdown",
   "metadata": {},
   "source": [
    "This example uses a GP to infer a latent function $\\lambda(x)$, which parameterises the exponential distribution:\n",
    "\n",
    "$$y \\sim \\text{Exponential} (\\lambda),$$\n",
    "\n",
    "where:\n",
    "\n",
    "$$\\lambda = \\exp(f) \\in (0,+\\infty)$$\n",
    "\n",
    "is a GP link function, which transforms the latent gaussian process variable:\n",
    "\n",
    "$$f \\sim GP \\in (-\\infty,+\\infty).$$\n",
    "\n",
    "\n",
    "In other words, given inputs $X$ and observations $Y$ drawn from exponential distribution with $\\lambda = \\lambda(X)$, we want to find $\\lambda(X)$."
   ]
  },
  {
   "cell_type": "code",
   "execution_count": 2,
   "metadata": {},
   "outputs": [
    {
     "data": {
      "text/plain": [
       "Text(0.5, 1.0, 'Samples from exp. distrib.')"
      ]
     },
     "execution_count": 2,
     "metadata": {},
     "output_type": "execute_result"
    },
    {
     "data": {
      "image/png": "[encoded data removed]",
      "text/plain": [
       "<Figure size 720x216 with 2 Axes>"
      ]
     },
     "metadata": {
      "needs_background": "light"
     },
     "output_type": "display_data"
    }
   ],
   "source": [
    "# Here we specify a 'true' latent function lambda\n",
    "scale = lambda x: np.sin(2 * math.pi * x) + 1 \n",
    "\n",
    "# Generate synthetic data\n",
    "# here we generate some synthetic samples\n",
    "NSamp = 100\n",
    "\n",
    "X = np.linspace(0, 1, 100) \n",
    "\n",
    "fig, (lambdaf, samples) = plt.subplots(1, 2, figsize=(10, 3))\n",
    "\n",
    "lambdaf.plot(X,scale(X))\n",
    "lambdaf.set_xlabel('x')\n",
    "lambdaf.set_ylabel('$\\lambda$')\n",
    "lambdaf.set_title('Latent function')\n",
    "\n",
    "Y = np.zeros_like(X)\n",
    "for i,x in enumerate(X):\n",
    "    Y[i] = np.random.exponential(scale(x), 1)\n",
    "samples.scatter(X,Y)\n",
    "samples.set_xlabel('x')\n",
    "samples.set_ylabel('y')\n",
    "samples.set_title('Samples from exp. distrib.')"
   ]
  },
  {
   "cell_type": "code",
   "execution_count": 3,
   "metadata": {},
   "outputs": [],
   "source": [
    "train_x = torch.tensor(X).float()\n",
    "train_y = torch.tensor(Y).float()"
   ]
  },
  {
   "cell_type": "markdown",
   "metadata": {},
   "source": [
    "## Using the low-level Pyro/GPyTorch interface\n",
    "\n",
    "The low-level iterface should look familiar if you've written Pyro models/guides before. We'll use a `gpytorch.models.ApproximateGP` object to model the GP. To use the low-level interface, this object needs to define 3 functions:\n",
    "\n",
    "- `forward(x)` - which computes the prior GP mean and covariance at the supplied times.\n",
    "- `guide(x)` - which defines the approximate GP posterior.\n",
    "- `model(x)` - which does the following 3 things\n",
    "\n",
    "  - Computes the GP prior at `x`\n",
    "  - Converts GP function samples into scale function samples, using the link function defined above.\n",
    "  - Sample from the observed distribution `p(y | f)`. (This takes the place of a gpytorch `Likelihood` that we would've used in the high-level interface)."
   ]
  },
  {
   "cell_type": "code",
   "execution_count": 4,
   "metadata": {},
   "outputs": [],
   "source": [
    "class PVGPRegressionModel(gpytorch.models.ApproximateGP):\n",
    "    def __init__(self, num_inducing=64, name_prefix=\"mixture_gp\"):\n",
    "        self.name_prefix = name_prefix\n",
    "        \n",
    "        # Define all the variational stuff\n",
    "        inducing_points = torch.linspace(0, 1, num_inducing)\n",
    "        variational_strategy = gpytorch.variational.VariationalStrategy(\n",
    "            self, inducing_points,\n",
    "            gpytorch.variational.CholeskyVariationalDistribution(num_inducing_points=num_inducing)\n",
    "        )\n",
    "        \n",
    "        # Standard initializtation\n",
    "        super().__init__(variational_strategy)\n",
    "        \n",
    "        # Mean, covar, likelihood\n",
    "        self.mean_module = gpytorch.means.ConstantMean()\n",
    "        self.covar_module = gpytorch.kernels.ScaleKernel(gpytorch.kernels.RBFKernel())\n",
    "\n",
    "    def forward(self, x):\n",
    "        mean = self.mean_module(x)\n",
    "        covar = self.covar_module(x)\n",
    "        return gpytorch.distributions.MultivariateNormal(mean, covar)\n",
    "    \n",
    "    def guide(self, x, y):\n",
    "        # Get q(f) - variational (guide) distribution of latent function\n",
    "        function_dist = self.pyro_guide(x)\n",
    "\n",
    "        # Use a plate here to mark conditional independencies\n",
    "        with pyro.plate(self.name_prefix + \".data_plate\", dim=-1):\n",
    "            # Sample from latent function distribution\n",
    "            pyro.sample(self.name_prefix + \".f(x)\", function_dist)\n",
    "    \n",
    "    def model(self, x, y):\n",
    "        pyro.module(self.name_prefix + \".gp\", self)\n",
    "        \n",
    "        # Get p(f) - prior distribution of latent function\n",
    "        function_dist = self.pyro_model(x)\n",
    "        \n",
    "        # Use a plate here to mark conditional independencies\n",
    "        with pyro.plate(self.name_prefix + \".data_plate\", dim=-1):\n",
    "            # Sample from latent function distribution\n",
    "            function_samples = pyro.sample(self.name_prefix + \".f(x)\", function_dist)\n",
    "            \n",
    "            # Use the link function to convert GP samples into scale samples\n",
    "            scale_samples = function_samples.exp()\n",
    "\n",
    "            # Sample from observed distribution\n",
    "            return pyro.sample(\n",
    "                self.name_prefix + \".y\",\n",
    "                pyro.distributions.Exponential(scale_samples.reciprocal()),  # rate = 1 / scale\n",
    "                obs=y\n",
    "            )"
   ]
  },
  {
   "cell_type": "code",
   "execution_count": 5,
   "metadata": {},
   "outputs": [],
   "source": [
    "model = PVGPRegressionModel()"
   ]
  },
  {
   "cell_type": "markdown",
   "metadata": {},
   "source": [
    "## Performing inference with Pyro\n",
    "\n",
    "Unlike all the other examples in this library, `PyroGP` models use Pyro's inference and optimization classes (rather than the classes provided by PyTorch).\n",
    "\n",
    "If you are unfamiliar with Pyro's inference tools, we recommend checking out the [Pyro SVI tutorial](http://pyro.ai/examples/svi_part_i.html)."
   ]
  },
  {
   "cell_type": "code",
   "execution_count": 6,
   "metadata": {},
   "outputs": [
    {
     "data": {
      "application/vnd.jupyter.widget-view+json": {
       "model_id": "257d4e41d82b4db3b927a0ab3b001f8a",
       "version_major": 2,
       "version_minor": 0
      },
      "text/plain": [
       "HBox(children=(IntProgress(value=0, max=200), HTML(value='')))"
      ]
     },
     "metadata": {},
     "output_type": "display_data"
    },
    {
     "name": "stdout",
     "output_type": "stream",
     "text": [
      "\n",
      "CPU times: user 41.1 s, sys: 2.78 s, total: 43.9 s\n",
      "Wall time: 6.54 s\n"
     ]
    }
   ],
   "source": [
    "# this is for running the notebook in our testing framework\n",
    "import os\n",
    "smoke_test = ('CI' in os.environ)\n",
    "num_iter = 2 if smoke_test else 200\n",
    "num_particles = 1 if smoke_test else 256\n",
    "\n",
    "\n",
    "def train():\n",
    "    optimizer = pyro.optim.Adam({\"lr\": 0.1})\n",
    "    elbo = pyro.infer.Trace_ELBO(num_particles=num_particles, vectorize_particles=True, retain_graph=True)\n",
    "    svi = pyro.infer.SVI(model.model, model.guide, optimizer, elbo)\n",
    "\n",
    "    model.train()\n",
    "    iterator = tqdm.tqdm_notebook(range(num_iter))\n",
    "    for i in iterator:\n",
    "        model.zero_grad()\n",
    "        loss = svi.step(train_x, train_y)\n",
    "        iterator.set_postfix(loss=loss, lengthscale=model.covar_module.base_kernel.lengthscale.item())\n",
    "        \n",
    "%time train()"
   ]
  },
  {
   "cell_type": "markdown",
   "metadata": {},
   "source": [
    "In this example, we are only performing inference over the GP latent function (and its associated hyperparameters). In later examples, we will see that this basic loop also performs inference over any additional latent variables that we define."
   ]
  },
  {
   "cell_type": "markdown",
   "metadata": {},
   "source": [
    "## Making predictions\n",
    "\n",
    "For some problems, we simply want to use Pyro to perform inference over latent variables. However, we can also use the models' (approximate) predictive posterior distribution. Making predictions with a PyroGP model is exactly the same as for standard GPyTorch models."
   ]
  },
  {
   "cell_type": "code",
   "execution_count": 7,
   "metadata": {},
   "outputs": [],
   "source": [
    "# Here's a quick helper function for getting smoothed percentile values from samples\n",
    "def percentiles_from_samples(samples, percentiles=[0.05, 0.5, 0.95]):\n",
    "    num_samples = samples.size(0)\n",
    "    samples = samples.sort(dim=0)[0]\n",
    "    \n",
    "    # Get samples corresponding to percentile\n",
    "    percentile_samples = [samples[int(num_samples * percentile)] for percentile in percentiles]\n",
    "    \n",
    "    # Smooth the samples\n",
    "    kernel = torch.full((1, 1, 5), fill_value=0.2)\n",
    "    percentiles_samples = [\n",
    "        torch.nn.functional.conv1d(percentile_sample.view(1, 1, -1), kernel, padding=2).view(-1)\n",
    "        for percentile_sample in percentile_samples\n",
    "    ]\n",
    "    \n",
    "    return percentile_samples"
   ]
  },
  {
   "cell_type": "code",
   "execution_count": 8,
   "metadata": {},
   "outputs": [],
   "source": [
    "# define test set (optionally on GPU)\n",
    "denser = 2 # make test set 2 times denser then the training set\n",
    "test_x = torch.linspace(0, 1, denser * NSamp).float()#.cuda()\n",
    "\n",
    "model.eval()\n",
    "with torch.no_grad():\n",
    "    output = model(test_x)\n",
    "\n",
    "# Get E[exp(f)] via f_i ~ GP, 1/n \\sum_{i=1}^{n} exp(f_i).\n",
    "# Similarly get the 5th and 95th percentiles\n",
    "samples = output(torch.Size([1000])).exp()\n",
    "lower, mean, upper = percentiles_from_samples(samples)\n",
    "\n",
    "# Draw some simulated y values\n",
    "scale_sim = model(train_x)().exp()\n",
    "y_sim = pyro.distributions.Exponential(scale_sim.reciprocal())()"
   ]
  },
  {
   "cell_type": "code",
   "execution_count": 9,
   "metadata": {},
   "outputs": [
    {
     "data": {
      "text/plain": [
       "<matplotlib.legend.Legend at 0x11e454fd0>"
      ]
     },
     "execution_count": 9,
     "metadata": {},
     "output_type": "execute_result"
    },
    {
     "data": {
      "image/png": "[encoded data removed]",
      "text/plain": [
       "<Figure size 864x216 with 2 Axes>"
      ]
     },
     "metadata": {
      "needs_background": "light"
     },
     "output_type": "display_data"
    }
   ],
   "source": [
    "# visualize the result\n",
    "fig, (func, samp) = plt.subplots(1, 2, figsize=(12, 3))\n",
    "line, = func.plot(test_x, mean.detach().cpu().numpy(), label='GP prediction')\n",
    "func.fill_between(\n",
    "    test_x, lower.detach().cpu().numpy(),\n",
    "    upper.detach().cpu().numpy(), color=line.get_color(), alpha=0.5\n",
    ")\n",
    "\n",
    "func.plot(test_x, scale(test_x), label='True latent function')\n",
    "func.legend()\n",
    "\n",
    "# sample from p(y|D,x) = \\int p(y|f) p(f|D,x) df (doubly stochastic)\n",
    "samp.scatter(train_x, train_y, alpha = 0.5, label='True train data')\n",
    "samp.scatter(train_x, y_sim.cpu().detach().numpy(), alpha=0.5, label='Sample from the model')\n",
    "samp.legend()"
   ]
  },
  {
   "cell_type": "markdown",
   "metadata": {},
   "source": [
    "## Next steps\n",
    "\n",
    "This example probably could've also been done (slightly easier) using the high-level Pyro integration, or using GPyTorch's native SVGP implementation. The low-level interface really comes in handy when a gpytorch Likelihood is difficult to define. For an example of this, see the [next example](./Cox_Process_Example.ipynb) which uses the low-level interface to infer the intensity function of a Cox process."
   ]
  }
 ],
 "metadata": {
  "kernelspec": {
   "display_name": "Python 3",
   "language": "python",
   "name": "python3"
  },
  "language_info": {
   "codemirror_mode": {
    "name": "ipython",
    "version": 3
   },
   "file_extension": ".py",
   "mimetype": "text/x-python",
   "name": "python",
   "nbconvert_exporter": "python",
   "pygments_lexer": "ipython3",
   "version": "3.7.3"
  }
 },
 "nbformat": 4,
 "nbformat_minor": 2
}
