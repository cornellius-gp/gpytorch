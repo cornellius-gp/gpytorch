{
 "cells": [
  {
   "cell_type": "code",
   "execution_count": 1,
   "metadata": {
    "collapsed": false
   },
   "outputs": [
    {
     "name": "stderr",
     "output_type": "stream",
     "text": [
      "\n",
      "Bad key \"hatch.linewidth\" on line 54 in\n",
      "/home/gpleiss/.dotfiles/matplotlibrc.\n",
      "You probably need to get an updated matplotlibrc file from\n",
      "http://github.com/matplotlib/matplotlib/blob/master/matplotlibrc.template\n",
      "or from the matplotlib source distribution\n"
     ]
    }
   ],
   "source": [
    "import math\n",
    "import torch\n",
    "import gpytorch\n",
    "from matplotlib import pyplot as plt\n",
    "from torch import nn, optim\n",
    "from torch.autograd import Variable\n",
    "from gpytorch.kernels import RBFKernel, GridInterpolationKernel\n",
    "from gpytorch.means import ConstantMean\n",
    "from gpytorch.likelihoods import GaussianLikelihood\n",
    "from gpytorch.random_variables import GaussianRandomVariable\n",
    "\n",
    "%matplotlib inline"
   ]
  },
  {
   "cell_type": "code",
   "execution_count": 2,
   "metadata": {
    "collapsed": true
   },
   "outputs": [],
   "source": [
    "train_x = Variable(torch.linspace(0, 1, 1000))\n",
    "train_y = Variable(torch.sin(train_x.data * (4 * math.pi)) + torch.randn(train_x.size()) * 0.2)"
   ]
  },
  {
   "cell_type": "code",
   "execution_count": 3,
   "metadata": {
    "collapsed": false
   },
   "outputs": [],
   "source": [
    "class GPRegressionModel(gpytorch.models.ExactGP):\n",
    "    def __init__(self, train_x, train_y, likelihood):\n",
    "        super(GPRegressionModel, self).__init__(train_x, train_y, likelihood)\n",
    "        self.mean_module = ConstantMean(constant_bounds=[-1e-5,1e-5])\n",
    "        self.base_covar_module = RBFKernel(log_lengthscale_bounds=(-5, 6))\n",
    "        self.covar_module = GridInterpolationKernel(self.base_covar_module, grid_size=400,\n",
    "                                                            grid_bounds=[(0, 1)])\n",
    "        self.register_parameter('log_outputscale', nn.Parameter(torch.Tensor([0])), bounds=(-5,6))\n",
    "        \n",
    "    def forward(self,x):\n",
    "        mean_x = self.mean_module(x)\n",
    "        covar_x = self.covar_module(x)\n",
    "        covar_x = covar_x.mul(self.log_outputscale.exp())\n",
    "        return GaussianRandomVariable(mean_x, covar_x)\n",
    "\n",
    "\n",
    "likelihood = GaussianLikelihood()\n",
    "model = GPRegressionModel(train_x.data, train_y.data, likelihood)"
   ]
  },
  {
   "cell_type": "code",
   "execution_count": 4,
   "metadata": {
    "collapsed": false
   },
   "outputs": [
    {
     "name": "stdout",
     "output_type": "stream",
     "text": [
      "Iter 1/30 - Loss: 1.151\n",
      "Iter 2/30 - Loss: 1.098\n",
      "Iter 3/30 - Loss: 1.049\n",
      "Iter 4/30 - Loss: 1.017\n",
      "Iter 5/30 - Loss: 0.986\n",
      "Iter 6/30 - Loss: 0.972\n",
      "Iter 7/30 - Loss: 0.965\n",
      "Iter 8/30 - Loss: 0.962\n",
      "Iter 9/30 - Loss: 0.954\n",
      "Iter 10/30 - Loss: 0.936\n",
      "Iter 11/30 - Loss: 0.911\n",
      "Iter 12/30 - Loss: 0.884\n",
      "Iter 13/30 - Loss: 0.860\n",
      "Iter 14/30 - Loss: 0.825\n",
      "Iter 15/30 - Loss: 0.783\n",
      "Iter 16/30 - Loss: 0.728\n",
      "Iter 17/30 - Loss: 0.656\n",
      "Iter 18/30 - Loss: 0.567\n",
      "Iter 19/30 - Loss: 0.464\n",
      "Iter 20/30 - Loss: 0.340\n",
      "Iter 21/30 - Loss: 0.225\n",
      "Iter 22/30 - Loss: 0.114\n",
      "Iter 23/30 - Loss: 0.019\n",
      "Iter 24/30 - Loss: -0.058\n",
      "Iter 25/30 - Loss: -0.110\n",
      "Iter 26/30 - Loss: -0.134\n",
      "Iter 27/30 - Loss: -0.144\n",
      "Iter 28/30 - Loss: -0.120\n",
      "Iter 29/30 - Loss: -0.113\n",
      "Iter 30/30 - Loss: -0.104\n"
     ]
    }
   ],
   "source": [
    "# Optimize the model\n",
    "model.train()\n",
    "likelihood.train()\n",
    "\n",
    "optimizer = optim.Adam(list(model.parameters()) + list(likelihood.parameters()), lr=0.1)\n",
    "optimizer.n_iter = 0\n",
    "for i in range(30):\n",
    "    optimizer.zero_grad()\n",
    "    output = model(train_x)\n",
    "    loss = -model.marginal_log_likelihood(likelihood, output, train_y)\n",
    "    loss.backward()\n",
    "    optimizer.n_iter += 1\n",
    "    print('Iter %d/30 - Loss: %.3f' % (i + 1, loss.data[0]))\n",
    "    optimizer.step()"
   ]
  },
  {
   "cell_type": "code",
   "execution_count": 5,
   "metadata": {
    "collapsed": false
   },
   "outputs": [
    {
     "data": {
      "image/png": "[encoded data removed]",
      "text/plain": [
       "<matplotlib.figure.Figure at 0x7feb7d96aed0>"
      ]
     },
     "metadata": {},
     "output_type": "display_data"
    }
   ],
   "source": [
    "model.eval()\n",
    "likelihood.eval()\n",
    "\n",
    "f, observed_ax = plt.subplots(1, 1, figsize=(4, 3))\n",
    "test_x = Variable(torch.linspace(0, 1, 51))\n",
    "observed_pred = likelihood(model(test_x))\n",
    "\n",
    "def ax_plot(ax, rand_var, title):\n",
    "    lower, upper = rand_var.confidence_region()\n",
    "    ax.plot(train_x.data.numpy(), train_y.data.numpy(), 'k*')\n",
    "    ax.plot(test_x.data.numpy(), rand_var.mean().data.numpy(), 'b')\n",
    "    ax.fill_between(test_x.data.numpy(), lower.data.numpy(), upper.data.numpy(), alpha=0.5)\n",
    "    ax.set_ylim([-3, 3])\n",
    "    ax.legend(['Observed Data', 'Mean', 'Confidence'])\n",
    "    ax.set_title(title)\n",
    "\n",
    "ax_plot(observed_ax, observed_pred, 'Observed Values (Likelihood)')"
   ]
  }
 ],
 "metadata": {
  "anaconda-cloud": {},
  "kernelspec": {
   "display_name": "Python [default]",
   "language": "python",
   "name": "python2"
  },
  "language_info": {
   "codemirror_mode": {
    "name": "ipython",
    "version": 2
   },
   "file_extension": ".py",
   "mimetype": "text/x-python",
   "name": "python",
   "nbconvert_exporter": "python",
   "pygments_lexer": "ipython2",
   "version": "2.7.12"
  }
 },
 "nbformat": 4,
 "nbformat_minor": 2
}
