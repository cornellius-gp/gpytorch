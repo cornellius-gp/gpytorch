{
 "cells": [
  {
   "cell_type": "markdown",
   "metadata": {},
   "source": [
    "# Gaussian Process Latent Variable Models with SVI \n",
    "\n",
    "Vidhi Lalchand, 2021\n",
    "\n",
    "## Introduction \n",
    "\n",
    "In this notebook we demonstrate the GPLVM model class introduced in [Lawrence, 2005](https://proceedings.neurips.cc/paper/2003/file/9657c1fffd38824e5ab0472e022e577e-Paper.pdf) and its Bayesian incarnation introduced in [Titsias & Lawrence, 2010](http://proceedings.mlr.press/v9/titsias10a/titsias10a.pdf).\n",
    "\n",
    "GPLVMs use Gaussian processes in an unsupervised context, where a low dimensional representation of the data ($X \\equiv \\{\\mathbf{x}_{n}\\}_{n=1}^{N}\\in \\mathbb{R}^{N \\times Q}$) is learnt given some high dimensional real valued observations $Y \\equiv \\{\\mathbf{y}_{n}\\}_{n=1}^{N} \\in \\mathbb{R}^{N \\times D}$. $Q < D$ provides dimensionality reduction. The forward mapping ($X \\longrightarrow Y$) is governed by GPs independently defined across dimensions $D$. Q (the dimensionality of the latent space is usually fixed before hand).\n",
    "\n",
    "One can either learn point estimates for each $\\mathbf{x}_{n}$ by maximizing the GP marginal likelihood (use `gpytorch.mlls.ExactMarginalLogLikelihood` for this) jointly wrt. the kernel hyperparameters $\\theta$ and the latent inputs $\\mathbf{x}_{n}$. Alternatively, one can variationally integrate out $X$ by using the sparse variational formulation where a variational distribution $q(X) = \\prod_{n=1}^{N}\\mathcal{N}(\\mathbf{x}_{n}; \\mu_{n}, s_{n}\\mathbb{I}_{Q})$.This tutorial focuses on the latter. \n",
    "\n",
    "The probabilistic model is: \n",
    "\n",
    "\\begin{align*}\n",
    "\\textrm{ Prior on latents: } p(X) &= \\displaystyle \\prod _{n=1}^N \\mathcal{N} (\\mathbf{x}_{n};\\mathbf{0}, \\mathbb{I}_{Q}),\\\\\n",
    "\\textrm{Prior on mapping: }    p(\\mathbf{f}|X, \\mathbf{\\theta}) &= \\displaystyle \\prod_{d=1}^{D}\\mathcal{N}(\\mathbf{f}_{d}; \\mathbf{0}, K_{ff}^{(d)}),\\\\\n",
    "\\textrm{Data likelihood: }  p(Y| \\mathbf{f}, X) &= \\prod_{n=1}^N \\prod_{d=1}^D \\mathcal{N}(y_{n,d}; \\mathbf{f}_{d}(\\mathbf{x}_{n}), \\sigma^{2}_{y}),\n",
    "\\end{align*}\n"
   ]
  },
  {
   "cell_type": "code",
   "execution_count": 11,
   "metadata": {},
   "outputs": [
    {
     "name": "stdout",
     "output_type": "stream",
     "text": [
      "The autoreload extension is already loaded. To reload it, use:\n",
      "  %reload_ext autoreload\n"
     ]
    }
   ],
   "source": [
    "# Standard imports\n",
    "import matplotlib.pylab as plt\n",
    "import torch \n",
    "import numpy as np\n",
    "from pathlib import Path\n",
    "\n",
    "# If you are running this notebook interactively\n",
    "wdir = Path(os.path.abspath('')).parent.parent\n",
    "os.chdir(wdir)\n",
    "\n",
    "# gpytorch imports\n",
    "from gpytorch.mlls import VariationalELBO\n",
    "from gpytorch.priors import NormalPrior\n",
    "\n",
    "%matplotlib inline\n",
    "%load_ext autoreload\n",
    "%autoreload 2\n",
    "\n",
    "# Setting manual seed for reproducibility\n",
    "torch.manual_seed(73)\n",
    "np.random.seed(73)\n"
   ]
  },
  {
   "cell_type": "markdown",
   "metadata": {},
   "source": [
    "### Set up training data \n",
    "\n",
    "We use the canonical multi-phase oilflow dataset used in [Titsias & Lawrence, 2010](http://proceedings.mlr.press/v9/titsias10a/titsias10a.pdf) that consists of 1000, 12 dimensional observations belonging to three known classes corresponding to different phases of oilflow. "
   ]
  },
  {
   "cell_type": "code",
   "execution_count": 25,
   "metadata": {},
   "outputs": [],
   "source": [
    "import urllib\n",
    "import tarfile\n",
    "\n",
    "url = \"http://staffwww.dcs.shef.ac.uk/people/N.Lawrence/resources/3PhData.tar.gz\"\n",
    "urllib.request.urlretrieve(url,'3PhData.tar.gz')\n",
    "with tarfile.open('3PhData.tar.gz', 'r') as f:\n",
    "    f.extract('DataTrn.txt')\n",
    "    f.extract('DataTrnLbls.txt')\n",
    "\n",
    "\n",
    "Y = torch.Tensor(np.loadtxt(fname='DataTrn.txt')) \n",
    "labels = torch.Tensor(np.loadtxt(fname='DataTrnLbls.txt'))\n",
    "labels = (labels @ np.diag([1, 2, 3])).sum(axis=1)"
   ]
  },
  {
   "cell_type": "markdown",
   "metadata": {},
   "source": [
    "### Defining the GPLVM model\n",
    "\n",
    "We will be using the BayesianGPLVM model class which is compatible with three different modes of inference. \n",
    "\n",
    "(a) Point estimate for the latent variables $X \\equiv \\{x_{n}\\}_{n=1}^{N}$. \\\n",
    "(b) MAP estimate for the latent variables where we have an additional log prior term in the ELBO. \n",
    "(c) Variational distribution $q(x_{n})$ corresponding to latent variables.\n",
    "\n",
    "The latent variable ELBO for (c) is given by:\n",
    "\n",
    "$$\\mathcal{L} = \\sum_{n, d}\\mathbb{E}_{q_{\\phi}(\\mathbf{x}_{n})}\\mathbb{E}_{p(\\mathbf{f}_{d}|\\mathbf{u}_{d}, \\mathbf{x}_{n})q_{\\lambda}(\\mathbf{u}_{d})}[\\log \\mathcal{N}(y_{n,d};\\mathbf{f}_{d}(\\mathbf{x}_{n}), \\sigma^{2}_{y})]) - \\sum_{n}\\textrm{KL}(q_{\\phi}(\\mathbf{x}_{n})||p(\\mathbf{x}_{n})) - \\sum_{d}\\textrm{KL}(q_{\\lambda}(\\mathbf{u}_{d})||p(\\mathbf{u}_{d}|Z))$$\n",
    "\n",
    "The latent variable ELBO corresponding to (a) just has the first two terms and corresponding to (b) includes the log prior for latent variables $p(\\mathbf{x}_{n})$ in the ELBO.  \n",
    "\n",
    "This ELBO is optimised w.r.t local variational parameters $\\phi$, global variational parameters $\\lambda$, kernel hyperparameters $\\theta$ and likelihood noise $\\sigma^{y}$.\n",
    "\n",
    "The BayesianGPLVM is built on top of the Sparse GP formulation. Similar to the [SVGP example](./SVGP_Regression_CUDA.ipynb), we'll use a `CholeskyVariationalDistribution` to model $q(\\mathbf{u})$ and the standard `VariationalStrategy` as defined by Hensman et al. (2015).\n",
    "\n"
   ]
  },
  {
   "cell_type": "code",
   "execution_count": 20,
   "metadata": {},
   "outputs": [],
   "source": [
    "from gpytorch.models.latent_variable import *\n",
    "from gpytorch.models.bayesian_gplvm import BayesianGPLVM\n",
    "from matplotlib import pyplot as plt\n",
    "from tqdm import trange\n",
    "from gpytorch.means import ZeroMean\n",
    "from gpytorch.mlls import VariationalELBO\n",
    "from gpytorch.priors import NormalPrior\n",
    "from gpytorch.likelihoods import GaussianLikelihood\n",
    "from gpytorch.variational import VariationalStrategy\n",
    "from gpytorch.variational import CholeskyVariationalDistribution\n",
    "from gpytorch.kernels import ScaleKernel, RBFKernel\n",
    "from gpytorch.distributions import MultivariateNormal\n",
    "\n",
    "def _init_pca(Y, latent_dim):\n",
    "    U, S, V = torch.pca_lowrank(Y, q = latent_dim)\n",
    "    return torch.nn.Parameter(torch.matmul(Y, V[:,:latent_dim]))\n",
    "\n",
    "class bGPLVM(BayesianGPLVM):\n",
    "     \n",
    "    def __init__(self, n, data_dim, latent_dim, n_inducing, pca=False):\n",
    "         \n",
    "        self.n = n\n",
    "        self.batch_shape = torch.Size([data_dim])\n",
    "        \n",
    "        # Locations Z_{d} corresponding to u_{d}, they can be randomly initialized or \n",
    "        # regularly placed with shape (D x n_inducing x latent_dim).\n",
    "        self.inducing_inputs = torch.randn(data_dim, n_inducing, latent_dim)\n",
    "    \n",
    "        # Sparse Variational Formulation\n",
    "        \n",
    "        q_u = CholeskyVariationalDistribution(n_inducing, batch_shape=self.batch_shape) \n",
    "        q_f = VariationalStrategy(self, self.inducing_inputs, q_u, learn_inducing_locations=True)\n",
    "    \n",
    "        # Define prior for X\n",
    "        X_prior_mean = torch.zeros(n, latent_dim)  # shape: N x Q\n",
    "        prior_x = NormalPrior(X_prior_mean, torch.ones_like(X_prior_mean))\n",
    "    \n",
    "        # Initialise X with PCA or 0s.\n",
    "        if pca == True:\n",
    "             X_init = _init_pca(Y, latent_dim) # Initialise X to PCA \n",
    "        else:\n",
    "             X_init = torch.nn.Parameter(torch.zeros(n, latent_dim))\n",
    "          \n",
    "        # LatentVariable (c)\n",
    "        X = VariationalLatentVariable(n, data_dim, latent_dim, X_init, prior_x)\n",
    "        \n",
    "        # For (a) or (b) change to below:\n",
    "        # X = PointLatentVariable(n, latent_dim, X_init)\n",
    "        # X = MAPLatentVariable(n, latent_dim, X_init, prior_x)\n",
    "        \n",
    "        super(bGPLVM, self).__init__(X, q_f)\n",
    "        \n",
    "        # Kernel (acting on latent dimensions)\n",
    "        self.mean_module = ZeroMean(ard_num_dims=latent_dim)\n",
    "        self.covar_module = ScaleKernel(RBFKernel(ard_num_dims=latent_dim))\n",
    "\n",
    "\n",
    "    def forward(self, X):\n",
    "        mean_x = self.mean_module(X)\n",
    "        covar_x = self.covar_module(X)\n",
    "        dist = MultivariateNormal(mean_x, covar_x)\n",
    "        return dist\n",
    "    \n",
    "    def _get_batch_idx(self, batch_size):\n",
    "            \n",
    "        valid_indices = np.arange(self.n)\n",
    "        batch_indices = np.random.choice(valid_indices, size=batch_size, replace=False)\n",
    "        return np.sort(batch_indices)\n"
   ]
  },
  {
   "cell_type": "markdown",
   "metadata": {},
   "source": [
    "### Training the model\n",
    "\n",
    "While we need to specify the dimensionality of the latent variables at the outset, one of the advantages \n",
    "of the Bayesian framework is that by using a ARD kernel we can prune dimensions corresponding to small inverse lengthscales."
   ]
  },
  {
   "cell_type": "code",
   "execution_count": 26,
   "metadata": {},
   "outputs": [],
   "source": [
    "    N = len(Y)\n",
    "    data_dim = Y.shape[1]\n",
    "    latent_dim = 10\n",
    "    n_inducing = 25\n",
    "    pca = False\n",
    "    \n",
    "    # Model\n",
    "    model = bGPLVM(N, data_dim, latent_dim, n_inducing, pca=pca)\n",
    "    \n",
    "    # Likelihood\n",
    "    likelihood = GaussianLikelihood(batch_shape=model.batch_shape)\n",
    "\n",
    "    # Declaring the objective to be optimised along with optimiser \n",
    "    # (see models/latent_variable.py for how the additional loss terms are accounted for)\n",
    "    \n",
    "    mll = VariationalELBO(likelihood, model, num_data=len(Y))\n",
    "    \n",
    "    optimizer = torch.optim.Adam([\n",
    "    {'params': model.parameters()},\n",
    "    {'params': likelihood.parameters()}\n",
    "    ], lr=0.01)"
   ]
  },
  {
   "cell_type": "markdown",
   "metadata": {},
   "source": [
    "We use mini-batch training for scalability where only a subset of the local variaitonal params are optimised in each iteration. "
   ]
  },
  {
   "cell_type": "code",
   "execution_count": 27,
   "metadata": {},
   "outputs": [
    {
     "name": "stderr",
     "output_type": "stream",
     "text": [
      "Loss: -3.09, iter no: 9999: 100%|██████████| 10000/10000 [03:33<00:00, 46.83it/s]\n"
     ]
    }
   ],
   "source": [
    "# Training loop - optimises the objective wrt kernel hypers, variational params and inducing inputs\n",
    "# using the optimizer provided.\n",
    "    \n",
    "loss_list = []\n",
    "iterator = trange(10000, leave=True)\n",
    "batch_size = 100\n",
    "for i in iterator: \n",
    "    batch_index = model._get_batch_idx(batch_size)\n",
    "    optimizer.zero_grad()\n",
    "    sample = model.sample_latent_variable()  # a full sample returns latent x across all N\n",
    "    sample_batch = sample[batch_index]\n",
    "    output_batch = model(sample_batch)\n",
    "    loss = -mll(output_batch, Y[batch_index].T).sum()\n",
    "    loss_list.append(loss.item())\n",
    "    iterator.set_description('Loss: ' + str(float(np.round(loss.item(),2))) + \", iter no: \" + str(i))\n",
    "    loss.backward()\n",
    "    optimizer.step()\n"
   ]
  },
  {
   "cell_type": "markdown",
   "metadata": {},
   "source": [
    "### Visualising the 2d latent subspace\n",
    "Visualising a two dimensional slice of the latent space corresponding to the most dominant latent dimensions.  "
   ]
  },
  {
   "cell_type": "code",
   "execution_count": 42,
   "metadata": {},
   "outputs": [
    {
     "name": "stdout",
     "output_type": "stream",
     "text": [
      "tensor([[49.6714, 48.5938, 47.1541,  1.7354,  5.8518,  2.5936, 47.8345, 48.7853,\n",
      "          3.7303, 48.4200]], grad_fn=<SoftplusBackward>)\n"
     ]
    },
    {
     "data": {
      "image/png": "[encoded data removed]",
      "text/plain": [
       "<Figure size 576x432 with 1 Axes>"
      ]
     },
     "metadata": {
      "needs_background": "light"
     },
     "output_type": "display_data"
    }
   ],
   "source": [
    "print(model.covar_module.base_kernel.lengthscale)\n",
    "\n",
    "values, indices = torch.topk(model.covar_module.base_kernel.lengthscale, k=2,largest=False)\n",
    "\n",
    "l1 = indices.numpy().flatten()[0]\n",
    "l2 = indices.numpy().flatten()[1]\n",
    "\n",
    "plt.figure(figsize=(8, 6))\n",
    "colors = ['r', 'b', 'g']\n",
    "\n",
    "X = model.X.q_mu.detach().numpy()\n",
    "std = torch.nn.functional.softplus(model.X.q_log_sigma).detach().numpy()\n",
    "\n",
    "# Select index of the smallest lengthscales by examining model.covar_module.base_kernel.lengthscales \n",
    "for i, label in enumerate(np.unique(labels)):\n",
    "    X_i = X[labels == label]\n",
    "    scale_i = std[labels == label]\n",
    "    plt.scatter(X_i[:, l1], X_i[:, l2], c=[colors[i]], label=label)\n",
    "    plt.errorbar(X_i[:, l1], X_i[:, l2], xerr=scale_i[:,l1], yerr=scale_i[:,l2], label=label,c=colors[i], fmt='none')"
   ]
  },
  {
   "cell_type": "markdown",
   "metadata": {},
   "source": [
    "The vertical and horizontal bars indicate axis aligned Gaussian uncertainty around each latent point. "
   ]
  }
 ],
 "metadata": {
  "kernelspec": {
   "display_name": "Python 3",
   "language": "python",
   "name": "python3"
  },
  "language_info": {
   "codemirror_mode": {
    "name": "ipython",
    "version": 3
   },
   "file_extension": ".py",
   "mimetype": "text/x-python",
   "name": "python",
   "nbconvert_exporter": "python",
   "pygments_lexer": "ipython3",
   "version": "3.8.5"
  }
 },
 "nbformat": 4,
 "nbformat_minor": 4
}
