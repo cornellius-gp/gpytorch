{
 "cells": [
  {
   "cell_type": "markdown",
   "metadata": {},
   "source": [
    "# Gaussian Process Regression with Newly Proposed API"
   ]
  },
  {
   "cell_type": "code",
   "execution_count": 1,
   "metadata": {},
   "outputs": [
    {
     "name": "stdout",
     "output_type": "stream",
     "text": [
      "[KeOps] Warning : omp.h header is not in the path, disabling OpenMP.\n",
      "[KeOps] Warning : Cuda libraries were not detected on the system ; using cpu only mode\n"
     ]
    },
    {
     "name": "stderr",
     "output_type": "stream",
     "text": [
      "<stdin>:1:10: fatal error: 'omp.h' file not found\n",
      "#include <omp.h>\n",
      "         ^~~~~~~\n",
      "1 error generated.\n"
     ]
    },
    {
     "data": {
      "text/plain": [
       "<torch._C.Generator at 0x135810d10>"
      ]
     },
     "execution_count": 1,
     "metadata": {},
     "output_type": "execute_result"
    }
   ],
   "source": [
    "from matplotlib import pyplot as plt\n",
    "\n",
    "import math\n",
    "import torch\n",
    "import gpytorch\n",
    "\n",
    "# Numerics and scientific computing\n",
    "torch.set_default_dtype(torch.float32)\n",
    "torch.set_default_device(\"cuda\" if torch.cuda.is_available() else \"cpu\")\n",
    "torch.manual_seed(42)"
   ]
  },
  {
   "cell_type": "markdown",
   "metadata": {},
   "source": [
    "## Data"
   ]
  },
  {
   "cell_type": "code",
   "execution_count": 2,
   "metadata": {},
   "outputs": [],
   "source": [
    "num_traindata = 1000\n",
    "train_x = torch.linspace(0, 1, num_traindata)\n",
    "train_y = torch.sin(train_x * (2 * math.pi)) + torch.randn(train_x.size()) * math.sqrt(0.02)\n",
    "\n",
    "test_x = torch.linspace(0, 1, num_traindata)"
   ]
  },
  {
   "cell_type": "markdown",
   "metadata": {},
   "source": [
    "## Model"
   ]
  },
  {
   "cell_type": "code",
   "execution_count": 3,
   "metadata": {},
   "outputs": [
    {
     "data": {
      "text/plain": [
       "HomoskedasticNoise(\n",
       "  (raw_noise_constraint): GreaterThan(1.000E-04)\n",
       ")"
      ]
     },
     "execution_count": 3,
     "metadata": {},
     "output_type": "execute_result"
    }
   ],
   "source": [
    "from gpytorch import models, means, kernels, distributions, likelihoods\n",
    "\n",
    "model = models.zoo.CholeskyGP(\n",
    "    mean=means.ZeroMean(),\n",
    "    kernel=kernels.ScaleKernel(kernels.MaternKernel()),\n",
    "    train_inputs=train_x,\n",
    "    train_targets=train_y,\n",
    ")\n",
    "model"
   ]
  },
  {
   "cell_type": "code",
   "execution_count": 4,
   "metadata": {},
   "outputs": [
    {
     "data": {
      "text/plain": [
       "[('likelihood.noise_covar.raw_noise',\n",
       "  Parameter containing:\n",
       "  tensor([0.])),\n",
       " ('covar_module.raw_outputscale',\n",
       "  Parameter containing:\n",
       "  tensor(0., requires_grad=True)),\n",
       " ('covar_module.base_kernel.raw_lengthscale',\n",
       "  Parameter containing:\n",
       "  tensor([[0.]], requires_grad=True))]"
      ]
     },
     "execution_count": 4,
     "metadata": {},
     "output_type": "execute_result"
    }
   ],
   "source": [
    "list(model.named_parameters())"
   ]
  },
  {
   "cell_type": "markdown",
   "metadata": {},
   "source": [
    "## Training"
   ]
  },
  {
   "cell_type": "code",
   "execution_count": 5,
   "metadata": {},
   "outputs": [
    {
     "name": "stdout",
     "output_type": "stream",
     "text": [
      "Iteration:   1/100 \t Loss: 0.781\toutputscale: 0.744\tlengthscale: 0.644\tnoise: 0.693\t\n",
      "Iteration:   2/100 \t Loss: 0.779\toutputscale: 0.797\tlengthscale: 0.599\tnoise: 0.693\t\n",
      "Iteration:   3/100 \t Loss: 0.773\toutputscale: 0.850\tlengthscale: 0.557\tnoise: 0.693\t\n",
      "Iteration:   4/100 \t Loss: 0.769\toutputscale: 0.904\tlengthscale: 0.519\tnoise: 0.693\t\n",
      "Iteration:   5/100 \t Loss: 0.769\toutputscale: 0.955\tlengthscale: 0.485\tnoise: 0.693\t\n",
      "Iteration:   6/100 \t Loss: 0.769\toutputscale: 1.004\tlengthscale: 0.455\tnoise: 0.693\t\n",
      "Iteration:   7/100 \t Loss: 0.766\toutputscale: 1.049\tlengthscale: 0.430\tnoise: 0.693\t\n",
      "Iteration:   8/100 \t Loss: 0.767\toutputscale: 1.091\tlengthscale: 0.408\tnoise: 0.693\t\n",
      "Iteration:   9/100 \t Loss: 0.768\toutputscale: 1.129\tlengthscale: 0.389\tnoise: 0.693\t\n",
      "Iteration:  10/100 \t Loss: 0.771\toutputscale: 1.162\tlengthscale: 0.372\tnoise: 0.693\t\n",
      "Iteration:  11/100 \t Loss: 0.768\toutputscale: 1.191\tlengthscale: 0.359\tnoise: 0.693\t\n",
      "Iteration:  12/100 \t Loss: 0.769\toutputscale: 1.215\tlengthscale: 0.348\tnoise: 0.693\t\n",
      "Iteration:  13/100 \t Loss: 0.764\toutputscale: 1.235\tlengthscale: 0.340\tnoise: 0.693\t\n",
      "Iteration:  14/100 \t Loss: 0.773\toutputscale: 1.250\tlengthscale: 0.335\tnoise: 0.693\t\n",
      "Iteration:  15/100 \t Loss: 0.768\toutputscale: 1.260\tlengthscale: 0.332\tnoise: 0.693\t\n",
      "Iteration:  16/100 \t Loss: 0.768\toutputscale: 1.267\tlengthscale: 0.330\tnoise: 0.693\t\n",
      "Iteration:  17/100 \t Loss: 0.777\toutputscale: 1.269\tlengthscale: 0.330\tnoise: 0.693\t\n",
      "Iteration:  18/100 \t Loss: 0.773\toutputscale: 1.267\tlengthscale: 0.330\tnoise: 0.693\t\n",
      "Iteration:  19/100 \t Loss: 0.772\toutputscale: 1.262\tlengthscale: 0.332\tnoise: 0.693\t\n",
      "Iteration:  20/100 \t Loss: 0.776\toutputscale: 1.254\tlengthscale: 0.334\tnoise: 0.693\t\n",
      "Iteration:  21/100 \t Loss: 0.768\toutputscale: 1.245\tlengthscale: 0.337\tnoise: 0.693\t\n",
      "Iteration:  22/100 \t Loss: 0.768\toutputscale: 1.233\tlengthscale: 0.341\tnoise: 0.693\t\n",
      "Iteration:  23/100 \t Loss: 0.766\toutputscale: 1.222\tlengthscale: 0.345\tnoise: 0.693\t\n",
      "Iteration:  24/100 \t Loss: 0.766\toutputscale: 1.209\tlengthscale: 0.350\tnoise: 0.693\t\n",
      "Iteration:  25/100 \t Loss: 0.768\toutputscale: 1.196\tlengthscale: 0.355\tnoise: 0.693\t\n",
      "Iteration:  26/100 \t Loss: 0.767\toutputscale: 1.182\tlengthscale: 0.359\tnoise: 0.693\t\n",
      "Iteration:  27/100 \t Loss: 0.765\toutputscale: 1.170\tlengthscale: 0.363\tnoise: 0.693\t\n",
      "Iteration:  28/100 \t Loss: 0.767\toutputscale: 1.157\tlengthscale: 0.367\tnoise: 0.693\t\n",
      "Iteration:  29/100 \t Loss: 0.764\toutputscale: 1.145\tlengthscale: 0.371\tnoise: 0.693\t\n",
      "Iteration:  30/100 \t Loss: 0.765\toutputscale: 1.134\tlengthscale: 0.375\tnoise: 0.693\t\n",
      "Iteration:  31/100 \t Loss: 0.770\toutputscale: 1.123\tlengthscale: 0.378\tnoise: 0.693\t\n",
      "Iteration:  32/100 \t Loss: 0.766\toutputscale: 1.112\tlengthscale: 0.381\tnoise: 0.693\t\n",
      "Iteration:  33/100 \t Loss: 0.766\toutputscale: 1.102\tlengthscale: 0.384\tnoise: 0.693\t\n",
      "Iteration:  34/100 \t Loss: 0.764\toutputscale: 1.093\tlengthscale: 0.387\tnoise: 0.693\t\n",
      "Iteration:  35/100 \t Loss: 0.764\toutputscale: 1.085\tlengthscale: 0.389\tnoise: 0.693\t\n",
      "Iteration:  36/100 \t Loss: 0.765\toutputscale: 1.077\tlengthscale: 0.390\tnoise: 0.693\t\n",
      "Iteration:  37/100 \t Loss: 0.769\toutputscale: 1.070\tlengthscale: 0.391\tnoise: 0.693\t\n",
      "Iteration:  38/100 \t Loss: 0.769\toutputscale: 1.063\tlengthscale: 0.392\tnoise: 0.693\t\n",
      "Iteration:  39/100 \t Loss: 0.768\toutputscale: 1.056\tlengthscale: 0.391\tnoise: 0.693\t\n",
      "Iteration:  40/100 \t Loss: 0.768\toutputscale: 1.050\tlengthscale: 0.390\tnoise: 0.693\t\n",
      "Iteration:  41/100 \t Loss: 0.766\toutputscale: 1.044\tlengthscale: 0.389\tnoise: 0.693\t\n",
      "Iteration:  42/100 \t Loss: 0.765\toutputscale: 1.039\tlengthscale: 0.388\tnoise: 0.693\t\n",
      "Iteration:  43/100 \t Loss: 0.766\toutputscale: 1.035\tlengthscale: 0.388\tnoise: 0.693\t\n",
      "Iteration:  44/100 \t Loss: 0.768\toutputscale: 1.030\tlengthscale: 0.388\tnoise: 0.693\t\n",
      "Iteration:  45/100 \t Loss: 0.768\toutputscale: 1.025\tlengthscale: 0.388\tnoise: 0.693\t\n",
      "Iteration:  46/100 \t Loss: 0.765\toutputscale: 1.022\tlengthscale: 0.388\tnoise: 0.693\t\n",
      "Iteration:  47/100 \t Loss: 0.767\toutputscale: 1.018\tlengthscale: 0.388\tnoise: 0.693\t\n",
      "Iteration:  48/100 \t Loss: 0.761\toutputscale: 1.017\tlengthscale: 0.387\tnoise: 0.693\t\n",
      "Iteration:  49/100 \t Loss: 0.766\toutputscale: 1.016\tlengthscale: 0.387\tnoise: 0.693\t\n",
      "Iteration:  50/100 \t Loss: 0.765\toutputscale: 1.015\tlengthscale: 0.386\tnoise: 0.693\t\n",
      "Iteration:  51/100 \t Loss: 0.771\toutputscale: 1.013\tlengthscale: 0.387\tnoise: 0.693\t\n",
      "Iteration:  52/100 \t Loss: 0.765\toutputscale: 1.013\tlengthscale: 0.386\tnoise: 0.693\t\n",
      "Iteration:  53/100 \t Loss: 0.767\toutputscale: 1.012\tlengthscale: 0.385\tnoise: 0.693\t\n",
      "Iteration:  54/100 \t Loss: 0.766\toutputscale: 1.011\tlengthscale: 0.385\tnoise: 0.693\t\n",
      "Iteration:  55/100 \t Loss: 0.768\toutputscale: 1.010\tlengthscale: 0.384\tnoise: 0.693\t\n",
      "Iteration:  56/100 \t Loss: 0.771\toutputscale: 1.007\tlengthscale: 0.385\tnoise: 0.693\t\n",
      "Iteration:  57/100 \t Loss: 0.770\toutputscale: 1.003\tlengthscale: 0.386\tnoise: 0.693\t\n",
      "Iteration:  58/100 \t Loss: 0.763\toutputscale: 1.000\tlengthscale: 0.386\tnoise: 0.693\t\n",
      "Iteration:  59/100 \t Loss: 0.772\toutputscale: 0.996\tlengthscale: 0.387\tnoise: 0.693\t\n",
      "Iteration:  60/100 \t Loss: 0.767\toutputscale: 0.992\tlengthscale: 0.387\tnoise: 0.693\t\n",
      "Iteration:  61/100 \t Loss: 0.769\toutputscale: 0.988\tlengthscale: 0.387\tnoise: 0.693\t\n",
      "Iteration:  62/100 \t Loss: 0.770\toutputscale: 0.983\tlengthscale: 0.388\tnoise: 0.693\t\n",
      "Iteration:  63/100 \t Loss: 0.764\toutputscale: 0.980\tlengthscale: 0.388\tnoise: 0.693\t\n",
      "Iteration:  64/100 \t Loss: 0.767\toutputscale: 0.977\tlengthscale: 0.387\tnoise: 0.693\t\n",
      "Iteration:  65/100 \t Loss: 0.762\toutputscale: 0.977\tlengthscale: 0.385\tnoise: 0.693\t\n",
      "Iteration:  66/100 \t Loss: 0.764\toutputscale: 0.978\tlengthscale: 0.383\tnoise: 0.693\t\n",
      "Iteration:  67/100 \t Loss: 0.766\toutputscale: 0.979\tlengthscale: 0.382\tnoise: 0.693\t\n",
      "Iteration:  68/100 \t Loss: 0.768\toutputscale: 0.979\tlengthscale: 0.380\tnoise: 0.693\t\n",
      "Iteration:  69/100 \t Loss: 0.766\toutputscale: 0.979\tlengthscale: 0.378\tnoise: 0.693\t\n",
      "Iteration:  70/100 \t Loss: 0.765\toutputscale: 0.979\tlengthscale: 0.377\tnoise: 0.693\t\n",
      "Iteration:  71/100 \t Loss: 0.771\toutputscale: 0.977\tlengthscale: 0.375\tnoise: 0.693\t\n",
      "Iteration:  72/100 \t Loss: 0.765\toutputscale: 0.976\tlengthscale: 0.374\tnoise: 0.693\t\n",
      "Iteration:  73/100 \t Loss: 0.769\toutputscale: 0.973\tlengthscale: 0.373\tnoise: 0.693\t\n",
      "Iteration:  74/100 \t Loss: 0.768\toutputscale: 0.970\tlengthscale: 0.372\tnoise: 0.693\t\n",
      "Iteration:  75/100 \t Loss: 0.770\toutputscale: 0.966\tlengthscale: 0.372\tnoise: 0.693\t\n",
      "Iteration:  76/100 \t Loss: 0.764\toutputscale: 0.962\tlengthscale: 0.373\tnoise: 0.693\t\n",
      "Iteration:  77/100 \t Loss: 0.767\toutputscale: 0.958\tlengthscale: 0.373\tnoise: 0.693\t\n",
      "Iteration:  78/100 \t Loss: 0.772\toutputscale: 0.952\tlengthscale: 0.374\tnoise: 0.693\t\n",
      "Iteration:  79/100 \t Loss: 0.772\toutputscale: 0.945\tlengthscale: 0.375\tnoise: 0.693\t\n",
      "Iteration:  80/100 \t Loss: 0.765\toutputscale: 0.939\tlengthscale: 0.375\tnoise: 0.693\t\n",
      "Iteration:  81/100 \t Loss: 0.768\toutputscale: 0.932\tlengthscale: 0.376\tnoise: 0.693\t\n",
      "Iteration:  82/100 \t Loss: 0.769\toutputscale: 0.925\tlengthscale: 0.377\tnoise: 0.693\t\n",
      "Iteration:  83/100 \t Loss: 0.767\toutputscale: 0.919\tlengthscale: 0.378\tnoise: 0.693\t\n",
      "Iteration:  84/100 \t Loss: 0.764\toutputscale: 0.915\tlengthscale: 0.378\tnoise: 0.693\t\n",
      "Iteration:  85/100 \t Loss: 0.770\toutputscale: 0.910\tlengthscale: 0.377\tnoise: 0.693\t\n",
      "Iteration:  86/100 \t Loss: 0.764\toutputscale: 0.907\tlengthscale: 0.377\tnoise: 0.693\t\n",
      "Iteration:  87/100 \t Loss: 0.769\toutputscale: 0.904\tlengthscale: 0.376\tnoise: 0.693\t\n",
      "Iteration:  88/100 \t Loss: 0.765\toutputscale: 0.901\tlengthscale: 0.375\tnoise: 0.693\t\n",
      "Iteration:  89/100 \t Loss: 0.764\toutputscale: 0.900\tlengthscale: 0.373\tnoise: 0.693\t\n",
      "Iteration:  90/100 \t Loss: 0.764\toutputscale: 0.900\tlengthscale: 0.371\tnoise: 0.693\t\n",
      "Iteration:  91/100 \t Loss: 0.767\toutputscale: 0.900\tlengthscale: 0.369\tnoise: 0.693\t\n",
      "Iteration:  92/100 \t Loss: 0.769\toutputscale: 0.897\tlengthscale: 0.370\tnoise: 0.693\t\n",
      "Iteration:  93/100 \t Loss: 0.769\toutputscale: 0.894\tlengthscale: 0.369\tnoise: 0.693\t\n",
      "Iteration:  94/100 \t Loss: 0.771\toutputscale: 0.890\tlengthscale: 0.369\tnoise: 0.693\t\n",
      "Iteration:  95/100 \t Loss: 0.765\toutputscale: 0.886\tlengthscale: 0.370\tnoise: 0.693\t\n",
      "Iteration:  96/100 \t Loss: 0.766\toutputscale: 0.884\tlengthscale: 0.370\tnoise: 0.693\t\n",
      "Iteration:  97/100 \t Loss: 0.768\toutputscale: 0.881\tlengthscale: 0.370\tnoise: 0.693\t\n",
      "Iteration:  98/100 \t Loss: 0.766\toutputscale: 0.878\tlengthscale: 0.372\tnoise: 0.693\t\n",
      "Iteration:  99/100 \t Loss: 0.767\toutputscale: 0.875\tlengthscale: 0.374\tnoise: 0.693\t\n",
      "Iteration: 100/100 \t Loss: 0.766\toutputscale: 0.872\tlengthscale: 0.376\tnoise: 0.693\t\n"
     ]
    }
   ],
   "source": [
    "from gpytorch import mlls\n",
    "\n",
    "model.train()\n",
    "\n",
    "optimizer = torch.optim.Adam(model.parameters(), lr=0.1)\n",
    "\n",
    "mll = mlls.ExactMarginalLogLikelihood(model.likelihood, model)\n",
    "\n",
    "training_iter = 100\n",
    "for i in range(training_iter):\n",
    "    optimizer.zero_grad()\n",
    "\n",
    "    # Training error\n",
    "    f_pred = model(train_x)\n",
    "    loss = -mll(f_pred, train_y)\n",
    "\n",
    "    with torch.no_grad():\n",
    "        # Test error\n",
    "        model.eval()\n",
    "        f_test_pred = model(test_x)\n",
    "        model.train()\n",
    "\n",
    "    # Backward pass\n",
    "    loss.backward()\n",
    "\n",
    "    # Update hyperparameters\n",
    "    optimizer.step()\n",
    "\n",
    "    print(\n",
    "        f\"Iteration: {(i + 1):3d}/{training_iter:d} \\t Loss: {loss.item():.3f}\\t\"\n",
    "        f\"outputscale: {model.covar_module.outputscale.item():.3f}\\t\"\n",
    "        f\"lengthscale: {model.covar_module.base_kernel.lengthscale.item():.3f}\\t\"\n",
    "        f\"noise: {model.likelihood.noise.item():.3f}\\t\"\n",
    "    )"
   ]
  },
  {
   "cell_type": "markdown",
   "metadata": {},
   "source": [
    "## Prediction"
   ]
  },
  {
   "cell_type": "code",
   "execution_count": 6,
   "metadata": {},
   "outputs": [],
   "source": [
    "model.eval()\n",
    "\n",
    "with torch.no_grad():\n",
    "    test_x = torch.linspace(-0.2, 1.2, 1000)\n",
    "    f_pred = model(test_x)\n",
    "    y_pred = model.likelihood(f_pred)"
   ]
  },
  {
   "cell_type": "code",
   "execution_count": 7,
   "metadata": {},
   "outputs": [
    {
     "data": {
      "image/png": "[encoded data removed]",
      "text/plain": [
       "<Figure size 640x480 with 1 Axes>"
      ]
     },
     "metadata": {},
     "output_type": "display_data"
    }
   ],
   "source": [
    "with torch.no_grad():\n",
    "    fig, ax = plt.subplots(1, 1)\n",
    "\n",
    "    f_pred_lower, f_pred_upper = f_pred.confidence_region()\n",
    "    y_pred_lower, y_pred_upper = y_pred.confidence_region()\n",
    "    ax.scatter(train_x.numpy(), train_y.numpy(), color=\"black\")\n",
    "    ax.plot(test_x.numpy(), y_pred.mean.numpy(), color=\"C0\")\n",
    "    ax.fill_between(test_x.numpy(), y_pred_lower, y_pred_upper, alpha=0.4, color=\"C0\")\n",
    "    ax.fill_between(test_x.numpy(), f_pred_lower, f_pred_upper, alpha=0.4, color=\"C0\")\n",
    "    ax.legend([\"Observed Data\", \"Mean\", \"Uncertainty\"])"
   ]
  },
  {
   "cell_type": "markdown",
   "metadata": {},
   "source": [
    "## Saving and Loading a Model"
   ]
  },
  {
   "cell_type": "code",
   "execution_count": 8,
   "metadata": {},
   "outputs": [],
   "source": [
    "import io\n",
    "\n",
    "# Save to buffer (to mock saving to file)\n",
    "buffer = io.BytesIO()\n",
    "torch.save(model, buffer)"
   ]
  },
  {
   "cell_type": "code",
   "execution_count": 9,
   "metadata": {},
   "outputs": [],
   "source": [
    "# Load from buffer\n",
    "buffer.seek(0)\n",
    "model_loaded = torch.load(buffer)"
   ]
  },
  {
   "cell_type": "code",
   "execution_count": 10,
   "metadata": {},
   "outputs": [],
   "source": [
    "model_loaded.eval()\n",
    "\n",
    "with torch.no_grad():\n",
    "    assert torch.equal(model(test_x).mean, model_loaded(test_x).mean)\n",
    "    assert torch.equal(model(test_x).covariance_matrix, model_loaded(test_x).covariance_matrix)"
   ]
  },
  {
   "cell_type": "markdown",
   "metadata": {},
   "source": [
    "## Cached quantities"
   ]
  },
  {
   "cell_type": "markdown",
   "metadata": {},
   "source": [
    "### Cached linear operators as buffers"
   ]
  },
  {
   "cell_type": "code",
   "execution_count": 11,
   "metadata": {},
   "outputs": [
    {
     "data": {
      "text/plain": [
       "<linear_operator.operators.matmul_linear_operator.MatmulLinearOperator at 0x16d249190>"
      ]
     },
     "execution_count": 11,
     "metadata": {},
     "output_type": "execute_result"
    }
   ],
   "source": [
    "from linear_operator import operators\n",
    "\n",
    "model.approximation_strategy.register_cached_quantity(\n",
    "    \"test_cache\",\n",
    "    operators.MatmulLinearOperator(\n",
    "        operators.DenseLinearOperator(torch.eye(5)),\n",
    "        operators.DenseLinearOperator(torch.eye(5)),\n",
    "    ),\n",
    ")\n",
    "model.approximation_strategy.test_cache"
   ]
  },
  {
   "cell_type": "code",
   "execution_count": 12,
   "metadata": {},
   "outputs": [
    {
     "data": {
      "text/plain": [
       "<linear_operator.operators.matmul_linear_operator.MatmulLinearOperator at 0x16d249190>"
      ]
     },
     "execution_count": 12,
     "metadata": {},
     "output_type": "execute_result"
    }
   ],
   "source": [
    "model.approximation_strategy._buffers[\"test_cache\"]"
   ]
  },
  {
   "cell_type": "markdown",
   "metadata": {},
   "source": [
    "### Caches with gradients"
   ]
  },
  {
   "cell_type": "code",
   "execution_count": 13,
   "metadata": {},
   "outputs": [
    {
     "data": {
      "text/plain": [
       "True"
      ]
     },
     "execution_count": 13,
     "metadata": {},
     "output_type": "execute_result"
    }
   ],
   "source": [
    "model.approximation_strategy.test_cache = operators.MatmulLinearOperator(\n",
    "    operators.DenseLinearOperator(torch.eye(5)),\n",
    "    operators.DenseLinearOperator(torch.eye(5)),\n",
    ").requires_grad_(True)\n",
    "\n",
    "model.approximation_strategy.test_cache.requires_grad"
   ]
  },
  {
   "cell_type": "code",
   "execution_count": 14,
   "metadata": {},
   "outputs": [
    {
     "data": {
      "text/plain": [
       "CholeskyGP(\n",
       "  (likelihood): GaussianLikelihood(\n",
       "    (noise_covar): HomoskedasticNoise(\n",
       "      (raw_noise_constraint): GreaterThan(1.000E-04)\n",
       "    )\n",
       "  )\n",
       "  (approximation_strategy): Cholesky()\n",
       "  (mean_module): ZeroMean()\n",
       "  (covar_module): ScaleKernel(\n",
       "    (base_kernel): MaternKernel(\n",
       "      (raw_lengthscale_constraint): Positive()\n",
       "    )\n",
       "    (raw_outputscale_constraint): Positive()\n",
       "  )\n",
       ")"
      ]
     },
     "execution_count": 14,
     "metadata": {},
     "output_type": "execute_result"
    }
   ],
   "source": [
    "model"
   ]
  },
  {
   "cell_type": "code",
   "execution_count": null,
   "metadata": {},
   "outputs": [],
   "source": []
  }
 ],
 "metadata": {
  "kernelspec": {
   "display_name": "computation-aware-gps",
   "language": "python",
   "name": "python3"
  },
  "language_info": {
   "codemirror_mode": {
    "name": "ipython",
    "version": 3
   },
   "file_extension": ".py",
   "mimetype": "text/x-python",
   "name": "python",
   "nbconvert_exporter": "python",
   "pygments_lexer": "ipython3",
   "version": "3.11.9"
  }
 },
 "nbformat": 4,
 "nbformat_minor": 2
}
