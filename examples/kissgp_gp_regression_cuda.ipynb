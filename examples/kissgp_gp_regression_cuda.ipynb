{
 "cells": [
  {
   "cell_type": "code",
   "execution_count": 1,
   "metadata": {},
   "outputs": [],
   "source": [
    "import math\n",
    "import torch\n",
    "import gpytorch\n",
    "from matplotlib import pyplot as plt\n",
    "from torch import nn, optim\n",
    "from torch.autograd import Variable\n",
    "from gpytorch.kernels import RBFKernel, GridInterpolationKernel\n",
    "from gpytorch.means import ConstantMean\n",
    "from gpytorch.likelihoods import GaussianLikelihood\n",
    "from gpytorch.random_variables import GaussianRandomVariable\n",
    "\n",
    "gpytorch.functions.use_toeplitz = False\n",
    "gpytorch.functions.fast_pred_var = True\n",
    "\n",
    "%matplotlib inline"
   ]
  },
  {
   "cell_type": "code",
   "execution_count": 2,
   "metadata": {},
   "outputs": [],
   "source": [
    "train_x = Variable(torch.linspace(0, 1, 1000))\n",
    "train_y = Variable(torch.sin(train_x.data * (4 * math.pi)) + torch.randn(train_x.size()) * 0.2)\n",
    "train_x = train_x.cuda()\n",
    "train_y = train_y.cuda()"
   ]
  },
  {
   "cell_type": "code",
   "execution_count": 3,
   "metadata": {},
   "outputs": [],
   "source": [
    "class GPRegressionModel(gpytorch.models.ExactGP):\n",
    "    def __init__(self, train_x, train_y, likelihood):\n",
    "        super(GPRegressionModel, self).__init__(train_x, train_y, likelihood)\n",
    "        self.mean_module = ConstantMean(constant_bounds=[-1e-5,1e-5])\n",
    "        self.base_covar_module = RBFKernel(log_lengthscale_bounds=(-5, 6))\n",
    "        self.covar_module = GridInterpolationKernel(self.base_covar_module, grid_size=400,\n",
    "                                                            grid_bounds=[(0, 1)])\n",
    "        self.register_parameter('log_outputscale', nn.Parameter(torch.Tensor([0])), bounds=(-5,6))\n",
    "        \n",
    "    def forward(self,x):\n",
    "        mean_x = self.mean_module(x)\n",
    "        covar_x = self.covar_module(x)\n",
    "        covar_x = covar_x.mul(self.log_outputscale.exp())\n",
    "        return GaussianRandomVariable(mean_x, covar_x)\n",
    "\n",
    "\n",
    "likelihood = GaussianLikelihood().cuda()\n",
    "model = GPRegressionModel(train_x.data, train_y.data, likelihood).cuda()"
   ]
  },
  {
   "cell_type": "code",
   "execution_count": 4,
   "metadata": {
    "scrolled": false
   },
   "outputs": [
    {
     "name": "stdout",
     "output_type": "stream",
     "text": [
      "Iter 1/30 - Loss: 1.149\n",
      "Iter 2/30 - Loss: 1.092\n",
      "Iter 3/30 - Loss: 1.041\n",
      "Iter 4/30 - Loss: 1.000\n",
      "Iter 5/30 - Loss: 0.971\n",
      "Iter 6/30 - Loss: 0.942\n",
      "Iter 7/30 - Loss: 0.935\n",
      "Iter 8/30 - Loss: 0.920\n",
      "Iter 9/30 - Loss: 0.905\n",
      "Iter 10/30 - Loss: 0.872\n",
      "Iter 11/30 - Loss: 0.825\n",
      "Iter 12/30 - Loss: 0.764\n",
      "Iter 13/30 - Loss: 0.688\n",
      "Iter 14/30 - Loss: 0.568\n",
      "Iter 15/30 - Loss: 0.450\n",
      "Iter 16/30 - Loss: 0.327\n",
      "Iter 17/30 - Loss: 0.210\n",
      "Iter 18/30 - Loss: 0.104\n",
      "Iter 19/30 - Loss: 0.018\n",
      "Iter 20/30 - Loss: -0.053\n",
      "Iter 21/30 - Loss: -0.109\n",
      "Iter 22/30 - Loss: -0.146\n",
      "Iter 23/30 - Loss: -0.151\n",
      "Iter 24/30 - Loss: -0.139\n",
      "Iter 25/30 - Loss: -0.125\n",
      "Iter 26/30 - Loss: -0.112\n",
      "Iter 27/30 - Loss: -0.108\n",
      "Iter 28/30 - Loss: -0.122\n",
      "Iter 29/30 - Loss: -0.142\n",
      "Iter 30/30 - Loss: -0.153\n",
      "CPU times: user 1.34 s, sys: 120 ms, total: 1.46 s\n",
      "Wall time: 1.46 s\n"
     ]
    }
   ],
   "source": [
    "# Optimize the model\n",
    "model.train()\n",
    "likelihood.train()\n",
    "\n",
    "optimizer = optim.Adam(list(model.parameters()) + list(likelihood.parameters()), lr=0.1)\n",
    "optimizer.n_iter = 0\n",
    "\n",
    "def train():\n",
    "    for i in range(30):\n",
    "        optimizer.zero_grad()\n",
    "        output = model(train_x)\n",
    "        loss = -model.marginal_log_likelihood(likelihood, output, train_y)\n",
    "        loss.backward()\n",
    "        optimizer.n_iter += 1\n",
    "        print('Iter %d/30 - Loss: %.3f' % (i + 1, loss.data[0]))\n",
    "        optimizer.step()\n",
    "%time train()"
   ]
  },
  {
   "cell_type": "code",
   "execution_count": 5,
   "metadata": {},
   "outputs": [
    {
     "data": {
      "image/png": "[encoded data removed]",
      "text/plain": [
       "<matplotlib.figure.Figure at 0x7f7a50044d10>"
      ]
     },
     "metadata": {},
     "output_type": "display_data"
    }
   ],
   "source": [
    "model.eval()\n",
    "likelihood.eval()\n",
    "\n",
    "f, observed_ax = plt.subplots(1, 1, figsize=(4, 3))\n",
    "test_x = Variable(torch.linspace(0, 1, 51)).cuda()\n",
    "observed_pred = likelihood(model(test_x))\n",
    "\n",
    "def ax_plot(ax, rand_var, title):\n",
    "    lower, upper = rand_var.confidence_region()\n",
    "    ax.plot(train_x.data.cpu().numpy(), train_y.data.cpu().numpy(), 'k*')\n",
    "    ax.plot(test_x.data.cpu().numpy(), rand_var.mean().data.cpu().numpy(), 'b')\n",
    "    ax.fill_between(test_x.data.cpu().numpy(), lower.data.cpu().numpy(), upper.data.cpu().numpy(), alpha=0.5)\n",
    "    ax.set_ylim([-3, 3])\n",
    "    ax.legend(['Observed Data', 'Mean', 'Confidence'])\n",
    "    ax.set_title(title)\n",
    "\n",
    "ax_plot(observed_ax, observed_pred, 'Observed Values (Likelihood)')"
   ]
  },
  {
   "cell_type": "code",
   "execution_count": null,
   "metadata": {},
   "outputs": [],
   "source": []
  }
 ],
 "metadata": {
  "anaconda-cloud": {},
  "kernelspec": {
   "display_name": "Python 2",
   "language": "python",
   "name": "python2"
  },
  "language_info": {
   "codemirror_mode": {
    "name": "ipython",
    "version": 2
   },
   "file_extension": ".py",
   "mimetype": "text/x-python",
   "name": "python",
   "nbconvert_exporter": "python",
   "pygments_lexer": "ipython2",
   "version": "2.7.14"
  }
 },
 "nbformat": 4,
 "nbformat_minor": 2
}
