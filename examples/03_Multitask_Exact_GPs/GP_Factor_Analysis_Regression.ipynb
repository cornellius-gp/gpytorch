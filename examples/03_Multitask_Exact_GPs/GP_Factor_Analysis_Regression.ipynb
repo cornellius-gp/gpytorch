{
 "cells": [
  {
   "cell_type": "markdown",
   "id": "transparent-burlington",
   "metadata": {},
   "source": [
    "# Gaussian Process Factor Analysis Regression\n",
    "\n",
    "## Introduction\n",
    "\n",
    "Gaussian Process Factor Analysis (GPFA), introduced in [this paper](https://papers.nips.cc/paper/2008/file/ad972f10e0800b49d76fed33a21f6698-Paper.pdf) learns underlying latent trajectories for the outputs while smoothing the data. A more [recent paper](https://papers.nips.cc/paper/2020/file/6d79e030371e47e6231337805a7a2685-Paper.pdf) suggests scalable implementations for GPFA (in the [supplement](https://papers.nips.cc/paper/2020/file/6d79e030371e47e6231337805a7a2685-Supplemental.pdf) ) as well as extending GPFA with kernels for dynamical systems. The implementation in this notebook is developed with this GPFA for Dynamical Systems (GPFADS) extension in mind. \n",
    "\n",
    "GPFA(DS) are useful when you want to simultaneous smooth and reduce the dimensionality of neural data. \n",
    "\n",
    "Given timepoints $t$, $M$ latent variables $x$ with underlying kernels $k_1, ...k_M$, and observations (neural data) $y$ from $N$ neurons, the observations in GPFA are are assumed to arise as follows:\n",
    "- The latents variables are independent of eachother:\n",
    "$$  k[x_i(t),x_i(t')] = k_i(t,t')\n",
    "$$\n",
    "\n",
    "- We write the above in a vector of latents as:\n",
    "$$k[\\mathbf{x}(t), \\mathbf{x}(t')] = \\sum_{i=1}^{M}k_i(t,t')\\otimes \\mathbf{e_i}\n",
    "$$\n",
    "\n",
    "- We combine the latents into observations as follows:\n",
    "$$k[\\mathbf{y}_i(t), \\mathbf{y}_i(t')] = (C) k( \\mathbf{x}(t) , \\mathbf{x}(t'))(C^T)\n",
    "$$\n",
    "\n",
    "where $k_i$ is a standard kernel (e.g. RBF) that operates on the inputs.\n",
    "$\\mathbf{e}_i$ is a unit vector of length $M$ with nonzero element at index $i$, $\\otimes$ is the Kronecker product, and $C\\in NxM$ is the mixing matrix, indicating how latents are combined into observations."
   ]
  },
  {
   "cell_type": "code",
   "execution_count": 1,
   "id": "working-connecticut",
   "metadata": {},
   "outputs": [],
   "source": [
    "import math\n",
    "import torch\n",
    "import gpytorch\n",
    "import numpy as np\n",
    "from matplotlib import pyplot as plt\n",
    "\n",
    "%matplotlib inline\n",
    "%load_ext autoreload\n",
    "%autoreload 2"
   ]
  },
  {
   "cell_type": "markdown",
   "id": "persistent-marks",
   "metadata": {},
   "source": [
    "### Set up training data\n",
    "In the next cell, we set up the training data for this example. We'll be using 1000 regularly spaced points on [0,100], our data will be drawn from the generative model assumed in GPFA."
   ]
  },
  {
   "cell_type": "code",
   "execution_count": 2,
   "id": "finite-creativity",
   "metadata": {},
   "outputs": [],
   "source": [
    "def generate_GPFA_Data(seed=0, n_timepoints=100, n_latents=2, n_outputs=50, length_scales = [.01,10],start_time=-5, end_time = 5,zero_mean = True):\n",
    "    torch.manual_seed(seed)\n",
    "    np.random.seed(seed)\n",
    "    timepoints = torch.linspace(start_time, end_time, n_timepoints)\n",
    "    tau = torch.tensor(length_scales)\n",
    "    C = torch.tensor(np.random.normal(scale=1./np.sqrt(n_latents),size=(n_outputs,n_latents))).float()\n",
    "    if zero_mean:\n",
    "        d = torch.zeros(size=(n_outputs,1)).float()\n",
    "    else:\n",
    "        d = torch.tensor(np.random.uniform(size=(n_outputs,1))).float()\n",
    "    R = torch.tensor(np.diag(np.random.uniform(size=(n_outputs,), low=.1))).float()\n",
    "    kernels = [gpytorch.kernels.RBFKernel() for t in tau]\n",
    "    for t in range(len(tau)):\n",
    "        kernels[t].lengthscale = tau[t]\n",
    "\n",
    "    xs = torch.stack([\n",
    "        gpytorch.distributions.MultivariateNormal(\n",
    "            torch.zeros(n_timepoints), \n",
    "            k(timepoints,timepoints) \n",
    "        ).sample()\n",
    "        for k in kernels])\n",
    "\n",
    "    ys = gpytorch.distributions.MultivariateNormal((C@xs + d).T, R).sample()\n",
    "    \n",
    "    xs = xs.T.contiguous()\n",
    "    \n",
    "    return timepoints, tau, C, d, R, kernels, xs, ys"
   ]
  },
  {
   "cell_type": "code",
   "execution_count": 3,
   "id": "major-chapel",
   "metadata": {},
   "outputs": [
    {
     "name": "stderr",
     "output_type": "stream",
     "text": [
      "/scratch/jts58/devenv/lib/python3.7/site-packages/gpytorch-1.4.0-py3.7.egg/gpytorch/utils/cholesky.py:51: NumericalWarning: A not p.d., added jitter of 1.0e-05 to the diagonal\n",
      "  warnings.warn(f\"A not p.d., added jitter of {jitter_new:.1e} to the diagonal\", NumericalWarning)\n"
     ]
    }
   ],
   "source": [
    "n_latents=2\n",
    "n_outputs=20\n",
    "n_timepoints = 100\n",
    "length_scales = [.1,.2]\n",
    "start_time = 0\n",
    "end_time = 1\n",
    "train_x, tau, C, d, R, kernels, xs, train_y = generate_GPFA_Data(\n",
    "    seed=10, n_timepoints=n_timepoints, n_latents=n_latents, n_outputs=n_outputs, \n",
    "    length_scales = length_scales,start_time = start_time, end_time = end_time, zero_mean =True)"
   ]
  },
  {
   "cell_type": "markdown",
   "id": "continuous-ending",
   "metadata": {},
   "source": [
    "## Define a multitask model\n",
    "\n",
    "The model should be somewhat similar to the `ExactGP` model in the [simple regression example](../01_Exact_GPs/Simple_GP_Regression.ipynb).\n",
    "The differences:\n",
    "\n",
    "1. We're going to wrap ConstantMean with a `MultitaskMean`. This makes sure we have a mean function for each output dimension.\n",
    "2. Rather than just using a RBFKernel, we're using that in conjunction with a `GPFAKernel`. This gives us the covariance function described in the introduction.\n",
    "3. We're using a `MultitaskMultivariateNormal` and `MultitaskGaussianLikelihood`. This allows us to deal with the predictions/outputs in a nice way. For example, when we call MultitaskMultivariateNormal.mean, we get a `T x N` matrix back (where `T` is the number of timepoints).\n",
    "\n",
    "\n",
    "- [ ] TODO: verify below\n",
    "\n",
    "You may also notice that we don't use a ScaleKernel, since the GPFAKernel will do some scaling for us. (This way we're not overparameterizing the kernel.)"
   ]
  },
  {
   "cell_type": "code",
   "execution_count": 4,
   "id": "nearby-rogers",
   "metadata": {},
   "outputs": [],
   "source": [
    "from gpytorch.kernels import GPFAKernel\n",
    "class GPFAModel(gpytorch.models.ExactGP):\n",
    "    def __init__(self, train_x, train_y, likelihood, latent_covar_modules,  num_latents, num_obs):\n",
    "        #TODO: infer number latents / obs from train_x / train_y?\n",
    "        super(GPFAModel, self).__init__(train_x, train_y, likelihood)\n",
    "        \n",
    "        self.num_latents = num_latents\n",
    "        self.num_obs = num_obs\n",
    "        \n",
    "        self.mean_module = gpytorch.means.MultitaskMean(\n",
    "            gpytorch.means.ConstantMean(), num_tasks=num_obs\n",
    "        )\n",
    "        self.covar_module = GPFAKernel(latent_covar_modules,num_latents, num_obs)\n",
    "        \n",
    "    def forward(self, x):\n",
    "        return gpytorch.distributions.MultitaskMultivariateNormal(self.mean_module(x), self.covar_module(x))\n"
   ]
  },
  {
   "cell_type": "code",
   "execution_count": 5,
   "id": "former-enemy",
   "metadata": {},
   "outputs": [],
   "source": [
    "likelihood = gpytorch.likelihoods.MultitaskGaussianLikelihood(num_tasks=n_outputs)\n",
    "kernels = [gpytorch.kernels.RBFKernel() for t in range(n_latents)]\n",
    "model=GPFAModel(train_x,train_y, likelihood,  kernels, n_latents, n_outputs)"
   ]
  },
  {
   "cell_type": "markdown",
   "id": "amended-marking",
   "metadata": {},
   "source": [
    "- [ ] TODO: make num obs / outputs consistent wording"
   ]
  },
  {
   "cell_type": "markdown",
   "id": "seasonal-biodiversity",
   "metadata": {},
   "source": [
    "### Train the model hyperparameters"
   ]
  },
  {
   "cell_type": "code",
   "execution_count": 15,
   "id": "incorporate-windows",
   "metadata": {},
   "outputs": [
    {
     "name": "stderr",
     "output_type": "stream",
     "text": [
      "LinAlg (Verbose) - DEBUG - Running Cholesky on a matrix of size torch.Size([2000, 2000]).\n",
      "LinAlg (Verbose) - DEBUG - Running Cholesky on a matrix of size torch.Size([2000, 2000]).\n"
     ]
    },
    {
     "name": "stdout",
     "output_type": "stream",
     "text": [
      "Iter 1/500 - Loss: 117.796\n"
     ]
    },
    {
     "name": "stderr",
     "output_type": "stream",
     "text": [
      "LinAlg (Verbose) - DEBUG - Running Cholesky on a matrix of size torch.Size([2000, 2000]).\n"
     ]
    },
    {
     "name": "stdout",
     "output_type": "stream",
     "text": [
      "Iter 2/500 - Loss: 118.443\n"
     ]
    },
    {
     "name": "stderr",
     "output_type": "stream",
     "text": [
      "LinAlg (Verbose) - DEBUG - Running Cholesky on a matrix of size torch.Size([2000, 2000]).\n"
     ]
    },
    {
     "name": "stdout",
     "output_type": "stream",
     "text": [
      "Iter 3/500 - Loss: 117.143\n"
     ]
    },
    {
     "name": "stderr",
     "output_type": "stream",
     "text": [
      "LinAlg (Verbose) - DEBUG - Running Cholesky on a matrix of size torch.Size([2000, 2000]).\n"
     ]
    },
    {
     "name": "stdout",
     "output_type": "stream",
     "text": [
      "Iter 4/500 - Loss: 117.074\n"
     ]
    },
    {
     "name": "stderr",
     "output_type": "stream",
     "text": [
      "LinAlg (Verbose) - DEBUG - Running Cholesky on a matrix of size torch.Size([2000, 2000]).\n"
     ]
    },
    {
     "name": "stdout",
     "output_type": "stream",
     "text": [
      "Iter 5/500 - Loss: 117.028\n"
     ]
    },
    {
     "name": "stderr",
     "output_type": "stream",
     "text": [
      "LinAlg (Verbose) - DEBUG - Running Cholesky on a matrix of size torch.Size([2000, 2000]).\n"
     ]
    },
    {
     "name": "stdout",
     "output_type": "stream",
     "text": [
      "Iter 6/500 - Loss: 116.458\n"
     ]
    },
    {
     "name": "stderr",
     "output_type": "stream",
     "text": [
      "LinAlg (Verbose) - DEBUG - Running Cholesky on a matrix of size torch.Size([2000, 2000]).\n"
     ]
    },
    {
     "name": "stdout",
     "output_type": "stream",
     "text": [
      "Iter 7/500 - Loss: 115.895\n"
     ]
    },
    {
     "name": "stderr",
     "output_type": "stream",
     "text": [
      "LinAlg (Verbose) - DEBUG - Running Cholesky on a matrix of size torch.Size([2000, 2000]).\n"
     ]
    },
    {
     "name": "stdout",
     "output_type": "stream",
     "text": [
      "Iter 8/500 - Loss: 115.610\n"
     ]
    },
    {
     "name": "stderr",
     "output_type": "stream",
     "text": [
      "LinAlg (Verbose) - DEBUG - Running Cholesky on a matrix of size torch.Size([2000, 2000]).\n"
     ]
    },
    {
     "name": "stdout",
     "output_type": "stream",
     "text": [
      "Iter 9/500 - Loss: 115.494\n"
     ]
    },
    {
     "name": "stderr",
     "output_type": "stream",
     "text": [
      "LinAlg (Verbose) - DEBUG - Running Cholesky on a matrix of size torch.Size([2000, 2000]).\n"
     ]
    },
    {
     "name": "stdout",
     "output_type": "stream",
     "text": [
      "Iter 10/500 - Loss: 115.295\n"
     ]
    },
    {
     "name": "stderr",
     "output_type": "stream",
     "text": [
      "LinAlg (Verbose) - DEBUG - Running Cholesky on a matrix of size torch.Size([2000, 2000]).\n"
     ]
    },
    {
     "name": "stdout",
     "output_type": "stream",
     "text": [
      "Iter 11/500 - Loss: 114.940\n"
     ]
    },
    {
     "name": "stderr",
     "output_type": "stream",
     "text": [
      "LinAlg (Verbose) - DEBUG - Running Cholesky on a matrix of size torch.Size([2000, 2000]).\n"
     ]
    },
    {
     "name": "stdout",
     "output_type": "stream",
     "text": [
      "Iter 12/500 - Loss: 114.575\n"
     ]
    },
    {
     "name": "stderr",
     "output_type": "stream",
     "text": [
      "LinAlg (Verbose) - DEBUG - Running Cholesky on a matrix of size torch.Size([2000, 2000]).\n"
     ]
    },
    {
     "name": "stdout",
     "output_type": "stream",
     "text": [
      "Iter 13/500 - Loss: 114.316\n"
     ]
    },
    {
     "name": "stderr",
     "output_type": "stream",
     "text": [
      "LinAlg (Verbose) - DEBUG - Running Cholesky on a matrix of size torch.Size([2000, 2000]).\n"
     ]
    },
    {
     "name": "stdout",
     "output_type": "stream",
     "text": [
      "Iter 14/500 - Loss: 114.153\n"
     ]
    },
    {
     "name": "stderr",
     "output_type": "stream",
     "text": [
      "LinAlg (Verbose) - DEBUG - Running Cholesky on a matrix of size torch.Size([2000, 2000]).\n"
     ]
    },
    {
     "name": "stdout",
     "output_type": "stream",
     "text": [
      "Iter 15/500 - Loss: 113.987\n"
     ]
    },
    {
     "name": "stderr",
     "output_type": "stream",
     "text": [
      "LinAlg (Verbose) - DEBUG - Running Cholesky on a matrix of size torch.Size([2000, 2000]).\n"
     ]
    },
    {
     "name": "stdout",
     "output_type": "stream",
     "text": [
      "Iter 16/500 - Loss: 113.764\n"
     ]
    },
    {
     "name": "stderr",
     "output_type": "stream",
     "text": [
      "LinAlg (Verbose) - DEBUG - Running Cholesky on a matrix of size torch.Size([2000, 2000]).\n"
     ]
    },
    {
     "name": "stdout",
     "output_type": "stream",
     "text": [
      "Iter 17/500 - Loss: 113.511\n"
     ]
    },
    {
     "name": "stderr",
     "output_type": "stream",
     "text": [
      "LinAlg (Verbose) - DEBUG - Running Cholesky on a matrix of size torch.Size([2000, 2000]).\n"
     ]
    },
    {
     "name": "stdout",
     "output_type": "stream",
     "text": [
      "Iter 18/500 - Loss: 113.288\n"
     ]
    },
    {
     "name": "stderr",
     "output_type": "stream",
     "text": [
      "LinAlg (Verbose) - DEBUG - Running Cholesky on a matrix of size torch.Size([2000, 2000]).\n"
     ]
    },
    {
     "name": "stdout",
     "output_type": "stream",
     "text": [
      "Iter 19/500 - Loss: 113.117\n"
     ]
    },
    {
     "name": "stderr",
     "output_type": "stream",
     "text": [
      "LinAlg (Verbose) - DEBUG - Running Cholesky on a matrix of size torch.Size([2000, 2000]).\n"
     ]
    },
    {
     "name": "stdout",
     "output_type": "stream",
     "text": [
      "Iter 20/500 - Loss: 112.968\n"
     ]
    },
    {
     "name": "stderr",
     "output_type": "stream",
     "text": [
      "LinAlg (Verbose) - DEBUG - Running Cholesky on a matrix of size torch.Size([2000, 2000]).\n"
     ]
    },
    {
     "name": "stdout",
     "output_type": "stream",
     "text": [
      "Iter 21/500 - Loss: 112.808\n"
     ]
    },
    {
     "name": "stderr",
     "output_type": "stream",
     "text": [
      "LinAlg (Verbose) - DEBUG - Running Cholesky on a matrix of size torch.Size([2000, 2000]).\n"
     ]
    },
    {
     "name": "stdout",
     "output_type": "stream",
     "text": [
      "Iter 22/500 - Loss: 112.649\n"
     ]
    },
    {
     "name": "stderr",
     "output_type": "stream",
     "text": [
      "LinAlg (Verbose) - DEBUG - Running Cholesky on a matrix of size torch.Size([2000, 2000]).\n"
     ]
    },
    {
     "name": "stdout",
     "output_type": "stream",
     "text": [
      "Iter 23/500 - Loss: 112.493\n"
     ]
    },
    {
     "name": "stderr",
     "output_type": "stream",
     "text": [
      "LinAlg (Verbose) - DEBUG - Running Cholesky on a matrix of size torch.Size([2000, 2000]).\n"
     ]
    },
    {
     "name": "stdout",
     "output_type": "stream",
     "text": [
      "Iter 24/500 - Loss: 112.357\n"
     ]
    },
    {
     "name": "stderr",
     "output_type": "stream",
     "text": [
      "LinAlg (Verbose) - DEBUG - Running Cholesky on a matrix of size torch.Size([2000, 2000]).\n"
     ]
    },
    {
     "name": "stdout",
     "output_type": "stream",
     "text": [
      "Iter 25/500 - Loss: 112.238\n"
     ]
    },
    {
     "name": "stderr",
     "output_type": "stream",
     "text": [
      "LinAlg (Verbose) - DEBUG - Running Cholesky on a matrix of size torch.Size([2000, 2000]).\n"
     ]
    },
    {
     "name": "stdout",
     "output_type": "stream",
     "text": [
      "Iter 26/500 - Loss: 112.135\n"
     ]
    },
    {
     "name": "stderr",
     "output_type": "stream",
     "text": [
      "LinAlg (Verbose) - DEBUG - Running Cholesky on a matrix of size torch.Size([2000, 2000]).\n"
     ]
    },
    {
     "name": "stdout",
     "output_type": "stream",
     "text": [
      "Iter 27/500 - Loss: 112.047\n"
     ]
    },
    {
     "name": "stderr",
     "output_type": "stream",
     "text": [
      "LinAlg (Verbose) - DEBUG - Running Cholesky on a matrix of size torch.Size([2000, 2000]).\n"
     ]
    },
    {
     "name": "stdout",
     "output_type": "stream",
     "text": [
      "Iter 28/500 - Loss: 111.963\n"
     ]
    },
    {
     "name": "stderr",
     "output_type": "stream",
     "text": [
      "LinAlg (Verbose) - DEBUG - Running Cholesky on a matrix of size torch.Size([2000, 2000]).\n"
     ]
    },
    {
     "name": "stdout",
     "output_type": "stream",
     "text": [
      "Iter 29/500 - Loss: 111.882\n"
     ]
    },
    {
     "name": "stderr",
     "output_type": "stream",
     "text": [
      "LinAlg (Verbose) - DEBUG - Running Cholesky on a matrix of size torch.Size([2000, 2000]).\n"
     ]
    },
    {
     "name": "stdout",
     "output_type": "stream",
     "text": [
      "Iter 30/500 - Loss: 111.803\n"
     ]
    },
    {
     "name": "stderr",
     "output_type": "stream",
     "text": [
      "LinAlg (Verbose) - DEBUG - Running Cholesky on a matrix of size torch.Size([2000, 2000]).\n"
     ]
    },
    {
     "name": "stdout",
     "output_type": "stream",
     "text": [
      "Iter 31/500 - Loss: 111.738\n"
     ]
    },
    {
     "name": "stderr",
     "output_type": "stream",
     "text": [
      "LinAlg (Verbose) - DEBUG - Running Cholesky on a matrix of size torch.Size([2000, 2000]).\n"
     ]
    },
    {
     "name": "stdout",
     "output_type": "stream",
     "text": [
      "Iter 32/500 - Loss: 111.685\n"
     ]
    },
    {
     "name": "stderr",
     "output_type": "stream",
     "text": [
      "LinAlg (Verbose) - DEBUG - Running Cholesky on a matrix of size torch.Size([2000, 2000]).\n"
     ]
    },
    {
     "name": "stdout",
     "output_type": "stream",
     "text": [
      "Iter 33/500 - Loss: 111.631\n"
     ]
    },
    {
     "name": "stderr",
     "output_type": "stream",
     "text": [
      "LinAlg (Verbose) - DEBUG - Running Cholesky on a matrix of size torch.Size([2000, 2000]).\n"
     ]
    },
    {
     "name": "stdout",
     "output_type": "stream",
     "text": [
      "Iter 34/500 - Loss: 111.576\n"
     ]
    },
    {
     "name": "stderr",
     "output_type": "stream",
     "text": [
      "LinAlg (Verbose) - DEBUG - Running Cholesky on a matrix of size torch.Size([2000, 2000]).\n"
     ]
    },
    {
     "name": "stdout",
     "output_type": "stream",
     "text": [
      "Iter 35/500 - Loss: 111.516\n"
     ]
    },
    {
     "name": "stderr",
     "output_type": "stream",
     "text": [
      "LinAlg (Verbose) - DEBUG - Running Cholesky on a matrix of size torch.Size([2000, 2000]).\n"
     ]
    },
    {
     "name": "stdout",
     "output_type": "stream",
     "text": [
      "Iter 36/500 - Loss: 111.463\n"
     ]
    },
    {
     "name": "stderr",
     "output_type": "stream",
     "text": [
      "LinAlg (Verbose) - DEBUG - Running Cholesky on a matrix of size torch.Size([2000, 2000]).\n"
     ]
    },
    {
     "name": "stdout",
     "output_type": "stream",
     "text": [
      "Iter 37/500 - Loss: 111.413\n"
     ]
    },
    {
     "name": "stderr",
     "output_type": "stream",
     "text": [
      "LinAlg (Verbose) - DEBUG - Running Cholesky on a matrix of size torch.Size([2000, 2000]).\n"
     ]
    },
    {
     "name": "stdout",
     "output_type": "stream",
     "text": [
      "Iter 38/500 - Loss: 111.360\n"
     ]
    },
    {
     "name": "stderr",
     "output_type": "stream",
     "text": [
      "LinAlg (Verbose) - DEBUG - Running Cholesky on a matrix of size torch.Size([2000, 2000]).\n"
     ]
    },
    {
     "name": "stdout",
     "output_type": "stream",
     "text": [
      "Iter 39/500 - Loss: 111.309\n"
     ]
    },
    {
     "name": "stderr",
     "output_type": "stream",
     "text": [
      "LinAlg (Verbose) - DEBUG - Running Cholesky on a matrix of size torch.Size([2000, 2000]).\n"
     ]
    },
    {
     "name": "stdout",
     "output_type": "stream",
     "text": [
      "Iter 40/500 - Loss: 111.253\n"
     ]
    },
    {
     "name": "stderr",
     "output_type": "stream",
     "text": [
      "LinAlg (Verbose) - DEBUG - Running Cholesky on a matrix of size torch.Size([2000, 2000]).\n"
     ]
    },
    {
     "name": "stdout",
     "output_type": "stream",
     "text": [
      "Iter 41/500 - Loss: 111.201\n"
     ]
    },
    {
     "name": "stderr",
     "output_type": "stream",
     "text": [
      "LinAlg (Verbose) - DEBUG - Running Cholesky on a matrix of size torch.Size([2000, 2000]).\n"
     ]
    },
    {
     "name": "stdout",
     "output_type": "stream",
     "text": [
      "Iter 42/500 - Loss: 111.147\n"
     ]
    },
    {
     "name": "stderr",
     "output_type": "stream",
     "text": [
      "LinAlg (Verbose) - DEBUG - Running Cholesky on a matrix of size torch.Size([2000, 2000]).\n"
     ]
    },
    {
     "name": "stdout",
     "output_type": "stream",
     "text": [
      "Iter 43/500 - Loss: 111.090\n"
     ]
    },
    {
     "name": "stderr",
     "output_type": "stream",
     "text": [
      "LinAlg (Verbose) - DEBUG - Running Cholesky on a matrix of size torch.Size([2000, 2000]).\n"
     ]
    },
    {
     "name": "stdout",
     "output_type": "stream",
     "text": [
      "Iter 44/500 - Loss: 111.036\n"
     ]
    },
    {
     "name": "stderr",
     "output_type": "stream",
     "text": [
      "LinAlg (Verbose) - DEBUG - Running Cholesky on a matrix of size torch.Size([2000, 2000]).\n"
     ]
    },
    {
     "name": "stdout",
     "output_type": "stream",
     "text": [
      "Iter 45/500 - Loss: 110.977\n"
     ]
    },
    {
     "name": "stderr",
     "output_type": "stream",
     "text": [
      "LinAlg (Verbose) - DEBUG - Running Cholesky on a matrix of size torch.Size([2000, 2000]).\n"
     ]
    },
    {
     "name": "stdout",
     "output_type": "stream",
     "text": [
      "Iter 46/500 - Loss: 110.918\n"
     ]
    },
    {
     "name": "stderr",
     "output_type": "stream",
     "text": [
      "LinAlg (Verbose) - DEBUG - Running Cholesky on a matrix of size torch.Size([2000, 2000]).\n"
     ]
    },
    {
     "name": "stdout",
     "output_type": "stream",
     "text": [
      "Iter 47/500 - Loss: 110.852\n"
     ]
    },
    {
     "name": "stderr",
     "output_type": "stream",
     "text": [
      "LinAlg (Verbose) - DEBUG - Running Cholesky on a matrix of size torch.Size([2000, 2000]).\n"
     ]
    },
    {
     "name": "stdout",
     "output_type": "stream",
     "text": [
      "Iter 48/500 - Loss: 110.785\n"
     ]
    },
    {
     "name": "stderr",
     "output_type": "stream",
     "text": [
      "LinAlg (Verbose) - DEBUG - Running Cholesky on a matrix of size torch.Size([2000, 2000]).\n"
     ]
    },
    {
     "name": "stdout",
     "output_type": "stream",
     "text": [
      "Iter 49/500 - Loss: 110.718\n"
     ]
    },
    {
     "name": "stderr",
     "output_type": "stream",
     "text": [
      "LinAlg (Verbose) - DEBUG - Running Cholesky on a matrix of size torch.Size([2000, 2000]).\n"
     ]
    },
    {
     "name": "stdout",
     "output_type": "stream",
     "text": [
      "Iter 50/500 - Loss: 110.649\n"
     ]
    },
    {
     "name": "stderr",
     "output_type": "stream",
     "text": [
      "LinAlg (Verbose) - DEBUG - Running Cholesky on a matrix of size torch.Size([2000, 2000]).\n"
     ]
    },
    {
     "name": "stdout",
     "output_type": "stream",
     "text": [
      "Iter 51/500 - Loss: 110.574\n"
     ]
    },
    {
     "name": "stderr",
     "output_type": "stream",
     "text": [
      "LinAlg (Verbose) - DEBUG - Running Cholesky on a matrix of size torch.Size([2000, 2000]).\n"
     ]
    },
    {
     "name": "stdout",
     "output_type": "stream",
     "text": [
      "Iter 52/500 - Loss: 110.495\n"
     ]
    },
    {
     "name": "stderr",
     "output_type": "stream",
     "text": [
      "LinAlg (Verbose) - DEBUG - Running Cholesky on a matrix of size torch.Size([2000, 2000]).\n"
     ]
    },
    {
     "name": "stdout",
     "output_type": "stream",
     "text": [
      "Iter 53/500 - Loss: 110.415\n"
     ]
    },
    {
     "name": "stderr",
     "output_type": "stream",
     "text": [
      "LinAlg (Verbose) - DEBUG - Running Cholesky on a matrix of size torch.Size([2000, 2000]).\n"
     ]
    },
    {
     "name": "stdout",
     "output_type": "stream",
     "text": [
      "Iter 54/500 - Loss: 110.336\n"
     ]
    },
    {
     "name": "stderr",
     "output_type": "stream",
     "text": [
      "LinAlg (Verbose) - DEBUG - Running Cholesky on a matrix of size torch.Size([2000, 2000]).\n"
     ]
    },
    {
     "name": "stdout",
     "output_type": "stream",
     "text": [
      "Iter 55/500 - Loss: 110.253\n"
     ]
    },
    {
     "name": "stderr",
     "output_type": "stream",
     "text": [
      "LinAlg (Verbose) - DEBUG - Running Cholesky on a matrix of size torch.Size([2000, 2000]).\n"
     ]
    },
    {
     "name": "stdout",
     "output_type": "stream",
     "text": [
      "Iter 56/500 - Loss: 110.165\n"
     ]
    },
    {
     "name": "stderr",
     "output_type": "stream",
     "text": [
      "LinAlg (Verbose) - DEBUG - Running Cholesky on a matrix of size torch.Size([2000, 2000]).\n"
     ]
    },
    {
     "name": "stdout",
     "output_type": "stream",
     "text": [
      "Iter 57/500 - Loss: 110.078\n"
     ]
    },
    {
     "name": "stderr",
     "output_type": "stream",
     "text": [
      "LinAlg (Verbose) - DEBUG - Running Cholesky on a matrix of size torch.Size([2000, 2000]).\n"
     ]
    },
    {
     "name": "stdout",
     "output_type": "stream",
     "text": [
      "Iter 58/500 - Loss: 109.989\n"
     ]
    },
    {
     "name": "stderr",
     "output_type": "stream",
     "text": [
      "LinAlg (Verbose) - DEBUG - Running Cholesky on a matrix of size torch.Size([2000, 2000]).\n"
     ]
    },
    {
     "name": "stdout",
     "output_type": "stream",
     "text": [
      "Iter 59/500 - Loss: 109.899\n"
     ]
    },
    {
     "name": "stderr",
     "output_type": "stream",
     "text": [
      "LinAlg (Verbose) - DEBUG - Running Cholesky on a matrix of size torch.Size([2000, 2000]).\n"
     ]
    },
    {
     "name": "stdout",
     "output_type": "stream",
     "text": [
      "Iter 60/500 - Loss: 109.807\n"
     ]
    },
    {
     "name": "stderr",
     "output_type": "stream",
     "text": [
      "LinAlg (Verbose) - DEBUG - Running Cholesky on a matrix of size torch.Size([2000, 2000]).\n"
     ]
    },
    {
     "name": "stdout",
     "output_type": "stream",
     "text": [
      "Iter 61/500 - Loss: 109.713\n"
     ]
    },
    {
     "name": "stderr",
     "output_type": "stream",
     "text": [
      "LinAlg (Verbose) - DEBUG - Running Cholesky on a matrix of size torch.Size([2000, 2000]).\n"
     ]
    },
    {
     "name": "stdout",
     "output_type": "stream",
     "text": [
      "Iter 62/500 - Loss: 109.618\n"
     ]
    },
    {
     "name": "stderr",
     "output_type": "stream",
     "text": [
      "LinAlg (Verbose) - DEBUG - Running Cholesky on a matrix of size torch.Size([2000, 2000]).\n"
     ]
    },
    {
     "name": "stdout",
     "output_type": "stream",
     "text": [
      "Iter 63/500 - Loss: 109.522\n"
     ]
    },
    {
     "name": "stderr",
     "output_type": "stream",
     "text": [
      "LinAlg (Verbose) - DEBUG - Running Cholesky on a matrix of size torch.Size([2000, 2000]).\n"
     ]
    },
    {
     "name": "stdout",
     "output_type": "stream",
     "text": [
      "Iter 64/500 - Loss: 109.429\n"
     ]
    },
    {
     "name": "stderr",
     "output_type": "stream",
     "text": [
      "LinAlg (Verbose) - DEBUG - Running Cholesky on a matrix of size torch.Size([2000, 2000]).\n"
     ]
    },
    {
     "name": "stdout",
     "output_type": "stream",
     "text": [
      "Iter 65/500 - Loss: 109.333\n"
     ]
    },
    {
     "name": "stderr",
     "output_type": "stream",
     "text": [
      "LinAlg (Verbose) - DEBUG - Running Cholesky on a matrix of size torch.Size([2000, 2000]).\n"
     ]
    },
    {
     "name": "stdout",
     "output_type": "stream",
     "text": [
      "Iter 66/500 - Loss: 109.237\n"
     ]
    },
    {
     "name": "stderr",
     "output_type": "stream",
     "text": [
      "LinAlg (Verbose) - DEBUG - Running Cholesky on a matrix of size torch.Size([2000, 2000]).\n"
     ]
    },
    {
     "name": "stdout",
     "output_type": "stream",
     "text": [
      "Iter 67/500 - Loss: 109.142\n"
     ]
    },
    {
     "name": "stderr",
     "output_type": "stream",
     "text": [
      "LinAlg (Verbose) - DEBUG - Running Cholesky on a matrix of size torch.Size([2000, 2000]).\n"
     ]
    },
    {
     "name": "stdout",
     "output_type": "stream",
     "text": [
      "Iter 68/500 - Loss: 109.050\n"
     ]
    },
    {
     "name": "stderr",
     "output_type": "stream",
     "text": [
      "LinAlg (Verbose) - DEBUG - Running Cholesky on a matrix of size torch.Size([2000, 2000]).\n"
     ]
    },
    {
     "name": "stdout",
     "output_type": "stream",
     "text": [
      "Iter 69/500 - Loss: 108.959\n"
     ]
    },
    {
     "name": "stderr",
     "output_type": "stream",
     "text": [
      "LinAlg (Verbose) - DEBUG - Running Cholesky on a matrix of size torch.Size([2000, 2000]).\n"
     ]
    },
    {
     "name": "stdout",
     "output_type": "stream",
     "text": [
      "Iter 70/500 - Loss: 108.867\n"
     ]
    },
    {
     "name": "stderr",
     "output_type": "stream",
     "text": [
      "LinAlg (Verbose) - DEBUG - Running Cholesky on a matrix of size torch.Size([2000, 2000]).\n"
     ]
    },
    {
     "name": "stdout",
     "output_type": "stream",
     "text": [
      "Iter 71/500 - Loss: 108.777\n"
     ]
    },
    {
     "name": "stderr",
     "output_type": "stream",
     "text": [
      "LinAlg (Verbose) - DEBUG - Running Cholesky on a matrix of size torch.Size([2000, 2000]).\n"
     ]
    },
    {
     "name": "stdout",
     "output_type": "stream",
     "text": [
      "Iter 72/500 - Loss: 108.688\n"
     ]
    },
    {
     "name": "stderr",
     "output_type": "stream",
     "text": [
      "LinAlg (Verbose) - DEBUG - Running Cholesky on a matrix of size torch.Size([2000, 2000]).\n"
     ]
    },
    {
     "name": "stdout",
     "output_type": "stream",
     "text": [
      "Iter 73/500 - Loss: 108.597\n"
     ]
    },
    {
     "name": "stderr",
     "output_type": "stream",
     "text": [
      "LinAlg (Verbose) - DEBUG - Running Cholesky on a matrix of size torch.Size([2000, 2000]).\n"
     ]
    },
    {
     "name": "stdout",
     "output_type": "stream",
     "text": [
      "Iter 74/500 - Loss: 108.508\n"
     ]
    },
    {
     "name": "stderr",
     "output_type": "stream",
     "text": [
      "LinAlg (Verbose) - DEBUG - Running Cholesky on a matrix of size torch.Size([2000, 2000]).\n"
     ]
    },
    {
     "name": "stdout",
     "output_type": "stream",
     "text": [
      "Iter 75/500 - Loss: 108.419\n"
     ]
    },
    {
     "name": "stderr",
     "output_type": "stream",
     "text": [
      "LinAlg (Verbose) - DEBUG - Running Cholesky on a matrix of size torch.Size([2000, 2000]).\n"
     ]
    },
    {
     "name": "stdout",
     "output_type": "stream",
     "text": [
      "Iter 76/500 - Loss: 108.337\n"
     ]
    },
    {
     "name": "stderr",
     "output_type": "stream",
     "text": [
      "LinAlg (Verbose) - DEBUG - Running Cholesky on a matrix of size torch.Size([2000, 2000]).\n"
     ]
    },
    {
     "name": "stdout",
     "output_type": "stream",
     "text": [
      "Iter 77/500 - Loss: 108.257\n"
     ]
    },
    {
     "name": "stderr",
     "output_type": "stream",
     "text": [
      "LinAlg (Verbose) - DEBUG - Running Cholesky on a matrix of size torch.Size([2000, 2000]).\n"
     ]
    },
    {
     "name": "stdout",
     "output_type": "stream",
     "text": [
      "Iter 78/500 - Loss: 108.179\n"
     ]
    },
    {
     "name": "stderr",
     "output_type": "stream",
     "text": [
      "LinAlg (Verbose) - DEBUG - Running Cholesky on a matrix of size torch.Size([2000, 2000]).\n"
     ]
    },
    {
     "name": "stdout",
     "output_type": "stream",
     "text": [
      "Iter 79/500 - Loss: 108.101\n"
     ]
    },
    {
     "name": "stderr",
     "output_type": "stream",
     "text": [
      "LinAlg (Verbose) - DEBUG - Running Cholesky on a matrix of size torch.Size([2000, 2000]).\n"
     ]
    },
    {
     "name": "stdout",
     "output_type": "stream",
     "text": [
      "Iter 80/500 - Loss: 108.020\n"
     ]
    },
    {
     "name": "stderr",
     "output_type": "stream",
     "text": [
      "LinAlg (Verbose) - DEBUG - Running Cholesky on a matrix of size torch.Size([2000, 2000]).\n"
     ]
    },
    {
     "name": "stdout",
     "output_type": "stream",
     "text": [
      "Iter 81/500 - Loss: 107.945\n"
     ]
    },
    {
     "name": "stderr",
     "output_type": "stream",
     "text": [
      "LinAlg (Verbose) - DEBUG - Running Cholesky on a matrix of size torch.Size([2000, 2000]).\n"
     ]
    },
    {
     "name": "stdout",
     "output_type": "stream",
     "text": [
      "Iter 82/500 - Loss: 107.869\n"
     ]
    },
    {
     "name": "stderr",
     "output_type": "stream",
     "text": [
      "LinAlg (Verbose) - DEBUG - Running Cholesky on a matrix of size torch.Size([2000, 2000]).\n"
     ]
    },
    {
     "name": "stdout",
     "output_type": "stream",
     "text": [
      "Iter 83/500 - Loss: 107.802\n"
     ]
    },
    {
     "name": "stderr",
     "output_type": "stream",
     "text": [
      "LinAlg (Verbose) - DEBUG - Running Cholesky on a matrix of size torch.Size([2000, 2000]).\n"
     ]
    },
    {
     "name": "stdout",
     "output_type": "stream",
     "text": [
      "Iter 84/500 - Loss: 107.734\n"
     ]
    },
    {
     "name": "stderr",
     "output_type": "stream",
     "text": [
      "LinAlg (Verbose) - DEBUG - Running Cholesky on a matrix of size torch.Size([2000, 2000]).\n"
     ]
    },
    {
     "name": "stdout",
     "output_type": "stream",
     "text": [
      "Iter 85/500 - Loss: 107.665\n"
     ]
    },
    {
     "name": "stderr",
     "output_type": "stream",
     "text": [
      "LinAlg (Verbose) - DEBUG - Running Cholesky on a matrix of size torch.Size([2000, 2000]).\n"
     ]
    },
    {
     "name": "stdout",
     "output_type": "stream",
     "text": [
      "Iter 86/500 - Loss: 107.599\n"
     ]
    },
    {
     "name": "stderr",
     "output_type": "stream",
     "text": [
      "LinAlg (Verbose) - DEBUG - Running Cholesky on a matrix of size torch.Size([2000, 2000]).\n"
     ]
    },
    {
     "name": "stdout",
     "output_type": "stream",
     "text": [
      "Iter 87/500 - Loss: 107.536\n"
     ]
    },
    {
     "name": "stderr",
     "output_type": "stream",
     "text": [
      "LinAlg (Verbose) - DEBUG - Running Cholesky on a matrix of size torch.Size([2000, 2000]).\n"
     ]
    },
    {
     "name": "stdout",
     "output_type": "stream",
     "text": [
      "Iter 88/500 - Loss: 107.475\n"
     ]
    },
    {
     "name": "stderr",
     "output_type": "stream",
     "text": [
      "LinAlg (Verbose) - DEBUG - Running Cholesky on a matrix of size torch.Size([2000, 2000]).\n"
     ]
    },
    {
     "name": "stdout",
     "output_type": "stream",
     "text": [
      "Iter 89/500 - Loss: 107.418\n"
     ]
    },
    {
     "name": "stderr",
     "output_type": "stream",
     "text": [
      "LinAlg (Verbose) - DEBUG - Running Cholesky on a matrix of size torch.Size([2000, 2000]).\n"
     ]
    },
    {
     "name": "stdout",
     "output_type": "stream",
     "text": [
      "Iter 90/500 - Loss: 107.360\n"
     ]
    },
    {
     "name": "stderr",
     "output_type": "stream",
     "text": [
      "LinAlg (Verbose) - DEBUG - Running Cholesky on a matrix of size torch.Size([2000, 2000]).\n"
     ]
    },
    {
     "name": "stdout",
     "output_type": "stream",
     "text": [
      "Iter 91/500 - Loss: 107.306\n"
     ]
    },
    {
     "name": "stderr",
     "output_type": "stream",
     "text": [
      "LinAlg (Verbose) - DEBUG - Running Cholesky on a matrix of size torch.Size([2000, 2000]).\n"
     ]
    },
    {
     "name": "stdout",
     "output_type": "stream",
     "text": [
      "Iter 92/500 - Loss: 107.252\n"
     ]
    },
    {
     "name": "stderr",
     "output_type": "stream",
     "text": [
      "LinAlg (Verbose) - DEBUG - Running Cholesky on a matrix of size torch.Size([2000, 2000]).\n"
     ]
    },
    {
     "name": "stdout",
     "output_type": "stream",
     "text": [
      "Iter 93/500 - Loss: 107.200\n"
     ]
    },
    {
     "name": "stderr",
     "output_type": "stream",
     "text": [
      "LinAlg (Verbose) - DEBUG - Running Cholesky on a matrix of size torch.Size([2000, 2000]).\n"
     ]
    },
    {
     "name": "stdout",
     "output_type": "stream",
     "text": [
      "Iter 94/500 - Loss: 107.152\n"
     ]
    },
    {
     "name": "stderr",
     "output_type": "stream",
     "text": [
      "LinAlg (Verbose) - DEBUG - Running Cholesky on a matrix of size torch.Size([2000, 2000]).\n"
     ]
    },
    {
     "name": "stdout",
     "output_type": "stream",
     "text": [
      "Iter 95/500 - Loss: 107.107\n"
     ]
    },
    {
     "name": "stderr",
     "output_type": "stream",
     "text": [
      "LinAlg (Verbose) - DEBUG - Running Cholesky on a matrix of size torch.Size([2000, 2000]).\n"
     ]
    },
    {
     "name": "stdout",
     "output_type": "stream",
     "text": [
      "Iter 96/500 - Loss: 107.061\n"
     ]
    },
    {
     "name": "stderr",
     "output_type": "stream",
     "text": [
      "LinAlg (Verbose) - DEBUG - Running Cholesky on a matrix of size torch.Size([2000, 2000]).\n"
     ]
    },
    {
     "name": "stdout",
     "output_type": "stream",
     "text": [
      "Iter 97/500 - Loss: 107.018\n"
     ]
    },
    {
     "name": "stderr",
     "output_type": "stream",
     "text": [
      "LinAlg (Verbose) - DEBUG - Running Cholesky on a matrix of size torch.Size([2000, 2000]).\n"
     ]
    },
    {
     "name": "stdout",
     "output_type": "stream",
     "text": [
      "Iter 98/500 - Loss: 106.978\n"
     ]
    },
    {
     "name": "stderr",
     "output_type": "stream",
     "text": [
      "LinAlg (Verbose) - DEBUG - Running Cholesky on a matrix of size torch.Size([2000, 2000]).\n"
     ]
    },
    {
     "name": "stdout",
     "output_type": "stream",
     "text": [
      "Iter 99/500 - Loss: 106.938\n"
     ]
    },
    {
     "name": "stderr",
     "output_type": "stream",
     "text": [
      "LinAlg (Verbose) - DEBUG - Running Cholesky on a matrix of size torch.Size([2000, 2000]).\n"
     ]
    },
    {
     "name": "stdout",
     "output_type": "stream",
     "text": [
      "Iter 100/500 - Loss: 106.902\n"
     ]
    },
    {
     "name": "stderr",
     "output_type": "stream",
     "text": [
      "LinAlg (Verbose) - DEBUG - Running Cholesky on a matrix of size torch.Size([2000, 2000]).\n"
     ]
    },
    {
     "name": "stdout",
     "output_type": "stream",
     "text": [
      "Iter 101/500 - Loss: 106.868\n"
     ]
    },
    {
     "name": "stderr",
     "output_type": "stream",
     "text": [
      "LinAlg (Verbose) - DEBUG - Running Cholesky on a matrix of size torch.Size([2000, 2000]).\n"
     ]
    },
    {
     "name": "stdout",
     "output_type": "stream",
     "text": [
      "Iter 102/500 - Loss: 106.833\n"
     ]
    },
    {
     "name": "stderr",
     "output_type": "stream",
     "text": [
      "LinAlg (Verbose) - DEBUG - Running Cholesky on a matrix of size torch.Size([2000, 2000]).\n"
     ]
    },
    {
     "name": "stdout",
     "output_type": "stream",
     "text": [
      "Iter 103/500 - Loss: 106.803\n"
     ]
    },
    {
     "name": "stderr",
     "output_type": "stream",
     "text": [
      "LinAlg (Verbose) - DEBUG - Running Cholesky on a matrix of size torch.Size([2000, 2000]).\n"
     ]
    },
    {
     "name": "stdout",
     "output_type": "stream",
     "text": [
      "Iter 104/500 - Loss: 106.776\n"
     ]
    },
    {
     "name": "stderr",
     "output_type": "stream",
     "text": [
      "LinAlg (Verbose) - DEBUG - Running Cholesky on a matrix of size torch.Size([2000, 2000]).\n"
     ]
    },
    {
     "name": "stdout",
     "output_type": "stream",
     "text": [
      "Iter 105/500 - Loss: 106.747\n"
     ]
    },
    {
     "name": "stderr",
     "output_type": "stream",
     "text": [
      "LinAlg (Verbose) - DEBUG - Running Cholesky on a matrix of size torch.Size([2000, 2000]).\n"
     ]
    },
    {
     "name": "stdout",
     "output_type": "stream",
     "text": [
      "Iter 106/500 - Loss: 106.721\n"
     ]
    },
    {
     "name": "stderr",
     "output_type": "stream",
     "text": [
      "LinAlg (Verbose) - DEBUG - Running Cholesky on a matrix of size torch.Size([2000, 2000]).\n"
     ]
    },
    {
     "name": "stdout",
     "output_type": "stream",
     "text": [
      "Iter 107/500 - Loss: 106.697\n"
     ]
    },
    {
     "name": "stderr",
     "output_type": "stream",
     "text": [
      "LinAlg (Verbose) - DEBUG - Running Cholesky on a matrix of size torch.Size([2000, 2000]).\n"
     ]
    },
    {
     "name": "stdout",
     "output_type": "stream",
     "text": [
      "Iter 108/500 - Loss: 106.674\n"
     ]
    },
    {
     "name": "stderr",
     "output_type": "stream",
     "text": [
      "LinAlg (Verbose) - DEBUG - Running Cholesky on a matrix of size torch.Size([2000, 2000]).\n"
     ]
    },
    {
     "name": "stdout",
     "output_type": "stream",
     "text": [
      "Iter 109/500 - Loss: 106.654\n"
     ]
    },
    {
     "name": "stderr",
     "output_type": "stream",
     "text": [
      "LinAlg (Verbose) - DEBUG - Running Cholesky on a matrix of size torch.Size([2000, 2000]).\n"
     ]
    },
    {
     "name": "stdout",
     "output_type": "stream",
     "text": [
      "Iter 110/500 - Loss: 106.634\n"
     ]
    },
    {
     "name": "stderr",
     "output_type": "stream",
     "text": [
      "LinAlg (Verbose) - DEBUG - Running Cholesky on a matrix of size torch.Size([2000, 2000]).\n"
     ]
    },
    {
     "name": "stdout",
     "output_type": "stream",
     "text": [
      "Iter 111/500 - Loss: 106.614\n"
     ]
    },
    {
     "name": "stderr",
     "output_type": "stream",
     "text": [
      "LinAlg (Verbose) - DEBUG - Running Cholesky on a matrix of size torch.Size([2000, 2000]).\n"
     ]
    },
    {
     "name": "stdout",
     "output_type": "stream",
     "text": [
      "Iter 112/500 - Loss: 106.599\n"
     ]
    },
    {
     "name": "stderr",
     "output_type": "stream",
     "text": [
      "LinAlg (Verbose) - DEBUG - Running Cholesky on a matrix of size torch.Size([2000, 2000]).\n"
     ]
    },
    {
     "name": "stdout",
     "output_type": "stream",
     "text": [
      "Iter 113/500 - Loss: 106.581\n"
     ]
    },
    {
     "name": "stderr",
     "output_type": "stream",
     "text": [
      "LinAlg (Verbose) - DEBUG - Running Cholesky on a matrix of size torch.Size([2000, 2000]).\n"
     ]
    },
    {
     "name": "stdout",
     "output_type": "stream",
     "text": [
      "Iter 114/500 - Loss: 106.566\n"
     ]
    },
    {
     "name": "stderr",
     "output_type": "stream",
     "text": [
      "LinAlg (Verbose) - DEBUG - Running Cholesky on a matrix of size torch.Size([2000, 2000]).\n"
     ]
    },
    {
     "name": "stdout",
     "output_type": "stream",
     "text": [
      "Iter 115/500 - Loss: 106.551\n"
     ]
    },
    {
     "name": "stderr",
     "output_type": "stream",
     "text": [
      "LinAlg (Verbose) - DEBUG - Running Cholesky on a matrix of size torch.Size([2000, 2000]).\n"
     ]
    },
    {
     "name": "stdout",
     "output_type": "stream",
     "text": [
      "Iter 116/500 - Loss: 106.540\n"
     ]
    },
    {
     "name": "stderr",
     "output_type": "stream",
     "text": [
      "LinAlg (Verbose) - DEBUG - Running Cholesky on a matrix of size torch.Size([2000, 2000]).\n"
     ]
    },
    {
     "name": "stdout",
     "output_type": "stream",
     "text": [
      "Iter 117/500 - Loss: 106.527\n"
     ]
    },
    {
     "name": "stderr",
     "output_type": "stream",
     "text": [
      "LinAlg (Verbose) - DEBUG - Running Cholesky on a matrix of size torch.Size([2000, 2000]).\n"
     ]
    },
    {
     "name": "stdout",
     "output_type": "stream",
     "text": [
      "Iter 118/500 - Loss: 106.515\n"
     ]
    },
    {
     "name": "stderr",
     "output_type": "stream",
     "text": [
      "LinAlg (Verbose) - DEBUG - Running Cholesky on a matrix of size torch.Size([2000, 2000]).\n"
     ]
    },
    {
     "name": "stdout",
     "output_type": "stream",
     "text": [
      "Iter 119/500 - Loss: 106.504\n"
     ]
    },
    {
     "name": "stderr",
     "output_type": "stream",
     "text": [
      "LinAlg (Verbose) - DEBUG - Running Cholesky on a matrix of size torch.Size([2000, 2000]).\n"
     ]
    },
    {
     "name": "stdout",
     "output_type": "stream",
     "text": [
      "Iter 120/500 - Loss: 106.494\n"
     ]
    },
    {
     "name": "stderr",
     "output_type": "stream",
     "text": [
      "LinAlg (Verbose) - DEBUG - Running Cholesky on a matrix of size torch.Size([2000, 2000]).\n"
     ]
    },
    {
     "name": "stdout",
     "output_type": "stream",
     "text": [
      "Iter 121/500 - Loss: 106.484\n"
     ]
    },
    {
     "name": "stderr",
     "output_type": "stream",
     "text": [
      "LinAlg (Verbose) - DEBUG - Running Cholesky on a matrix of size torch.Size([2000, 2000]).\n"
     ]
    },
    {
     "name": "stdout",
     "output_type": "stream",
     "text": [
      "Iter 122/500 - Loss: 106.474\n"
     ]
    },
    {
     "name": "stderr",
     "output_type": "stream",
     "text": [
      "LinAlg (Verbose) - DEBUG - Running Cholesky on a matrix of size torch.Size([2000, 2000]).\n"
     ]
    },
    {
     "name": "stdout",
     "output_type": "stream",
     "text": [
      "Iter 123/500 - Loss: 106.466\n"
     ]
    },
    {
     "name": "stderr",
     "output_type": "stream",
     "text": [
      "LinAlg (Verbose) - DEBUG - Running Cholesky on a matrix of size torch.Size([2000, 2000]).\n"
     ]
    },
    {
     "name": "stdout",
     "output_type": "stream",
     "text": [
      "Iter 124/500 - Loss: 106.459\n"
     ]
    },
    {
     "name": "stderr",
     "output_type": "stream",
     "text": [
      "LinAlg (Verbose) - DEBUG - Running Cholesky on a matrix of size torch.Size([2000, 2000]).\n"
     ]
    },
    {
     "name": "stdout",
     "output_type": "stream",
     "text": [
      "Iter 125/500 - Loss: 106.452\n"
     ]
    },
    {
     "name": "stderr",
     "output_type": "stream",
     "text": [
      "LinAlg (Verbose) - DEBUG - Running Cholesky on a matrix of size torch.Size([2000, 2000]).\n"
     ]
    },
    {
     "name": "stdout",
     "output_type": "stream",
     "text": [
      "Iter 126/500 - Loss: 106.445\n"
     ]
    },
    {
     "name": "stderr",
     "output_type": "stream",
     "text": [
      "LinAlg (Verbose) - DEBUG - Running Cholesky on a matrix of size torch.Size([2000, 2000]).\n"
     ]
    },
    {
     "name": "stdout",
     "output_type": "stream",
     "text": [
      "Iter 127/500 - Loss: 106.438\n"
     ]
    },
    {
     "name": "stderr",
     "output_type": "stream",
     "text": [
      "LinAlg (Verbose) - DEBUG - Running Cholesky on a matrix of size torch.Size([2000, 2000]).\n"
     ]
    },
    {
     "name": "stdout",
     "output_type": "stream",
     "text": [
      "Iter 128/500 - Loss: 106.432\n"
     ]
    },
    {
     "name": "stderr",
     "output_type": "stream",
     "text": [
      "LinAlg (Verbose) - DEBUG - Running Cholesky on a matrix of size torch.Size([2000, 2000]).\n"
     ]
    },
    {
     "name": "stdout",
     "output_type": "stream",
     "text": [
      "Iter 129/500 - Loss: 106.427\n"
     ]
    },
    {
     "name": "stderr",
     "output_type": "stream",
     "text": [
      "LinAlg (Verbose) - DEBUG - Running Cholesky on a matrix of size torch.Size([2000, 2000]).\n"
     ]
    },
    {
     "name": "stdout",
     "output_type": "stream",
     "text": [
      "Iter 130/500 - Loss: 106.421\n"
     ]
    },
    {
     "name": "stderr",
     "output_type": "stream",
     "text": [
      "LinAlg (Verbose) - DEBUG - Running Cholesky on a matrix of size torch.Size([2000, 2000]).\n"
     ]
    },
    {
     "name": "stdout",
     "output_type": "stream",
     "text": [
      "Iter 131/500 - Loss: 106.415\n"
     ]
    },
    {
     "name": "stderr",
     "output_type": "stream",
     "text": [
      "LinAlg (Verbose) - DEBUG - Running Cholesky on a matrix of size torch.Size([2000, 2000]).\n"
     ]
    },
    {
     "name": "stdout",
     "output_type": "stream",
     "text": [
      "Iter 132/500 - Loss: 106.410\n"
     ]
    },
    {
     "name": "stderr",
     "output_type": "stream",
     "text": [
      "LinAlg (Verbose) - DEBUG - Running Cholesky on a matrix of size torch.Size([2000, 2000]).\n"
     ]
    },
    {
     "name": "stdout",
     "output_type": "stream",
     "text": [
      "Iter 133/500 - Loss: 106.406\n"
     ]
    },
    {
     "name": "stderr",
     "output_type": "stream",
     "text": [
      "LinAlg (Verbose) - DEBUG - Running Cholesky on a matrix of size torch.Size([2000, 2000]).\n"
     ]
    },
    {
     "name": "stdout",
     "output_type": "stream",
     "text": [
      "Iter 134/500 - Loss: 106.401\n"
     ]
    },
    {
     "name": "stderr",
     "output_type": "stream",
     "text": [
      "LinAlg (Verbose) - DEBUG - Running Cholesky on a matrix of size torch.Size([2000, 2000]).\n"
     ]
    },
    {
     "name": "stdout",
     "output_type": "stream",
     "text": [
      "Iter 135/500 - Loss: 106.397\n"
     ]
    },
    {
     "name": "stderr",
     "output_type": "stream",
     "text": [
      "LinAlg (Verbose) - DEBUG - Running Cholesky on a matrix of size torch.Size([2000, 2000]).\n"
     ]
    },
    {
     "name": "stdout",
     "output_type": "stream",
     "text": [
      "Iter 136/500 - Loss: 106.394\n"
     ]
    },
    {
     "name": "stderr",
     "output_type": "stream",
     "text": [
      "LinAlg (Verbose) - DEBUG - Running Cholesky on a matrix of size torch.Size([2000, 2000]).\n"
     ]
    },
    {
     "name": "stdout",
     "output_type": "stream",
     "text": [
      "Iter 137/500 - Loss: 106.391\n"
     ]
    },
    {
     "name": "stderr",
     "output_type": "stream",
     "text": [
      "LinAlg (Verbose) - DEBUG - Running Cholesky on a matrix of size torch.Size([2000, 2000]).\n"
     ]
    },
    {
     "name": "stdout",
     "output_type": "stream",
     "text": [
      "Iter 138/500 - Loss: 106.386\n"
     ]
    },
    {
     "name": "stderr",
     "output_type": "stream",
     "text": [
      "LinAlg (Verbose) - DEBUG - Running Cholesky on a matrix of size torch.Size([2000, 2000]).\n"
     ]
    },
    {
     "name": "stdout",
     "output_type": "stream",
     "text": [
      "Iter 139/500 - Loss: 106.383\n"
     ]
    },
    {
     "name": "stderr",
     "output_type": "stream",
     "text": [
      "LinAlg (Verbose) - DEBUG - Running Cholesky on a matrix of size torch.Size([2000, 2000]).\n"
     ]
    },
    {
     "name": "stdout",
     "output_type": "stream",
     "text": [
      "Iter 140/500 - Loss: 106.380\n"
     ]
    },
    {
     "name": "stderr",
     "output_type": "stream",
     "text": [
      "LinAlg (Verbose) - DEBUG - Running Cholesky on a matrix of size torch.Size([2000, 2000]).\n"
     ]
    },
    {
     "name": "stdout",
     "output_type": "stream",
     "text": [
      "Iter 141/500 - Loss: 106.377\n"
     ]
    },
    {
     "name": "stderr",
     "output_type": "stream",
     "text": [
      "LinAlg (Verbose) - DEBUG - Running Cholesky on a matrix of size torch.Size([2000, 2000]).\n"
     ]
    },
    {
     "name": "stdout",
     "output_type": "stream",
     "text": [
      "Iter 142/500 - Loss: 106.375\n"
     ]
    },
    {
     "name": "stderr",
     "output_type": "stream",
     "text": [
      "LinAlg (Verbose) - DEBUG - Running Cholesky on a matrix of size torch.Size([2000, 2000]).\n"
     ]
    },
    {
     "name": "stdout",
     "output_type": "stream",
     "text": [
      "Iter 143/500 - Loss: 106.373\n"
     ]
    },
    {
     "name": "stderr",
     "output_type": "stream",
     "text": [
      "LinAlg (Verbose) - DEBUG - Running Cholesky on a matrix of size torch.Size([2000, 2000]).\n"
     ]
    },
    {
     "name": "stdout",
     "output_type": "stream",
     "text": [
      "Iter 144/500 - Loss: 106.370\n"
     ]
    },
    {
     "name": "stderr",
     "output_type": "stream",
     "text": [
      "LinAlg (Verbose) - DEBUG - Running Cholesky on a matrix of size torch.Size([2000, 2000]).\n"
     ]
    },
    {
     "name": "stdout",
     "output_type": "stream",
     "text": [
      "Iter 145/500 - Loss: 106.367\n"
     ]
    },
    {
     "name": "stderr",
     "output_type": "stream",
     "text": [
      "LinAlg (Verbose) - DEBUG - Running Cholesky on a matrix of size torch.Size([2000, 2000]).\n"
     ]
    },
    {
     "name": "stdout",
     "output_type": "stream",
     "text": [
      "Iter 146/500 - Loss: 106.366\n"
     ]
    },
    {
     "name": "stderr",
     "output_type": "stream",
     "text": [
      "LinAlg (Verbose) - DEBUG - Running Cholesky on a matrix of size torch.Size([2000, 2000]).\n"
     ]
    },
    {
     "name": "stdout",
     "output_type": "stream",
     "text": [
      "Iter 147/500 - Loss: 106.365\n"
     ]
    },
    {
     "name": "stderr",
     "output_type": "stream",
     "text": [
      "LinAlg (Verbose) - DEBUG - Running Cholesky on a matrix of size torch.Size([2000, 2000]).\n"
     ]
    },
    {
     "name": "stdout",
     "output_type": "stream",
     "text": [
      "Iter 148/500 - Loss: 106.362\n"
     ]
    },
    {
     "name": "stderr",
     "output_type": "stream",
     "text": [
      "LinAlg (Verbose) - DEBUG - Running Cholesky on a matrix of size torch.Size([2000, 2000]).\n"
     ]
    },
    {
     "name": "stdout",
     "output_type": "stream",
     "text": [
      "Iter 149/500 - Loss: 106.360\n"
     ]
    },
    {
     "name": "stderr",
     "output_type": "stream",
     "text": [
      "LinAlg (Verbose) - DEBUG - Running Cholesky on a matrix of size torch.Size([2000, 2000]).\n"
     ]
    },
    {
     "name": "stdout",
     "output_type": "stream",
     "text": [
      "Iter 150/500 - Loss: 106.359\n"
     ]
    },
    {
     "name": "stderr",
     "output_type": "stream",
     "text": [
      "LinAlg (Verbose) - DEBUG - Running Cholesky on a matrix of size torch.Size([2000, 2000]).\n"
     ]
    },
    {
     "name": "stdout",
     "output_type": "stream",
     "text": [
      "Iter 151/500 - Loss: 106.357\n"
     ]
    },
    {
     "name": "stderr",
     "output_type": "stream",
     "text": [
      "LinAlg (Verbose) - DEBUG - Running Cholesky on a matrix of size torch.Size([2000, 2000]).\n"
     ]
    },
    {
     "name": "stdout",
     "output_type": "stream",
     "text": [
      "Iter 152/500 - Loss: 106.356\n"
     ]
    },
    {
     "name": "stderr",
     "output_type": "stream",
     "text": [
      "LinAlg (Verbose) - DEBUG - Running Cholesky on a matrix of size torch.Size([2000, 2000]).\n"
     ]
    },
    {
     "name": "stdout",
     "output_type": "stream",
     "text": [
      "Iter 153/500 - Loss: 106.354\n"
     ]
    },
    {
     "name": "stderr",
     "output_type": "stream",
     "text": [
      "LinAlg (Verbose) - DEBUG - Running Cholesky on a matrix of size torch.Size([2000, 2000]).\n"
     ]
    },
    {
     "name": "stdout",
     "output_type": "stream",
     "text": [
      "Iter 154/500 - Loss: 106.352\n"
     ]
    },
    {
     "name": "stderr",
     "output_type": "stream",
     "text": [
      "LinAlg (Verbose) - DEBUG - Running Cholesky on a matrix of size torch.Size([2000, 2000]).\n"
     ]
    },
    {
     "name": "stdout",
     "output_type": "stream",
     "text": [
      "Iter 155/500 - Loss: 106.352\n"
     ]
    },
    {
     "name": "stderr",
     "output_type": "stream",
     "text": [
      "LinAlg (Verbose) - DEBUG - Running Cholesky on a matrix of size torch.Size([2000, 2000]).\n"
     ]
    },
    {
     "name": "stdout",
     "output_type": "stream",
     "text": [
      "Iter 156/500 - Loss: 106.350\n"
     ]
    },
    {
     "name": "stderr",
     "output_type": "stream",
     "text": [
      "LinAlg (Verbose) - DEBUG - Running Cholesky on a matrix of size torch.Size([2000, 2000]).\n"
     ]
    },
    {
     "name": "stdout",
     "output_type": "stream",
     "text": [
      "Iter 157/500 - Loss: 106.350\n"
     ]
    },
    {
     "name": "stderr",
     "output_type": "stream",
     "text": [
      "LinAlg (Verbose) - DEBUG - Running Cholesky on a matrix of size torch.Size([2000, 2000]).\n"
     ]
    },
    {
     "name": "stdout",
     "output_type": "stream",
     "text": [
      "Iter 158/500 - Loss: 106.347\n"
     ]
    },
    {
     "name": "stderr",
     "output_type": "stream",
     "text": [
      "LinAlg (Verbose) - DEBUG - Running Cholesky on a matrix of size torch.Size([2000, 2000]).\n"
     ]
    },
    {
     "name": "stdout",
     "output_type": "stream",
     "text": [
      "Iter 159/500 - Loss: 106.347\n"
     ]
    },
    {
     "name": "stderr",
     "output_type": "stream",
     "text": [
      "LinAlg (Verbose) - DEBUG - Running Cholesky on a matrix of size torch.Size([2000, 2000]).\n"
     ]
    },
    {
     "name": "stdout",
     "output_type": "stream",
     "text": [
      "Iter 160/500 - Loss: 106.345\n"
     ]
    },
    {
     "name": "stderr",
     "output_type": "stream",
     "text": [
      "LinAlg (Verbose) - DEBUG - Running Cholesky on a matrix of size torch.Size([2000, 2000]).\n"
     ]
    },
    {
     "name": "stdout",
     "output_type": "stream",
     "text": [
      "Iter 161/500 - Loss: 106.345\n"
     ]
    },
    {
     "name": "stderr",
     "output_type": "stream",
     "text": [
      "LinAlg (Verbose) - DEBUG - Running Cholesky on a matrix of size torch.Size([2000, 2000]).\n"
     ]
    },
    {
     "name": "stdout",
     "output_type": "stream",
     "text": [
      "Iter 162/500 - Loss: 106.344\n"
     ]
    },
    {
     "name": "stderr",
     "output_type": "stream",
     "text": [
      "LinAlg (Verbose) - DEBUG - Running Cholesky on a matrix of size torch.Size([2000, 2000]).\n"
     ]
    },
    {
     "name": "stdout",
     "output_type": "stream",
     "text": [
      "Iter 163/500 - Loss: 106.343\n"
     ]
    },
    {
     "name": "stderr",
     "output_type": "stream",
     "text": [
      "LinAlg (Verbose) - DEBUG - Running Cholesky on a matrix of size torch.Size([2000, 2000]).\n"
     ]
    },
    {
     "name": "stdout",
     "output_type": "stream",
     "text": [
      "Iter 164/500 - Loss: 106.342\n"
     ]
    },
    {
     "name": "stderr",
     "output_type": "stream",
     "text": [
      "LinAlg (Verbose) - DEBUG - Running Cholesky on a matrix of size torch.Size([2000, 2000]).\n"
     ]
    },
    {
     "name": "stdout",
     "output_type": "stream",
     "text": [
      "Iter 165/500 - Loss: 106.340\n"
     ]
    },
    {
     "name": "stderr",
     "output_type": "stream",
     "text": [
      "LinAlg (Verbose) - DEBUG - Running Cholesky on a matrix of size torch.Size([2000, 2000]).\n"
     ]
    },
    {
     "name": "stdout",
     "output_type": "stream",
     "text": [
      "Iter 166/500 - Loss: 106.338\n"
     ]
    },
    {
     "name": "stderr",
     "output_type": "stream",
     "text": [
      "LinAlg (Verbose) - DEBUG - Running Cholesky on a matrix of size torch.Size([2000, 2000]).\n"
     ]
    },
    {
     "name": "stdout",
     "output_type": "stream",
     "text": [
      "Iter 167/500 - Loss: 106.339\n"
     ]
    },
    {
     "name": "stderr",
     "output_type": "stream",
     "text": [
      "LinAlg (Verbose) - DEBUG - Running Cholesky on a matrix of size torch.Size([2000, 2000]).\n"
     ]
    },
    {
     "name": "stdout",
     "output_type": "stream",
     "text": [
      "Iter 168/500 - Loss: 106.339\n"
     ]
    },
    {
     "name": "stderr",
     "output_type": "stream",
     "text": [
      "LinAlg (Verbose) - DEBUG - Running Cholesky on a matrix of size torch.Size([2000, 2000]).\n"
     ]
    },
    {
     "name": "stdout",
     "output_type": "stream",
     "text": [
      "Iter 169/500 - Loss: 106.336\n"
     ]
    },
    {
     "name": "stderr",
     "output_type": "stream",
     "text": [
      "LinAlg (Verbose) - DEBUG - Running Cholesky on a matrix of size torch.Size([2000, 2000]).\n"
     ]
    },
    {
     "name": "stdout",
     "output_type": "stream",
     "text": [
      "Iter 170/500 - Loss: 106.336\n"
     ]
    },
    {
     "name": "stderr",
     "output_type": "stream",
     "text": [
      "LinAlg (Verbose) - DEBUG - Running Cholesky on a matrix of size torch.Size([2000, 2000]).\n"
     ]
    },
    {
     "name": "stdout",
     "output_type": "stream",
     "text": [
      "Iter 171/500 - Loss: 106.334\n"
     ]
    },
    {
     "name": "stderr",
     "output_type": "stream",
     "text": [
      "LinAlg (Verbose) - DEBUG - Running Cholesky on a matrix of size torch.Size([2000, 2000]).\n"
     ]
    },
    {
     "name": "stdout",
     "output_type": "stream",
     "text": [
      "Iter 172/500 - Loss: 106.334\n"
     ]
    },
    {
     "name": "stderr",
     "output_type": "stream",
     "text": [
      "LinAlg (Verbose) - DEBUG - Running Cholesky on a matrix of size torch.Size([2000, 2000]).\n"
     ]
    },
    {
     "name": "stdout",
     "output_type": "stream",
     "text": [
      "Iter 173/500 - Loss: 106.333\n"
     ]
    },
    {
     "name": "stderr",
     "output_type": "stream",
     "text": [
      "LinAlg (Verbose) - DEBUG - Running Cholesky on a matrix of size torch.Size([2000, 2000]).\n"
     ]
    },
    {
     "name": "stdout",
     "output_type": "stream",
     "text": [
      "Iter 174/500 - Loss: 106.332\n"
     ]
    },
    {
     "name": "stderr",
     "output_type": "stream",
     "text": [
      "LinAlg (Verbose) - DEBUG - Running Cholesky on a matrix of size torch.Size([2000, 2000]).\n"
     ]
    },
    {
     "name": "stdout",
     "output_type": "stream",
     "text": [
      "Iter 175/500 - Loss: 106.332\n"
     ]
    },
    {
     "name": "stderr",
     "output_type": "stream",
     "text": [
      "LinAlg (Verbose) - DEBUG - Running Cholesky on a matrix of size torch.Size([2000, 2000]).\n"
     ]
    },
    {
     "name": "stdout",
     "output_type": "stream",
     "text": [
      "Iter 176/500 - Loss: 106.330\n"
     ]
    },
    {
     "name": "stderr",
     "output_type": "stream",
     "text": [
      "LinAlg (Verbose) - DEBUG - Running Cholesky on a matrix of size torch.Size([2000, 2000]).\n"
     ]
    },
    {
     "name": "stdout",
     "output_type": "stream",
     "text": [
      "Iter 177/500 - Loss: 106.329\n"
     ]
    },
    {
     "name": "stderr",
     "output_type": "stream",
     "text": [
      "LinAlg (Verbose) - DEBUG - Running Cholesky on a matrix of size torch.Size([2000, 2000]).\n"
     ]
    },
    {
     "name": "stdout",
     "output_type": "stream",
     "text": [
      "Iter 178/500 - Loss: 106.329\n"
     ]
    },
    {
     "name": "stderr",
     "output_type": "stream",
     "text": [
      "LinAlg (Verbose) - DEBUG - Running Cholesky on a matrix of size torch.Size([2000, 2000]).\n"
     ]
    },
    {
     "name": "stdout",
     "output_type": "stream",
     "text": [
      "Iter 179/500 - Loss: 106.329\n"
     ]
    },
    {
     "name": "stderr",
     "output_type": "stream",
     "text": [
      "LinAlg (Verbose) - DEBUG - Running Cholesky on a matrix of size torch.Size([2000, 2000]).\n"
     ]
    },
    {
     "name": "stdout",
     "output_type": "stream",
     "text": [
      "Iter 180/500 - Loss: 106.327\n"
     ]
    },
    {
     "name": "stderr",
     "output_type": "stream",
     "text": [
      "LinAlg (Verbose) - DEBUG - Running Cholesky on a matrix of size torch.Size([2000, 2000]).\n"
     ]
    },
    {
     "name": "stdout",
     "output_type": "stream",
     "text": [
      "Iter 181/500 - Loss: 106.327\n"
     ]
    },
    {
     "name": "stderr",
     "output_type": "stream",
     "text": [
      "LinAlg (Verbose) - DEBUG - Running Cholesky on a matrix of size torch.Size([2000, 2000]).\n"
     ]
    },
    {
     "name": "stdout",
     "output_type": "stream",
     "text": [
      "Iter 182/500 - Loss: 106.325\n"
     ]
    },
    {
     "name": "stderr",
     "output_type": "stream",
     "text": [
      "LinAlg (Verbose) - DEBUG - Running Cholesky on a matrix of size torch.Size([2000, 2000]).\n"
     ]
    },
    {
     "name": "stdout",
     "output_type": "stream",
     "text": [
      "Iter 183/500 - Loss: 106.323\n"
     ]
    },
    {
     "name": "stderr",
     "output_type": "stream",
     "text": [
      "LinAlg (Verbose) - DEBUG - Running Cholesky on a matrix of size torch.Size([2000, 2000]).\n"
     ]
    },
    {
     "name": "stdout",
     "output_type": "stream",
     "text": [
      "Iter 184/500 - Loss: 106.323\n"
     ]
    },
    {
     "name": "stderr",
     "output_type": "stream",
     "text": [
      "LinAlg (Verbose) - DEBUG - Running Cholesky on a matrix of size torch.Size([2000, 2000]).\n"
     ]
    },
    {
     "name": "stdout",
     "output_type": "stream",
     "text": [
      "Iter 185/500 - Loss: 106.322\n"
     ]
    },
    {
     "name": "stderr",
     "output_type": "stream",
     "text": [
      "LinAlg (Verbose) - DEBUG - Running Cholesky on a matrix of size torch.Size([2000, 2000]).\n"
     ]
    },
    {
     "name": "stdout",
     "output_type": "stream",
     "text": [
      "Iter 186/500 - Loss: 106.321\n"
     ]
    },
    {
     "name": "stderr",
     "output_type": "stream",
     "text": [
      "LinAlg (Verbose) - DEBUG - Running Cholesky on a matrix of size torch.Size([2000, 2000]).\n"
     ]
    },
    {
     "name": "stdout",
     "output_type": "stream",
     "text": [
      "Iter 187/500 - Loss: 106.320\n"
     ]
    },
    {
     "name": "stderr",
     "output_type": "stream",
     "text": [
      "LinAlg (Verbose) - DEBUG - Running Cholesky on a matrix of size torch.Size([2000, 2000]).\n"
     ]
    },
    {
     "name": "stdout",
     "output_type": "stream",
     "text": [
      "Iter 188/500 - Loss: 106.320\n"
     ]
    },
    {
     "name": "stderr",
     "output_type": "stream",
     "text": [
      "LinAlg (Verbose) - DEBUG - Running Cholesky on a matrix of size torch.Size([2000, 2000]).\n"
     ]
    },
    {
     "name": "stdout",
     "output_type": "stream",
     "text": [
      "Iter 189/500 - Loss: 106.319\n"
     ]
    },
    {
     "name": "stderr",
     "output_type": "stream",
     "text": [
      "LinAlg (Verbose) - DEBUG - Running Cholesky on a matrix of size torch.Size([2000, 2000]).\n"
     ]
    },
    {
     "name": "stdout",
     "output_type": "stream",
     "text": [
      "Iter 190/500 - Loss: 106.316\n"
     ]
    },
    {
     "name": "stderr",
     "output_type": "stream",
     "text": [
      "LinAlg (Verbose) - DEBUG - Running Cholesky on a matrix of size torch.Size([2000, 2000]).\n"
     ]
    },
    {
     "name": "stdout",
     "output_type": "stream",
     "text": [
      "Iter 191/500 - Loss: 106.317\n"
     ]
    },
    {
     "name": "stderr",
     "output_type": "stream",
     "text": [
      "LinAlg (Verbose) - DEBUG - Running Cholesky on a matrix of size torch.Size([2000, 2000]).\n"
     ]
    },
    {
     "name": "stdout",
     "output_type": "stream",
     "text": [
      "Iter 192/500 - Loss: 106.315\n"
     ]
    },
    {
     "name": "stderr",
     "output_type": "stream",
     "text": [
      "LinAlg (Verbose) - DEBUG - Running Cholesky on a matrix of size torch.Size([2000, 2000]).\n"
     ]
    },
    {
     "name": "stdout",
     "output_type": "stream",
     "text": [
      "Iter 193/500 - Loss: 106.315\n"
     ]
    },
    {
     "name": "stderr",
     "output_type": "stream",
     "text": [
      "LinAlg (Verbose) - DEBUG - Running Cholesky on a matrix of size torch.Size([2000, 2000]).\n"
     ]
    },
    {
     "name": "stdout",
     "output_type": "stream",
     "text": [
      "Iter 194/500 - Loss: 106.314\n"
     ]
    },
    {
     "name": "stderr",
     "output_type": "stream",
     "text": [
      "LinAlg (Verbose) - DEBUG - Running Cholesky on a matrix of size torch.Size([2000, 2000]).\n"
     ]
    },
    {
     "name": "stdout",
     "output_type": "stream",
     "text": [
      "Iter 195/500 - Loss: 106.313\n"
     ]
    },
    {
     "name": "stderr",
     "output_type": "stream",
     "text": [
      "LinAlg (Verbose) - DEBUG - Running Cholesky on a matrix of size torch.Size([2000, 2000]).\n"
     ]
    },
    {
     "name": "stdout",
     "output_type": "stream",
     "text": [
      "Iter 196/500 - Loss: 106.311\n"
     ]
    },
    {
     "name": "stderr",
     "output_type": "stream",
     "text": [
      "LinAlg (Verbose) - DEBUG - Running Cholesky on a matrix of size torch.Size([2000, 2000]).\n"
     ]
    },
    {
     "name": "stdout",
     "output_type": "stream",
     "text": [
      "Iter 197/500 - Loss: 106.310\n"
     ]
    },
    {
     "name": "stderr",
     "output_type": "stream",
     "text": [
      "LinAlg (Verbose) - DEBUG - Running Cholesky on a matrix of size torch.Size([2000, 2000]).\n"
     ]
    },
    {
     "name": "stdout",
     "output_type": "stream",
     "text": [
      "Iter 198/500 - Loss: 106.310\n"
     ]
    },
    {
     "name": "stderr",
     "output_type": "stream",
     "text": [
      "LinAlg (Verbose) - DEBUG - Running Cholesky on a matrix of size torch.Size([2000, 2000]).\n"
     ]
    },
    {
     "name": "stdout",
     "output_type": "stream",
     "text": [
      "Iter 199/500 - Loss: 106.309\n"
     ]
    },
    {
     "name": "stderr",
     "output_type": "stream",
     "text": [
      "LinAlg (Verbose) - DEBUG - Running Cholesky on a matrix of size torch.Size([2000, 2000]).\n"
     ]
    },
    {
     "name": "stdout",
     "output_type": "stream",
     "text": [
      "Iter 200/500 - Loss: 106.308\n"
     ]
    },
    {
     "name": "stderr",
     "output_type": "stream",
     "text": [
      "LinAlg (Verbose) - DEBUG - Running Cholesky on a matrix of size torch.Size([2000, 2000]).\n"
     ]
    },
    {
     "name": "stdout",
     "output_type": "stream",
     "text": [
      "Iter 201/500 - Loss: 106.308\n"
     ]
    },
    {
     "name": "stderr",
     "output_type": "stream",
     "text": [
      "LinAlg (Verbose) - DEBUG - Running Cholesky on a matrix of size torch.Size([2000, 2000]).\n"
     ]
    },
    {
     "name": "stdout",
     "output_type": "stream",
     "text": [
      "Iter 202/500 - Loss: 106.305\n"
     ]
    },
    {
     "name": "stderr",
     "output_type": "stream",
     "text": [
      "LinAlg (Verbose) - DEBUG - Running Cholesky on a matrix of size torch.Size([2000, 2000]).\n"
     ]
    },
    {
     "name": "stdout",
     "output_type": "stream",
     "text": [
      "Iter 203/500 - Loss: 106.306\n"
     ]
    },
    {
     "name": "stderr",
     "output_type": "stream",
     "text": [
      "LinAlg (Verbose) - DEBUG - Running Cholesky on a matrix of size torch.Size([2000, 2000]).\n"
     ]
    },
    {
     "name": "stdout",
     "output_type": "stream",
     "text": [
      "Iter 204/500 - Loss: 106.304\n"
     ]
    },
    {
     "name": "stderr",
     "output_type": "stream",
     "text": [
      "LinAlg (Verbose) - DEBUG - Running Cholesky on a matrix of size torch.Size([2000, 2000]).\n"
     ]
    },
    {
     "name": "stdout",
     "output_type": "stream",
     "text": [
      "Iter 205/500 - Loss: 106.304\n"
     ]
    },
    {
     "name": "stderr",
     "output_type": "stream",
     "text": [
      "LinAlg (Verbose) - DEBUG - Running Cholesky on a matrix of size torch.Size([2000, 2000]).\n"
     ]
    },
    {
     "name": "stdout",
     "output_type": "stream",
     "text": [
      "Iter 206/500 - Loss: 106.303\n"
     ]
    },
    {
     "name": "stderr",
     "output_type": "stream",
     "text": [
      "LinAlg (Verbose) - DEBUG - Running Cholesky on a matrix of size torch.Size([2000, 2000]).\n"
     ]
    },
    {
     "name": "stdout",
     "output_type": "stream",
     "text": [
      "Iter 207/500 - Loss: 106.301\n"
     ]
    },
    {
     "name": "stderr",
     "output_type": "stream",
     "text": [
      "LinAlg (Verbose) - DEBUG - Running Cholesky on a matrix of size torch.Size([2000, 2000]).\n"
     ]
    },
    {
     "name": "stdout",
     "output_type": "stream",
     "text": [
      "Iter 208/500 - Loss: 106.300\n"
     ]
    },
    {
     "name": "stderr",
     "output_type": "stream",
     "text": [
      "LinAlg (Verbose) - DEBUG - Running Cholesky on a matrix of size torch.Size([2000, 2000]).\n"
     ]
    },
    {
     "name": "stdout",
     "output_type": "stream",
     "text": [
      "Iter 209/500 - Loss: 106.300\n"
     ]
    },
    {
     "name": "stderr",
     "output_type": "stream",
     "text": [
      "LinAlg (Verbose) - DEBUG - Running Cholesky on a matrix of size torch.Size([2000, 2000]).\n"
     ]
    },
    {
     "name": "stdout",
     "output_type": "stream",
     "text": [
      "Iter 210/500 - Loss: 106.298\n"
     ]
    },
    {
     "name": "stderr",
     "output_type": "stream",
     "text": [
      "LinAlg (Verbose) - DEBUG - Running Cholesky on a matrix of size torch.Size([2000, 2000]).\n"
     ]
    },
    {
     "name": "stdout",
     "output_type": "stream",
     "text": [
      "Iter 211/500 - Loss: 106.297\n"
     ]
    },
    {
     "name": "stderr",
     "output_type": "stream",
     "text": [
      "LinAlg (Verbose) - DEBUG - Running Cholesky on a matrix of size torch.Size([2000, 2000]).\n"
     ]
    },
    {
     "name": "stdout",
     "output_type": "stream",
     "text": [
      "Iter 212/500 - Loss: 106.297\n"
     ]
    },
    {
     "name": "stderr",
     "output_type": "stream",
     "text": [
      "LinAlg (Verbose) - DEBUG - Running Cholesky on a matrix of size torch.Size([2000, 2000]).\n"
     ]
    },
    {
     "name": "stdout",
     "output_type": "stream",
     "text": [
      "Iter 213/500 - Loss: 106.296\n"
     ]
    },
    {
     "name": "stderr",
     "output_type": "stream",
     "text": [
      "LinAlg (Verbose) - DEBUG - Running Cholesky on a matrix of size torch.Size([2000, 2000]).\n"
     ]
    },
    {
     "name": "stdout",
     "output_type": "stream",
     "text": [
      "Iter 214/500 - Loss: 106.294\n"
     ]
    },
    {
     "name": "stderr",
     "output_type": "stream",
     "text": [
      "LinAlg (Verbose) - DEBUG - Running Cholesky on a matrix of size torch.Size([2000, 2000]).\n"
     ]
    },
    {
     "name": "stdout",
     "output_type": "stream",
     "text": [
      "Iter 215/500 - Loss: 106.292\n"
     ]
    },
    {
     "name": "stderr",
     "output_type": "stream",
     "text": [
      "LinAlg (Verbose) - DEBUG - Running Cholesky on a matrix of size torch.Size([2000, 2000]).\n"
     ]
    },
    {
     "name": "stdout",
     "output_type": "stream",
     "text": [
      "Iter 216/500 - Loss: 106.292\n"
     ]
    },
    {
     "name": "stderr",
     "output_type": "stream",
     "text": [
      "LinAlg (Verbose) - DEBUG - Running Cholesky on a matrix of size torch.Size([2000, 2000]).\n"
     ]
    },
    {
     "name": "stdout",
     "output_type": "stream",
     "text": [
      "Iter 217/500 - Loss: 106.292\n"
     ]
    },
    {
     "name": "stderr",
     "output_type": "stream",
     "text": [
      "LinAlg (Verbose) - DEBUG - Running Cholesky on a matrix of size torch.Size([2000, 2000]).\n"
     ]
    },
    {
     "name": "stdout",
     "output_type": "stream",
     "text": [
      "Iter 218/500 - Loss: 106.289\n"
     ]
    },
    {
     "name": "stderr",
     "output_type": "stream",
     "text": [
      "LinAlg (Verbose) - DEBUG - Running Cholesky on a matrix of size torch.Size([2000, 2000]).\n"
     ]
    },
    {
     "name": "stdout",
     "output_type": "stream",
     "text": [
      "Iter 219/500 - Loss: 106.288\n"
     ]
    },
    {
     "name": "stderr",
     "output_type": "stream",
     "text": [
      "LinAlg (Verbose) - DEBUG - Running Cholesky on a matrix of size torch.Size([2000, 2000]).\n"
     ]
    },
    {
     "name": "stdout",
     "output_type": "stream",
     "text": [
      "Iter 220/500 - Loss: 106.287\n"
     ]
    },
    {
     "name": "stderr",
     "output_type": "stream",
     "text": [
      "LinAlg (Verbose) - DEBUG - Running Cholesky on a matrix of size torch.Size([2000, 2000]).\n"
     ]
    },
    {
     "name": "stdout",
     "output_type": "stream",
     "text": [
      "Iter 221/500 - Loss: 106.286\n"
     ]
    },
    {
     "name": "stderr",
     "output_type": "stream",
     "text": [
      "LinAlg (Verbose) - DEBUG - Running Cholesky on a matrix of size torch.Size([2000, 2000]).\n"
     ]
    },
    {
     "name": "stdout",
     "output_type": "stream",
     "text": [
      "Iter 222/500 - Loss: 106.285\n"
     ]
    },
    {
     "name": "stderr",
     "output_type": "stream",
     "text": [
      "LinAlg (Verbose) - DEBUG - Running Cholesky on a matrix of size torch.Size([2000, 2000]).\n"
     ]
    },
    {
     "name": "stdout",
     "output_type": "stream",
     "text": [
      "Iter 223/500 - Loss: 106.284\n"
     ]
    },
    {
     "name": "stderr",
     "output_type": "stream",
     "text": [
      "LinAlg (Verbose) - DEBUG - Running Cholesky on a matrix of size torch.Size([2000, 2000]).\n"
     ]
    },
    {
     "name": "stdout",
     "output_type": "stream",
     "text": [
      "Iter 224/500 - Loss: 106.283\n"
     ]
    },
    {
     "name": "stderr",
     "output_type": "stream",
     "text": [
      "LinAlg (Verbose) - DEBUG - Running Cholesky on a matrix of size torch.Size([2000, 2000]).\n"
     ]
    },
    {
     "name": "stdout",
     "output_type": "stream",
     "text": [
      "Iter 225/500 - Loss: 106.282\n"
     ]
    },
    {
     "name": "stderr",
     "output_type": "stream",
     "text": [
      "LinAlg (Verbose) - DEBUG - Running Cholesky on a matrix of size torch.Size([2000, 2000]).\n"
     ]
    },
    {
     "name": "stdout",
     "output_type": "stream",
     "text": [
      "Iter 226/500 - Loss: 106.281\n"
     ]
    },
    {
     "name": "stderr",
     "output_type": "stream",
     "text": [
      "LinAlg (Verbose) - DEBUG - Running Cholesky on a matrix of size torch.Size([2000, 2000]).\n"
     ]
    },
    {
     "name": "stdout",
     "output_type": "stream",
     "text": [
      "Iter 227/500 - Loss: 106.279\n"
     ]
    },
    {
     "name": "stderr",
     "output_type": "stream",
     "text": [
      "LinAlg (Verbose) - DEBUG - Running Cholesky on a matrix of size torch.Size([2000, 2000]).\n"
     ]
    },
    {
     "name": "stdout",
     "output_type": "stream",
     "text": [
      "Iter 228/500 - Loss: 106.278\n"
     ]
    },
    {
     "name": "stderr",
     "output_type": "stream",
     "text": [
      "LinAlg (Verbose) - DEBUG - Running Cholesky on a matrix of size torch.Size([2000, 2000]).\n"
     ]
    },
    {
     "name": "stdout",
     "output_type": "stream",
     "text": [
      "Iter 229/500 - Loss: 106.276\n"
     ]
    },
    {
     "name": "stderr",
     "output_type": "stream",
     "text": [
      "LinAlg (Verbose) - DEBUG - Running Cholesky on a matrix of size torch.Size([2000, 2000]).\n"
     ]
    },
    {
     "name": "stdout",
     "output_type": "stream",
     "text": [
      "Iter 230/500 - Loss: 106.276\n"
     ]
    },
    {
     "name": "stderr",
     "output_type": "stream",
     "text": [
      "LinAlg (Verbose) - DEBUG - Running Cholesky on a matrix of size torch.Size([2000, 2000]).\n"
     ]
    },
    {
     "name": "stdout",
     "output_type": "stream",
     "text": [
      "Iter 231/500 - Loss: 106.274\n"
     ]
    },
    {
     "name": "stderr",
     "output_type": "stream",
     "text": [
      "LinAlg (Verbose) - DEBUG - Running Cholesky on a matrix of size torch.Size([2000, 2000]).\n"
     ]
    },
    {
     "name": "stdout",
     "output_type": "stream",
     "text": [
      "Iter 232/500 - Loss: 106.273\n"
     ]
    },
    {
     "name": "stderr",
     "output_type": "stream",
     "text": [
      "LinAlg (Verbose) - DEBUG - Running Cholesky on a matrix of size torch.Size([2000, 2000]).\n"
     ]
    },
    {
     "name": "stdout",
     "output_type": "stream",
     "text": [
      "Iter 233/500 - Loss: 106.272\n"
     ]
    },
    {
     "name": "stderr",
     "output_type": "stream",
     "text": [
      "LinAlg (Verbose) - DEBUG - Running Cholesky on a matrix of size torch.Size([2000, 2000]).\n"
     ]
    },
    {
     "name": "stdout",
     "output_type": "stream",
     "text": [
      "Iter 234/500 - Loss: 106.271\n"
     ]
    },
    {
     "name": "stderr",
     "output_type": "stream",
     "text": [
      "LinAlg (Verbose) - DEBUG - Running Cholesky on a matrix of size torch.Size([2000, 2000]).\n"
     ]
    },
    {
     "name": "stdout",
     "output_type": "stream",
     "text": [
      "Iter 235/500 - Loss: 106.271\n"
     ]
    },
    {
     "name": "stderr",
     "output_type": "stream",
     "text": [
      "LinAlg (Verbose) - DEBUG - Running Cholesky on a matrix of size torch.Size([2000, 2000]).\n"
     ]
    },
    {
     "name": "stdout",
     "output_type": "stream",
     "text": [
      "Iter 236/500 - Loss: 106.269\n"
     ]
    },
    {
     "name": "stderr",
     "output_type": "stream",
     "text": [
      "LinAlg (Verbose) - DEBUG - Running Cholesky on a matrix of size torch.Size([2000, 2000]).\n"
     ]
    },
    {
     "name": "stdout",
     "output_type": "stream",
     "text": [
      "Iter 237/500 - Loss: 106.268\n"
     ]
    },
    {
     "name": "stderr",
     "output_type": "stream",
     "text": [
      "LinAlg (Verbose) - DEBUG - Running Cholesky on a matrix of size torch.Size([2000, 2000]).\n"
     ]
    },
    {
     "name": "stdout",
     "output_type": "stream",
     "text": [
      "Iter 238/500 - Loss: 106.266\n"
     ]
    },
    {
     "name": "stderr",
     "output_type": "stream",
     "text": [
      "LinAlg (Verbose) - DEBUG - Running Cholesky on a matrix of size torch.Size([2000, 2000]).\n"
     ]
    },
    {
     "name": "stdout",
     "output_type": "stream",
     "text": [
      "Iter 239/500 - Loss: 106.263\n"
     ]
    },
    {
     "name": "stderr",
     "output_type": "stream",
     "text": [
      "LinAlg (Verbose) - DEBUG - Running Cholesky on a matrix of size torch.Size([2000, 2000]).\n"
     ]
    },
    {
     "name": "stdout",
     "output_type": "stream",
     "text": [
      "Iter 240/500 - Loss: 106.263\n"
     ]
    },
    {
     "name": "stderr",
     "output_type": "stream",
     "text": [
      "LinAlg (Verbose) - DEBUG - Running Cholesky on a matrix of size torch.Size([2000, 2000]).\n"
     ]
    },
    {
     "name": "stdout",
     "output_type": "stream",
     "text": [
      "Iter 241/500 - Loss: 106.263\n"
     ]
    },
    {
     "name": "stderr",
     "output_type": "stream",
     "text": [
      "LinAlg (Verbose) - DEBUG - Running Cholesky on a matrix of size torch.Size([2000, 2000]).\n"
     ]
    },
    {
     "name": "stdout",
     "output_type": "stream",
     "text": [
      "Iter 242/500 - Loss: 106.260\n"
     ]
    },
    {
     "name": "stderr",
     "output_type": "stream",
     "text": [
      "LinAlg (Verbose) - DEBUG - Running Cholesky on a matrix of size torch.Size([2000, 2000]).\n"
     ]
    },
    {
     "name": "stdout",
     "output_type": "stream",
     "text": [
      "Iter 243/500 - Loss: 106.259\n"
     ]
    },
    {
     "name": "stderr",
     "output_type": "stream",
     "text": [
      "LinAlg (Verbose) - DEBUG - Running Cholesky on a matrix of size torch.Size([2000, 2000]).\n"
     ]
    },
    {
     "name": "stdout",
     "output_type": "stream",
     "text": [
      "Iter 244/500 - Loss: 106.259\n"
     ]
    },
    {
     "name": "stderr",
     "output_type": "stream",
     "text": [
      "LinAlg (Verbose) - DEBUG - Running Cholesky on a matrix of size torch.Size([2000, 2000]).\n"
     ]
    },
    {
     "name": "stdout",
     "output_type": "stream",
     "text": [
      "Iter 245/500 - Loss: 106.256\n"
     ]
    },
    {
     "name": "stderr",
     "output_type": "stream",
     "text": [
      "LinAlg (Verbose) - DEBUG - Running Cholesky on a matrix of size torch.Size([2000, 2000]).\n"
     ]
    },
    {
     "name": "stdout",
     "output_type": "stream",
     "text": [
      "Iter 246/500 - Loss: 106.256\n"
     ]
    },
    {
     "name": "stderr",
     "output_type": "stream",
     "text": [
      "LinAlg (Verbose) - DEBUG - Running Cholesky on a matrix of size torch.Size([2000, 2000]).\n"
     ]
    },
    {
     "name": "stdout",
     "output_type": "stream",
     "text": [
      "Iter 247/500 - Loss: 106.253\n"
     ]
    },
    {
     "name": "stderr",
     "output_type": "stream",
     "text": [
      "LinAlg (Verbose) - DEBUG - Running Cholesky on a matrix of size torch.Size([2000, 2000]).\n"
     ]
    },
    {
     "name": "stdout",
     "output_type": "stream",
     "text": [
      "Iter 248/500 - Loss: 106.253\n"
     ]
    },
    {
     "name": "stderr",
     "output_type": "stream",
     "text": [
      "LinAlg (Verbose) - DEBUG - Running Cholesky on a matrix of size torch.Size([2000, 2000]).\n"
     ]
    },
    {
     "name": "stdout",
     "output_type": "stream",
     "text": [
      "Iter 249/500 - Loss: 106.251\n"
     ]
    },
    {
     "name": "stderr",
     "output_type": "stream",
     "text": [
      "LinAlg (Verbose) - DEBUG - Running Cholesky on a matrix of size torch.Size([2000, 2000]).\n"
     ]
    },
    {
     "name": "stdout",
     "output_type": "stream",
     "text": [
      "Iter 250/500 - Loss: 106.250\n"
     ]
    },
    {
     "name": "stderr",
     "output_type": "stream",
     "text": [
      "LinAlg (Verbose) - DEBUG - Running Cholesky on a matrix of size torch.Size([2000, 2000]).\n"
     ]
    },
    {
     "name": "stdout",
     "output_type": "stream",
     "text": [
      "Iter 251/500 - Loss: 106.248\n"
     ]
    },
    {
     "name": "stderr",
     "output_type": "stream",
     "text": [
      "LinAlg (Verbose) - DEBUG - Running Cholesky on a matrix of size torch.Size([2000, 2000]).\n"
     ]
    },
    {
     "name": "stdout",
     "output_type": "stream",
     "text": [
      "Iter 252/500 - Loss: 106.246\n"
     ]
    },
    {
     "name": "stderr",
     "output_type": "stream",
     "text": [
      "LinAlg (Verbose) - DEBUG - Running Cholesky on a matrix of size torch.Size([2000, 2000]).\n"
     ]
    },
    {
     "name": "stdout",
     "output_type": "stream",
     "text": [
      "Iter 253/500 - Loss: 106.245\n"
     ]
    },
    {
     "name": "stderr",
     "output_type": "stream",
     "text": [
      "LinAlg (Verbose) - DEBUG - Running Cholesky on a matrix of size torch.Size([2000, 2000]).\n"
     ]
    },
    {
     "name": "stdout",
     "output_type": "stream",
     "text": [
      "Iter 254/500 - Loss: 106.244\n"
     ]
    },
    {
     "name": "stderr",
     "output_type": "stream",
     "text": [
      "LinAlg (Verbose) - DEBUG - Running Cholesky on a matrix of size torch.Size([2000, 2000]).\n"
     ]
    },
    {
     "name": "stdout",
     "output_type": "stream",
     "text": [
      "Iter 255/500 - Loss: 106.242\n"
     ]
    },
    {
     "name": "stderr",
     "output_type": "stream",
     "text": [
      "LinAlg (Verbose) - DEBUG - Running Cholesky on a matrix of size torch.Size([2000, 2000]).\n"
     ]
    },
    {
     "name": "stdout",
     "output_type": "stream",
     "text": [
      "Iter 256/500 - Loss: 106.242\n"
     ]
    },
    {
     "name": "stderr",
     "output_type": "stream",
     "text": [
      "LinAlg (Verbose) - DEBUG - Running Cholesky on a matrix of size torch.Size([2000, 2000]).\n"
     ]
    },
    {
     "name": "stdout",
     "output_type": "stream",
     "text": [
      "Iter 257/500 - Loss: 106.240\n"
     ]
    },
    {
     "name": "stderr",
     "output_type": "stream",
     "text": [
      "LinAlg (Verbose) - DEBUG - Running Cholesky on a matrix of size torch.Size([2000, 2000]).\n"
     ]
    },
    {
     "name": "stdout",
     "output_type": "stream",
     "text": [
      "Iter 258/500 - Loss: 106.240\n"
     ]
    },
    {
     "name": "stderr",
     "output_type": "stream",
     "text": [
      "LinAlg (Verbose) - DEBUG - Running Cholesky on a matrix of size torch.Size([2000, 2000]).\n"
     ]
    },
    {
     "name": "stdout",
     "output_type": "stream",
     "text": [
      "Iter 259/500 - Loss: 106.237\n"
     ]
    },
    {
     "name": "stderr",
     "output_type": "stream",
     "text": [
      "LinAlg (Verbose) - DEBUG - Running Cholesky on a matrix of size torch.Size([2000, 2000]).\n"
     ]
    },
    {
     "name": "stdout",
     "output_type": "stream",
     "text": [
      "Iter 260/500 - Loss: 106.236\n"
     ]
    },
    {
     "name": "stderr",
     "output_type": "stream",
     "text": [
      "LinAlg (Verbose) - DEBUG - Running Cholesky on a matrix of size torch.Size([2000, 2000]).\n"
     ]
    },
    {
     "name": "stdout",
     "output_type": "stream",
     "text": [
      "Iter 261/500 - Loss: 106.233\n"
     ]
    },
    {
     "name": "stderr",
     "output_type": "stream",
     "text": [
      "LinAlg (Verbose) - DEBUG - Running Cholesky on a matrix of size torch.Size([2000, 2000]).\n"
     ]
    },
    {
     "name": "stdout",
     "output_type": "stream",
     "text": [
      "Iter 262/500 - Loss: 106.232\n"
     ]
    },
    {
     "name": "stderr",
     "output_type": "stream",
     "text": [
      "LinAlg (Verbose) - DEBUG - Running Cholesky on a matrix of size torch.Size([2000, 2000]).\n"
     ]
    },
    {
     "name": "stdout",
     "output_type": "stream",
     "text": [
      "Iter 263/500 - Loss: 106.231\n"
     ]
    },
    {
     "name": "stderr",
     "output_type": "stream",
     "text": [
      "LinAlg (Verbose) - DEBUG - Running Cholesky on a matrix of size torch.Size([2000, 2000]).\n"
     ]
    },
    {
     "name": "stdout",
     "output_type": "stream",
     "text": [
      "Iter 264/500 - Loss: 106.229\n"
     ]
    },
    {
     "name": "stderr",
     "output_type": "stream",
     "text": [
      "LinAlg (Verbose) - DEBUG - Running Cholesky on a matrix of size torch.Size([2000, 2000]).\n"
     ]
    },
    {
     "name": "stdout",
     "output_type": "stream",
     "text": [
      "Iter 265/500 - Loss: 106.228\n"
     ]
    },
    {
     "name": "stderr",
     "output_type": "stream",
     "text": [
      "LinAlg (Verbose) - DEBUG - Running Cholesky on a matrix of size torch.Size([2000, 2000]).\n"
     ]
    },
    {
     "name": "stdout",
     "output_type": "stream",
     "text": [
      "Iter 266/500 - Loss: 106.226\n"
     ]
    },
    {
     "name": "stderr",
     "output_type": "stream",
     "text": [
      "LinAlg (Verbose) - DEBUG - Running Cholesky on a matrix of size torch.Size([2000, 2000]).\n"
     ]
    },
    {
     "name": "stdout",
     "output_type": "stream",
     "text": [
      "Iter 267/500 - Loss: 106.225\n"
     ]
    },
    {
     "name": "stderr",
     "output_type": "stream",
     "text": [
      "LinAlg (Verbose) - DEBUG - Running Cholesky on a matrix of size torch.Size([2000, 2000]).\n"
     ]
    },
    {
     "name": "stdout",
     "output_type": "stream",
     "text": [
      "Iter 268/500 - Loss: 106.223\n"
     ]
    },
    {
     "name": "stderr",
     "output_type": "stream",
     "text": [
      "LinAlg (Verbose) - DEBUG - Running Cholesky on a matrix of size torch.Size([2000, 2000]).\n"
     ]
    },
    {
     "name": "stdout",
     "output_type": "stream",
     "text": [
      "Iter 269/500 - Loss: 106.222\n"
     ]
    },
    {
     "name": "stderr",
     "output_type": "stream",
     "text": [
      "LinAlg (Verbose) - DEBUG - Running Cholesky on a matrix of size torch.Size([2000, 2000]).\n"
     ]
    },
    {
     "name": "stdout",
     "output_type": "stream",
     "text": [
      "Iter 270/500 - Loss: 106.219\n"
     ]
    },
    {
     "name": "stderr",
     "output_type": "stream",
     "text": [
      "LinAlg (Verbose) - DEBUG - Running Cholesky on a matrix of size torch.Size([2000, 2000]).\n"
     ]
    },
    {
     "name": "stdout",
     "output_type": "stream",
     "text": [
      "Iter 271/500 - Loss: 106.218\n"
     ]
    },
    {
     "name": "stderr",
     "output_type": "stream",
     "text": [
      "LinAlg (Verbose) - DEBUG - Running Cholesky on a matrix of size torch.Size([2000, 2000]).\n"
     ]
    },
    {
     "name": "stdout",
     "output_type": "stream",
     "text": [
      "Iter 272/500 - Loss: 106.217\n"
     ]
    },
    {
     "name": "stderr",
     "output_type": "stream",
     "text": [
      "LinAlg (Verbose) - DEBUG - Running Cholesky on a matrix of size torch.Size([2000, 2000]).\n"
     ]
    },
    {
     "name": "stdout",
     "output_type": "stream",
     "text": [
      "Iter 273/500 - Loss: 106.215\n"
     ]
    },
    {
     "name": "stderr",
     "output_type": "stream",
     "text": [
      "LinAlg (Verbose) - DEBUG - Running Cholesky on a matrix of size torch.Size([2000, 2000]).\n"
     ]
    },
    {
     "name": "stdout",
     "output_type": "stream",
     "text": [
      "Iter 274/500 - Loss: 106.214\n"
     ]
    },
    {
     "name": "stderr",
     "output_type": "stream",
     "text": [
      "LinAlg (Verbose) - DEBUG - Running Cholesky on a matrix of size torch.Size([2000, 2000]).\n"
     ]
    },
    {
     "name": "stdout",
     "output_type": "stream",
     "text": [
      "Iter 275/500 - Loss: 106.211\n"
     ]
    },
    {
     "name": "stderr",
     "output_type": "stream",
     "text": [
      "LinAlg (Verbose) - DEBUG - Running Cholesky on a matrix of size torch.Size([2000, 2000]).\n"
     ]
    },
    {
     "name": "stdout",
     "output_type": "stream",
     "text": [
      "Iter 276/500 - Loss: 106.210\n"
     ]
    },
    {
     "name": "stderr",
     "output_type": "stream",
     "text": [
      "LinAlg (Verbose) - DEBUG - Running Cholesky on a matrix of size torch.Size([2000, 2000]).\n"
     ]
    },
    {
     "name": "stdout",
     "output_type": "stream",
     "text": [
      "Iter 277/500 - Loss: 106.208\n"
     ]
    },
    {
     "name": "stderr",
     "output_type": "stream",
     "text": [
      "LinAlg (Verbose) - DEBUG - Running Cholesky on a matrix of size torch.Size([2000, 2000]).\n"
     ]
    },
    {
     "name": "stdout",
     "output_type": "stream",
     "text": [
      "Iter 278/500 - Loss: 106.207\n"
     ]
    },
    {
     "name": "stderr",
     "output_type": "stream",
     "text": [
      "LinAlg (Verbose) - DEBUG - Running Cholesky on a matrix of size torch.Size([2000, 2000]).\n"
     ]
    },
    {
     "name": "stdout",
     "output_type": "stream",
     "text": [
      "Iter 279/500 - Loss: 106.205\n"
     ]
    },
    {
     "name": "stderr",
     "output_type": "stream",
     "text": [
      "LinAlg (Verbose) - DEBUG - Running Cholesky on a matrix of size torch.Size([2000, 2000]).\n"
     ]
    },
    {
     "name": "stdout",
     "output_type": "stream",
     "text": [
      "Iter 280/500 - Loss: 106.203\n"
     ]
    },
    {
     "name": "stderr",
     "output_type": "stream",
     "text": [
      "LinAlg (Verbose) - DEBUG - Running Cholesky on a matrix of size torch.Size([2000, 2000]).\n"
     ]
    },
    {
     "name": "stdout",
     "output_type": "stream",
     "text": [
      "Iter 281/500 - Loss: 106.201\n"
     ]
    },
    {
     "name": "stderr",
     "output_type": "stream",
     "text": [
      "LinAlg (Verbose) - DEBUG - Running Cholesky on a matrix of size torch.Size([2000, 2000]).\n"
     ]
    },
    {
     "name": "stdout",
     "output_type": "stream",
     "text": [
      "Iter 282/500 - Loss: 106.199\n"
     ]
    },
    {
     "name": "stderr",
     "output_type": "stream",
     "text": [
      "LinAlg (Verbose) - DEBUG - Running Cholesky on a matrix of size torch.Size([2000, 2000]).\n"
     ]
    },
    {
     "name": "stdout",
     "output_type": "stream",
     "text": [
      "Iter 283/500 - Loss: 106.197\n"
     ]
    },
    {
     "name": "stderr",
     "output_type": "stream",
     "text": [
      "LinAlg (Verbose) - DEBUG - Running Cholesky on a matrix of size torch.Size([2000, 2000]).\n"
     ]
    },
    {
     "name": "stdout",
     "output_type": "stream",
     "text": [
      "Iter 284/500 - Loss: 106.196\n"
     ]
    },
    {
     "name": "stderr",
     "output_type": "stream",
     "text": [
      "LinAlg (Verbose) - DEBUG - Running Cholesky on a matrix of size torch.Size([2000, 2000]).\n"
     ]
    },
    {
     "name": "stdout",
     "output_type": "stream",
     "text": [
      "Iter 285/500 - Loss: 106.194\n"
     ]
    },
    {
     "name": "stderr",
     "output_type": "stream",
     "text": [
      "LinAlg (Verbose) - DEBUG - Running Cholesky on a matrix of size torch.Size([2000, 2000]).\n"
     ]
    },
    {
     "name": "stdout",
     "output_type": "stream",
     "text": [
      "Iter 286/500 - Loss: 106.192\n"
     ]
    },
    {
     "name": "stderr",
     "output_type": "stream",
     "text": [
      "LinAlg (Verbose) - DEBUG - Running Cholesky on a matrix of size torch.Size([2000, 2000]).\n"
     ]
    },
    {
     "name": "stdout",
     "output_type": "stream",
     "text": [
      "Iter 287/500 - Loss: 106.190\n"
     ]
    },
    {
     "name": "stderr",
     "output_type": "stream",
     "text": [
      "LinAlg (Verbose) - DEBUG - Running Cholesky on a matrix of size torch.Size([2000, 2000]).\n"
     ]
    },
    {
     "name": "stdout",
     "output_type": "stream",
     "text": [
      "Iter 288/500 - Loss: 106.188\n"
     ]
    },
    {
     "name": "stderr",
     "output_type": "stream",
     "text": [
      "LinAlg (Verbose) - DEBUG - Running Cholesky on a matrix of size torch.Size([2000, 2000]).\n"
     ]
    },
    {
     "name": "stdout",
     "output_type": "stream",
     "text": [
      "Iter 289/500 - Loss: 106.187\n"
     ]
    },
    {
     "name": "stderr",
     "output_type": "stream",
     "text": [
      "LinAlg (Verbose) - DEBUG - Running Cholesky on a matrix of size torch.Size([2000, 2000]).\n"
     ]
    },
    {
     "name": "stdout",
     "output_type": "stream",
     "text": [
      "Iter 290/500 - Loss: 106.184\n"
     ]
    },
    {
     "name": "stderr",
     "output_type": "stream",
     "text": [
      "LinAlg (Verbose) - DEBUG - Running Cholesky on a matrix of size torch.Size([2000, 2000]).\n"
     ]
    },
    {
     "name": "stdout",
     "output_type": "stream",
     "text": [
      "Iter 291/500 - Loss: 106.182\n"
     ]
    },
    {
     "name": "stderr",
     "output_type": "stream",
     "text": [
      "LinAlg (Verbose) - DEBUG - Running Cholesky on a matrix of size torch.Size([2000, 2000]).\n"
     ]
    },
    {
     "name": "stdout",
     "output_type": "stream",
     "text": [
      "Iter 292/500 - Loss: 106.180\n"
     ]
    },
    {
     "name": "stderr",
     "output_type": "stream",
     "text": [
      "LinAlg (Verbose) - DEBUG - Running Cholesky on a matrix of size torch.Size([2000, 2000]).\n"
     ]
    },
    {
     "name": "stdout",
     "output_type": "stream",
     "text": [
      "Iter 293/500 - Loss: 106.179\n"
     ]
    },
    {
     "name": "stderr",
     "output_type": "stream",
     "text": [
      "LinAlg (Verbose) - DEBUG - Running Cholesky on a matrix of size torch.Size([2000, 2000]).\n"
     ]
    },
    {
     "name": "stdout",
     "output_type": "stream",
     "text": [
      "Iter 294/500 - Loss: 106.176\n"
     ]
    },
    {
     "name": "stderr",
     "output_type": "stream",
     "text": [
      "LinAlg (Verbose) - DEBUG - Running Cholesky on a matrix of size torch.Size([2000, 2000]).\n"
     ]
    },
    {
     "name": "stdout",
     "output_type": "stream",
     "text": [
      "Iter 295/500 - Loss: 106.174\n"
     ]
    },
    {
     "name": "stderr",
     "output_type": "stream",
     "text": [
      "LinAlg (Verbose) - DEBUG - Running Cholesky on a matrix of size torch.Size([2000, 2000]).\n"
     ]
    },
    {
     "name": "stdout",
     "output_type": "stream",
     "text": [
      "Iter 296/500 - Loss: 106.172\n"
     ]
    },
    {
     "name": "stderr",
     "output_type": "stream",
     "text": [
      "LinAlg (Verbose) - DEBUG - Running Cholesky on a matrix of size torch.Size([2000, 2000]).\n"
     ]
    },
    {
     "name": "stdout",
     "output_type": "stream",
     "text": [
      "Iter 297/500 - Loss: 106.170\n"
     ]
    },
    {
     "name": "stderr",
     "output_type": "stream",
     "text": [
      "LinAlg (Verbose) - DEBUG - Running Cholesky on a matrix of size torch.Size([2000, 2000]).\n"
     ]
    },
    {
     "name": "stdout",
     "output_type": "stream",
     "text": [
      "Iter 298/500 - Loss: 106.168\n"
     ]
    },
    {
     "name": "stderr",
     "output_type": "stream",
     "text": [
      "LinAlg (Verbose) - DEBUG - Running Cholesky on a matrix of size torch.Size([2000, 2000]).\n"
     ]
    },
    {
     "name": "stdout",
     "output_type": "stream",
     "text": [
      "Iter 299/500 - Loss: 106.166\n"
     ]
    },
    {
     "name": "stderr",
     "output_type": "stream",
     "text": [
      "LinAlg (Verbose) - DEBUG - Running Cholesky on a matrix of size torch.Size([2000, 2000]).\n"
     ]
    },
    {
     "name": "stdout",
     "output_type": "stream",
     "text": [
      "Iter 300/500 - Loss: 106.164\n"
     ]
    },
    {
     "name": "stderr",
     "output_type": "stream",
     "text": [
      "LinAlg (Verbose) - DEBUG - Running Cholesky on a matrix of size torch.Size([2000, 2000]).\n"
     ]
    },
    {
     "name": "stdout",
     "output_type": "stream",
     "text": [
      "Iter 301/500 - Loss: 106.162\n"
     ]
    },
    {
     "name": "stderr",
     "output_type": "stream",
     "text": [
      "LinAlg (Verbose) - DEBUG - Running Cholesky on a matrix of size torch.Size([2000, 2000]).\n"
     ]
    },
    {
     "name": "stdout",
     "output_type": "stream",
     "text": [
      "Iter 302/500 - Loss: 106.159\n"
     ]
    },
    {
     "name": "stderr",
     "output_type": "stream",
     "text": [
      "LinAlg (Verbose) - DEBUG - Running Cholesky on a matrix of size torch.Size([2000, 2000]).\n"
     ]
    },
    {
     "name": "stdout",
     "output_type": "stream",
     "text": [
      "Iter 303/500 - Loss: 106.157\n"
     ]
    },
    {
     "name": "stderr",
     "output_type": "stream",
     "text": [
      "LinAlg (Verbose) - DEBUG - Running Cholesky on a matrix of size torch.Size([2000, 2000]).\n"
     ]
    },
    {
     "name": "stdout",
     "output_type": "stream",
     "text": [
      "Iter 304/500 - Loss: 106.155\n"
     ]
    },
    {
     "name": "stderr",
     "output_type": "stream",
     "text": [
      "LinAlg (Verbose) - DEBUG - Running Cholesky on a matrix of size torch.Size([2000, 2000]).\n"
     ]
    },
    {
     "name": "stdout",
     "output_type": "stream",
     "text": [
      "Iter 305/500 - Loss: 106.153\n"
     ]
    },
    {
     "name": "stderr",
     "output_type": "stream",
     "text": [
      "LinAlg (Verbose) - DEBUG - Running Cholesky on a matrix of size torch.Size([2000, 2000]).\n"
     ]
    },
    {
     "name": "stdout",
     "output_type": "stream",
     "text": [
      "Iter 306/500 - Loss: 106.150\n"
     ]
    },
    {
     "name": "stderr",
     "output_type": "stream",
     "text": [
      "LinAlg (Verbose) - DEBUG - Running Cholesky on a matrix of size torch.Size([2000, 2000]).\n"
     ]
    },
    {
     "name": "stdout",
     "output_type": "stream",
     "text": [
      "Iter 307/500 - Loss: 106.149\n"
     ]
    },
    {
     "name": "stderr",
     "output_type": "stream",
     "text": [
      "LinAlg (Verbose) - DEBUG - Running Cholesky on a matrix of size torch.Size([2000, 2000]).\n"
     ]
    },
    {
     "name": "stdout",
     "output_type": "stream",
     "text": [
      "Iter 308/500 - Loss: 106.146\n"
     ]
    },
    {
     "name": "stderr",
     "output_type": "stream",
     "text": [
      "LinAlg (Verbose) - DEBUG - Running Cholesky on a matrix of size torch.Size([2000, 2000]).\n"
     ]
    },
    {
     "name": "stdout",
     "output_type": "stream",
     "text": [
      "Iter 309/500 - Loss: 106.144\n"
     ]
    },
    {
     "name": "stderr",
     "output_type": "stream",
     "text": [
      "LinAlg (Verbose) - DEBUG - Running Cholesky on a matrix of size torch.Size([2000, 2000]).\n"
     ]
    },
    {
     "name": "stdout",
     "output_type": "stream",
     "text": [
      "Iter 310/500 - Loss: 106.142\n"
     ]
    },
    {
     "name": "stderr",
     "output_type": "stream",
     "text": [
      "LinAlg (Verbose) - DEBUG - Running Cholesky on a matrix of size torch.Size([2000, 2000]).\n"
     ]
    },
    {
     "name": "stdout",
     "output_type": "stream",
     "text": [
      "Iter 311/500 - Loss: 106.139\n"
     ]
    },
    {
     "name": "stderr",
     "output_type": "stream",
     "text": [
      "LinAlg (Verbose) - DEBUG - Running Cholesky on a matrix of size torch.Size([2000, 2000]).\n"
     ]
    },
    {
     "name": "stdout",
     "output_type": "stream",
     "text": [
      "Iter 312/500 - Loss: 106.137\n"
     ]
    },
    {
     "name": "stderr",
     "output_type": "stream",
     "text": [
      "LinAlg (Verbose) - DEBUG - Running Cholesky on a matrix of size torch.Size([2000, 2000]).\n"
     ]
    },
    {
     "name": "stdout",
     "output_type": "stream",
     "text": [
      "Iter 313/500 - Loss: 106.134\n"
     ]
    },
    {
     "name": "stderr",
     "output_type": "stream",
     "text": [
      "LinAlg (Verbose) - DEBUG - Running Cholesky on a matrix of size torch.Size([2000, 2000]).\n"
     ]
    },
    {
     "name": "stdout",
     "output_type": "stream",
     "text": [
      "Iter 314/500 - Loss: 106.132\n"
     ]
    },
    {
     "name": "stderr",
     "output_type": "stream",
     "text": [
      "LinAlg (Verbose) - DEBUG - Running Cholesky on a matrix of size torch.Size([2000, 2000]).\n"
     ]
    },
    {
     "name": "stdout",
     "output_type": "stream",
     "text": [
      "Iter 315/500 - Loss: 106.129\n"
     ]
    },
    {
     "name": "stderr",
     "output_type": "stream",
     "text": [
      "LinAlg (Verbose) - DEBUG - Running Cholesky on a matrix of size torch.Size([2000, 2000]).\n"
     ]
    },
    {
     "name": "stdout",
     "output_type": "stream",
     "text": [
      "Iter 316/500 - Loss: 106.126\n"
     ]
    },
    {
     "name": "stderr",
     "output_type": "stream",
     "text": [
      "LinAlg (Verbose) - DEBUG - Running Cholesky on a matrix of size torch.Size([2000, 2000]).\n"
     ]
    },
    {
     "name": "stdout",
     "output_type": "stream",
     "text": [
      "Iter 317/500 - Loss: 106.124\n"
     ]
    },
    {
     "name": "stderr",
     "output_type": "stream",
     "text": [
      "LinAlg (Verbose) - DEBUG - Running Cholesky on a matrix of size torch.Size([2000, 2000]).\n"
     ]
    },
    {
     "name": "stdout",
     "output_type": "stream",
     "text": [
      "Iter 318/500 - Loss: 106.122\n"
     ]
    },
    {
     "name": "stderr",
     "output_type": "stream",
     "text": [
      "LinAlg (Verbose) - DEBUG - Running Cholesky on a matrix of size torch.Size([2000, 2000]).\n"
     ]
    },
    {
     "name": "stdout",
     "output_type": "stream",
     "text": [
      "Iter 319/500 - Loss: 106.119\n"
     ]
    },
    {
     "name": "stderr",
     "output_type": "stream",
     "text": [
      "LinAlg (Verbose) - DEBUG - Running Cholesky on a matrix of size torch.Size([2000, 2000]).\n"
     ]
    },
    {
     "name": "stdout",
     "output_type": "stream",
     "text": [
      "Iter 320/500 - Loss: 106.116\n"
     ]
    },
    {
     "name": "stderr",
     "output_type": "stream",
     "text": [
      "LinAlg (Verbose) - DEBUG - Running Cholesky on a matrix of size torch.Size([2000, 2000]).\n"
     ]
    },
    {
     "name": "stdout",
     "output_type": "stream",
     "text": [
      "Iter 321/500 - Loss: 106.114\n"
     ]
    },
    {
     "name": "stderr",
     "output_type": "stream",
     "text": [
      "LinAlg (Verbose) - DEBUG - Running Cholesky on a matrix of size torch.Size([2000, 2000]).\n"
     ]
    },
    {
     "name": "stdout",
     "output_type": "stream",
     "text": [
      "Iter 322/500 - Loss: 106.112\n"
     ]
    },
    {
     "name": "stderr",
     "output_type": "stream",
     "text": [
      "LinAlg (Verbose) - DEBUG - Running Cholesky on a matrix of size torch.Size([2000, 2000]).\n"
     ]
    },
    {
     "name": "stdout",
     "output_type": "stream",
     "text": [
      "Iter 323/500 - Loss: 106.108\n"
     ]
    },
    {
     "name": "stderr",
     "output_type": "stream",
     "text": [
      "LinAlg (Verbose) - DEBUG - Running Cholesky on a matrix of size torch.Size([2000, 2000]).\n"
     ]
    },
    {
     "name": "stdout",
     "output_type": "stream",
     "text": [
      "Iter 324/500 - Loss: 106.105\n"
     ]
    },
    {
     "name": "stderr",
     "output_type": "stream",
     "text": [
      "LinAlg (Verbose) - DEBUG - Running Cholesky on a matrix of size torch.Size([2000, 2000]).\n"
     ]
    },
    {
     "name": "stdout",
     "output_type": "stream",
     "text": [
      "Iter 325/500 - Loss: 106.103\n"
     ]
    },
    {
     "name": "stderr",
     "output_type": "stream",
     "text": [
      "LinAlg (Verbose) - DEBUG - Running Cholesky on a matrix of size torch.Size([2000, 2000]).\n"
     ]
    },
    {
     "name": "stdout",
     "output_type": "stream",
     "text": [
      "Iter 326/500 - Loss: 106.101\n"
     ]
    },
    {
     "name": "stderr",
     "output_type": "stream",
     "text": [
      "LinAlg (Verbose) - DEBUG - Running Cholesky on a matrix of size torch.Size([2000, 2000]).\n"
     ]
    },
    {
     "name": "stdout",
     "output_type": "stream",
     "text": [
      "Iter 327/500 - Loss: 106.096\n"
     ]
    },
    {
     "name": "stderr",
     "output_type": "stream",
     "text": [
      "LinAlg (Verbose) - DEBUG - Running Cholesky on a matrix of size torch.Size([2000, 2000]).\n"
     ]
    },
    {
     "name": "stdout",
     "output_type": "stream",
     "text": [
      "Iter 328/500 - Loss: 106.094\n"
     ]
    },
    {
     "name": "stderr",
     "output_type": "stream",
     "text": [
      "LinAlg (Verbose) - DEBUG - Running Cholesky on a matrix of size torch.Size([2000, 2000]).\n"
     ]
    },
    {
     "name": "stdout",
     "output_type": "stream",
     "text": [
      "Iter 329/500 - Loss: 106.092\n"
     ]
    },
    {
     "name": "stderr",
     "output_type": "stream",
     "text": [
      "LinAlg (Verbose) - DEBUG - Running Cholesky on a matrix of size torch.Size([2000, 2000]).\n"
     ]
    },
    {
     "name": "stdout",
     "output_type": "stream",
     "text": [
      "Iter 330/500 - Loss: 106.088\n"
     ]
    },
    {
     "name": "stderr",
     "output_type": "stream",
     "text": [
      "LinAlg (Verbose) - DEBUG - Running Cholesky on a matrix of size torch.Size([2000, 2000]).\n"
     ]
    },
    {
     "name": "stdout",
     "output_type": "stream",
     "text": [
      "Iter 331/500 - Loss: 106.084\n"
     ]
    },
    {
     "name": "stderr",
     "output_type": "stream",
     "text": [
      "LinAlg (Verbose) - DEBUG - Running Cholesky on a matrix of size torch.Size([2000, 2000]).\n"
     ]
    },
    {
     "name": "stdout",
     "output_type": "stream",
     "text": [
      "Iter 332/500 - Loss: 106.081\n"
     ]
    },
    {
     "name": "stderr",
     "output_type": "stream",
     "text": [
      "LinAlg (Verbose) - DEBUG - Running Cholesky on a matrix of size torch.Size([2000, 2000]).\n"
     ]
    },
    {
     "name": "stdout",
     "output_type": "stream",
     "text": [
      "Iter 333/500 - Loss: 106.079\n"
     ]
    },
    {
     "name": "stderr",
     "output_type": "stream",
     "text": [
      "LinAlg (Verbose) - DEBUG - Running Cholesky on a matrix of size torch.Size([2000, 2000]).\n"
     ]
    },
    {
     "name": "stdout",
     "output_type": "stream",
     "text": [
      "Iter 334/500 - Loss: 106.076\n"
     ]
    },
    {
     "name": "stderr",
     "output_type": "stream",
     "text": [
      "LinAlg (Verbose) - DEBUG - Running Cholesky on a matrix of size torch.Size([2000, 2000]).\n"
     ]
    },
    {
     "name": "stdout",
     "output_type": "stream",
     "text": [
      "Iter 335/500 - Loss: 106.072\n"
     ]
    },
    {
     "name": "stderr",
     "output_type": "stream",
     "text": [
      "LinAlg (Verbose) - DEBUG - Running Cholesky on a matrix of size torch.Size([2000, 2000]).\n"
     ]
    },
    {
     "name": "stdout",
     "output_type": "stream",
     "text": [
      "Iter 336/500 - Loss: 106.069\n"
     ]
    },
    {
     "name": "stderr",
     "output_type": "stream",
     "text": [
      "LinAlg (Verbose) - DEBUG - Running Cholesky on a matrix of size torch.Size([2000, 2000]).\n"
     ]
    },
    {
     "name": "stdout",
     "output_type": "stream",
     "text": [
      "Iter 337/500 - Loss: 106.066\n"
     ]
    },
    {
     "name": "stderr",
     "output_type": "stream",
     "text": [
      "LinAlg (Verbose) - DEBUG - Running Cholesky on a matrix of size torch.Size([2000, 2000]).\n"
     ]
    },
    {
     "name": "stdout",
     "output_type": "stream",
     "text": [
      "Iter 338/500 - Loss: 106.062\n"
     ]
    },
    {
     "name": "stderr",
     "output_type": "stream",
     "text": [
      "LinAlg (Verbose) - DEBUG - Running Cholesky on a matrix of size torch.Size([2000, 2000]).\n"
     ]
    },
    {
     "name": "stdout",
     "output_type": "stream",
     "text": [
      "Iter 339/500 - Loss: 106.059\n"
     ]
    },
    {
     "name": "stderr",
     "output_type": "stream",
     "text": [
      "LinAlg (Verbose) - DEBUG - Running Cholesky on a matrix of size torch.Size([2000, 2000]).\n"
     ]
    },
    {
     "name": "stdout",
     "output_type": "stream",
     "text": [
      "Iter 340/500 - Loss: 106.056\n"
     ]
    },
    {
     "name": "stderr",
     "output_type": "stream",
     "text": [
      "LinAlg (Verbose) - DEBUG - Running Cholesky on a matrix of size torch.Size([2000, 2000]).\n"
     ]
    },
    {
     "name": "stdout",
     "output_type": "stream",
     "text": [
      "Iter 341/500 - Loss: 106.052\n"
     ]
    },
    {
     "name": "stderr",
     "output_type": "stream",
     "text": [
      "LinAlg (Verbose) - DEBUG - Running Cholesky on a matrix of size torch.Size([2000, 2000]).\n"
     ]
    },
    {
     "name": "stdout",
     "output_type": "stream",
     "text": [
      "Iter 342/500 - Loss: 106.049\n"
     ]
    },
    {
     "name": "stderr",
     "output_type": "stream",
     "text": [
      "LinAlg (Verbose) - DEBUG - Running Cholesky on a matrix of size torch.Size([2000, 2000]).\n"
     ]
    },
    {
     "name": "stdout",
     "output_type": "stream",
     "text": [
      "Iter 343/500 - Loss: 106.045\n"
     ]
    },
    {
     "name": "stderr",
     "output_type": "stream",
     "text": [
      "LinAlg (Verbose) - DEBUG - Running Cholesky on a matrix of size torch.Size([2000, 2000]).\n"
     ]
    },
    {
     "name": "stdout",
     "output_type": "stream",
     "text": [
      "Iter 344/500 - Loss: 106.042\n"
     ]
    },
    {
     "name": "stderr",
     "output_type": "stream",
     "text": [
      "LinAlg (Verbose) - DEBUG - Running Cholesky on a matrix of size torch.Size([2000, 2000]).\n"
     ]
    },
    {
     "name": "stdout",
     "output_type": "stream",
     "text": [
      "Iter 345/500 - Loss: 106.038\n"
     ]
    },
    {
     "name": "stderr",
     "output_type": "stream",
     "text": [
      "LinAlg (Verbose) - DEBUG - Running Cholesky on a matrix of size torch.Size([2000, 2000]).\n"
     ]
    },
    {
     "name": "stdout",
     "output_type": "stream",
     "text": [
      "Iter 346/500 - Loss: 106.034\n"
     ]
    },
    {
     "name": "stderr",
     "output_type": "stream",
     "text": [
      "LinAlg (Verbose) - DEBUG - Running Cholesky on a matrix of size torch.Size([2000, 2000]).\n"
     ]
    },
    {
     "name": "stdout",
     "output_type": "stream",
     "text": [
      "Iter 347/500 - Loss: 106.030\n"
     ]
    },
    {
     "name": "stderr",
     "output_type": "stream",
     "text": [
      "LinAlg (Verbose) - DEBUG - Running Cholesky on a matrix of size torch.Size([2000, 2000]).\n"
     ]
    },
    {
     "name": "stdout",
     "output_type": "stream",
     "text": [
      "Iter 348/500 - Loss: 106.027\n"
     ]
    },
    {
     "name": "stderr",
     "output_type": "stream",
     "text": [
      "LinAlg (Verbose) - DEBUG - Running Cholesky on a matrix of size torch.Size([2000, 2000]).\n"
     ]
    },
    {
     "name": "stdout",
     "output_type": "stream",
     "text": [
      "Iter 349/500 - Loss: 106.024\n"
     ]
    },
    {
     "name": "stderr",
     "output_type": "stream",
     "text": [
      "LinAlg (Verbose) - DEBUG - Running Cholesky on a matrix of size torch.Size([2000, 2000]).\n"
     ]
    },
    {
     "name": "stdout",
     "output_type": "stream",
     "text": [
      "Iter 350/500 - Loss: 106.019\n"
     ]
    },
    {
     "name": "stderr",
     "output_type": "stream",
     "text": [
      "LinAlg (Verbose) - DEBUG - Running Cholesky on a matrix of size torch.Size([2000, 2000]).\n"
     ]
    },
    {
     "name": "stdout",
     "output_type": "stream",
     "text": [
      "Iter 351/500 - Loss: 106.015\n"
     ]
    },
    {
     "name": "stderr",
     "output_type": "stream",
     "text": [
      "LinAlg (Verbose) - DEBUG - Running Cholesky on a matrix of size torch.Size([2000, 2000]).\n"
     ]
    },
    {
     "name": "stdout",
     "output_type": "stream",
     "text": [
      "Iter 352/500 - Loss: 106.011\n"
     ]
    },
    {
     "name": "stderr",
     "output_type": "stream",
     "text": [
      "LinAlg (Verbose) - DEBUG - Running Cholesky on a matrix of size torch.Size([2000, 2000]).\n"
     ]
    },
    {
     "name": "stdout",
     "output_type": "stream",
     "text": [
      "Iter 353/500 - Loss: 106.006\n"
     ]
    },
    {
     "name": "stderr",
     "output_type": "stream",
     "text": [
      "LinAlg (Verbose) - DEBUG - Running Cholesky on a matrix of size torch.Size([2000, 2000]).\n"
     ]
    },
    {
     "name": "stdout",
     "output_type": "stream",
     "text": [
      "Iter 354/500 - Loss: 106.002\n"
     ]
    },
    {
     "name": "stderr",
     "output_type": "stream",
     "text": [
      "LinAlg (Verbose) - DEBUG - Running Cholesky on a matrix of size torch.Size([2000, 2000]).\n"
     ]
    },
    {
     "name": "stdout",
     "output_type": "stream",
     "text": [
      "Iter 355/500 - Loss: 105.998\n"
     ]
    },
    {
     "name": "stderr",
     "output_type": "stream",
     "text": [
      "LinAlg (Verbose) - DEBUG - Running Cholesky on a matrix of size torch.Size([2000, 2000]).\n"
     ]
    },
    {
     "name": "stdout",
     "output_type": "stream",
     "text": [
      "Iter 356/500 - Loss: 105.993\n"
     ]
    },
    {
     "name": "stderr",
     "output_type": "stream",
     "text": [
      "LinAlg (Verbose) - DEBUG - Running Cholesky on a matrix of size torch.Size([2000, 2000]).\n"
     ]
    },
    {
     "name": "stdout",
     "output_type": "stream",
     "text": [
      "Iter 357/500 - Loss: 105.989\n"
     ]
    },
    {
     "name": "stderr",
     "output_type": "stream",
     "text": [
      "LinAlg (Verbose) - DEBUG - Running Cholesky on a matrix of size torch.Size([2000, 2000]).\n"
     ]
    },
    {
     "name": "stdout",
     "output_type": "stream",
     "text": [
      "Iter 358/500 - Loss: 105.985\n"
     ]
    },
    {
     "name": "stderr",
     "output_type": "stream",
     "text": [
      "LinAlg (Verbose) - DEBUG - Running Cholesky on a matrix of size torch.Size([2000, 2000]).\n"
     ]
    },
    {
     "name": "stdout",
     "output_type": "stream",
     "text": [
      "Iter 359/500 - Loss: 105.980\n"
     ]
    },
    {
     "name": "stderr",
     "output_type": "stream",
     "text": [
      "LinAlg (Verbose) - DEBUG - Running Cholesky on a matrix of size torch.Size([2000, 2000]).\n"
     ]
    },
    {
     "name": "stdout",
     "output_type": "stream",
     "text": [
      "Iter 360/500 - Loss: 105.976\n"
     ]
    },
    {
     "name": "stderr",
     "output_type": "stream",
     "text": [
      "LinAlg (Verbose) - DEBUG - Running Cholesky on a matrix of size torch.Size([2000, 2000]).\n"
     ]
    },
    {
     "name": "stdout",
     "output_type": "stream",
     "text": [
      "Iter 361/500 - Loss: 105.971\n"
     ]
    },
    {
     "name": "stderr",
     "output_type": "stream",
     "text": [
      "LinAlg (Verbose) - DEBUG - Running Cholesky on a matrix of size torch.Size([2000, 2000]).\n"
     ]
    },
    {
     "name": "stdout",
     "output_type": "stream",
     "text": [
      "Iter 362/500 - Loss: 105.967\n"
     ]
    },
    {
     "name": "stderr",
     "output_type": "stream",
     "text": [
      "LinAlg (Verbose) - DEBUG - Running Cholesky on a matrix of size torch.Size([2000, 2000]).\n"
     ]
    },
    {
     "name": "stdout",
     "output_type": "stream",
     "text": [
      "Iter 363/500 - Loss: 105.962\n"
     ]
    },
    {
     "name": "stderr",
     "output_type": "stream",
     "text": [
      "LinAlg (Verbose) - DEBUG - Running Cholesky on a matrix of size torch.Size([2000, 2000]).\n"
     ]
    },
    {
     "name": "stdout",
     "output_type": "stream",
     "text": [
      "Iter 364/500 - Loss: 105.957\n"
     ]
    },
    {
     "name": "stderr",
     "output_type": "stream",
     "text": [
      "LinAlg (Verbose) - DEBUG - Running Cholesky on a matrix of size torch.Size([2000, 2000]).\n"
     ]
    },
    {
     "name": "stdout",
     "output_type": "stream",
     "text": [
      "Iter 365/500 - Loss: 105.953\n"
     ]
    },
    {
     "name": "stderr",
     "output_type": "stream",
     "text": [
      "LinAlg (Verbose) - DEBUG - Running Cholesky on a matrix of size torch.Size([2000, 2000]).\n"
     ]
    },
    {
     "name": "stdout",
     "output_type": "stream",
     "text": [
      "Iter 366/500 - Loss: 105.947\n"
     ]
    },
    {
     "name": "stderr",
     "output_type": "stream",
     "text": [
      "LinAlg (Verbose) - DEBUG - Running Cholesky on a matrix of size torch.Size([2000, 2000]).\n"
     ]
    },
    {
     "name": "stdout",
     "output_type": "stream",
     "text": [
      "Iter 367/500 - Loss: 105.941\n"
     ]
    },
    {
     "name": "stderr",
     "output_type": "stream",
     "text": [
      "LinAlg (Verbose) - DEBUG - Running Cholesky on a matrix of size torch.Size([2000, 2000]).\n"
     ]
    },
    {
     "name": "stdout",
     "output_type": "stream",
     "text": [
      "Iter 368/500 - Loss: 105.937\n"
     ]
    },
    {
     "name": "stderr",
     "output_type": "stream",
     "text": [
      "LinAlg (Verbose) - DEBUG - Running Cholesky on a matrix of size torch.Size([2000, 2000]).\n"
     ]
    },
    {
     "name": "stdout",
     "output_type": "stream",
     "text": [
      "Iter 369/500 - Loss: 105.931\n"
     ]
    },
    {
     "name": "stderr",
     "output_type": "stream",
     "text": [
      "LinAlg (Verbose) - DEBUG - Running Cholesky on a matrix of size torch.Size([2000, 2000]).\n"
     ]
    },
    {
     "name": "stdout",
     "output_type": "stream",
     "text": [
      "Iter 370/500 - Loss: 105.926\n"
     ]
    },
    {
     "name": "stderr",
     "output_type": "stream",
     "text": [
      "LinAlg (Verbose) - DEBUG - Running Cholesky on a matrix of size torch.Size([2000, 2000]).\n"
     ]
    },
    {
     "name": "stdout",
     "output_type": "stream",
     "text": [
      "Iter 371/500 - Loss: 105.921\n"
     ]
    },
    {
     "name": "stderr",
     "output_type": "stream",
     "text": [
      "LinAlg (Verbose) - DEBUG - Running Cholesky on a matrix of size torch.Size([2000, 2000]).\n"
     ]
    },
    {
     "name": "stdout",
     "output_type": "stream",
     "text": [
      "Iter 372/500 - Loss: 105.915\n"
     ]
    },
    {
     "name": "stderr",
     "output_type": "stream",
     "text": [
      "LinAlg (Verbose) - DEBUG - Running Cholesky on a matrix of size torch.Size([2000, 2000]).\n"
     ]
    },
    {
     "name": "stdout",
     "output_type": "stream",
     "text": [
      "Iter 373/500 - Loss: 105.911\n"
     ]
    },
    {
     "name": "stderr",
     "output_type": "stream",
     "text": [
      "LinAlg (Verbose) - DEBUG - Running Cholesky on a matrix of size torch.Size([2000, 2000]).\n"
     ]
    },
    {
     "name": "stdout",
     "output_type": "stream",
     "text": [
      "Iter 374/500 - Loss: 105.907\n"
     ]
    },
    {
     "name": "stderr",
     "output_type": "stream",
     "text": [
      "LinAlg (Verbose) - DEBUG - Running Cholesky on a matrix of size torch.Size([2000, 2000]).\n"
     ]
    },
    {
     "name": "stdout",
     "output_type": "stream",
     "text": [
      "Iter 375/500 - Loss: 105.901\n"
     ]
    },
    {
     "name": "stderr",
     "output_type": "stream",
     "text": [
      "LinAlg (Verbose) - DEBUG - Running Cholesky on a matrix of size torch.Size([2000, 2000]).\n"
     ]
    },
    {
     "name": "stdout",
     "output_type": "stream",
     "text": [
      "Iter 376/500 - Loss: 105.893\n"
     ]
    },
    {
     "name": "stderr",
     "output_type": "stream",
     "text": [
      "LinAlg (Verbose) - DEBUG - Running Cholesky on a matrix of size torch.Size([2000, 2000]).\n"
     ]
    },
    {
     "name": "stdout",
     "output_type": "stream",
     "text": [
      "Iter 377/500 - Loss: 105.891\n"
     ]
    },
    {
     "name": "stderr",
     "output_type": "stream",
     "text": [
      "LinAlg (Verbose) - DEBUG - Running Cholesky on a matrix of size torch.Size([2000, 2000]).\n"
     ]
    },
    {
     "name": "stdout",
     "output_type": "stream",
     "text": [
      "Iter 378/500 - Loss: 105.886\n"
     ]
    },
    {
     "name": "stderr",
     "output_type": "stream",
     "text": [
      "LinAlg (Verbose) - DEBUG - Running Cholesky on a matrix of size torch.Size([2000, 2000]).\n"
     ]
    },
    {
     "name": "stdout",
     "output_type": "stream",
     "text": [
      "Iter 379/500 - Loss: 105.884\n"
     ]
    },
    {
     "name": "stderr",
     "output_type": "stream",
     "text": [
      "LinAlg (Verbose) - DEBUG - Running Cholesky on a matrix of size torch.Size([2000, 2000]).\n"
     ]
    },
    {
     "name": "stdout",
     "output_type": "stream",
     "text": [
      "Iter 380/500 - Loss: 105.878\n"
     ]
    },
    {
     "name": "stderr",
     "output_type": "stream",
     "text": [
      "LinAlg (Verbose) - DEBUG - Running Cholesky on a matrix of size torch.Size([2000, 2000]).\n"
     ]
    },
    {
     "name": "stdout",
     "output_type": "stream",
     "text": [
      "Iter 381/500 - Loss: 105.869\n"
     ]
    },
    {
     "name": "stderr",
     "output_type": "stream",
     "text": [
      "LinAlg (Verbose) - DEBUG - Running Cholesky on a matrix of size torch.Size([2000, 2000]).\n"
     ]
    },
    {
     "name": "stdout",
     "output_type": "stream",
     "text": [
      "Iter 382/500 - Loss: 105.868\n"
     ]
    },
    {
     "name": "stderr",
     "output_type": "stream",
     "text": [
      "LinAlg (Verbose) - DEBUG - Running Cholesky on a matrix of size torch.Size([2000, 2000]).\n"
     ]
    },
    {
     "name": "stdout",
     "output_type": "stream",
     "text": [
      "Iter 383/500 - Loss: 105.861\n"
     ]
    },
    {
     "name": "stderr",
     "output_type": "stream",
     "text": [
      "LinAlg (Verbose) - DEBUG - Running Cholesky on a matrix of size torch.Size([2000, 2000]).\n"
     ]
    },
    {
     "name": "stdout",
     "output_type": "stream",
     "text": [
      "Iter 384/500 - Loss: 105.854\n"
     ]
    },
    {
     "name": "stderr",
     "output_type": "stream",
     "text": [
      "LinAlg (Verbose) - DEBUG - Running Cholesky on a matrix of size torch.Size([2000, 2000]).\n"
     ]
    },
    {
     "name": "stdout",
     "output_type": "stream",
     "text": [
      "Iter 385/500 - Loss: 105.853\n"
     ]
    },
    {
     "name": "stderr",
     "output_type": "stream",
     "text": [
      "LinAlg (Verbose) - DEBUG - Running Cholesky on a matrix of size torch.Size([2000, 2000]).\n"
     ]
    },
    {
     "name": "stdout",
     "output_type": "stream",
     "text": [
      "Iter 386/500 - Loss: 105.847\n"
     ]
    },
    {
     "name": "stderr",
     "output_type": "stream",
     "text": [
      "LinAlg (Verbose) - DEBUG - Running Cholesky on a matrix of size torch.Size([2000, 2000]).\n"
     ]
    },
    {
     "name": "stdout",
     "output_type": "stream",
     "text": [
      "Iter 387/500 - Loss: 105.851\n"
     ]
    },
    {
     "name": "stderr",
     "output_type": "stream",
     "text": [
      "LinAlg (Verbose) - DEBUG - Running Cholesky on a matrix of size torch.Size([2000, 2000]).\n"
     ]
    },
    {
     "name": "stdout",
     "output_type": "stream",
     "text": [
      "Iter 388/500 - Loss: 105.860\n"
     ]
    },
    {
     "name": "stderr",
     "output_type": "stream",
     "text": [
      "LinAlg (Verbose) - DEBUG - Running Cholesky on a matrix of size torch.Size([2000, 2000]).\n"
     ]
    },
    {
     "name": "stdout",
     "output_type": "stream",
     "text": [
      "Iter 389/500 - Loss: 105.839\n"
     ]
    },
    {
     "name": "stderr",
     "output_type": "stream",
     "text": [
      "LinAlg (Verbose) - DEBUG - Running Cholesky on a matrix of size torch.Size([2000, 2000]).\n"
     ]
    },
    {
     "name": "stdout",
     "output_type": "stream",
     "text": [
      "Iter 390/500 - Loss: 105.846\n"
     ]
    },
    {
     "name": "stderr",
     "output_type": "stream",
     "text": [
      "LinAlg (Verbose) - DEBUG - Running Cholesky on a matrix of size torch.Size([2000, 2000]).\n"
     ]
    },
    {
     "name": "stdout",
     "output_type": "stream",
     "text": [
      "Iter 391/500 - Loss: 105.849\n"
     ]
    },
    {
     "name": "stderr",
     "output_type": "stream",
     "text": [
      "LinAlg (Verbose) - DEBUG - Running Cholesky on a matrix of size torch.Size([2000, 2000]).\n"
     ]
    },
    {
     "name": "stdout",
     "output_type": "stream",
     "text": [
      "Iter 392/500 - Loss: 105.844\n"
     ]
    },
    {
     "name": "stderr",
     "output_type": "stream",
     "text": [
      "LinAlg (Verbose) - DEBUG - Running Cholesky on a matrix of size torch.Size([2000, 2000]).\n"
     ]
    },
    {
     "name": "stdout",
     "output_type": "stream",
     "text": [
      "Iter 393/500 - Loss: 105.844\n"
     ]
    },
    {
     "name": "stderr",
     "output_type": "stream",
     "text": [
      "LinAlg (Verbose) - DEBUG - Running Cholesky on a matrix of size torch.Size([2000, 2000]).\n"
     ]
    },
    {
     "name": "stdout",
     "output_type": "stream",
     "text": [
      "Iter 394/500 - Loss: 105.838\n"
     ]
    },
    {
     "name": "stderr",
     "output_type": "stream",
     "text": [
      "LinAlg (Verbose) - DEBUG - Running Cholesky on a matrix of size torch.Size([2000, 2000]).\n"
     ]
    },
    {
     "name": "stdout",
     "output_type": "stream",
     "text": [
      "Iter 395/500 - Loss: 105.843\n"
     ]
    },
    {
     "name": "stderr",
     "output_type": "stream",
     "text": [
      "LinAlg (Verbose) - DEBUG - Running Cholesky on a matrix of size torch.Size([2000, 2000]).\n"
     ]
    },
    {
     "name": "stdout",
     "output_type": "stream",
     "text": [
      "Iter 396/500 - Loss: 105.835\n"
     ]
    },
    {
     "name": "stderr",
     "output_type": "stream",
     "text": [
      "LinAlg (Verbose) - DEBUG - Running Cholesky on a matrix of size torch.Size([2000, 2000]).\n"
     ]
    },
    {
     "name": "stdout",
     "output_type": "stream",
     "text": [
      "Iter 397/500 - Loss: 105.851\n"
     ]
    },
    {
     "name": "stderr",
     "output_type": "stream",
     "text": [
      "LinAlg (Verbose) - DEBUG - Running Cholesky on a matrix of size torch.Size([2000, 2000]).\n"
     ]
    },
    {
     "name": "stdout",
     "output_type": "stream",
     "text": [
      "Iter 398/500 - Loss: 105.847\n"
     ]
    },
    {
     "name": "stderr",
     "output_type": "stream",
     "text": [
      "LinAlg (Verbose) - DEBUG - Running Cholesky on a matrix of size torch.Size([2000, 2000]).\n"
     ]
    },
    {
     "name": "stdout",
     "output_type": "stream",
     "text": [
      "Iter 399/500 - Loss: 105.841\n"
     ]
    },
    {
     "name": "stderr",
     "output_type": "stream",
     "text": [
      "LinAlg (Verbose) - DEBUG - Running Cholesky on a matrix of size torch.Size([2000, 2000]).\n"
     ]
    },
    {
     "name": "stdout",
     "output_type": "stream",
     "text": [
      "Iter 400/500 - Loss: 105.844\n"
     ]
    },
    {
     "name": "stderr",
     "output_type": "stream",
     "text": [
      "LinAlg (Verbose) - DEBUG - Running Cholesky on a matrix of size torch.Size([2000, 2000]).\n"
     ]
    },
    {
     "name": "stdout",
     "output_type": "stream",
     "text": [
      "Iter 401/500 - Loss: 105.835\n"
     ]
    },
    {
     "name": "stderr",
     "output_type": "stream",
     "text": [
      "LinAlg (Verbose) - DEBUG - Running Cholesky on a matrix of size torch.Size([2000, 2000]).\n"
     ]
    },
    {
     "name": "stdout",
     "output_type": "stream",
     "text": [
      "Iter 402/500 - Loss: 105.838\n"
     ]
    },
    {
     "name": "stderr",
     "output_type": "stream",
     "text": [
      "LinAlg (Verbose) - DEBUG - Running Cholesky on a matrix of size torch.Size([2000, 2000]).\n"
     ]
    },
    {
     "name": "stdout",
     "output_type": "stream",
     "text": [
      "Iter 403/500 - Loss: 105.834\n"
     ]
    },
    {
     "name": "stderr",
     "output_type": "stream",
     "text": [
      "LinAlg (Verbose) - DEBUG - Running Cholesky on a matrix of size torch.Size([2000, 2000]).\n"
     ]
    },
    {
     "name": "stdout",
     "output_type": "stream",
     "text": [
      "Iter 404/500 - Loss: 105.830\n"
     ]
    },
    {
     "name": "stderr",
     "output_type": "stream",
     "text": [
      "LinAlg (Verbose) - DEBUG - Running Cholesky on a matrix of size torch.Size([2000, 2000]).\n"
     ]
    },
    {
     "name": "stdout",
     "output_type": "stream",
     "text": [
      "Iter 405/500 - Loss: 105.832\n"
     ]
    },
    {
     "name": "stderr",
     "output_type": "stream",
     "text": [
      "LinAlg (Verbose) - DEBUG - Running Cholesky on a matrix of size torch.Size([2000, 2000]).\n"
     ]
    },
    {
     "name": "stdout",
     "output_type": "stream",
     "text": [
      "Iter 406/500 - Loss: 105.831\n"
     ]
    },
    {
     "name": "stderr",
     "output_type": "stream",
     "text": [
      "LinAlg (Verbose) - DEBUG - Running Cholesky on a matrix of size torch.Size([2000, 2000]).\n"
     ]
    },
    {
     "name": "stdout",
     "output_type": "stream",
     "text": [
      "Iter 407/500 - Loss: 105.826\n"
     ]
    },
    {
     "name": "stderr",
     "output_type": "stream",
     "text": [
      "LinAlg (Verbose) - DEBUG - Running Cholesky on a matrix of size torch.Size([2000, 2000]).\n"
     ]
    },
    {
     "name": "stdout",
     "output_type": "stream",
     "text": [
      "Iter 408/500 - Loss: 105.829\n"
     ]
    },
    {
     "name": "stderr",
     "output_type": "stream",
     "text": [
      "LinAlg (Verbose) - DEBUG - Running Cholesky on a matrix of size torch.Size([2000, 2000]).\n"
     ]
    },
    {
     "name": "stdout",
     "output_type": "stream",
     "text": [
      "Iter 409/500 - Loss: 105.824\n"
     ]
    },
    {
     "name": "stderr",
     "output_type": "stream",
     "text": [
      "LinAlg (Verbose) - DEBUG - Running Cholesky on a matrix of size torch.Size([2000, 2000]).\n"
     ]
    },
    {
     "name": "stdout",
     "output_type": "stream",
     "text": [
      "Iter 410/500 - Loss: 105.826\n"
     ]
    },
    {
     "name": "stderr",
     "output_type": "stream",
     "text": [
      "LinAlg (Verbose) - DEBUG - Running Cholesky on a matrix of size torch.Size([2000, 2000]).\n"
     ]
    },
    {
     "name": "stdout",
     "output_type": "stream",
     "text": [
      "Iter 411/500 - Loss: 105.823\n"
     ]
    },
    {
     "name": "stderr",
     "output_type": "stream",
     "text": [
      "LinAlg (Verbose) - DEBUG - Running Cholesky on a matrix of size torch.Size([2000, 2000]).\n"
     ]
    },
    {
     "name": "stdout",
     "output_type": "stream",
     "text": [
      "Iter 412/500 - Loss: 105.824\n"
     ]
    },
    {
     "name": "stderr",
     "output_type": "stream",
     "text": [
      "LinAlg (Verbose) - DEBUG - Running Cholesky on a matrix of size torch.Size([2000, 2000]).\n"
     ]
    },
    {
     "name": "stdout",
     "output_type": "stream",
     "text": [
      "Iter 413/500 - Loss: 105.821\n"
     ]
    },
    {
     "name": "stderr",
     "output_type": "stream",
     "text": [
      "LinAlg (Verbose) - DEBUG - Running Cholesky on a matrix of size torch.Size([2000, 2000]).\n"
     ]
    },
    {
     "name": "stdout",
     "output_type": "stream",
     "text": [
      "Iter 414/500 - Loss: 105.823\n"
     ]
    },
    {
     "name": "stderr",
     "output_type": "stream",
     "text": [
      "LinAlg (Verbose) - DEBUG - Running Cholesky on a matrix of size torch.Size([2000, 2000]).\n"
     ]
    },
    {
     "name": "stdout",
     "output_type": "stream",
     "text": [
      "Iter 415/500 - Loss: 105.819\n"
     ]
    },
    {
     "name": "stderr",
     "output_type": "stream",
     "text": [
      "LinAlg (Verbose) - DEBUG - Running Cholesky on a matrix of size torch.Size([2000, 2000]).\n"
     ]
    },
    {
     "name": "stdout",
     "output_type": "stream",
     "text": [
      "Iter 416/500 - Loss: 105.821\n"
     ]
    },
    {
     "name": "stderr",
     "output_type": "stream",
     "text": [
      "LinAlg (Verbose) - DEBUG - Running Cholesky on a matrix of size torch.Size([2000, 2000]).\n"
     ]
    },
    {
     "name": "stdout",
     "output_type": "stream",
     "text": [
      "Iter 417/500 - Loss: 105.819\n"
     ]
    },
    {
     "name": "stderr",
     "output_type": "stream",
     "text": [
      "LinAlg (Verbose) - DEBUG - Running Cholesky on a matrix of size torch.Size([2000, 2000]).\n"
     ]
    },
    {
     "name": "stdout",
     "output_type": "stream",
     "text": [
      "Iter 418/500 - Loss: 105.820\n"
     ]
    },
    {
     "name": "stderr",
     "output_type": "stream",
     "text": [
      "LinAlg (Verbose) - DEBUG - Running Cholesky on a matrix of size torch.Size([2000, 2000]).\n"
     ]
    },
    {
     "name": "stdout",
     "output_type": "stream",
     "text": [
      "Iter 419/500 - Loss: 105.819\n"
     ]
    },
    {
     "name": "stderr",
     "output_type": "stream",
     "text": [
      "LinAlg (Verbose) - DEBUG - Running Cholesky on a matrix of size torch.Size([2000, 2000]).\n"
     ]
    },
    {
     "name": "stdout",
     "output_type": "stream",
     "text": [
      "Iter 420/500 - Loss: 105.818\n"
     ]
    },
    {
     "name": "stderr",
     "output_type": "stream",
     "text": [
      "LinAlg (Verbose) - DEBUG - Running Cholesky on a matrix of size torch.Size([2000, 2000]).\n"
     ]
    },
    {
     "name": "stdout",
     "output_type": "stream",
     "text": [
      "Iter 421/500 - Loss: 105.817\n"
     ]
    },
    {
     "name": "stderr",
     "output_type": "stream",
     "text": [
      "LinAlg (Verbose) - DEBUG - Running Cholesky on a matrix of size torch.Size([2000, 2000]).\n"
     ]
    },
    {
     "name": "stdout",
     "output_type": "stream",
     "text": [
      "Iter 422/500 - Loss: 105.818\n"
     ]
    },
    {
     "name": "stderr",
     "output_type": "stream",
     "text": [
      "LinAlg (Verbose) - DEBUG - Running Cholesky on a matrix of size torch.Size([2000, 2000]).\n"
     ]
    },
    {
     "name": "stdout",
     "output_type": "stream",
     "text": [
      "Iter 423/500 - Loss: 105.817\n"
     ]
    },
    {
     "name": "stderr",
     "output_type": "stream",
     "text": [
      "LinAlg (Verbose) - DEBUG - Running Cholesky on a matrix of size torch.Size([2000, 2000]).\n"
     ]
    },
    {
     "name": "stdout",
     "output_type": "stream",
     "text": [
      "Iter 424/500 - Loss: 105.817\n"
     ]
    },
    {
     "name": "stderr",
     "output_type": "stream",
     "text": [
      "LinAlg (Verbose) - DEBUG - Running Cholesky on a matrix of size torch.Size([2000, 2000]).\n"
     ]
    },
    {
     "name": "stdout",
     "output_type": "stream",
     "text": [
      "Iter 425/500 - Loss: 105.816\n"
     ]
    },
    {
     "name": "stderr",
     "output_type": "stream",
     "text": [
      "LinAlg (Verbose) - DEBUG - Running Cholesky on a matrix of size torch.Size([2000, 2000]).\n"
     ]
    },
    {
     "name": "stdout",
     "output_type": "stream",
     "text": [
      "Iter 426/500 - Loss: 105.816\n"
     ]
    },
    {
     "name": "stderr",
     "output_type": "stream",
     "text": [
      "LinAlg (Verbose) - DEBUG - Running Cholesky on a matrix of size torch.Size([2000, 2000]).\n"
     ]
    },
    {
     "name": "stdout",
     "output_type": "stream",
     "text": [
      "Iter 427/500 - Loss: 105.815\n"
     ]
    },
    {
     "name": "stderr",
     "output_type": "stream",
     "text": [
      "LinAlg (Verbose) - DEBUG - Running Cholesky on a matrix of size torch.Size([2000, 2000]).\n"
     ]
    },
    {
     "name": "stdout",
     "output_type": "stream",
     "text": [
      "Iter 428/500 - Loss: 105.814\n"
     ]
    },
    {
     "name": "stderr",
     "output_type": "stream",
     "text": [
      "LinAlg (Verbose) - DEBUG - Running Cholesky on a matrix of size torch.Size([2000, 2000]).\n"
     ]
    },
    {
     "name": "stdout",
     "output_type": "stream",
     "text": [
      "Iter 429/500 - Loss: 105.815\n"
     ]
    },
    {
     "name": "stderr",
     "output_type": "stream",
     "text": [
      "LinAlg (Verbose) - DEBUG - Running Cholesky on a matrix of size torch.Size([2000, 2000]).\n"
     ]
    },
    {
     "name": "stdout",
     "output_type": "stream",
     "text": [
      "Iter 430/500 - Loss: 105.814\n"
     ]
    },
    {
     "name": "stderr",
     "output_type": "stream",
     "text": [
      "LinAlg (Verbose) - DEBUG - Running Cholesky on a matrix of size torch.Size([2000, 2000]).\n"
     ]
    },
    {
     "name": "stdout",
     "output_type": "stream",
     "text": [
      "Iter 431/500 - Loss: 105.814\n"
     ]
    },
    {
     "name": "stderr",
     "output_type": "stream",
     "text": [
      "LinAlg (Verbose) - DEBUG - Running Cholesky on a matrix of size torch.Size([2000, 2000]).\n"
     ]
    },
    {
     "name": "stdout",
     "output_type": "stream",
     "text": [
      "Iter 432/500 - Loss: 105.813\n"
     ]
    },
    {
     "name": "stderr",
     "output_type": "stream",
     "text": [
      "LinAlg (Verbose) - DEBUG - Running Cholesky on a matrix of size torch.Size([2000, 2000]).\n"
     ]
    },
    {
     "name": "stdout",
     "output_type": "stream",
     "text": [
      "Iter 433/500 - Loss: 105.813\n"
     ]
    },
    {
     "name": "stderr",
     "output_type": "stream",
     "text": [
      "LinAlg (Verbose) - DEBUG - Running Cholesky on a matrix of size torch.Size([2000, 2000]).\n"
     ]
    },
    {
     "name": "stdout",
     "output_type": "stream",
     "text": [
      "Iter 434/500 - Loss: 105.813\n"
     ]
    },
    {
     "name": "stderr",
     "output_type": "stream",
     "text": [
      "LinAlg (Verbose) - DEBUG - Running Cholesky on a matrix of size torch.Size([2000, 2000]).\n"
     ]
    },
    {
     "name": "stdout",
     "output_type": "stream",
     "text": [
      "Iter 435/500 - Loss: 105.812\n"
     ]
    },
    {
     "name": "stderr",
     "output_type": "stream",
     "text": [
      "LinAlg (Verbose) - DEBUG - Running Cholesky on a matrix of size torch.Size([2000, 2000]).\n"
     ]
    },
    {
     "name": "stdout",
     "output_type": "stream",
     "text": [
      "Iter 436/500 - Loss: 105.812\n"
     ]
    },
    {
     "name": "stderr",
     "output_type": "stream",
     "text": [
      "LinAlg (Verbose) - DEBUG - Running Cholesky on a matrix of size torch.Size([2000, 2000]).\n"
     ]
    },
    {
     "name": "stdout",
     "output_type": "stream",
     "text": [
      "Iter 437/500 - Loss: 105.812\n"
     ]
    },
    {
     "name": "stderr",
     "output_type": "stream",
     "text": [
      "LinAlg (Verbose) - DEBUG - Running Cholesky on a matrix of size torch.Size([2000, 2000]).\n"
     ]
    },
    {
     "name": "stdout",
     "output_type": "stream",
     "text": [
      "Iter 438/500 - Loss: 105.811\n"
     ]
    },
    {
     "name": "stderr",
     "output_type": "stream",
     "text": [
      "LinAlg (Verbose) - DEBUG - Running Cholesky on a matrix of size torch.Size([2000, 2000]).\n"
     ]
    },
    {
     "name": "stdout",
     "output_type": "stream",
     "text": [
      "Iter 439/500 - Loss: 105.810\n"
     ]
    },
    {
     "name": "stderr",
     "output_type": "stream",
     "text": [
      "LinAlg (Verbose) - DEBUG - Running Cholesky on a matrix of size torch.Size([2000, 2000]).\n"
     ]
    },
    {
     "name": "stdout",
     "output_type": "stream",
     "text": [
      "Iter 440/500 - Loss: 105.810\n"
     ]
    },
    {
     "name": "stderr",
     "output_type": "stream",
     "text": [
      "LinAlg (Verbose) - DEBUG - Running Cholesky on a matrix of size torch.Size([2000, 2000]).\n"
     ]
    },
    {
     "name": "stdout",
     "output_type": "stream",
     "text": [
      "Iter 441/500 - Loss: 105.810\n"
     ]
    },
    {
     "name": "stderr",
     "output_type": "stream",
     "text": [
      "LinAlg (Verbose) - DEBUG - Running Cholesky on a matrix of size torch.Size([2000, 2000]).\n"
     ]
    },
    {
     "name": "stdout",
     "output_type": "stream",
     "text": [
      "Iter 442/500 - Loss: 105.810\n"
     ]
    },
    {
     "name": "stderr",
     "output_type": "stream",
     "text": [
      "LinAlg (Verbose) - DEBUG - Running Cholesky on a matrix of size torch.Size([2000, 2000]).\n"
     ]
    },
    {
     "name": "stdout",
     "output_type": "stream",
     "text": [
      "Iter 443/500 - Loss: 105.809\n"
     ]
    },
    {
     "name": "stderr",
     "output_type": "stream",
     "text": [
      "LinAlg (Verbose) - DEBUG - Running Cholesky on a matrix of size torch.Size([2000, 2000]).\n"
     ]
    },
    {
     "name": "stdout",
     "output_type": "stream",
     "text": [
      "Iter 444/500 - Loss: 105.809\n"
     ]
    },
    {
     "name": "stderr",
     "output_type": "stream",
     "text": [
      "LinAlg (Verbose) - DEBUG - Running Cholesky on a matrix of size torch.Size([2000, 2000]).\n"
     ]
    },
    {
     "name": "stdout",
     "output_type": "stream",
     "text": [
      "Iter 445/500 - Loss: 105.809\n"
     ]
    },
    {
     "name": "stderr",
     "output_type": "stream",
     "text": [
      "LinAlg (Verbose) - DEBUG - Running Cholesky on a matrix of size torch.Size([2000, 2000]).\n"
     ]
    },
    {
     "name": "stdout",
     "output_type": "stream",
     "text": [
      "Iter 446/500 - Loss: 105.808\n"
     ]
    },
    {
     "name": "stderr",
     "output_type": "stream",
     "text": [
      "LinAlg (Verbose) - DEBUG - Running Cholesky on a matrix of size torch.Size([2000, 2000]).\n"
     ]
    },
    {
     "name": "stdout",
     "output_type": "stream",
     "text": [
      "Iter 447/500 - Loss: 105.808\n"
     ]
    },
    {
     "name": "stderr",
     "output_type": "stream",
     "text": [
      "LinAlg (Verbose) - DEBUG - Running Cholesky on a matrix of size torch.Size([2000, 2000]).\n"
     ]
    },
    {
     "name": "stdout",
     "output_type": "stream",
     "text": [
      "Iter 448/500 - Loss: 105.807\n"
     ]
    },
    {
     "name": "stderr",
     "output_type": "stream",
     "text": [
      "LinAlg (Verbose) - DEBUG - Running Cholesky on a matrix of size torch.Size([2000, 2000]).\n"
     ]
    },
    {
     "name": "stdout",
     "output_type": "stream",
     "text": [
      "Iter 449/500 - Loss: 105.807\n"
     ]
    },
    {
     "name": "stderr",
     "output_type": "stream",
     "text": [
      "LinAlg (Verbose) - DEBUG - Running Cholesky on a matrix of size torch.Size([2000, 2000]).\n"
     ]
    },
    {
     "name": "stdout",
     "output_type": "stream",
     "text": [
      "Iter 450/500 - Loss: 105.807\n"
     ]
    },
    {
     "name": "stderr",
     "output_type": "stream",
     "text": [
      "LinAlg (Verbose) - DEBUG - Running Cholesky on a matrix of size torch.Size([2000, 2000]).\n"
     ]
    },
    {
     "name": "stdout",
     "output_type": "stream",
     "text": [
      "Iter 451/500 - Loss: 105.806\n"
     ]
    },
    {
     "name": "stderr",
     "output_type": "stream",
     "text": [
      "LinAlg (Verbose) - DEBUG - Running Cholesky on a matrix of size torch.Size([2000, 2000]).\n"
     ]
    },
    {
     "name": "stdout",
     "output_type": "stream",
     "text": [
      "Iter 452/500 - Loss: 105.806\n"
     ]
    },
    {
     "name": "stderr",
     "output_type": "stream",
     "text": [
      "LinAlg (Verbose) - DEBUG - Running Cholesky on a matrix of size torch.Size([2000, 2000]).\n"
     ]
    },
    {
     "name": "stdout",
     "output_type": "stream",
     "text": [
      "Iter 453/500 - Loss: 105.806\n"
     ]
    },
    {
     "name": "stderr",
     "output_type": "stream",
     "text": [
      "LinAlg (Verbose) - DEBUG - Running Cholesky on a matrix of size torch.Size([2000, 2000]).\n"
     ]
    },
    {
     "name": "stdout",
     "output_type": "stream",
     "text": [
      "Iter 454/500 - Loss: 105.805\n"
     ]
    },
    {
     "name": "stderr",
     "output_type": "stream",
     "text": [
      "LinAlg (Verbose) - DEBUG - Running Cholesky on a matrix of size torch.Size([2000, 2000]).\n"
     ]
    },
    {
     "name": "stdout",
     "output_type": "stream",
     "text": [
      "Iter 455/500 - Loss: 105.805\n"
     ]
    },
    {
     "name": "stderr",
     "output_type": "stream",
     "text": [
      "LinAlg (Verbose) - DEBUG - Running Cholesky on a matrix of size torch.Size([2000, 2000]).\n"
     ]
    },
    {
     "name": "stdout",
     "output_type": "stream",
     "text": [
      "Iter 456/500 - Loss: 105.805\n"
     ]
    },
    {
     "name": "stderr",
     "output_type": "stream",
     "text": [
      "LinAlg (Verbose) - DEBUG - Running Cholesky on a matrix of size torch.Size([2000, 2000]).\n"
     ]
    },
    {
     "name": "stdout",
     "output_type": "stream",
     "text": [
      "Iter 457/500 - Loss: 105.804\n"
     ]
    },
    {
     "name": "stderr",
     "output_type": "stream",
     "text": [
      "LinAlg (Verbose) - DEBUG - Running Cholesky on a matrix of size torch.Size([2000, 2000]).\n"
     ]
    },
    {
     "name": "stdout",
     "output_type": "stream",
     "text": [
      "Iter 458/500 - Loss: 105.804\n"
     ]
    },
    {
     "name": "stderr",
     "output_type": "stream",
     "text": [
      "LinAlg (Verbose) - DEBUG - Running Cholesky on a matrix of size torch.Size([2000, 2000]).\n"
     ]
    },
    {
     "name": "stdout",
     "output_type": "stream",
     "text": [
      "Iter 459/500 - Loss: 105.803\n"
     ]
    },
    {
     "name": "stderr",
     "output_type": "stream",
     "text": [
      "LinAlg (Verbose) - DEBUG - Running Cholesky on a matrix of size torch.Size([2000, 2000]).\n"
     ]
    },
    {
     "name": "stdout",
     "output_type": "stream",
     "text": [
      "Iter 460/500 - Loss: 105.803\n"
     ]
    },
    {
     "name": "stderr",
     "output_type": "stream",
     "text": [
      "LinAlg (Verbose) - DEBUG - Running Cholesky on a matrix of size torch.Size([2000, 2000]).\n"
     ]
    },
    {
     "name": "stdout",
     "output_type": "stream",
     "text": [
      "Iter 461/500 - Loss: 105.803\n"
     ]
    },
    {
     "name": "stderr",
     "output_type": "stream",
     "text": [
      "LinAlg (Verbose) - DEBUG - Running Cholesky on a matrix of size torch.Size([2000, 2000]).\n"
     ]
    },
    {
     "name": "stdout",
     "output_type": "stream",
     "text": [
      "Iter 462/500 - Loss: 105.802\n"
     ]
    },
    {
     "name": "stderr",
     "output_type": "stream",
     "text": [
      "LinAlg (Verbose) - DEBUG - Running Cholesky on a matrix of size torch.Size([2000, 2000]).\n"
     ]
    },
    {
     "name": "stdout",
     "output_type": "stream",
     "text": [
      "Iter 463/500 - Loss: 105.802\n"
     ]
    },
    {
     "name": "stderr",
     "output_type": "stream",
     "text": [
      "LinAlg (Verbose) - DEBUG - Running Cholesky on a matrix of size torch.Size([2000, 2000]).\n"
     ]
    },
    {
     "name": "stdout",
     "output_type": "stream",
     "text": [
      "Iter 464/500 - Loss: 105.802\n"
     ]
    },
    {
     "name": "stderr",
     "output_type": "stream",
     "text": [
      "LinAlg (Verbose) - DEBUG - Running Cholesky on a matrix of size torch.Size([2000, 2000]).\n"
     ]
    },
    {
     "name": "stdout",
     "output_type": "stream",
     "text": [
      "Iter 465/500 - Loss: 105.801\n"
     ]
    },
    {
     "name": "stderr",
     "output_type": "stream",
     "text": [
      "LinAlg (Verbose) - DEBUG - Running Cholesky on a matrix of size torch.Size([2000, 2000]).\n"
     ]
    },
    {
     "name": "stdout",
     "output_type": "stream",
     "text": [
      "Iter 466/500 - Loss: 105.801\n"
     ]
    },
    {
     "name": "stderr",
     "output_type": "stream",
     "text": [
      "LinAlg (Verbose) - DEBUG - Running Cholesky on a matrix of size torch.Size([2000, 2000]).\n"
     ]
    },
    {
     "name": "stdout",
     "output_type": "stream",
     "text": [
      "Iter 467/500 - Loss: 105.801\n"
     ]
    },
    {
     "name": "stderr",
     "output_type": "stream",
     "text": [
      "LinAlg (Verbose) - DEBUG - Running Cholesky on a matrix of size torch.Size([2000, 2000]).\n"
     ]
    },
    {
     "name": "stdout",
     "output_type": "stream",
     "text": [
      "Iter 468/500 - Loss: 105.800\n"
     ]
    },
    {
     "name": "stderr",
     "output_type": "stream",
     "text": [
      "LinAlg (Verbose) - DEBUG - Running Cholesky on a matrix of size torch.Size([2000, 2000]).\n"
     ]
    },
    {
     "name": "stdout",
     "output_type": "stream",
     "text": [
      "Iter 469/500 - Loss: 105.799\n"
     ]
    },
    {
     "name": "stderr",
     "output_type": "stream",
     "text": [
      "LinAlg (Verbose) - DEBUG - Running Cholesky on a matrix of size torch.Size([2000, 2000]).\n"
     ]
    },
    {
     "name": "stdout",
     "output_type": "stream",
     "text": [
      "Iter 470/500 - Loss: 105.799\n"
     ]
    },
    {
     "name": "stderr",
     "output_type": "stream",
     "text": [
      "LinAlg (Verbose) - DEBUG - Running Cholesky on a matrix of size torch.Size([2000, 2000]).\n"
     ]
    },
    {
     "name": "stdout",
     "output_type": "stream",
     "text": [
      "Iter 471/500 - Loss: 105.799\n"
     ]
    },
    {
     "name": "stderr",
     "output_type": "stream",
     "text": [
      "LinAlg (Verbose) - DEBUG - Running Cholesky on a matrix of size torch.Size([2000, 2000]).\n"
     ]
    },
    {
     "name": "stdout",
     "output_type": "stream",
     "text": [
      "Iter 472/500 - Loss: 105.798\n"
     ]
    },
    {
     "name": "stderr",
     "output_type": "stream",
     "text": [
      "LinAlg (Verbose) - DEBUG - Running Cholesky on a matrix of size torch.Size([2000, 2000]).\n"
     ]
    },
    {
     "name": "stdout",
     "output_type": "stream",
     "text": [
      "Iter 473/500 - Loss: 105.798\n"
     ]
    },
    {
     "name": "stderr",
     "output_type": "stream",
     "text": [
      "LinAlg (Verbose) - DEBUG - Running Cholesky on a matrix of size torch.Size([2000, 2000]).\n"
     ]
    },
    {
     "name": "stdout",
     "output_type": "stream",
     "text": [
      "Iter 474/500 - Loss: 105.797\n"
     ]
    },
    {
     "name": "stderr",
     "output_type": "stream",
     "text": [
      "LinAlg (Verbose) - DEBUG - Running Cholesky on a matrix of size torch.Size([2000, 2000]).\n"
     ]
    },
    {
     "name": "stdout",
     "output_type": "stream",
     "text": [
      "Iter 475/500 - Loss: 105.797\n"
     ]
    },
    {
     "name": "stderr",
     "output_type": "stream",
     "text": [
      "LinAlg (Verbose) - DEBUG - Running Cholesky on a matrix of size torch.Size([2000, 2000]).\n"
     ]
    },
    {
     "name": "stdout",
     "output_type": "stream",
     "text": [
      "Iter 476/500 - Loss: 105.797\n"
     ]
    },
    {
     "name": "stderr",
     "output_type": "stream",
     "text": [
      "LinAlg (Verbose) - DEBUG - Running Cholesky on a matrix of size torch.Size([2000, 2000]).\n"
     ]
    },
    {
     "name": "stdout",
     "output_type": "stream",
     "text": [
      "Iter 477/500 - Loss: 105.796\n"
     ]
    },
    {
     "name": "stderr",
     "output_type": "stream",
     "text": [
      "LinAlg (Verbose) - DEBUG - Running Cholesky on a matrix of size torch.Size([2000, 2000]).\n"
     ]
    },
    {
     "name": "stdout",
     "output_type": "stream",
     "text": [
      "Iter 478/500 - Loss: 105.796\n"
     ]
    },
    {
     "name": "stderr",
     "output_type": "stream",
     "text": [
      "LinAlg (Verbose) - DEBUG - Running Cholesky on a matrix of size torch.Size([2000, 2000]).\n"
     ]
    },
    {
     "name": "stdout",
     "output_type": "stream",
     "text": [
      "Iter 479/500 - Loss: 105.795\n"
     ]
    },
    {
     "name": "stderr",
     "output_type": "stream",
     "text": [
      "LinAlg (Verbose) - DEBUG - Running Cholesky on a matrix of size torch.Size([2000, 2000]).\n"
     ]
    },
    {
     "name": "stdout",
     "output_type": "stream",
     "text": [
      "Iter 480/500 - Loss: 105.795\n"
     ]
    },
    {
     "name": "stderr",
     "output_type": "stream",
     "text": [
      "LinAlg (Verbose) - DEBUG - Running Cholesky on a matrix of size torch.Size([2000, 2000]).\n"
     ]
    },
    {
     "name": "stdout",
     "output_type": "stream",
     "text": [
      "Iter 481/500 - Loss: 105.794\n"
     ]
    },
    {
     "name": "stderr",
     "output_type": "stream",
     "text": [
      "LinAlg (Verbose) - DEBUG - Running Cholesky on a matrix of size torch.Size([2000, 2000]).\n"
     ]
    },
    {
     "name": "stdout",
     "output_type": "stream",
     "text": [
      "Iter 482/500 - Loss: 105.794\n"
     ]
    },
    {
     "name": "stderr",
     "output_type": "stream",
     "text": [
      "LinAlg (Verbose) - DEBUG - Running Cholesky on a matrix of size torch.Size([2000, 2000]).\n"
     ]
    },
    {
     "name": "stdout",
     "output_type": "stream",
     "text": [
      "Iter 483/500 - Loss: 105.794\n"
     ]
    },
    {
     "name": "stderr",
     "output_type": "stream",
     "text": [
      "LinAlg (Verbose) - DEBUG - Running Cholesky on a matrix of size torch.Size([2000, 2000]).\n"
     ]
    },
    {
     "name": "stdout",
     "output_type": "stream",
     "text": [
      "Iter 484/500 - Loss: 105.793\n"
     ]
    },
    {
     "name": "stderr",
     "output_type": "stream",
     "text": [
      "LinAlg (Verbose) - DEBUG - Running Cholesky on a matrix of size torch.Size([2000, 2000]).\n"
     ]
    },
    {
     "name": "stdout",
     "output_type": "stream",
     "text": [
      "Iter 485/500 - Loss: 105.793\n"
     ]
    },
    {
     "name": "stderr",
     "output_type": "stream",
     "text": [
      "LinAlg (Verbose) - DEBUG - Running Cholesky on a matrix of size torch.Size([2000, 2000]).\n"
     ]
    },
    {
     "name": "stdout",
     "output_type": "stream",
     "text": [
      "Iter 486/500 - Loss: 105.792\n"
     ]
    },
    {
     "name": "stderr",
     "output_type": "stream",
     "text": [
      "LinAlg (Verbose) - DEBUG - Running Cholesky on a matrix of size torch.Size([2000, 2000]).\n"
     ]
    },
    {
     "name": "stdout",
     "output_type": "stream",
     "text": [
      "Iter 487/500 - Loss: 105.792\n"
     ]
    },
    {
     "name": "stderr",
     "output_type": "stream",
     "text": [
      "LinAlg (Verbose) - DEBUG - Running Cholesky on a matrix of size torch.Size([2000, 2000]).\n"
     ]
    },
    {
     "name": "stdout",
     "output_type": "stream",
     "text": [
      "Iter 488/500 - Loss: 105.791\n"
     ]
    },
    {
     "name": "stderr",
     "output_type": "stream",
     "text": [
      "LinAlg (Verbose) - DEBUG - Running Cholesky on a matrix of size torch.Size([2000, 2000]).\n"
     ]
    },
    {
     "name": "stdout",
     "output_type": "stream",
     "text": [
      "Iter 489/500 - Loss: 105.791\n"
     ]
    },
    {
     "name": "stderr",
     "output_type": "stream",
     "text": [
      "LinAlg (Verbose) - DEBUG - Running Cholesky on a matrix of size torch.Size([2000, 2000]).\n"
     ]
    },
    {
     "name": "stdout",
     "output_type": "stream",
     "text": [
      "Iter 490/500 - Loss: 105.790\n"
     ]
    },
    {
     "name": "stderr",
     "output_type": "stream",
     "text": [
      "LinAlg (Verbose) - DEBUG - Running Cholesky on a matrix of size torch.Size([2000, 2000]).\n"
     ]
    },
    {
     "name": "stdout",
     "output_type": "stream",
     "text": [
      "Iter 491/500 - Loss: 105.790\n"
     ]
    },
    {
     "name": "stderr",
     "output_type": "stream",
     "text": [
      "LinAlg (Verbose) - DEBUG - Running Cholesky on a matrix of size torch.Size([2000, 2000]).\n"
     ]
    },
    {
     "name": "stdout",
     "output_type": "stream",
     "text": [
      "Iter 492/500 - Loss: 105.789\n"
     ]
    },
    {
     "name": "stderr",
     "output_type": "stream",
     "text": [
      "LinAlg (Verbose) - DEBUG - Running Cholesky on a matrix of size torch.Size([2000, 2000]).\n"
     ]
    },
    {
     "name": "stdout",
     "output_type": "stream",
     "text": [
      "Iter 493/500 - Loss: 105.789\n"
     ]
    },
    {
     "name": "stderr",
     "output_type": "stream",
     "text": [
      "LinAlg (Verbose) - DEBUG - Running Cholesky on a matrix of size torch.Size([2000, 2000]).\n"
     ]
    },
    {
     "name": "stdout",
     "output_type": "stream",
     "text": [
      "Iter 494/500 - Loss: 105.788\n"
     ]
    },
    {
     "name": "stderr",
     "output_type": "stream",
     "text": [
      "LinAlg (Verbose) - DEBUG - Running Cholesky on a matrix of size torch.Size([2000, 2000]).\n"
     ]
    },
    {
     "name": "stdout",
     "output_type": "stream",
     "text": [
      "Iter 495/500 - Loss: 105.788\n"
     ]
    },
    {
     "name": "stderr",
     "output_type": "stream",
     "text": [
      "LinAlg (Verbose) - DEBUG - Running Cholesky on a matrix of size torch.Size([2000, 2000]).\n"
     ]
    },
    {
     "name": "stdout",
     "output_type": "stream",
     "text": [
      "Iter 496/500 - Loss: 105.788\n"
     ]
    },
    {
     "name": "stderr",
     "output_type": "stream",
     "text": [
      "LinAlg (Verbose) - DEBUG - Running Cholesky on a matrix of size torch.Size([2000, 2000]).\n"
     ]
    },
    {
     "name": "stdout",
     "output_type": "stream",
     "text": [
      "Iter 497/500 - Loss: 105.787\n"
     ]
    },
    {
     "name": "stderr",
     "output_type": "stream",
     "text": [
      "LinAlg (Verbose) - DEBUG - Running Cholesky on a matrix of size torch.Size([2000, 2000]).\n"
     ]
    },
    {
     "name": "stdout",
     "output_type": "stream",
     "text": [
      "Iter 498/500 - Loss: 105.786\n"
     ]
    },
    {
     "name": "stderr",
     "output_type": "stream",
     "text": [
      "LinAlg (Verbose) - DEBUG - Running Cholesky on a matrix of size torch.Size([2000, 2000]).\n"
     ]
    },
    {
     "name": "stdout",
     "output_type": "stream",
     "text": [
      "Iter 499/500 - Loss: 105.786\n",
      "Iter 500/500 - Loss: 105.785\n"
     ]
    }
   ],
   "source": [
    "# this is for running the notebook in our testing framework\n",
    "import os\n",
    "smoke_test = ('CI' in os.environ)\n",
    "training_iterations = 2 if smoke_test else 500\n",
    "\n",
    "\n",
    "# Find optimal model hyperparameters\n",
    "model.train()\n",
    "likelihood.train()\n",
    "\n",
    "# Use the adam optimizer\n",
    "optimizer = torch.optim.Adam(model.parameters(), lr=0.1)  # Includes GaussianLikelihood parameters\n",
    "\n",
    "# \"Loss\" for GPs - the marginal log likelihood\n",
    "mll = gpytorch.mlls.ExactMarginalLogLikelihood(likelihood, model)\n",
    "with gpytorch.settings.max_preconditioner_size(0), gpytorch.settings.verbose_linalg(True),gpytorch.settings.fast_computations(False,False,False),gpytorch.settings.cg_tolerance(1e-2):\n",
    "    for i in range(training_iterations):\n",
    "        optimizer.zero_grad()\n",
    "        output = model(train_x)\n",
    "        loss = -mll(output, train_y)\n",
    "        loss.backward()\n",
    "        print('Iter %d/%d - Loss: %.3f'\n",
    "              #, Lengthscale 1: %.3f, Lengthscale 2: %.3f' \n",
    "              % (i + 1, training_iterations, loss.item()))#, kernels[0].lengthscale.float(), kernels[1].lengthscale.float()))\n",
    "        optimizer.step()"
   ]
  },
  {
   "cell_type": "code",
   "execution_count": 16,
   "id": "downtown-aruba",
   "metadata": {},
   "outputs": [
    {
     "name": "stdout",
     "output_type": "stream",
     "text": [
      "tensor([[0.4972]], grad_fn=<SoftplusBackward>) tensor([[0.1023]], grad_fn=<SoftplusBackward>)\n"
     ]
    }
   ],
   "source": [
    "print(kernels[0].lengthscale, kernels[1].lengthscale\n",
    "     )"
   ]
  },
  {
   "cell_type": "code",
   "execution_count": 20,
   "id": "atlantic-jackson",
   "metadata": {},
   "outputs": [
    {
     "ename": "AttributeError",
     "evalue": "'NoneType' object has no attribute '_validate_sample'",
     "output_type": "error",
     "traceback": [
      "\u001b[0;31m---------------------------------------------------------------------------\u001b[0m",
      "\u001b[0;31mAttributeError\u001b[0m                            Traceback (most recent call last)",
      "\u001b[0;32m<ipython-input-20-a68ba0a30346>\u001b[0m in \u001b[0;36m<module>\u001b[0;34m\u001b[0m\n\u001b[1;32m      1\u001b[0m \u001b[0mlikelihood\u001b[0m \u001b[0;34m=\u001b[0m \u001b[0mgpytorch\u001b[0m\u001b[0;34m.\u001b[0m\u001b[0mlikelihoods\u001b[0m\u001b[0;34m.\u001b[0m\u001b[0mMultitaskGaussianLikelihood\u001b[0m\u001b[0;34m(\u001b[0m\u001b[0mnum_tasks\u001b[0m\u001b[0;34m=\u001b[0m\u001b[0mn_outputs\u001b[0m\u001b[0;34m)\u001b[0m\u001b[0;34m\u001b[0m\u001b[0;34m\u001b[0m\u001b[0m\n\u001b[0;32m----> 2\u001b[0;31m \u001b[0mlikelihood\u001b[0m\u001b[0;34m.\u001b[0m\u001b[0mnoise\u001b[0m \u001b[0;34m=\u001b[0m \u001b[0;36m1e-4\u001b[0m\u001b[0;34m\u001b[0m\u001b[0;34m\u001b[0m\u001b[0m\n\u001b[0m\u001b[1;32m      3\u001b[0m \u001b[0mlikelihood\u001b[0m\u001b[0;34m.\u001b[0m\u001b[0mtask_noises\u001b[0m \u001b[0;34m=\u001b[0m \u001b[0mtorch\u001b[0m\u001b[0;34m.\u001b[0m\u001b[0mdiagonal\u001b[0m\u001b[0;34m(\u001b[0m\u001b[0mR\u001b[0m\u001b[0;34m)\u001b[0m \u001b[0;34m-\u001b[0m \u001b[0;36m1e-4\u001b[0m\u001b[0;34m\u001b[0m\u001b[0;34m\u001b[0m\u001b[0m\n\u001b[1;32m      4\u001b[0m \u001b[0;34m\u001b[0m\u001b[0m\n\u001b[1;32m      5\u001b[0m \u001b[0;34m\u001b[0m\u001b[0m\n",
      "\u001b[0;32m/scratch/jts58/devenv/lib/python3.7/site-packages/torch-1.7.1-py3.7-linux-x86_64.egg/torch/nn/modules/module.py\u001b[0m in \u001b[0;36m__setattr__\u001b[0;34m(self, name, value)\u001b[0m\n\u001b[1;32m    824\u001b[0m                     \u001b[0mbuffers\u001b[0m\u001b[0;34m[\u001b[0m\u001b[0mname\u001b[0m\u001b[0;34m]\u001b[0m \u001b[0;34m=\u001b[0m \u001b[0mvalue\u001b[0m\u001b[0;34m\u001b[0m\u001b[0;34m\u001b[0m\u001b[0m\n\u001b[1;32m    825\u001b[0m                 \u001b[0;32melse\u001b[0m\u001b[0;34m:\u001b[0m\u001b[0;34m\u001b[0m\u001b[0;34m\u001b[0m\u001b[0m\n\u001b[0;32m--> 826\u001b[0;31m                     \u001b[0mobject\u001b[0m\u001b[0;34m.\u001b[0m\u001b[0m__setattr__\u001b[0m\u001b[0;34m(\u001b[0m\u001b[0mself\u001b[0m\u001b[0;34m,\u001b[0m \u001b[0mname\u001b[0m\u001b[0;34m,\u001b[0m \u001b[0mvalue\u001b[0m\u001b[0;34m)\u001b[0m\u001b[0;34m\u001b[0m\u001b[0;34m\u001b[0m\u001b[0m\n\u001b[0m\u001b[1;32m    827\u001b[0m \u001b[0;34m\u001b[0m\u001b[0m\n\u001b[1;32m    828\u001b[0m     \u001b[0;32mdef\u001b[0m \u001b[0m__delattr__\u001b[0m\u001b[0;34m(\u001b[0m\u001b[0mself\u001b[0m\u001b[0;34m,\u001b[0m \u001b[0mname\u001b[0m\u001b[0;34m)\u001b[0m\u001b[0;34m:\u001b[0m\u001b[0;34m\u001b[0m\u001b[0;34m\u001b[0m\u001b[0m\n",
      "\u001b[0;32m/scratch/jts58/devenv/lib/python3.7/site-packages/gpytorch-1.4.0-py3.7.egg/gpytorch/likelihoods/multitask_gaussian_likelihood.py\u001b[0m in \u001b[0;36mnoise\u001b[0;34m(self, value)\u001b[0m\n\u001b[1;32m    213\u001b[0m     \u001b[0;34m@\u001b[0m\u001b[0mnoise\u001b[0m\u001b[0;34m.\u001b[0m\u001b[0msetter\u001b[0m\u001b[0;34m\u001b[0m\u001b[0;34m\u001b[0m\u001b[0m\n\u001b[1;32m    214\u001b[0m     \u001b[0;32mdef\u001b[0m \u001b[0mnoise\u001b[0m\u001b[0;34m(\u001b[0m\u001b[0mself\u001b[0m\u001b[0;34m,\u001b[0m \u001b[0mvalue\u001b[0m\u001b[0;34m)\u001b[0m\u001b[0;34m:\u001b[0m\u001b[0;34m\u001b[0m\u001b[0;34m\u001b[0m\u001b[0m\n\u001b[0;32m--> 215\u001b[0;31m         \u001b[0mself\u001b[0m\u001b[0;34m.\u001b[0m\u001b[0m_set_noise\u001b[0m\u001b[0;34m(\u001b[0m\u001b[0mvalue\u001b[0m\u001b[0;34m)\u001b[0m\u001b[0;34m\u001b[0m\u001b[0;34m\u001b[0m\u001b[0m\n\u001b[0m\u001b[1;32m    216\u001b[0m \u001b[0;34m\u001b[0m\u001b[0m\n\u001b[1;32m    217\u001b[0m     \u001b[0;34m@\u001b[0m\u001b[0mproperty\u001b[0m\u001b[0;34m\u001b[0m\u001b[0;34m\u001b[0m\u001b[0m\n",
      "\u001b[0;32m/scratch/jts58/devenv/lib/python3.7/site-packages/gpytorch-1.4.0-py3.7.egg/gpytorch/likelihoods/multitask_gaussian_likelihood.py\u001b[0m in \u001b[0;36m_set_noise\u001b[0;34m(self, value)\u001b[0m\n\u001b[1;32m    220\u001b[0m \u001b[0;34m\u001b[0m\u001b[0m\n\u001b[1;32m    221\u001b[0m     \u001b[0;32mdef\u001b[0m \u001b[0m_set_noise\u001b[0m\u001b[0;34m(\u001b[0m\u001b[0mself\u001b[0m\u001b[0;34m,\u001b[0m \u001b[0mvalue\u001b[0m\u001b[0;34m)\u001b[0m\u001b[0;34m:\u001b[0m\u001b[0;34m\u001b[0m\u001b[0;34m\u001b[0m\u001b[0m\n\u001b[0;32m--> 222\u001b[0;31m         \u001b[0mself\u001b[0m\u001b[0;34m.\u001b[0m\u001b[0minitialize\u001b[0m\u001b[0;34m(\u001b[0m\u001b[0mraw_noise\u001b[0m\u001b[0;34m=\u001b[0m\u001b[0mself\u001b[0m\u001b[0;34m.\u001b[0m\u001b[0mraw_noise_constraint\u001b[0m\u001b[0;34m.\u001b[0m\u001b[0minverse_transform\u001b[0m\u001b[0;34m(\u001b[0m\u001b[0mvalue\u001b[0m\u001b[0;34m)\u001b[0m\u001b[0;34m)\u001b[0m\u001b[0;34m\u001b[0m\u001b[0;34m\u001b[0m\u001b[0m\n\u001b[0m\u001b[1;32m    223\u001b[0m \u001b[0;34m\u001b[0m\u001b[0m\n\u001b[1;32m    224\u001b[0m     \u001b[0;32mdef\u001b[0m \u001b[0m_eval_covar_matrix\u001b[0m\u001b[0;34m(\u001b[0m\u001b[0mself\u001b[0m\u001b[0;34m)\u001b[0m\u001b[0;34m:\u001b[0m\u001b[0;34m\u001b[0m\u001b[0;34m\u001b[0m\u001b[0m\n",
      "\u001b[0;32m/scratch/jts58/devenv/lib/python3.7/site-packages/gpytorch-1.4.0-py3.7.egg/gpytorch/module.py\u001b[0m in \u001b[0;36minitialize\u001b[0;34m(self, **kwargs)\u001b[0m\n\u001b[1;32m    128\u001b[0m                 \u001b[0mprior\u001b[0m\u001b[0;34m,\u001b[0m \u001b[0mclosure\u001b[0m\u001b[0;34m,\u001b[0m \u001b[0m_\u001b[0m \u001b[0;34m=\u001b[0m \u001b[0mself\u001b[0m\u001b[0;34m.\u001b[0m\u001b[0m_priors\u001b[0m\u001b[0;34m[\u001b[0m\u001b[0mprior_name\u001b[0m\u001b[0;34m]\u001b[0m\u001b[0;34m\u001b[0m\u001b[0;34m\u001b[0m\u001b[0m\n\u001b[1;32m    129\u001b[0m                 \u001b[0;32mtry\u001b[0m\u001b[0;34m:\u001b[0m\u001b[0;34m\u001b[0m\u001b[0;34m\u001b[0m\u001b[0m\n\u001b[0;32m--> 130\u001b[0;31m                     \u001b[0mprior\u001b[0m\u001b[0;34m.\u001b[0m\u001b[0m_validate_sample\u001b[0m\u001b[0;34m(\u001b[0m\u001b[0mclosure\u001b[0m\u001b[0;34m(\u001b[0m\u001b[0mself\u001b[0m\u001b[0;34m)\u001b[0m\u001b[0;34m)\u001b[0m\u001b[0;34m\u001b[0m\u001b[0;34m\u001b[0m\u001b[0m\n\u001b[0m\u001b[1;32m    131\u001b[0m                 \u001b[0;32mexcept\u001b[0m \u001b[0mValueError\u001b[0m \u001b[0;32mas\u001b[0m \u001b[0me\u001b[0m\u001b[0;34m:\u001b[0m\u001b[0;34m\u001b[0m\u001b[0;34m\u001b[0m\u001b[0m\n\u001b[1;32m    132\u001b[0m                     \u001b[0;32mraise\u001b[0m \u001b[0mValueError\u001b[0m\u001b[0;34m(\u001b[0m\u001b[0;34m\"Invalid input value for prior {}. Error:\\n{}\"\u001b[0m\u001b[0;34m.\u001b[0m\u001b[0mformat\u001b[0m\u001b[0;34m(\u001b[0m\u001b[0mprior_name\u001b[0m\u001b[0;34m,\u001b[0m \u001b[0me\u001b[0m\u001b[0;34m)\u001b[0m\u001b[0;34m)\u001b[0m\u001b[0;34m\u001b[0m\u001b[0;34m\u001b[0m\u001b[0m\n",
      "\u001b[0;31mAttributeError\u001b[0m: 'NoneType' object has no attribute '_validate_sample'"
     ]
    }
   ],
   "source": [
    "likelihood = gpytorch.likelihoods.MultitaskGaussianLikelihood(num_tasks=n_outputs)\n",
    "likelihood.noise = 1e-4\n",
    "likelihood.task_noises = torch.diagonal(R) - 1e-4\n",
    "\n",
    "\n",
    "\n",
    "\n",
    "\n",
    "kernels = [gpytorch.kernels.RBFKernel() for t in range(n_latents)]\n",
    "for t in range(n_latents):\n",
    "    kernels[t].lengthscale = length_scales[t]\n",
    "model=GPFAModel(train_x,train_y, likelihood,  kernels, n_latents, n_outputs)\n",
    "model.covar_module.C = C\n",
    "for i in range(n_outputs):\n",
    "    model.mean_module.base_means[i].constant = torch.nn.Parameter(d[i])\n"
   ]
  },
  {
   "cell_type": "code",
   "execution_count": 22,
   "id": "virtual-international",
   "metadata": {},
   "outputs": [
    {
     "name": "stdout",
     "output_type": "stream",
     "text": [
      "Help on class MultitaskGaussianLikelihood in module gpytorch.likelihoods.multitask_gaussian_likelihood:\n",
      "\n",
      "class MultitaskGaussianLikelihood(_MultitaskGaussianLikelihoodBase)\n",
      " |  MultitaskGaussianLikelihood(num_tasks, rank=0, task_prior=None, batch_shape=torch.Size([]), noise_prior=None, noise_constraint=None, has_global_noise=True, has_task_noise=True)\n",
      " |  \n",
      " |  A convenient extension of the :class:`gpytorch.likelihoods.GaussianLikelihood` to the multitask setting that allows\n",
      " |  for a full cross-task covariance structure for the noise. The fitted covariance matrix has rank `rank`.\n",
      " |  If a strictly diagonal task noise covariance matrix is desired, then rank=0 should be set. (This option still\n",
      " |  allows for a different `noise` parameter for each task.)\n",
      " |  \n",
      " |  Like the Gaussian likelihood, this object can be used with exact inference.\n",
      " |  \n",
      " |  Method resolution order:\n",
      " |      MultitaskGaussianLikelihood\n",
      " |      _MultitaskGaussianLikelihoodBase\n",
      " |      gpytorch.likelihoods.gaussian_likelihood._GaussianLikelihoodBase\n",
      " |      gpytorch.likelihoods.likelihood.Likelihood\n",
      " |      gpytorch.likelihoods.likelihood._Likelihood\n",
      " |      gpytorch.module.Module\n",
      " |      torch.nn.modules.module.Module\n",
      " |      abc.ABC\n",
      " |      builtins.object\n",
      " |  \n",
      " |  Methods defined here:\n",
      " |  \n",
      " |  __init__(self, num_tasks, rank=0, task_prior=None, batch_shape=torch.Size([]), noise_prior=None, noise_constraint=None, has_global_noise=True, has_task_noise=True)\n",
      " |      Args:\n",
      " |          num_tasks (int): Number of tasks.\n",
      " |      \n",
      " |          rank (int): The rank of the task noise covariance matrix to fit. If `rank` is set to 0,\n",
      " |          then a diagonal covariance matrix is fit.\n",
      " |      \n",
      " |          task_prior (:obj:`gpytorch.priors.Prior`): Prior to use over the task noise covariance matrix if\n",
      " |          `rank` > 0, or a prior over the log of just the diagonal elements, if `rank` == 0.\n",
      " |      \n",
      " |          has_global_noise (bool): whether to include a \\sigma^2 I_{nt} term in the noise model.\n",
      " |      \n",
      " |          has_task_noise (bool): whether to include task-specific noise terms, which add I_n \\kron D_T\n",
      " |          into the noise model.\n",
      " |      \n",
      " |          At least one of has_global_noise or has_task_noise should be specified.\n",
      " |  \n",
      " |  ----------------------------------------------------------------------\n",
      " |  Data descriptors defined here:\n",
      " |  \n",
      " |  noise\n",
      " |  \n",
      " |  task_noises\n",
      " |  \n",
      " |  ----------------------------------------------------------------------\n",
      " |  Data and other attributes defined here:\n",
      " |  \n",
      " |  __abstractmethods__ = frozenset()\n",
      " |  \n",
      " |  ----------------------------------------------------------------------\n",
      " |  Methods inherited from _MultitaskGaussianLikelihoodBase:\n",
      " |  \n",
      " |  forward(self, function_samples: torch.Tensor, *params: Any, **kwargs: Any) -> torch.distributions.normal.Normal\n",
      " |      Defines the computation performed at every call.\n",
      " |      \n",
      " |      Should be overridden by all subclasses.\n",
      " |      \n",
      " |      .. note::\n",
      " |          Although the recipe for forward pass needs to be defined within\n",
      " |          this function, one should call the :class:`Module` instance afterwards\n",
      " |          instead of this since the former takes care of running the\n",
      " |          registered hooks while the latter silently ignores them.\n",
      " |  \n",
      " |  marginal(self, function_dist, *params, **kwargs)\n",
      " |      If `rank` == 0, adds the task noises to the diagonal of the covariance matrix of the supplied\n",
      " |      :obj:`gpytorch.distributions.MultivariateNormal` or :obj:`gpytorch.distributions.MultitaskMultivariateNormal`.\n",
      " |      Otherwise, adds a rank `rank` covariance matrix to it.\n",
      " |      \n",
      " |      To accomplish this, we form a new :obj:`gpytorch.lazy.KroneckerProductLazyTensor` between :math:`I_{n}`,\n",
      " |      an identity matrix with size equal to the data and a (not necessarily diagonal) matrix containing the task\n",
      " |      noises :math:`D_{t}`.\n",
      " |      \n",
      " |      We also incorporate a shared `noise` parameter from the base\n",
      " |      :class:`gpytorch.likelihoods.GaussianLikelihood` that we extend.\n",
      " |      \n",
      " |      The final covariance matrix after this method is then :math:`K + D_{t} \\otimes I_{n} + \\sigma^{2}I_{nt}`.\n",
      " |      \n",
      " |      Args:\n",
      " |          function_dist (:obj:`gpytorch.distributions.MultitaskMultivariateNormal`): Random variable whose covariance\n",
      " |              matrix is a :obj:`gpytorch.lazy.LazyTensor` we intend to augment.\n",
      " |      Returns:\n",
      " |          :obj:`gpytorch.distributions.MultitaskMultivariateNormal`: A new random variable whose covariance\n",
      " |          matrix is a :obj:`gpytorch.lazy.LazyTensor` with :math:`D_{t} \\otimes I_{n}` and :math:`\\sigma^{2}I_{nt}`\n",
      " |          added.\n",
      " |  \n",
      " |  ----------------------------------------------------------------------\n",
      " |  Methods inherited from gpytorch.likelihoods.gaussian_likelihood._GaussianLikelihoodBase:\n",
      " |  \n",
      " |  expected_log_prob(self, target: torch.Tensor, input: gpytorch.distributions.multivariate_normal.MultivariateNormal, *params: Any, **kwargs: Any) -> torch.Tensor\n",
      " |  \n",
      " |  log_marginal(self, observations: torch.Tensor, function_dist: gpytorch.distributions.multivariate_normal.MultivariateNormal, *params: Any, **kwargs: Any) -> torch.Tensor\n",
      " |  \n",
      " |  ----------------------------------------------------------------------\n",
      " |  Data descriptors inherited from gpytorch.likelihoods.likelihood.Likelihood:\n",
      " |  \n",
      " |  name_prefix\n",
      " |  \n",
      " |  num_data\n",
      " |  \n",
      " |  ----------------------------------------------------------------------\n",
      " |  Methods inherited from gpytorch.likelihoods.likelihood._Likelihood:\n",
      " |  \n",
      " |  __call__(self, input, *args, **kwargs)\n",
      " |      Call self as a function.\n",
      " |  \n",
      " |  get_fantasy_likelihood(self, **kwargs)\n",
      " |  \n",
      " |  ----------------------------------------------------------------------\n",
      " |  Methods inherited from gpytorch.module.Module:\n",
      " |  \n",
      " |  __getattr__(self, name)\n",
      " |  \n",
      " |  added_loss_terms(self)\n",
      " |  \n",
      " |  constraint_for_parameter_name(self, param_name)\n",
      " |  \n",
      " |  constraints(self)\n",
      " |  \n",
      " |  hyperparameters(self)\n",
      " |  \n",
      " |  initialize(self, **kwargs)\n",
      " |      Set a value for a parameter\n",
      " |      \n",
      " |      kwargs: (param_name, value) - parameter to initialize.\n",
      " |      Can also initialize recursively by passing in the full name of a\n",
      " |      parameter. For example if model has attribute model.likelihood,\n",
      " |      we can initialize the noise with either\n",
      " |      `model.initialize(**{'likelihood.noise': 0.1})`\n",
      " |      or\n",
      " |      `model.likelihood.initialize(noise=0.1)`.\n",
      " |      The former method would allow users to more easily store the\n",
      " |      initialization values as one object.\n",
      " |      \n",
      " |      Value can take the form of a tensor, a float, or an int\n",
      " |  \n",
      " |  load_strict_shapes(self, value)\n",
      " |  \n",
      " |  local_load_samples(self, samples_dict, memo, prefix)\n",
      " |      Defines local behavior of this Module when loading parameters from a samples_dict generated by a Pyro\n",
      " |      sampling mechanism.\n",
      " |      \n",
      " |      The default behavior here should almost always be called from any overriding class. However, a class may\n",
      " |      want to add additional functionality, such as reshaping things to account for the fact that parameters will\n",
      " |      acquire an extra batch dimension corresponding to the number of samples drawn.\n",
      " |  \n",
      " |  named_added_loss_terms(self)\n",
      " |      Returns an iterator over module variational strategies, yielding both\n",
      " |      the name of the variational strategy as well as the strategy itself.\n",
      " |      \n",
      " |      Yields:\n",
      " |          (string, VariationalStrategy): Tuple containing the name of the\n",
      " |              strategy and the strategy\n",
      " |  \n",
      " |  named_constraints(self, memo=None, prefix='')\n",
      " |  \n",
      " |  named_hyperparameters(self)\n",
      " |  \n",
      " |  named_parameters_and_constraints(self)\n",
      " |  \n",
      " |  named_priors(self, memo=None, prefix='')\n",
      " |      Returns an iterator over the module's priors, yielding the name of the prior,\n",
      " |      the prior, the associated parameter names, and the transformation callable.\n",
      " |      \n",
      " |      Yields:\n",
      " |          (string, Module, Prior, tuple((Parameter, callable)), callable): Tuple containing:\n",
      " |              - the name of the prior\n",
      " |              - the parent module of the prior\n",
      " |              - the prior\n",
      " |              - a tuple of tuples (param, transform), one for each of the parameters associated with the prior\n",
      " |              - the prior's transform to be called on the parameters\n",
      " |  \n",
      " |  named_variational_parameters(self)\n",
      " |  \n",
      " |  pyro_load_from_samples(self, samples_dict)\n",
      " |      Convert this Module in to a batch Module by loading parameters from the given `samples_dict`. `samples_dict`\n",
      " |      is typically produced by a Pyro sampling mechanism.\n",
      " |      \n",
      " |      Note that the keys of the samples_dict should correspond to prior names (covar_module.outputscale_prior) rather\n",
      " |      than parameter names (covar_module.raw_outputscale), because we will use the setting_closure associated with\n",
      " |      the prior to properly set the unconstrained parameter.\n",
      " |      \n",
      " |      Args:\n",
      " |          :attr:`samples_dict` (dict): Dictionary mapping *prior names* to sample values.\n",
      " |  \n",
      " |  pyro_sample_from_prior(self)\n",
      " |      For each parameter in this Module and submodule that have defined priors, sample a value for that parameter\n",
      " |      from its corresponding prior with a pyro.sample primitive and load the resulting value in to the parameter.\n",
      " |      \n",
      " |      This method can be used in a Pyro model to conveniently define pyro sample sites for all\n",
      " |      parameters of the model that have GPyTorch priors registered to them.\n",
      " |  \n",
      " |  register_added_loss_term(self, name)\n",
      " |  \n",
      " |  register_constraint(self, param_name, constraint, replace=True)\n",
      " |  \n",
      " |  register_parameter(self, name, parameter)\n",
      " |      Adds a parameter to the module. The parameter can be accessed as an attribute using the given name.\n",
      " |      \n",
      " |      Args:\n",
      " |          :attr:`name` (str):\n",
      " |              The name of the parameter\n",
      " |          :attr:`parameter` (torch.nn.Parameter):\n",
      " |              The parameter\n",
      " |  \n",
      " |  register_prior(self, name, prior, param_or_closure, setting_closure=None)\n",
      " |      Adds a prior to the module. The prior can be accessed as an attribute using the given name.\n",
      " |      \n",
      " |      Args:\n",
      " |          :attr:`name` (str):\n",
      " |              The name of the prior\n",
      " |          :attr:`prior` (Prior):\n",
      " |              The prior to be registered`\n",
      " |          :attr:`param_or_closure` (string or callable):\n",
      " |              Either the name of the parameter, or a closure (which upon calling evalutes a function on\n",
      " |              the module instance and one or more parameters):\n",
      " |              single parameter without a transform: `.register_prior(\"foo_prior\", foo_prior, \"foo_param\")`\n",
      " |              transform a single parameter (e.g. put a log-Normal prior on it):\n",
      " |              `.register_prior(\"foo_prior\", NormalPrior(0, 1), lambda module: torch.log(module.foo_param))`\n",
      " |              function of multiple parameters:\n",
      " |              `.register_prior(\"foo2_prior\", foo2_prior, lambda module: f(module.param1, module.param2)))`\n",
      " |          :attr:`setting_closure` (callable, optional):\n",
      " |              A function taking in the module instance and a tensor in (transformed) parameter space,\n",
      " |              initializing the internal parameter representation to the proper value by applying the\n",
      " |              inverse transform. Enables setting parametres directly in the transformed space, as well\n",
      " |              as sampling parameter values from priors (see `sample_from_prior`)\n",
      " |  \n",
      " |  sample_from_prior(self, prior_name)\n",
      " |      Sample parameter values from prior. Modifies the module's parameters in-place.\n",
      " |  \n",
      " |  train(self, mode=True)\n",
      " |      Sets the module in training mode.\n",
      " |      \n",
      " |      This has any effect only on certain modules. See documentations of\n",
      " |      particular modules for details of their behaviors in training/evaluation\n",
      " |      mode, if they are affected, e.g. :class:`Dropout`, :class:`BatchNorm`,\n",
      " |      etc.\n",
      " |      \n",
      " |      Args:\n",
      " |          mode (bool): whether to set training mode (``True``) or evaluation\n",
      " |                       mode (``False``). Default: ``True``.\n",
      " |      \n",
      " |      Returns:\n",
      " |          Module: self\n",
      " |  \n",
      " |  update_added_loss_term(self, name, added_loss_term)\n",
      " |  \n",
      " |  variational_parameters(self)\n",
      " |  \n",
      " |  ----------------------------------------------------------------------\n",
      " |  Methods inherited from torch.nn.modules.module.Module:\n",
      " |  \n",
      " |  __delattr__(self, name)\n",
      " |      Implement delattr(self, name).\n",
      " |  \n",
      " |  __dir__(self)\n",
      " |      Default dir() implementation.\n",
      " |  \n",
      " |  __repr__(self)\n",
      " |      Return repr(self).\n",
      " |  \n",
      " |  __setattr__(self, name: str, value: Union[torch.Tensor, ForwardRef('Module')]) -> None\n",
      " |      Implement setattr(self, name, value).\n",
      " |  \n",
      " |  __setstate__(self, state)\n",
      " |  \n",
      " |  add_module(self, name: str, module: Union[ForwardRef('Module'), NoneType]) -> None\n",
      " |      Adds a child module to the current module.\n",
      " |      \n",
      " |      The module can be accessed as an attribute using the given name.\n",
      " |      \n",
      " |      Args:\n",
      " |          name (string): name of the child module. The child module can be\n",
      " |              accessed from this module using the given name\n",
      " |          module (Module): child module to be added to the module.\n",
      " |  \n",
      " |  apply(self: ~T, fn: Callable[[ForwardRef('Module')], NoneType]) -> ~T\n",
      " |      Applies ``fn`` recursively to every submodule (as returned by ``.children()``)\n",
      " |      as well as self. Typical use includes initializing the parameters of a model\n",
      " |      (see also :ref:`nn-init-doc`).\n",
      " |      \n",
      " |      Args:\n",
      " |          fn (:class:`Module` -> None): function to be applied to each submodule\n",
      " |      \n",
      " |      Returns:\n",
      " |          Module: self\n",
      " |      \n",
      " |      Example::\n",
      " |      \n",
      " |          >>> @torch.no_grad()\n",
      " |          >>> def init_weights(m):\n",
      " |          >>>     print(m)\n",
      " |          >>>     if type(m) == nn.Linear:\n",
      " |          >>>         m.weight.fill_(1.0)\n",
      " |          >>>         print(m.weight)\n",
      " |          >>> net = nn.Sequential(nn.Linear(2, 2), nn.Linear(2, 2))\n",
      " |          >>> net.apply(init_weights)\n",
      " |          Linear(in_features=2, out_features=2, bias=True)\n",
      " |          Parameter containing:\n",
      " |          tensor([[ 1.,  1.],\n",
      " |                  [ 1.,  1.]])\n",
      " |          Linear(in_features=2, out_features=2, bias=True)\n",
      " |          Parameter containing:\n",
      " |          tensor([[ 1.,  1.],\n",
      " |                  [ 1.,  1.]])\n",
      " |          Sequential(\n",
      " |            (0): Linear(in_features=2, out_features=2, bias=True)\n",
      " |            (1): Linear(in_features=2, out_features=2, bias=True)\n",
      " |          )\n",
      " |          Sequential(\n",
      " |            (0): Linear(in_features=2, out_features=2, bias=True)\n",
      " |            (1): Linear(in_features=2, out_features=2, bias=True)\n",
      " |          )\n",
      " |  \n",
      " |  bfloat16(self: ~T) -> ~T\n",
      " |      Casts all floating point parameters and buffers to ``bfloat16`` datatype.\n",
      " |      \n",
      " |      Returns:\n",
      " |          Module: self\n",
      " |  \n",
      " |  buffers(self, recurse: bool = True) -> Iterator[torch.Tensor]\n",
      " |      Returns an iterator over module buffers.\n",
      " |      \n",
      " |      Args:\n",
      " |          recurse (bool): if True, then yields buffers of this module\n",
      " |              and all submodules. Otherwise, yields only buffers that\n",
      " |              are direct members of this module.\n",
      " |      \n",
      " |      Yields:\n",
      " |          torch.Tensor: module buffer\n",
      " |      \n",
      " |      Example::\n",
      " |      \n",
      " |          >>> for buf in model.buffers():\n",
      " |          >>>     print(type(buf), buf.size())\n",
      " |          <class 'torch.Tensor'> (20L,)\n",
      " |          <class 'torch.Tensor'> (20L, 1L, 5L, 5L)\n",
      " |  \n",
      " |  children(self) -> Iterator[ForwardRef('Module')]\n",
      " |      Returns an iterator over immediate children modules.\n",
      " |      \n",
      " |      Yields:\n",
      " |          Module: a child module\n",
      " |  \n",
      " |  cpu(self: ~T) -> ~T\n",
      " |      Moves all model parameters and buffers to the CPU.\n",
      " |      \n",
      " |      Returns:\n",
      " |          Module: self\n",
      " |  \n",
      " |  cuda(self: ~T, device: Union[int, torch.device, NoneType] = None) -> ~T\n",
      " |      Moves all model parameters and buffers to the GPU.\n",
      " |      \n",
      " |      This also makes associated parameters and buffers different objects. So\n",
      " |      it should be called before constructing optimizer if the module will\n",
      " |      live on GPU while being optimized.\n",
      " |      \n",
      " |      Arguments:\n",
      " |          device (int, optional): if specified, all parameters will be\n",
      " |              copied to that device\n",
      " |      \n",
      " |      Returns:\n",
      " |          Module: self\n",
      " |  \n",
      " |  double(self: ~T) -> ~T\n",
      " |      Casts all floating point parameters and buffers to ``double`` datatype.\n",
      " |      \n",
      " |      Returns:\n",
      " |          Module: self\n",
      " |  \n",
      " |  eval(self: ~T) -> ~T\n",
      " |      Sets the module in evaluation mode.\n",
      " |      \n",
      " |      This has any effect only on certain modules. See documentations of\n",
      " |      particular modules for details of their behaviors in training/evaluation\n",
      " |      mode, if they are affected, e.g. :class:`Dropout`, :class:`BatchNorm`,\n",
      " |      etc.\n",
      " |      \n",
      " |      This is equivalent with :meth:`self.train(False) <torch.nn.Module.train>`.\n",
      " |      \n",
      " |      Returns:\n",
      " |          Module: self\n",
      " |  \n",
      " |  extra_repr(self) -> str\n",
      " |      Set the extra representation of the module\n",
      " |      \n",
      " |      To print customized extra information, you should re-implement\n",
      " |      this method in your own modules. Both single-line and multi-line\n",
      " |      strings are acceptable.\n",
      " |  \n",
      " |  float(self: ~T) -> ~T\n",
      " |      Casts all floating point parameters and buffers to float datatype.\n",
      " |      \n",
      " |      Returns:\n",
      " |          Module: self\n",
      " |  \n",
      " |  half(self: ~T) -> ~T\n",
      " |      Casts all floating point parameters and buffers to ``half`` datatype.\n",
      " |      \n",
      " |      Returns:\n",
      " |          Module: self\n",
      " |  \n",
      " |  load_state_dict(self, state_dict: Dict[str, torch.Tensor], strict: bool = True)\n",
      " |      Copies parameters and buffers from :attr:`state_dict` into\n",
      " |      this module and its descendants. If :attr:`strict` is ``True``, then\n",
      " |      the keys of :attr:`state_dict` must exactly match the keys returned\n",
      " |      by this module's :meth:`~torch.nn.Module.state_dict` function.\n",
      " |      \n",
      " |      Arguments:\n",
      " |          state_dict (dict): a dict containing parameters and\n",
      " |              persistent buffers.\n",
      " |          strict (bool, optional): whether to strictly enforce that the keys\n",
      " |              in :attr:`state_dict` match the keys returned by this module's\n",
      " |              :meth:`~torch.nn.Module.state_dict` function. Default: ``True``\n",
      " |      \n",
      " |      Returns:\n",
      " |          ``NamedTuple`` with ``missing_keys`` and ``unexpected_keys`` fields:\n",
      " |              * **missing_keys** is a list of str containing the missing keys\n",
      " |              * **unexpected_keys** is a list of str containing the unexpected keys\n",
      " |  \n",
      " |  modules(self) -> Iterator[ForwardRef('Module')]\n",
      " |      Returns an iterator over all modules in the network.\n",
      " |      \n",
      " |      Yields:\n",
      " |          Module: a module in the network\n",
      " |      \n",
      " |      Note:\n",
      " |          Duplicate modules are returned only once. In the following\n",
      " |          example, ``l`` will be returned only once.\n",
      " |      \n",
      " |      Example::\n",
      " |      \n",
      " |          >>> l = nn.Linear(2, 2)\n",
      " |          >>> net = nn.Sequential(l, l)\n",
      " |          >>> for idx, m in enumerate(net.modules()):\n",
      " |                  print(idx, '->', m)\n",
      " |      \n",
      " |          0 -> Sequential(\n",
      " |            (0): Linear(in_features=2, out_features=2, bias=True)\n",
      " |            (1): Linear(in_features=2, out_features=2, bias=True)\n",
      " |          )\n",
      " |          1 -> Linear(in_features=2, out_features=2, bias=True)\n",
      " |  \n",
      " |  named_buffers(self, prefix: str = '', recurse: bool = True) -> Iterator[Tuple[str, torch.Tensor]]\n",
      " |      Returns an iterator over module buffers, yielding both the\n",
      " |      name of the buffer as well as the buffer itself.\n",
      " |      \n",
      " |      Args:\n",
      " |          prefix (str): prefix to prepend to all buffer names.\n",
      " |          recurse (bool): if True, then yields buffers of this module\n",
      " |              and all submodules. Otherwise, yields only buffers that\n",
      " |              are direct members of this module.\n",
      " |      \n",
      " |      Yields:\n",
      " |          (string, torch.Tensor): Tuple containing the name and buffer\n",
      " |      \n",
      " |      Example::\n",
      " |      \n",
      " |          >>> for name, buf in self.named_buffers():\n",
      " |          >>>    if name in ['running_var']:\n",
      " |          >>>        print(buf.size())\n",
      " |  \n",
      " |  named_children(self) -> Iterator[Tuple[str, ForwardRef('Module')]]\n",
      " |      Returns an iterator over immediate children modules, yielding both\n",
      " |      the name of the module as well as the module itself.\n",
      " |      \n",
      " |      Yields:\n",
      " |          (string, Module): Tuple containing a name and child module\n",
      " |      \n",
      " |      Example::\n",
      " |      \n",
      " |          >>> for name, module in model.named_children():\n",
      " |          >>>     if name in ['conv4', 'conv5']:\n",
      " |          >>>         print(module)\n",
      " |  \n",
      " |  named_modules(self, memo: Union[Set[ForwardRef('Module')], NoneType] = None, prefix: str = '')\n",
      " |      Returns an iterator over all modules in the network, yielding\n",
      " |      both the name of the module as well as the module itself.\n",
      " |      \n",
      " |      Yields:\n",
      " |          (string, Module): Tuple of name and module\n",
      " |      \n",
      " |      Note:\n",
      " |          Duplicate modules are returned only once. In the following\n",
      " |          example, ``l`` will be returned only once.\n",
      " |      \n",
      " |      Example::\n",
      " |      \n",
      " |          >>> l = nn.Linear(2, 2)\n",
      " |          >>> net = nn.Sequential(l, l)\n",
      " |          >>> for idx, m in enumerate(net.named_modules()):\n",
      " |                  print(idx, '->', m)\n",
      " |      \n",
      " |          0 -> ('', Sequential(\n",
      " |            (0): Linear(in_features=2, out_features=2, bias=True)\n",
      " |            (1): Linear(in_features=2, out_features=2, bias=True)\n",
      " |          ))\n",
      " |          1 -> ('0', Linear(in_features=2, out_features=2, bias=True))\n",
      " |  \n",
      " |  named_parameters(self, prefix: str = '', recurse: bool = True) -> Iterator[Tuple[str, torch.Tensor]]\n",
      " |      Returns an iterator over module parameters, yielding both the\n",
      " |      name of the parameter as well as the parameter itself.\n",
      " |      \n",
      " |      Args:\n",
      " |          prefix (str): prefix to prepend to all parameter names.\n",
      " |          recurse (bool): if True, then yields parameters of this module\n",
      " |              and all submodules. Otherwise, yields only parameters that\n",
      " |              are direct members of this module.\n",
      " |      \n",
      " |      Yields:\n",
      " |          (string, Parameter): Tuple containing the name and parameter\n",
      " |      \n",
      " |      Example::\n",
      " |      \n",
      " |          >>> for name, param in self.named_parameters():\n",
      " |          >>>    if name in ['bias']:\n",
      " |          >>>        print(param.size())\n",
      " |  \n",
      " |  parameters(self, recurse: bool = True) -> Iterator[torch.nn.parameter.Parameter]\n",
      " |      Returns an iterator over module parameters.\n",
      " |      \n",
      " |      This is typically passed to an optimizer.\n",
      " |      \n",
      " |      Args:\n",
      " |          recurse (bool): if True, then yields parameters of this module\n",
      " |              and all submodules. Otherwise, yields only parameters that\n",
      " |              are direct members of this module.\n",
      " |      \n",
      " |      Yields:\n",
      " |          Parameter: module parameter\n",
      " |      \n",
      " |      Example::\n",
      " |      \n",
      " |          >>> for param in model.parameters():\n",
      " |          >>>     print(type(param), param.size())\n",
      " |          <class 'torch.Tensor'> (20L,)\n",
      " |          <class 'torch.Tensor'> (20L, 1L, 5L, 5L)\n",
      " |  \n",
      " |  register_backward_hook(self, hook: Callable[[ForwardRef('Module'), Union[Tuple[torch.Tensor, ...], torch.Tensor], Union[Tuple[torch.Tensor, ...], torch.Tensor]], Union[NoneType, torch.Tensor]]) -> torch.utils.hooks.RemovableHandle\n",
      " |      Registers a backward hook on the module.\n",
      " |      \n",
      " |      .. warning ::\n",
      " |      \n",
      " |          The current implementation will not have the presented behavior\n",
      " |          for complex :class:`Module` that perform many operations.\n",
      " |          In some failure cases, :attr:`grad_input` and :attr:`grad_output` will only\n",
      " |          contain the gradients for a subset of the inputs and outputs.\n",
      " |          For such :class:`Module`, you should use :func:`torch.Tensor.register_hook`\n",
      " |          directly on a specific input or output to get the required gradients.\n",
      " |      \n",
      " |      The hook will be called every time the gradients with respect to module\n",
      " |      inputs are computed. The hook should have the following signature::\n",
      " |      \n",
      " |          hook(module, grad_input, grad_output) -> Tensor or None\n",
      " |      \n",
      " |      The :attr:`grad_input` and :attr:`grad_output` may be tuples if the\n",
      " |      module has multiple inputs or outputs. The hook should not modify its\n",
      " |      arguments, but it can optionally return a new gradient with respect to\n",
      " |      input that will be used in place of :attr:`grad_input` in subsequent\n",
      " |      computations. :attr:`grad_input` will only correspond to the inputs given\n",
      " |      as positional arguments.\n",
      " |      \n",
      " |      Returns:\n",
      " |          :class:`torch.utils.hooks.RemovableHandle`:\n",
      " |              a handle that can be used to remove the added hook by calling\n",
      " |              ``handle.remove()``\n",
      " |  \n",
      " |  register_buffer(self, name: str, tensor: Union[torch.Tensor, NoneType], persistent: bool = True) -> None\n",
      " |      Adds a buffer to the module.\n",
      " |      \n",
      " |      This is typically used to register a buffer that should not to be\n",
      " |      considered a model parameter. For example, BatchNorm's ``running_mean``\n",
      " |      is not a parameter, but is part of the module's state. Buffers, by\n",
      " |      default, are persistent and will be saved alongside parameters. This\n",
      " |      behavior can be changed by setting :attr:`persistent` to ``False``. The\n",
      " |      only difference between a persistent buffer and a non-persistent buffer\n",
      " |      is that the latter will not be a part of this module's\n",
      " |      :attr:`state_dict`.\n",
      " |      \n",
      " |      Buffers can be accessed as attributes using given names.\n",
      " |      \n",
      " |      Args:\n",
      " |          name (string): name of the buffer. The buffer can be accessed\n",
      " |              from this module using the given name\n",
      " |          tensor (Tensor): buffer to be registered.\n",
      " |          persistent (bool): whether the buffer is part of this module's\n",
      " |              :attr:`state_dict`.\n",
      " |      \n",
      " |      Example::\n",
      " |      \n",
      " |          >>> self.register_buffer('running_mean', torch.zeros(num_features))\n",
      " |  \n",
      " |  register_forward_hook(self, hook: Callable[..., NoneType]) -> torch.utils.hooks.RemovableHandle\n",
      " |      Registers a forward hook on the module.\n",
      " |      \n",
      " |      The hook will be called every time after :func:`forward` has computed an output.\n",
      " |      It should have the following signature::\n",
      " |      \n",
      " |          hook(module, input, output) -> None or modified output\n",
      " |      \n",
      " |      The input contains only the positional arguments given to the module.\n",
      " |      Keyword arguments won't be passed to the hooks and only to the ``forward``.\n",
      " |      The hook can modify the output. It can modify the input inplace but\n",
      " |      it will not have effect on forward since this is called after\n",
      " |      :func:`forward` is called.\n",
      " |      \n",
      " |      Returns:\n",
      " |          :class:`torch.utils.hooks.RemovableHandle`:\n",
      " |              a handle that can be used to remove the added hook by calling\n",
      " |              ``handle.remove()``\n",
      " |  \n",
      " |  register_forward_pre_hook(self, hook: Callable[..., NoneType]) -> torch.utils.hooks.RemovableHandle\n",
      " |      Registers a forward pre-hook on the module.\n",
      " |      \n",
      " |      The hook will be called every time before :func:`forward` is invoked.\n",
      " |      It should have the following signature::\n",
      " |      \n",
      " |          hook(module, input) -> None or modified input\n",
      " |      \n",
      " |      The input contains only the positional arguments given to the module.\n",
      " |      Keyword arguments won't be passed to the hooks and only to the ``forward``.\n",
      " |      The hook can modify the input. User can either return a tuple or a\n",
      " |      single modified value in the hook. We will wrap the value into a tuple\n",
      " |      if a single value is returned(unless that value is already a tuple).\n",
      " |      \n",
      " |      Returns:\n",
      " |          :class:`torch.utils.hooks.RemovableHandle`:\n",
      " |              a handle that can be used to remove the added hook by calling\n",
      " |              ``handle.remove()``\n",
      " |  \n",
      " |  requires_grad_(self: ~T, requires_grad: bool = True) -> ~T\n",
      " |      Change if autograd should record operations on parameters in this\n",
      " |      module.\n",
      " |      \n",
      " |      This method sets the parameters' :attr:`requires_grad` attributes\n",
      " |      in-place.\n",
      " |      \n",
      " |      This method is helpful for freezing part of the module for finetuning\n",
      " |      or training parts of a model individually (e.g., GAN training).\n",
      " |      \n",
      " |      Args:\n",
      " |          requires_grad (bool): whether autograd should record operations on\n",
      " |                                parameters in this module. Default: ``True``.\n",
      " |      \n",
      " |      Returns:\n",
      " |          Module: self\n",
      " |  \n",
      " |  share_memory(self: ~T) -> ~T\n",
      " |  \n",
      " |  state_dict(self, destination=None, prefix='', keep_vars=False)\n",
      " |      Returns a dictionary containing a whole state of the module.\n",
      " |      \n",
      " |      Both parameters and persistent buffers (e.g. running averages) are\n",
      " |      included. Keys are corresponding parameter and buffer names.\n",
      " |      \n",
      " |      Returns:\n",
      " |          dict:\n",
      " |              a dictionary containing a whole state of the module\n",
      " |      \n",
      " |      Example::\n",
      " |      \n",
      " |          >>> module.state_dict().keys()\n",
      " |          ['bias', 'weight']\n",
      " |  \n",
      " |  to(self, *args, **kwargs)\n",
      " |      Moves and/or casts the parameters and buffers.\n",
      " |      \n",
      " |      This can be called as\n",
      " |      \n",
      " |      .. function:: to(device=None, dtype=None, non_blocking=False)\n",
      " |      \n",
      " |      .. function:: to(dtype, non_blocking=False)\n",
      " |      \n",
      " |      .. function:: to(tensor, non_blocking=False)\n",
      " |      \n",
      " |      .. function:: to(memory_format=torch.channels_last)\n",
      " |      \n",
      " |      Its signature is similar to :meth:`torch.Tensor.to`, but only accepts\n",
      " |      floating point desired :attr:`dtype` s. In addition, this method will\n",
      " |      only cast the floating point parameters and buffers to :attr:`dtype`\n",
      " |      (if given). The integral parameters and buffers will be moved\n",
      " |      :attr:`device`, if that is given, but with dtypes unchanged. When\n",
      " |      :attr:`non_blocking` is set, it tries to convert/move asynchronously\n",
      " |      with respect to the host if possible, e.g., moving CPU Tensors with\n",
      " |      pinned memory to CUDA devices.\n",
      " |      \n",
      " |      See below for examples.\n",
      " |      \n",
      " |      .. note::\n",
      " |          This method modifies the module in-place.\n",
      " |      \n",
      " |      Args:\n",
      " |          device (:class:`torch.device`): the desired device of the parameters\n",
      " |              and buffers in this module\n",
      " |          dtype (:class:`torch.dtype`): the desired floating point type of\n",
      " |              the floating point parameters and buffers in this module\n",
      " |          tensor (torch.Tensor): Tensor whose dtype and device are the desired\n",
      " |              dtype and device for all parameters and buffers in this module\n",
      " |          memory_format (:class:`torch.memory_format`): the desired memory\n",
      " |              format for 4D parameters and buffers in this module (keyword\n",
      " |              only argument)\n",
      " |      \n",
      " |      Returns:\n",
      " |          Module: self\n",
      " |      \n",
      " |      Example::\n",
      " |      \n",
      " |          >>> linear = nn.Linear(2, 2)\n",
      " |          >>> linear.weight\n",
      " |          Parameter containing:\n",
      " |          tensor([[ 0.1913, -0.3420],\n",
      " |                  [-0.5113, -0.2325]])\n",
      " |          >>> linear.to(torch.double)\n",
      " |          Linear(in_features=2, out_features=2, bias=True)\n",
      " |          >>> linear.weight\n",
      " |          Parameter containing:\n",
      " |          tensor([[ 0.1913, -0.3420],\n",
      " |                  [-0.5113, -0.2325]], dtype=torch.float64)\n",
      " |          >>> gpu1 = torch.device(\"cuda:1\")\n",
      " |          >>> linear.to(gpu1, dtype=torch.half, non_blocking=True)\n",
      " |          Linear(in_features=2, out_features=2, bias=True)\n",
      " |          >>> linear.weight\n",
      " |          Parameter containing:\n",
      " |          tensor([[ 0.1914, -0.3420],\n",
      " |                  [-0.5112, -0.2324]], dtype=torch.float16, device='cuda:1')\n",
      " |          >>> cpu = torch.device(\"cpu\")\n",
      " |          >>> linear.to(cpu)\n",
      " |          Linear(in_features=2, out_features=2, bias=True)\n",
      " |          >>> linear.weight\n",
      " |          Parameter containing:\n",
      " |          tensor([[ 0.1914, -0.3420],\n",
      " |                  [-0.5112, -0.2324]], dtype=torch.float16)\n",
      " |  \n",
      " |  type(self: ~T, dst_type: Union[torch.dtype, str]) -> ~T\n",
      " |      Casts all parameters and buffers to :attr:`dst_type`.\n",
      " |      \n",
      " |      Arguments:\n",
      " |          dst_type (type or string): the desired type\n",
      " |      \n",
      " |      Returns:\n",
      " |          Module: self\n",
      " |  \n",
      " |  zero_grad(self, set_to_none: bool = False) -> None\n",
      " |      Sets gradients of all model parameters to zero. See similar function\n",
      " |      under :class:`torch.optim.Optimizer` for more context.\n",
      " |      \n",
      " |      Arguments:\n",
      " |          set_to_none (bool): instead of setting to zero, set the grads to None.\n",
      " |              See :meth:`torch.optim.Optimizer.zero_grad` for details.\n",
      " |  \n",
      " |  ----------------------------------------------------------------------\n",
      " |  Data descriptors inherited from torch.nn.modules.module.Module:\n",
      " |  \n",
      " |  __dict__\n",
      " |      dictionary for instance variables (if defined)\n",
      " |  \n",
      " |  __weakref__\n",
      " |      list of weak references to the object (if defined)\n",
      " |  \n",
      " |  ----------------------------------------------------------------------\n",
      " |  Data and other attributes inherited from torch.nn.modules.module.Module:\n",
      " |  \n",
      " |  T_destination = ~T_destination\n",
      " |  \n",
      " |  __annotations__ = {'__call__': typing.Callable[..., typing.Any], '_ver...\n",
      " |  \n",
      " |  dump_patches = False\n",
      "\n"
     ]
    }
   ],
   "source": [
    "help(gpytorch.likelihoods.MultitaskGaussianLikelihood)"
   ]
  },
  {
   "cell_type": "code",
   "execution_count": null,
   "id": "revolutionary-street",
   "metadata": {},
   "outputs": [],
   "source": []
  }
 ],
 "metadata": {
  "kernelspec": {
   "display_name": "Python 3",
   "language": "python",
   "name": "python3"
  },
  "language_info": {
   "codemirror_mode": {
    "name": "ipython",
    "version": 3
   },
   "file_extension": ".py",
   "mimetype": "text/x-python",
   "name": "python",
   "nbconvert_exporter": "python",
   "pygments_lexer": "ipython3",
   "version": "3.7.7"
  }
 },
 "nbformat": 4,
 "nbformat_minor": 5
}
