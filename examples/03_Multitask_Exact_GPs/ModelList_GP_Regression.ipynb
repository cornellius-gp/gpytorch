{
 "cells": [
  {
   "cell_type": "markdown",
   "metadata": {},
   "source": [
    "# ModelList (Multi-Output) GP Regression\n",
    "\n",
    "## Introduction\n",
    "\n",
    "This notebook demonstrates how to wrap independent GP models into a convenient Multi-Output GP model using a ModelList. \n",
    "\n",
    "Unlike in the Multitask case, this do not model correlations between outcomes, but treats outcomes independently. This is equivalent to setting up a separate GP for each outcome, but can be much more convenient to handle, in particular it does not require manually looping over models when fitting or predicting.\n",
    "\n",
    "This type of model is useful if \n",
    "- when the number of training / test points is different for the different outcomes\n",
    "- using different covariance modules and / or likelihoods for each outcome\n",
    "\n",
    "For block designs (i.e. when the above points do not apply), you should instead use a batch mode GP as described in the [batch independent multioutput example](./Batch_Independent_Multioutput_GP.ipynb). This will be much faster because it uses additional parallelism."
   ]
  },
  {
   "cell_type": "code",
   "execution_count": 1,
   "metadata": {
    "collapsed": true
   },
   "outputs": [],
   "source": [
    "import math\n",
    "import torch\n",
    "import gpytorch\n",
    "from matplotlib import pyplot as plt\n",
    "\n",
    "%matplotlib inline\n",
    "%load_ext autoreload\n",
    "%autoreload 2"
   ]
  },
  {
   "cell_type": "markdown",
   "metadata": {},
   "source": [
    "### Set up training data\n",
    "\n",
    "In the next cell, we set up the training data for this example. We'll be using a different number of training examples for the different GPs."
   ]
  },
  {
   "cell_type": "code",
   "execution_count": 2,
   "metadata": {
    "collapsed": true
   },
   "outputs": [],
   "source": [
    "train_x1 = torch.linspace(0, 0.95, 50) + 0.05 * torch.rand(50)\n",
    "train_x2 = torch.linspace(0, 0.95, 25) + 0.05 * torch.rand(25)\n",
    "\n",
    "train_y1 = torch.sin(train_x1 * (2 * math.pi)) + 0.2 * torch.randn_like(train_x1)\n",
    "train_y2 = torch.cos(train_x2 * (2 * math.pi)) + 0.2 * torch.randn_like(train_x2)"
   ]
  },
  {
   "cell_type": "markdown",
   "metadata": {},
   "source": [
    "## Set up the sub-models\n",
    "\n",
    "Each individual model uses the `ExactGP` model from the [simple regression example](../01_Exact_GPs/Simple_GP_Regression.ipynb)."
   ]
  },
  {
   "cell_type": "code",
   "execution_count": 3,
   "metadata": {
    "collapsed": true
   },
   "outputs": [],
   "source": [
    "class ExactGPModel(gpytorch.models.ExactGP):\n",
    "    def __init__(self, train_x, train_y, likelihood):\n",
    "        super().__init__(train_x, train_y, likelihood)\n",
    "        self.mean_module = gpytorch.means.ConstantMean()\n",
    "        self.covar_module = gpytorch.kernels.ScaleKernel(gpytorch.kernels.RBFKernel())\n",
    "    \n",
    "    def forward(self, x):\n",
    "        mean_x = self.mean_module(x)\n",
    "        covar_x = self.covar_module(x)\n",
    "        return gpytorch.distributions.MultivariateNormal(mean_x, covar_x)\n",
    "    \n",
    "\n",
    "likelihood1 = gpytorch.likelihoods.GaussianLikelihood()\n",
    "model1 = ExactGPModel(train_x1, train_y1, likelihood1)\n",
    "\n",
    "likelihood2 = gpytorch.likelihoods.GaussianLikelihood()\n",
    "model2 = ExactGPModel(train_x2, train_y2, likelihood2)"
   ]
  },
  {
   "cell_type": "markdown",
   "metadata": {},
   "source": [
    "We now collect the submodels in an `IndependentMultiOutputGP`, and the respective likelihoods in a `MultiOutputLikelihood`. These are container modules that make it easy to work with multiple outputs. In particular, they will take in and return lists of inputs / outputs and delegate the data to / from the appropriate sub-model (it is important that the order of the inputs / outputs corresponds to the order of models with which the containers were instantiated)."
   ]
  },
  {
   "cell_type": "code",
   "execution_count": 4,
   "metadata": {
    "collapsed": true
   },
   "outputs": [],
   "source": [
    "model = gpytorch.models.IndependentModelList(model1, model2)\n",
    "likelihood = gpytorch.likelihoods.LikelihoodList(model1.likelihood, model2.likelihood)"
   ]
  },
  {
   "cell_type": "markdown",
   "metadata": {},
   "source": [
    "### Set up overall Marginal Log Likelihood\n",
    "\n",
    "Assuming independence, the MLL for the container model is simply the sum of the MLLs for the individual models. `SumMarginalLogLikelihood` is a convenient container for this (by default it uses an `ExactMarginalLogLikelihood` for each submodel)"
   ]
  },
  {
   "cell_type": "code",
   "execution_count": 5,
   "metadata": {
    "collapsed": true
   },
   "outputs": [],
   "source": [
    "from gpytorch.mlls import SumMarginalLogLikelihood\n",
    "\n",
    "mll = SumMarginalLogLikelihood(likelihood, model)"
   ]
  },
  {
   "cell_type": "markdown",
   "metadata": {},
   "source": [
    "### Train the model hyperparameters\n",
    "\n",
    "With the containers in place, the models can be trained in a single loop on the container (note that this means that optimization is performed jointly, which can be an issue if the individual submodels require training via very different step sizes)."
   ]
  },
  {
   "cell_type": "code",
   "execution_count": 6,
   "metadata": {
    "scrolled": false
   },
   "outputs": [
    {
     "name": "stdout",
     "output_type": "stream",
     "text": [
      "Iter 1/50 - Loss: 1.052\n",
      "Iter 2/50 - Loss: 1.020\n",
      "Iter 3/50 - Loss: 0.983\n",
      "Iter 4/50 - Loss: 0.942\n",
      "Iter 5/50 - Loss: 0.898\n",
      "Iter 6/50 - Loss: 0.851\n",
      "Iter 7/50 - Loss: 0.803\n",
      "Iter 8/50 - Loss: 0.754\n",
      "Iter 9/50 - Loss: 0.707\n",
      "Iter 10/50 - Loss: 0.663\n",
      "Iter 11/50 - Loss: 0.624\n",
      "Iter 12/50 - Loss: 0.589\n",
      "Iter 13/50 - Loss: 0.557\n",
      "Iter 14/50 - Loss: 0.523\n",
      "Iter 15/50 - Loss: 0.493\n",
      "Iter 16/50 - Loss: 0.460\n",
      "Iter 17/50 - Loss: 0.424\n",
      "Iter 18/50 - Loss: 0.395\n",
      "Iter 19/50 - Loss: 0.362\n",
      "Iter 20/50 - Loss: 0.331\n",
      "Iter 21/50 - Loss: 0.304\n",
      "Iter 22/50 - Loss: 0.261\n",
      "Iter 23/50 - Loss: 0.231\n",
      "Iter 24/50 - Loss: 0.202\n",
      "Iter 25/50 - Loss: 0.182\n",
      "Iter 26/50 - Loss: 0.153\n",
      "Iter 27/50 - Loss: 0.138\n",
      "Iter 28/50 - Loss: 0.121\n",
      "Iter 29/50 - Loss: 0.104\n",
      "Iter 30/50 - Loss: 0.092\n",
      "Iter 31/50 - Loss: 0.078\n",
      "Iter 32/50 - Loss: 0.067\n",
      "Iter 33/50 - Loss: 0.058\n",
      "Iter 34/50 - Loss: 0.060\n",
      "Iter 35/50 - Loss: 0.046\n",
      "Iter 36/50 - Loss: 0.055\n",
      "Iter 37/50 - Loss: 0.046\n",
      "Iter 38/50 - Loss: 0.053\n",
      "Iter 39/50 - Loss: 0.063\n",
      "Iter 40/50 - Loss: 0.059\n",
      "Iter 41/50 - Loss: 0.057\n",
      "Iter 42/50 - Loss: 0.067\n",
      "Iter 43/50 - Loss: 0.086\n",
      "Iter 44/50 - Loss: 0.070\n",
      "Iter 45/50 - Loss: 0.067\n",
      "Iter 46/50 - Loss: 0.081\n",
      "Iter 47/50 - Loss: 0.075\n",
      "Iter 48/50 - Loss: 0.068\n",
      "Iter 49/50 - Loss: 0.071\n",
      "Iter 50/50 - Loss: 0.060\n"
     ]
    }
   ],
   "source": [
    "# this is for running the notebook in our testing framework\n",
    "import os\n",
    "smoke_test = ('CI' in os.environ)\n",
    "training_iterations = 2 if smoke_test else 50\n",
    "\n",
    "\n",
    "# Find optimal model hyperparameters\n",
    "model.train()\n",
    "likelihood.train()\n",
    "\n",
    "# Use the Adam optimizer\n",
    "optimizer = torch.optim.Adam([\n",
    "    {'params': model.parameters()},  # Includes all submodel and all likelihood parameters\n",
    "], lr=0.1)\n",
    "\n",
    "for i in range(training_iterations):\n",
    "    optimizer.zero_grad()\n",
    "    output = model(*model.train_inputs)\n",
    "    loss = -mll(output, model.train_targets)\n",
    "    loss.backward()\n",
    "    print('Iter %d/%d - Loss: %.3f' % (i + 1, training_iterations, loss.item()))\n",
    "    optimizer.step()"
   ]
  },
  {
   "cell_type": "markdown",
   "metadata": {},
   "source": [
    "### Make predictions with the model"
   ]
  },
  {
   "cell_type": "code",
   "execution_count": 7,
   "metadata": {},
   "outputs": [
    {
     "data": {
      "image/png": "[encoded data removed]",
      "text/plain": [
       "<Figure size 576x216 with 2 Axes>"
      ]
     },
     "metadata": {
      "bento_obj_id": "139977174656392"
     },
     "output_type": "display_data"
    }
   ],
   "source": [
    "# Set into eval mode\n",
    "model.eval()\n",
    "likelihood.eval()\n",
    "\n",
    "# Initialize plots\n",
    "f, axs = plt.subplots(1, 2, figsize=(8, 3))\n",
    "\n",
    "# Make predictions (use the same test points)\n",
    "with torch.no_grad(), gpytorch.settings.fast_pred_var():\n",
    "    test_x = torch.linspace(0, 1, 51)\n",
    "    # This contains predictions for both outcomes as a list\n",
    "    predictions = likelihood(*model(test_x, test_x))\n",
    "    \n",
    "for submodel, prediction, ax in zip(model.models, predictions, axs):\n",
    "    mean = prediction.mean\n",
    "    lower, upper = prediction.confidence_region()\n",
    "    \n",
    "    tr_x = submodel.train_inputs[0].detach().numpy()\n",
    "    tr_y = submodel.train_targets.detach().numpy()\n",
    "    \n",
    "    # Plot training data as black stars\n",
    "    ax.plot(tr_x, tr_y, 'k*')\n",
    "    # Predictive mean as blue line\n",
    "    ax.plot(test_x.numpy(), mean.numpy(), 'b')\n",
    "    # Shade in confidence \n",
    "    ax.fill_between(test_x.numpy(), lower.detach().numpy(), upper.detach().numpy(), alpha=0.5)\n",
    "    ax.set_ylim([-3, 3])\n",
    "    ax.legend(['Observed Data', 'Mean', 'Confidence'])\n",
    "    ax.set_title('Observed Values (Likelihood)')\n",
    "\n",
    "None"
   ]
  }
 ],
 "metadata": {
  "anaconda-cloud": {},
  "bento_stylesheets": {
   "bento/extensions/flow/main.css": true,
   "bento/extensions/kernel_selector/main.css": true,
   "bento/extensions/kernel_ui/main.css": true,
   "bento/extensions/new_kernel/main.css": true,
   "bento/extensions/system_usage/main.css": true
  },
  "kernelspec": {
   "display_name": "Python 3",
   "language": "python",
   "name": "python3"
  },
  "language_info": {
   "codemirror_mode": {
    "name": "ipython",
    "version": 3
   },
   "file_extension": ".py",
   "mimetype": "text/x-python",
   "name": "python",
   "nbconvert_exporter": "python",
   "pygments_lexer": "ipython3",
   "version": "3.7.3"
  }
 },
 "nbformat": 4,
 "nbformat_minor": 1
}
