{
 "cells": [
  {
   "cell_type": "markdown",
   "metadata": {},
   "source": [
    "# Hadamard Multitask GP Regression\n",
    "\n",
    "## Introduction\n",
    "\n",
    "This notebook demonstrates how to perform \"Hadamard\" multitask regression. \n",
    "This differs from the [multitask gp regression example notebook](./Multitask_GP_Regression.ipynb) in one key way:\n",
    "\n",
    "- Here, we assume that we have observations for **one task per input**. For each input, we specify the task of the input that we observe. (The kernel that we learn is expressed as a Hadamard product of an input kernel and a task kernel)\n",
    "- In the other notebook, we assume that we observe all tasks per input. (The kernel in that notebook is the Kronecker product of an input kernel and a task kernel).\n",
    "\n",
    "Multitask regression, first introduced in [this paper](https://papers.nips.cc/paper/3189-multi-task-gaussian-process-prediction.pdf) learns similarities in the outputs simultaneously. It's useful when you are performing regression on multiple functions that share the same inputs, especially if they have similarities (such as being sinusodial).\n",
    "\n",
    "Given inputs $x$ and $x'$, and tasks $i$ and $j$, the covariance between two datapoints and two tasks is given by\n",
    "\n",
    "$$  k([x, i], [x', j]) = k_\\text{inputs}(x, x') * k_\\text{tasks}(i, j)\n",
    "$$\n",
    "\n",
    "where $k_\\text{inputs}$ is a standard kernel (e.g. RBF) that operates on the inputs.\n",
    "$k_\\text{task}$ is a special kernel - the `IndexKernel` - which is a lookup table containing inter-task covariance."
   ]
  },
  {
   "cell_type": "code",
   "execution_count": 1,
   "metadata": {},
   "outputs": [],
   "source": [
    "import math\n",
    "import torch\n",
    "import gpytorch\n",
    "from matplotlib import pyplot as plt\n",
    "\n",
    "%matplotlib inline\n",
    "%load_ext autoreload\n",
    "%autoreload 2"
   ]
  },
  {
   "cell_type": "markdown",
   "metadata": {},
   "source": [
    "### Set up training data\n",
    "\n",
    "In the next cell, we set up the training data for this example. For each task we'll be using 50 random points on [0,1), which we evaluate the function on and add Gaussian noise to get the training labels. Note that different inputs are used for each task.\n",
    "\n",
    "We'll have two functions - a sine function (y1) and a cosine function (y2)."
   ]
  },
  {
   "cell_type": "code",
   "execution_count": 2,
   "metadata": {},
   "outputs": [],
   "source": [
    "train_x1 = torch.rand(2000)\n",
    "train_x2 = torch.rand(2000)\n",
    "\n",
    "train_y1 = torch.sin(train_x1 * (2 * math.pi)) + torch.randn(train_x1.size()) * 0.2\n",
    "train_y2 = torch.cos(train_x2 * (2 * math.pi)) + torch.randn(train_x2.size()) * 0.2"
   ]
  },
  {
   "cell_type": "markdown",
   "metadata": {},
   "source": [
    "## Set up a Hadamard multitask model\n",
    "\n",
    "The model should be somewhat similar to the `ExactGP` model in the [simple regression example](../01_Exact_GPs/Simple_GP_Regression.ipynb).\n",
    "\n",
    "The differences:\n",
    "\n",
    "1. The model takes two input: the inputs (x) and indices. The indices indicate which task the observation is for.\n",
    "2. Rather than just using a RBFKernel, we're using that in conjunction with a IndexKernel.\n",
    "3. We don't use a ScaleKernel, since the IndexKernel will do some scaling for us. (This way we're not overparameterizing the kernel.)"
   ]
  },
  {
   "cell_type": "code",
   "execution_count": 3,
   "metadata": {},
   "outputs": [],
   "source": [
    "class MultitaskGPModel(gpytorch.models.ExactGP):\n",
    "    def __init__(self, train_x, train_y, likelihood):\n",
    "        super(MultitaskGPModel, self).__init__(train_x, train_y, likelihood)\n",
    "        self.mean_module = gpytorch.means.ConstantMean()\n",
    "        self.covar_module = gpytorch.kernels.RBFKernel()\n",
    "        \n",
    "        # We learn an IndexKernel for 2 tasks\n",
    "        # (so we'll actually learn 2x2=4 tasks with correlations)\n",
    "        self.task_covar_module = gpytorch.kernels.IndexKernel(num_tasks=2, rank=1)\n",
    "\n",
    "    def forward(self,x,i):\n",
    "        mean_x = self.mean_module(x)\n",
    "        \n",
    "        # Get input-input covariance\n",
    "        covar_x = self.covar_module(x)\n",
    "        # Get task-task covariance\n",
    "        covar_i = self.task_covar_module(i)\n",
    "        # Multiply the two together to get the covariance we want\n",
    "        covar = covar_x.mul(covar_i)\n",
    "        \n",
    "        return gpytorch.distributions.MultivariateNormal(mean_x, covar)\n",
    "\n",
    "likelihood = gpytorch.likelihoods.GaussianLikelihood()\n",
    "\n",
    "train_i_task1 = torch.full((train_x1.shape[0],1), dtype=torch.long, fill_value=0)\n",
    "train_i_task2 = torch.full((train_x2.shape[0],1), dtype=torch.long, fill_value=1)\n",
    "\n",
    "full_train_x = torch.cat([train_x1, train_x2])\n",
    "full_train_i = torch.cat([train_i_task1, train_i_task2])\n",
    "full_train_y = torch.cat([train_y1, train_y2])\n",
    "\n",
    "# Here we have two iterms that we're passing in as train_inputs\n",
    "model = MultitaskGPModel((full_train_x, full_train_i), full_train_y, likelihood)"
   ]
  },
  {
   "cell_type": "markdown",
   "metadata": {},
   "source": [
    "### Training the model\n",
    "\n",
    "In the next cell, we handle using Type-II MLE to train the hyperparameters of the Gaussian process.\n",
    "\n",
    "See the [simple regression example](../01_Exact_GPs/Simple_GP_Regression.ipynb) for more info on this step."
   ]
  },
  {
   "cell_type": "code",
   "execution_count": 4,
   "metadata": {
    "scrolled": false
   },
   "outputs": [
    {
     "name": "stdout",
     "output_type": "stream",
     "text": [
      "Iter 1/50 - Loss: 1.000\n",
      "Iter 2/50 - Loss: 0.960\n",
      "Iter 3/50 - Loss: 0.918\n",
      "Iter 4/50 - Loss: 0.874\n",
      "Iter 5/50 - Loss: 0.831\n",
      "Iter 6/50 - Loss: 0.788\n",
      "Iter 7/50 - Loss: 0.745\n",
      "Iter 8/50 - Loss: 0.702\n",
      "Iter 9/50 - Loss: 0.659\n",
      "Iter 10/50 - Loss: 0.618\n",
      "Iter 11/50 - Loss: 0.580\n",
      "Iter 12/50 - Loss: 0.545\n",
      "Iter 13/50 - Loss: 0.511\n",
      "Iter 14/50 - Loss: 0.478\n",
      "Iter 15/50 - Loss: 0.445\n",
      "Iter 16/50 - Loss: 0.412\n",
      "Iter 17/50 - Loss: 0.378\n",
      "Iter 18/50 - Loss: 0.344\n",
      "Iter 19/50 - Loss: 0.309\n",
      "Iter 20/50 - Loss: 0.276\n",
      "Iter 21/50 - Loss: 0.243\n",
      "Iter 22/50 - Loss: 0.211\n",
      "Iter 23/50 - Loss: 0.182\n",
      "Iter 24/50 - Loss: 0.154\n",
      "Iter 25/50 - Loss: 0.129\n",
      "Iter 26/50 - Loss: 0.105\n",
      "Iter 27/50 - Loss: 0.085\n",
      "Iter 28/50 - Loss: 0.067\n",
      "Iter 29/50 - Loss: 0.052\n",
      "Iter 30/50 - Loss: 0.039\n",
      "Iter 31/50 - Loss: 0.029\n",
      "Iter 32/50 - Loss: 0.021\n",
      "Iter 33/50 - Loss: 0.015\n",
      "Iter 34/50 - Loss: 0.012\n",
      "Iter 35/50 - Loss: 0.010\n",
      "Iter 36/50 - Loss: 0.009\n",
      "Iter 37/50 - Loss: 0.009\n",
      "Iter 38/50 - Loss: 0.009\n",
      "Iter 39/50 - Loss: 0.009\n",
      "Iter 40/50 - Loss: 0.008\n",
      "Iter 41/50 - Loss: 0.008\n",
      "Iter 42/50 - Loss: 0.009\n",
      "Iter 43/50 - Loss: 0.009\n",
      "Iter 44/50 - Loss: 0.010\n",
      "Iter 45/50 - Loss: 0.010\n",
      "Iter 46/50 - Loss: 0.010\n",
      "Iter 47/50 - Loss: 0.010\n",
      "Iter 48/50 - Loss: 0.008\n",
      "Iter 49/50 - Loss: 0.007\n",
      "Iter 50/50 - Loss: 0.005\n"
     ]
    }
   ],
   "source": [
    "# this is for running the notebook in our testing framework\n",
    "import os\n",
    "smoke_test = ('CI' in os.environ)\n",
    "training_iterations = 2 if smoke_test else 50\n",
    "\n",
    "\n",
    "# Find optimal model hyperparameters\n",
    "model.train()\n",
    "likelihood.train()\n",
    "\n",
    "# Use the adam optimizer\n",
    "optimizer = torch.optim.Adam(model.parameters(), lr=0.1)  # Includes GaussianLikelihood parameters\n",
    "\n",
    "# \"Loss\" for GPs - the marginal log likelihood\n",
    "mll = gpytorch.mlls.ExactMarginalLogLikelihood(likelihood, model)\n",
    "\n",
    "for i in range(training_iterations):\n",
    "    optimizer.zero_grad()\n",
    "    output = model(full_train_x, full_train_i)\n",
    "    loss = -mll(output, full_train_y)\n",
    "    loss.backward()\n",
    "    print('Iter %d/50 - Loss: %.3f' % (i + 1, loss.item()))\n",
    "    optimizer.step()"
   ]
  },
  {
   "cell_type": "markdown",
   "metadata": {},
   "source": [
    "### Make predictions with the model"
   ]
  },
  {
   "cell_type": "code",
   "execution_count": 5,
   "metadata": {},
   "outputs": [
    {
     "data": {
      "image/png": "[encoded data removed]",
      "text/plain": [
       "<Figure size 576x216 with 2 Axes>"
      ]
     },
     "metadata": {
      "needs_background": "light"
     },
     "output_type": "display_data"
    }
   ],
   "source": [
    "# Set into eval mode\n",
    "model.eval()\n",
    "likelihood.eval()\n",
    "\n",
    "# Initialize plots\n",
    "f, (y1_ax, y2_ax) = plt.subplots(1, 2, figsize=(8, 3))\n",
    "\n",
    "# Test points every 0.02 in [0,1]\n",
    "test_x = torch.linspace(0, 1, 51)\n",
    "test_i_task1 = torch.full((test_x.shape[0],1), dtype=torch.long, fill_value=0)\n",
    "test_i_task2 = torch.full((test_x.shape[0],1), dtype=torch.long, fill_value=1)\n",
    "\n",
    "# Make predictions - one task at a time\n",
    "# We control the task we cae about using the indices\n",
    "\n",
    "# The gpytorch.settings.fast_pred_var flag activates LOVE (for fast variances)\n",
    "# See https://arxiv.org/abs/1803.06058\n",
    "with torch.no_grad(), gpytorch.settings.fast_pred_var():\n",
    "    observed_pred_y1 = likelihood(model(test_x, test_i_task1))\n",
    "    observed_pred_y2 = likelihood(model(test_x, test_i_task2))\n",
    "\n",
    "# Define plotting function\n",
    "def ax_plot(ax, train_y, train_x, rand_var, title):\n",
    "    # Get lower and upper confidence bounds\n",
    "    lower, upper = rand_var.confidence_region()\n",
    "    # Plot training data as black stars\n",
    "    ax.plot(train_x.detach().numpy(), train_y.detach().numpy(), 'k*')\n",
    "    # Predictive mean as blue line\n",
    "    ax.plot(test_x.detach().numpy(), rand_var.mean.detach().numpy(), 'b')\n",
    "    # Shade in confidence \n",
    "    ax.fill_between(test_x.detach().numpy(), lower.detach().numpy(), upper.detach().numpy(), alpha=0.5)\n",
    "    ax.set_ylim([-3, 3])\n",
    "    ax.legend(['Observed Data', 'Mean', 'Confidence'])\n",
    "    ax.set_title(title)\n",
    "\n",
    "# Plot both tasks\n",
    "ax_plot(y1_ax, train_y1, train_x1, observed_pred_y1, 'Observed Values (Likelihood)')\n",
    "ax_plot(y2_ax, train_y2, train_x2, observed_pred_y2, 'Observed Values (Likelihood)')"
   ]
  }
 ],
 "metadata": {
  "@webio": {
   "lastCommId": null,
   "lastKernelId": null
  },
  "anaconda-cloud": {},
  "kernelspec": {
   "display_name": "Python 3 (ipykernel)",
   "language": "python",
   "name": "python3"
  },
  "language_info": {
   "codemirror_mode": {
    "name": "ipython",
    "version": 3
   },
   "file_extension": ".py",
   "mimetype": "text/x-python",
   "name": "python",
   "nbconvert_exporter": "python",
   "pygments_lexer": "ipython3",
   "version": "3.8.0"
  }
 },
 "nbformat": 4,
 "nbformat_minor": 1
}
