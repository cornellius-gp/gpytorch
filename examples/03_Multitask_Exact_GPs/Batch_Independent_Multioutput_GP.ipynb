{
 "cells": [
  {
   "cell_type": "markdown",
   "metadata": {},
   "source": [
    "# Batch Independent Multioutput GP\n",
    "\n",
    "## Introduction\n",
    "\n",
    "This notebook demonstrates how to wrap independent GP models into a convenient Multi-Output GP model.\n",
    "It uses batch dimensions for efficient computation. Unlike in the [Multitask GP Example](./Multitask_GP_Regression.ipynb), this do not model correlations between outcomes, but treats outcomes independently.\n",
    "\n",
    "This type of model is useful if \n",
    "- when the number of training / test points is equal for the different outcomes\n",
    "- using the same covariance modules and / or likelihoods for each outcome\n",
    "\n",
    "For non-block designs (i.e. when the above points do not apply), you should instead use a `ModelList` GP as described in the [ModelList multioutput example](./ModelList_GP_Regression.ipynb)."
   ]
  },
  {
   "cell_type": "code",
   "execution_count": 1,
   "metadata": {},
   "outputs": [],
   "source": [
    "import math\n",
    "import torch\n",
    "import gpytorch\n",
    "from matplotlib import pyplot as plt\n",
    "\n",
    "%matplotlib inline"
   ]
  },
  {
   "cell_type": "markdown",
   "metadata": {},
   "source": [
    "### Set up training data\n",
    "\n",
    "In the next cell, we set up the training data for this example. We'll be using 100 regularly spaced points on [0,1] which we evaluate the function on and add Gaussian noise to get the training labels.\n",
    "\n",
    "We'll have two functions - a sine function (y1) and a cosine function (y2).\n",
    "\n",
    "For MTGPs, our `train_targets` will actually have two dimensions: with the second dimension corresponding to the different tasks."
   ]
  },
  {
   "cell_type": "code",
   "execution_count": 2,
   "metadata": {},
   "outputs": [],
   "source": [
    "train_x = torch.linspace(0, 1, 100)\n",
    "\n",
    "train_y = torch.stack([\n",
    "    torch.sin(train_x * (2 * math.pi)) + torch.randn(train_x.size()) * 0.2,\n",
    "    torch.cos(train_x * (2 * math.pi)) + torch.randn(train_x.size()) * 0.2,\n",
    "], -1)"
   ]
  },
  {
   "cell_type": "markdown",
   "metadata": {},
   "source": [
    "## Define a batch GP model\n",
    "\n",
    "The model should be somewhat similar to the `ExactGP` model in the [simple regression example](../01_Exact_GPs/Simple_GP_Regression.ipynb).\n",
    "The differences:\n",
    "\n",
    "1. The model will use the batch dimension to learn multiple independent GPs simultaneously.\n",
    "1. We're going to give the mean and covariance modules a `batch_shape` argument. This allows us to learn different hyperparameters for each model.\n",
    "1. The model will return a `MultitaskMultivariateNormal` distribution rather than a `MultivariateNormal`. We will construct this distribution to convert the batch dimensions into distinct outputs."
   ]
  },
  {
   "cell_type": "code",
   "execution_count": 5,
   "metadata": {},
   "outputs": [],
   "source": [
    "class BatchIndependentMultitaskGPModel(gpytorch.models.ExactGP):\n",
    "    def __init__(self, train_x, train_y, likelihood):\n",
    "        super().__init__(train_x, train_y, likelihood)\n",
    "        self.mean_module = gpytorch.means.ConstantMean(batch_shape=torch.Size([2]))\n",
    "        self.covar_module = gpytorch.kernels.ScaleKernel(\n",
    "            gpytorch.kernels.RBFKernel(batch_shape=torch.Size([2])),\n",
    "            batch_shape=torch.Size([2])\n",
    "        )\n",
    "\n",
    "    def forward(self, x):\n",
    "        mean_x = self.mean_module(x)\n",
    "        covar_x = self.covar_module(x)\n",
    "        return gpytorch.distributions.MultitaskMultivariateNormal.from_batch_mvn(\n",
    "            gpytorch.distributions.MultivariateNormal(mean_x, covar_x)\n",
    "        )\n",
    "\n",
    "\n",
    "likelihood = gpytorch.likelihoods.MultitaskGaussianLikelihood(num_tasks=2)\n",
    "model = BatchIndependentMultitaskGPModel(train_x, train_y, likelihood)"
   ]
  },
  {
   "cell_type": "markdown",
   "metadata": {},
   "source": [
    "### Train the model hyperparameters"
   ]
  },
  {
   "cell_type": "code",
   "execution_count": 6,
   "metadata": {},
   "outputs": [
    {
     "name": "stdout",
     "output_type": "stream",
     "text": [
      "Iter 1/50 - Loss: 122.929\n",
      "Iter 2/50 - Loss: 119.192\n",
      "Iter 3/50 - Loss: 115.233\n",
      "Iter 4/50 - Loss: 111.096\n",
      "Iter 5/50 - Loss: 106.824\n",
      "Iter 6/50 - Loss: 102.458\n",
      "Iter 7/50 - Loss: 98.038\n",
      "Iter 8/50 - Loss: 93.608\n",
      "Iter 9/50 - Loss: 89.226\n",
      "Iter 10/50 - Loss: 84.959\n",
      "Iter 11/50 - Loss: 80.849\n",
      "Iter 12/50 - Loss: 76.895\n",
      "Iter 13/50 - Loss: 73.049\n",
      "Iter 14/50 - Loss: 69.255\n",
      "Iter 15/50 - Loss: 65.470\n",
      "Iter 16/50 - Loss: 61.671\n",
      "Iter 17/50 - Loss: 57.848\n",
      "Iter 18/50 - Loss: 54.001\n",
      "Iter 19/50 - Loss: 50.137\n",
      "Iter 20/50 - Loss: 46.268\n",
      "Iter 21/50 - Loss: 42.412\n",
      "Iter 22/50 - Loss: 38.591\n",
      "Iter 23/50 - Loss: 34.830\n",
      "Iter 24/50 - Loss: 31.155\n",
      "Iter 25/50 - Loss: 27.596\n",
      "Iter 26/50 - Loss: 24.183\n",
      "Iter 27/50 - Loss: 20.947\n",
      "Iter 28/50 - Loss: 17.915\n",
      "Iter 29/50 - Loss: 15.109\n",
      "Iter 30/50 - Loss: 12.543\n",
      "Iter 31/50 - Loss: 10.213\n",
      "Iter 32/50 - Loss: 8.110\n",
      "Iter 33/50 - Loss: 6.225\n",
      "Iter 34/50 - Loss: 4.556\n",
      "Iter 35/50 - Loss: 3.111\n",
      "Iter 36/50 - Loss: 1.903\n",
      "Iter 37/50 - Loss: 0.948\n",
      "Iter 38/50 - Loss: 0.252\n",
      "Iter 39/50 - Loss: -0.192\n",
      "Iter 40/50 - Loss: -0.410\n",
      "Iter 41/50 - Loss: -0.438\n",
      "Iter 42/50 - Loss: -0.323\n",
      "Iter 43/50 - Loss: -0.113\n",
      "Iter 44/50 - Loss: 0.145\n",
      "Iter 45/50 - Loss: 0.410\n",
      "Iter 46/50 - Loss: 0.648\n",
      "Iter 47/50 - Loss: 0.836\n",
      "Iter 48/50 - Loss: 0.961\n",
      "Iter 49/50 - Loss: 1.016\n",
      "Iter 50/50 - Loss: 1.004\n"
     ]
    }
   ],
   "source": [
    "# this is for running the notebook in our testing framework\n",
    "import os\n",
    "smoke_test = ('CI' in os.environ)\n",
    "training_iterations = 2 if smoke_test else 50\n",
    "\n",
    "\n",
    "# Find optimal model hyperparameters\n",
    "model.train()\n",
    "likelihood.train()\n",
    "\n",
    "# Use the adam optimizer\n",
    "optimizer = torch.optim.Adam([\n",
    "    {'params': model.parameters()},  # Includes GaussianLikelihood parameters\n",
    "], lr=0.1)\n",
    "\n",
    "# \"Loss\" for GPs - the marginal log likelihood\n",
    "mll = gpytorch.mlls.ExactMarginalLogLikelihood(likelihood, model)\n",
    "\n",
    "for i in range(training_iterations):\n",
    "    optimizer.zero_grad()\n",
    "    output = model(train_x)\n",
    "    loss = -mll(output, train_y)\n",
    "    loss.backward()\n",
    "    print('Iter %d/%d - Loss: %.3f' % (i + 1, training_iterations, loss.item()))\n",
    "    optimizer.step()"
   ]
  },
  {
   "cell_type": "markdown",
   "metadata": {},
   "source": [
    "### Make predictions with the model"
   ]
  },
  {
   "cell_type": "code",
   "execution_count": 7,
   "metadata": {},
   "outputs": [
    {
     "data": {
      "image/png": "[encoded data removed]",
      "text/plain": [
       "<Figure size 576x216 with 2 Axes>"
      ]
     },
     "metadata": {
      "needs_background": "light"
     },
     "output_type": "display_data"
    }
   ],
   "source": [
    "# Set into eval mode\n",
    "model.eval()\n",
    "likelihood.eval()\n",
    "\n",
    "# Initialize plots\n",
    "f, (y1_ax, y2_ax) = plt.subplots(1, 2, figsize=(8, 3))\n",
    "\n",
    "# Make predictions\n",
    "with torch.no_grad(), gpytorch.settings.fast_pred_var():\n",
    "    test_x = torch.linspace(0, 1, 51)\n",
    "    predictions = likelihood(model(test_x))\n",
    "    mean = predictions.mean\n",
    "    lower, upper = predictions.confidence_region()\n",
    "    \n",
    "# This contains predictions for both tasks, flattened out\n",
    "# The first half of the predictions is for the first task\n",
    "# The second half is for the second task\n",
    "\n",
    "# Plot training data as black stars\n",
    "y1_ax.plot(train_x.detach().numpy(), train_y[:, 0].detach().numpy(), 'k*')\n",
    "# Predictive mean as blue line\n",
    "y1_ax.plot(test_x.numpy(), mean[:, 0].numpy(), 'b')\n",
    "# Shade in confidence \n",
    "y1_ax.fill_between(test_x.numpy(), lower[:, 0].numpy(), upper[:, 0].numpy(), alpha=0.5)\n",
    "y1_ax.set_ylim([-3, 3])\n",
    "y1_ax.legend(['Observed Data', 'Mean', 'Confidence'])\n",
    "y1_ax.set_title('Observed Values (Likelihood)')\n",
    "\n",
    "# Plot training data as black stars\n",
    "y2_ax.plot(train_x.detach().numpy(), train_y[:, 1].detach().numpy(), 'k*')\n",
    "# Predictive mean as blue line\n",
    "y2_ax.plot(test_x.numpy(), mean[:, 1].numpy(), 'b')\n",
    "# Shade in confidence \n",
    "y2_ax.fill_between(test_x.numpy(), lower[:, 1].numpy(), upper[:, 1].numpy(), alpha=0.5)\n",
    "y2_ax.set_ylim([-3, 3])\n",
    "y2_ax.legend(['Observed Data', 'Mean', 'Confidence'])\n",
    "y2_ax.set_title('Observed Values (Likelihood)')\n",
    "\n",
    "None"
   ]
  },
  {
   "cell_type": "code",
   "execution_count": null,
   "metadata": {},
   "outputs": [],
   "source": []
  }
 ],
 "metadata": {
  "kernelspec": {
   "display_name": "Python 3",
   "language": "python",
   "name": "python3"
  },
  "language_info": {
   "codemirror_mode": {
    "name": "ipython",
    "version": 3
   },
   "file_extension": ".py",
   "mimetype": "text/x-python",
   "name": "python",
   "nbconvert_exporter": "python",
   "pygments_lexer": "ipython3",
   "version": "3.7.3"
  }
 },
 "nbformat": 4,
 "nbformat_minor": 2
}
