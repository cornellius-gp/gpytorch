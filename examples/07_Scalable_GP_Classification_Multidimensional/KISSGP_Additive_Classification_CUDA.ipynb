{
 "cells": [
  {
   "cell_type": "markdown",
   "metadata": {},
   "source": [
    "# Scalable Additive-Structure GP Classification (CUDA) (w/ KISS-GP)\n",
    "\n",
    "## Introduction\n",
    "\n",
    "This example shows how to use a `AdditiveGridInterpolationVariationalStrategy` module. This classifcation module is designed for when the function you’re modeling has an additive decomposition over dimension. This is equivalent to using a covariance function that additively decomposes over dimensions:\n",
    "\n",
    "$$k(\\mathbf{x},\\mathbf{x'}) = \\sum_{i=1}^{d}k([\\mathbf{x}]_{i}, [\\mathbf{x'}]_{i})$$\n",
    "\n",
    "where $[\\mathbf{x}]_{i}$ denotes the ith component of the vector $\\mathbf{x}$. Example applications of this include use in Bayesian optimization, and when performing deep kernel learning. \n",
    "\n",
    "The use of inducing points allows for scaling up the training data by making computational complexity linear instead of cubic in the number of data points.\n",
    "\n",
    "\n",
    "In this example, we’re performing classification on a two dimensional toy dataset that is:\n",
    "- Defined in [-1, 1]x[-1, 1]\n",
    "- Valued 1 in [-0.5, 0.5]x[-0.5, 0.5]\n",
    "- Valued -1 otherwise\n",
    "\n",
    "The above function doesn't have an obvious additive decomposition, but it turns out that this function is can be very well approximated by the kernel anyways."
   ]
  },
  {
   "cell_type": "code",
   "execution_count": 1,
   "metadata": {},
   "outputs": [],
   "source": [
    "# High-level imports\n",
    "import math\n",
    "from math import exp\n",
    "import torch\n",
    "import gpytorch\n",
    "from matplotlib import pyplot as plt\n",
    "\n",
    "# Make inline plots\n",
    "%matplotlib inline"
   ]
  },
  {
   "cell_type": "markdown",
   "metadata": {},
   "source": [
    "## Generate toy dataset"
   ]
  },
  {
   "cell_type": "code",
   "execution_count": 2,
   "metadata": {},
   "outputs": [],
   "source": [
    "n = 51\n",
    "train_x = torch.zeros(n ** 2, 2)\n",
    "train_x[:, 0].copy_(torch.linspace(-1, 1, n).repeat(n))\n",
    "train_x[:, 1].copy_(torch.linspace(-1, 1, n).unsqueeze(1).repeat(1, n).view(-1))\n",
    "train_y = (train_x[:, 0].abs().lt(0.5)).float() * (train_x[:, 1].abs().lt(0.5)).float()\n",
    "\n",
    "train_x = train_x.cuda()\n",
    "train_y = train_y.cuda()"
   ]
  },
  {
   "cell_type": "markdown",
   "metadata": {},
   "source": [
    "## Define the model\n",
    "\n",
    "In contrast to the most basic classification models, this model uses an `AdditiveGridInterpolationVariationalStrategy`. This causes two key changes in the model. First, the model now specifically assumes that the input to `forward`, `x`, is to be additive decomposed. Thus, although the model below defines an `RBFKernel` as the covariance function, because we extend this base class, the additive decomposition discussed above will be imposed. \n",
    "\n",
    "Second, this model automatically assumes we will be using scalable kernel interpolation (SKI) for each dimension. Because of the additive decomposition, we only provide one set of grid bounds to the base class constructor, as the same grid will be used for all dimensions. It is recommended that you scale your training and test data appropriately."
   ]
  },
  {
   "cell_type": "code",
   "execution_count": 3,
   "metadata": {},
   "outputs": [],
   "source": [
    "from gpytorch.models import ApproximateGP\n",
    "from gpytorch.variational import AdditiveGridInterpolationVariationalStrategy, CholeskyVariationalDistribution\n",
    "from gpytorch.kernels import RBFKernel, ScaleKernel\n",
    "from gpytorch.likelihoods import BernoulliLikelihood\n",
    "from gpytorch.means import ConstantMean\n",
    "from gpytorch.distributions import MultivariateNormal\n",
    "\n",
    "class GPClassificationModel(ApproximateGP):\n",
    "    def __init__(self, grid_size=64, grid_bounds=([-1, 1],)):\n",
    "        variational_distribution = CholeskyVariationalDistribution(num_inducing_points=grid_size, batch_size=2)\n",
    "        variational_strategy = AdditiveGridInterpolationVariationalStrategy(self,\n",
    "                                                                            grid_size=grid_size,\n",
    "                                                                            grid_bounds=grid_bounds,\n",
    "                                                                            num_dim=2,\n",
    "                                                                            variational_distribution=variational_distribution)\n",
    "        super(GPClassificationModel, self).__init__(variational_strategy)\n",
    "        self.mean_module = ConstantMean()\n",
    "        self.covar_module = ScaleKernel(RBFKernel(ard_num_dims=1))\n",
    "\n",
    "    def forward(self, x):\n",
    "        mean_x = self.mean_module(x)\n",
    "        covar_x = self.covar_module(x)\n",
    "        latent_pred = MultivariateNormal(mean_x, covar_x)\n",
    "        return latent_pred\n",
    "\n",
    "# Cuda the model and likelihood function\n",
    "model = GPClassificationModel().cuda()\n",
    "likelihood = gpytorch.likelihoods.BernoulliLikelihood().cuda()"
   ]
  },
  {
   "cell_type": "markdown",
   "metadata": {},
   "source": [
    "## Training the model\n",
    "\n",
    "Once the model has been defined, the training loop looks very similar to other variational models we've seen in the past. We will optimize the variational lower bound as our objective function. In this case, although variational inference in GPyTorch supports stochastic gradient descent, we choose to do batch optimization due to the relatively small toy dataset.\n",
    "\n",
    "For an example of using the `AdditiveGridInterpolationVariationalStrategy` model with stochastic gradient descent, see the `dkl_mnist` example."
   ]
  },
  {
   "cell_type": "code",
   "execution_count": 4,
   "metadata": {},
   "outputs": [
    {
     "name": "stdout",
     "output_type": "stream",
     "text": [
      "Iter 1/50 - Loss: 1.115\n",
      "Iter 2/50 - Loss: 1.108\n",
      "Iter 3/50 - Loss: 1.873\n",
      "Iter 4/50 - Loss: 1.382\n",
      "Iter 5/50 - Loss: 1.366\n",
      "Iter 6/50 - Loss: 1.286\n",
      "Iter 7/50 - Loss: 1.021\n",
      "Iter 8/50 - Loss: 0.837\n",
      "Iter 9/50 - Loss: 0.809\n",
      "Iter 10/50 - Loss: 0.801\n",
      "Iter 11/50 - Loss: 0.706\n",
      "Iter 12/50 - Loss: 0.611\n",
      "Iter 13/50 - Loss: 0.575\n",
      "Iter 14/50 - Loss: 0.550\n",
      "Iter 15/50 - Loss: 0.513\n",
      "Iter 16/50 - Loss: 0.474\n",
      "Iter 17/50 - Loss: 0.450\n",
      "Iter 18/50 - Loss: 0.426\n",
      "Iter 19/50 - Loss: 0.395\n",
      "Iter 20/50 - Loss: 0.369\n",
      "Iter 21/50 - Loss: 0.351\n",
      "Iter 22/50 - Loss: 0.336\n",
      "Iter 23/50 - Loss: 0.318\n",
      "Iter 24/50 - Loss: 0.301\n",
      "Iter 25/50 - Loss: 0.282\n",
      "Iter 26/50 - Loss: 0.264\n",
      "Iter 27/50 - Loss: 0.250\n",
      "Iter 28/50 - Loss: 0.238\n",
      "Iter 29/50 - Loss: 0.231\n",
      "Iter 30/50 - Loss: 0.217\n",
      "Iter 31/50 - Loss: 0.205\n",
      "Iter 32/50 - Loss: 0.194\n",
      "Iter 33/50 - Loss: 0.189\n",
      "Iter 34/50 - Loss: 0.180\n",
      "Iter 35/50 - Loss: 0.173\n",
      "Iter 36/50 - Loss: 0.166\n",
      "Iter 37/50 - Loss: 0.160\n",
      "Iter 38/50 - Loss: 0.155\n",
      "Iter 39/50 - Loss: 0.149\n",
      "Iter 40/50 - Loss: 0.141\n",
      "Iter 41/50 - Loss: 0.138\n",
      "Iter 42/50 - Loss: 0.141\n",
      "Iter 43/50 - Loss: 0.131\n",
      "Iter 44/50 - Loss: 0.135\n",
      "Iter 45/50 - Loss: 0.122\n",
      "Iter 46/50 - Loss: 0.119\n",
      "Iter 47/50 - Loss: 0.123\n",
      "Iter 48/50 - Loss: 0.116\n",
      "Iter 49/50 - Loss: 0.107\n",
      "Iter 50/50 - Loss: 0.108\n",
      "CPU times: user 5.95 s, sys: 640 ms, total: 6.59 s\n",
      "Wall time: 7.13 s\n"
     ]
    }
   ],
   "source": [
    "# Find optimal model hyperparameters\n",
    "model.train()\n",
    "likelihood.train()\n",
    "\n",
    "# Use the adam optimizer\n",
    "optimizer = torch.optim.Adam(model.parameters(), lr=0.1)\n",
    "\n",
    "# \"Loss\" for GPs - the marginal log likelihood\n",
    "# n_data refers to the number of training datapoints\n",
    "mll = gpytorch.mlls.VariationalELBO(likelihood, model, num_data=train_y.numel())\n",
    "\n",
    "# Training function\n",
    "def train(num_iter=50):\n",
    "    for i in range(num_iter):\n",
    "        optimizer.zero_grad()\n",
    "        output = model(train_x)\n",
    "        loss = -mll(output, train_y)\n",
    "        loss.backward()\n",
    "        print('Iter %d/%d - Loss: %.3f' % (i + 1, num_iter, loss.item()))\n",
    "        optimizer.step()\n",
    "\n",
    "%time train()"
   ]
  },
  {
   "cell_type": "markdown",
   "metadata": {},
   "source": [
    "## Test the model\n",
    "\n",
    "Next we test the model and plot the decision boundary. Despite the function we are optimizing not having an obvious additive decomposition, the model provides accurate results."
   ]
  },
  {
   "cell_type": "code",
   "execution_count": 5,
   "metadata": {},
   "outputs": [
    {
     "data": {
      "text/plain": [
       "<matplotlib.collections.PathCollection at 0x7fbfdc12a908>"
      ]
     },
     "execution_count": 5,
     "metadata": {},
     "output_type": "execute_result"
    },
    {
     "data": {
      "image/png": "[encoded data removed]",
      "text/plain": [
       "<Figure size 288x216 with 1 Axes>"
      ]
     },
     "metadata": {
      "needs_background": "light"
     },
     "output_type": "display_data"
    }
   ],
   "source": [
    "# Switch the model and likelihood into the evaluation mode\n",
    "model.eval()\n",
    "likelihood.eval()\n",
    "\n",
    "# Start the plot, 4x3in\n",
    "f, ax = plt.subplots(1, 1, figsize=(4, 3))\n",
    "\n",
    "n = 150\n",
    "test_x = torch.zeros(n ** 2, 2)\n",
    "test_x[:, 0].copy_(torch.linspace(-1, 1, n).repeat(n))\n",
    "test_x[:, 1].copy_(torch.linspace(-1, 1, n).unsqueeze(1).repeat(1, n).view(-1))\n",
    "# Cuda variable of test data\n",
    "test_x = test_x.cuda()\n",
    "\n",
    "with torch.no_grad():\n",
    "    predictions = likelihood(model(test_x))\n",
    "\n",
    "# prob<0.5 --> label -1 // prob>0.5 --> label 1\n",
    "pred_labels = predictions.mean.ge(0.5).float().cpu()\n",
    "# Colors = yellow for 1, red for -1\n",
    "color = []\n",
    "for i in range(len(pred_labels)):\n",
    "    if pred_labels[i] == 1:\n",
    "        color.append('y')\n",
    "    else:\n",
    "        color.append('r')\n",
    "        \n",
    "# Plot data a scatter plot\n",
    "ax.scatter(test_x[:, 0].cpu(), test_x[:, 1].cpu(), color=color, s=1)"
   ]
  },
  {
   "cell_type": "code",
   "execution_count": null,
   "metadata": {},
   "outputs": [],
   "source": []
  }
 ],
 "metadata": {
  "anaconda-cloud": {},
  "kernelspec": {
   "display_name": "Python 3",
   "language": "python",
   "name": "python3"
  },
  "language_info": {
   "codemirror_mode": {
    "name": "ipython",
    "version": 3
   },
   "file_extension": ".py",
   "mimetype": "text/x-python",
   "name": "python",
   "nbconvert_exporter": "python",
   "pygments_lexer": "ipython3",
   "version": "3.6.8"
  }
 },
 "nbformat": 4,
 "nbformat_minor": 2
}
