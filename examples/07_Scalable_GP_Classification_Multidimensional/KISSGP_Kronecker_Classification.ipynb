{
 "cells": [
  {
   "cell_type": "markdown",
   "metadata": {
    "collapsed": true
   },
   "source": [
    "# Scalable GP Classification (w/ KISS-GP)\n",
    "\n",
    "This example shows how to use a `GridInterpolationVariationalStrategy` module. This classification module is designed for when the function you're modeling has 2-3 dimensional inputs and you don't believe that the output can be additively decomposed.\n",
    "\n",
    "In this example, the function is checkerboard of 1/3x1/3 squares with labels of -1 or 1\n",
    "\n",
    "\n",
    " Here we use KISS-GP (https://arxiv.org/pdf/1503.01057.pdf) to classify"
   ]
  },
  {
   "cell_type": "code",
   "execution_count": 1,
   "metadata": {},
   "outputs": [],
   "source": [
    "import math\n",
    "import torch\n",
    "import gpytorch\n",
    "from matplotlib import pyplot as plt\n",
    "from math import exp\n",
    "\n",
    "%matplotlib inline\n",
    "%load_ext autoreload\n",
    "%autoreload 2"
   ]
  },
  {
   "cell_type": "code",
   "execution_count": 2,
   "metadata": {},
   "outputs": [],
   "source": [
    "# We make an nxn grid of training points\n",
    "# In [0,1]x[0,1] spaced every 1/(n-1)\n",
    "n = 30\n",
    "train_x = torch.zeros(int(pow(n, 2)), 2)\n",
    "train_y = torch.zeros(int(pow(n, 2)))\n",
    "for i in range(n):\n",
    "    for j in range(n):\n",
    "        train_x[i * n + j][0] = float(i) / (n - 1)\n",
    "        train_x[i * n + j][1] = float(j) / (n - 1)\n",
    "        # True function is checkerboard of 1/3x1/3 squares with labels of -1 or 1\n",
    "        train_y[i * n + j] = pow(-1, int(3 * i / n + int(3 * j / n))) + 1 // 2"
   ]
  },
  {
   "cell_type": "code",
   "execution_count": 3,
   "metadata": {},
   "outputs": [],
   "source": [
    "from gpytorch.models import ApproximateGP\n",
    "from gpytorch.variational import CholeskyVariationalDistribution\n",
    "from gpytorch.variational import GridInterpolationVariationalStrategy\n",
    "\n",
    "class GPClassificationModel(ApproximateGP):\n",
    "    def __init__(self, grid_size=10, grid_bounds=[(0, 1), (0, 1)]):\n",
    "        variational_distribution = CholeskyVariationalDistribution(int(pow(grid_size, len(grid_bounds))))\n",
    "        variational_strategy = GridInterpolationVariationalStrategy(self, grid_size, grid_bounds, variational_distribution)\n",
    "        super(GPClassificationModel, self).__init__(variational_strategy)\n",
    "        self.mean_module = gpytorch.means.ConstantMean()\n",
    "        self.covar_module = gpytorch.kernels.ScaleKernel(\n",
    "            gpytorch.kernels.RBFKernel(\n",
    "                lengthscale_prior=gpytorch.priors.SmoothedBoxPrior(\n",
    "                    exp(0), exp(3), sigma=0.1, transform=torch.exp\n",
    "                )\n",
    "            )\n",
    "        )\n",
    "        \n",
    "    def forward(self,x):\n",
    "        mean_x = self.mean_module(x)\n",
    "        covar_x = self.covar_module(x)\n",
    "        latent_pred = gpytorch.distributions.MultivariateNormal(mean_x, covar_x)\n",
    "        return latent_pred\n",
    "\n",
    "\n",
    "model = GPClassificationModel()\n",
    "likelihood = gpytorch.likelihoods.BernoulliLikelihood()"
   ]
  },
  {
   "cell_type": "code",
   "execution_count": 4,
   "metadata": {},
   "outputs": [
    {
     "name": "stdout",
     "output_type": "stream",
     "text": [
      "Iter 1/50 - Loss: 0.912\n",
      "Iter 2/50 - Loss: 9.193\n",
      "Iter 3/50 - Loss: 4.586\n",
      "Iter 4/50 - Loss: 5.161\n",
      "Iter 5/50 - Loss: 5.233\n",
      "Iter 6/50 - Loss: 3.804\n",
      "Iter 7/50 - Loss: 2.513\n",
      "Iter 8/50 - Loss: 2.269\n",
      "Iter 9/50 - Loss: 2.510\n",
      "Iter 10/50 - Loss: 2.387\n",
      "Iter 11/50 - Loss: 1.988\n",
      "Iter 12/50 - Loss: 1.673\n",
      "Iter 13/50 - Loss: 1.548\n",
      "Iter 14/50 - Loss: 1.498\n",
      "Iter 15/50 - Loss: 1.391\n",
      "Iter 16/50 - Loss: 1.222\n",
      "Iter 17/50 - Loss: 1.086\n",
      "Iter 18/50 - Loss: 1.007\n",
      "Iter 19/50 - Loss: 0.956\n",
      "Iter 20/50 - Loss: 0.911\n",
      "Iter 21/50 - Loss: 0.839\n",
      "Iter 22/50 - Loss: 0.808\n",
      "Iter 23/50 - Loss: 0.788\n",
      "Iter 24/50 - Loss: 0.779\n",
      "Iter 25/50 - Loss: 0.756\n",
      "Iter 26/50 - Loss: 0.739\n",
      "Iter 27/50 - Loss: 0.725\n",
      "Iter 28/50 - Loss: 0.715\n",
      "Iter 29/50 - Loss: 0.690\n",
      "Iter 30/50 - Loss: 0.679\n",
      "Iter 31/50 - Loss: 0.661\n",
      "Iter 32/50 - Loss: 0.644\n",
      "Iter 33/50 - Loss: 0.639\n",
      "Iter 34/50 - Loss: 0.614\n",
      "Iter 35/50 - Loss: 0.597\n",
      "Iter 36/50 - Loss: 0.579\n",
      "Iter 37/50 - Loss: 0.576\n",
      "Iter 38/50 - Loss: 0.559\n",
      "Iter 39/50 - Loss: 0.542\n",
      "Iter 40/50 - Loss: 0.529\n",
      "Iter 41/50 - Loss: 0.521\n",
      "Iter 42/50 - Loss: 0.504\n",
      "Iter 43/50 - Loss: 0.501\n",
      "Iter 44/50 - Loss: 0.483\n",
      "Iter 45/50 - Loss: 0.466\n",
      "Iter 46/50 - Loss: 0.458\n",
      "Iter 47/50 - Loss: 0.454\n",
      "Iter 48/50 - Loss: 0.444\n",
      "Iter 49/50 - Loss: 0.440\n",
      "Iter 50/50 - Loss: 0.427\n",
      "CPU times: user 11.8 s, sys: 21.5 s, total: 33.3 s\n",
      "Wall time: 6.75 s\n"
     ]
    }
   ],
   "source": [
    "from gpytorch.mlls.variational_elbo import VariationalELBO\n",
    "\n",
    "# Find optimal model hyperparameters\n",
    "model.train()\n",
    "likelihood.train()\n",
    "\n",
    "# Use the adam optimizer\n",
    "optimizer = torch.optim.Adam(model.parameters(), lr=0.1)\n",
    "\n",
    "# \"Loss\" for GPs - the marginal log likelihood\n",
    "# n_data refers to the number of training datapoints\n",
    "mll = VariationalELBO(likelihood, model, train_y.numel())\n",
    "\n",
    "def train():\n",
    "    num_iter = 50\n",
    "    for i in range(num_iter):\n",
    "        optimizer.zero_grad()\n",
    "        output = model(train_x)\n",
    "        # Calc loss and backprop gradients\n",
    "        loss = -mll(output, train_y)\n",
    "        loss.backward()\n",
    "        print('Iter %d/%d - Loss: %.3f' % (i + 1, num_iter, loss.item()))\n",
    "        optimizer.step()\n",
    "        \n",
    "# Get clock time\n",
    "%time train()"
   ]
  },
  {
   "cell_type": "code",
   "execution_count": 5,
   "metadata": {},
   "outputs": [
    {
     "data": {
      "text/plain": [
       "(-0.5, 1.5)"
      ]
     },
     "execution_count": 5,
     "metadata": {},
     "output_type": "execute_result"
    },
    {
     "data": {
      "image/png": "[encoded data removed]",
      "text/plain": [
       "<Figure size 288x216 with 1 Axes>"
      ]
     },
     "metadata": {
      "needs_background": "light"
     },
     "output_type": "display_data"
    }
   ],
   "source": [
    "# Set model and likelihood into eval mode\n",
    "model.eval()\n",
    "likelihood.eval()\n",
    "\n",
    "# Initialize figiure an axis\n",
    "f, ax = plt.subplots(1, 1, figsize=(4, 3))\n",
    "\n",
    "n = 100\n",
    "test_x = torch.zeros(int(pow(n, 2)), 2)\n",
    "for i in range(n):\n",
    "    for j in range(n):\n",
    "        test_x[i * n + j][0] = float(i) / (n-1)\n",
    "        test_x[i * n + j][1] = float(j) / (n-1)\n",
    "        \n",
    "with torch.no_grad(), gpytorch.settings.fast_pred_var():\n",
    "    predictions = likelihood(model(test_x))\n",
    "\n",
    "# prob<0.5 --> label -1 // prob>0.5 --> label 1\n",
    "pred_labels = predictions.mean.ge(0.5).float().numpy()\n",
    "# Colors = yellow for 1, red for -1\n",
    "color = []\n",
    "for i in range(len(pred_labels)):\n",
    "    if pred_labels[i] == 1:\n",
    "        color.append('y')\n",
    "    else:\n",
    "        color.append('r')\n",
    "        \n",
    "# Plot data a scatter plot\n",
    "ax.scatter(test_x[:, 0], test_x[:, 1], color=color, s=1)\n",
    "ax.set_ylim([-0.5, 1.5])"
   ]
  },
  {
   "cell_type": "code",
   "execution_count": null,
   "metadata": {},
   "outputs": [],
   "source": []
  }
 ],
 "metadata": {
  "anaconda-cloud": {},
  "kernelspec": {
   "display_name": "Python 3",
   "language": "python",
   "name": "python3"
  },
  "language_info": {
   "codemirror_mode": {
    "name": "ipython",
    "version": 3
   },
   "file_extension": ".py",
   "mimetype": "text/x-python",
   "name": "python",
   "nbconvert_exporter": "python",
   "pygments_lexer": "ipython3",
   "version": "3.6.8"
  }
 },
 "nbformat": 4,
 "nbformat_minor": 2
}
