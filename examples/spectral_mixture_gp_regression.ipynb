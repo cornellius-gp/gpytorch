{
 "cells": [
  {
   "cell_type": "markdown",
   "metadata": {},
   "source": [
    "This example shows how to use a `SpectralMixtureKernel` module on an `ExactGP` model. This module is designed for\n",
    "- When you want to use exact inference (e.g. for regression)\n",
    "- When you want to use a more sophisticated kernel than RBF\n",
    "\n",
    "Function to be modeled is  $sin(2\\pi x)$\n",
    "\n",
    "The Spectral Mixture (SM) kernel was invented and discussed in this paper:\n",
    "https://arxiv.org/pdf/1302.4245.pdf"
   ]
  },
  {
   "cell_type": "code",
   "execution_count": 1,
   "metadata": {},
   "outputs": [],
   "source": [
    "import math\n",
    "import torch\n",
    "import gpytorch\n",
    "from matplotlib import pyplot as plt\n",
    "\n",
    "%matplotlib inline\n",
    "%load_ext autoreload\n",
    "%autoreload 2"
   ]
  },
  {
   "cell_type": "code",
   "execution_count": 2,
   "metadata": {},
   "outputs": [],
   "source": [
    "from torch.autograd import Variable\n",
    "# Training data points are located every 0.075 along 0 to 0.75 inclusive\n",
    "train_x = Variable(torch.linspace(0, 1, 15))\n",
    "# True function is sin(2*pi*x)\n",
    "# Gaussian noise N(0,0.04) added\n",
    "train_y = Variable(torch.sin(train_x.data * (2 * math.pi)))"
   ]
  },
  {
   "cell_type": "code",
   "execution_count": 3,
   "metadata": {},
   "outputs": [],
   "source": [
    "from torch import optim\n",
    "from gpytorch.kernels import RBFKernel, SpectralMixtureKernel\n",
    "from gpytorch.means import ConstantMean\n",
    "from gpytorch.likelihoods import GaussianLikelihood\n",
    "from gpytorch.random_variables import GaussianRandomVariable"
   ]
  },
  {
   "cell_type": "code",
   "execution_count": 13,
   "metadata": {},
   "outputs": [],
   "source": [
    "# Here we see an example of using the spectral mixture kernel as described here:\n",
    "# https://arxiv.org/pdf/1302.4245.pdf\n",
    "class SpectralMixtureGPModel(gpytorch.models.ExactGP):\n",
    "    def __init__(self, train_x, train_y, likelihood):\n",
    "        super(SpectralMixtureGPModel, self).__init__(train_x, train_y, likelihood)\n",
    "        # We can learn a mean between -1 and 1\n",
    "        self.mean_module = ConstantMean(constant_bounds=(-1, 1))\n",
    "        # We use a spectral mixture kernel where the frequency is a mixture of 3 Gaussians\n",
    "        self.covar_module = SpectralMixtureKernel(n_mixtures=4)\n",
    "        self.covar_module.initialize_from_data(train_x, train_y)\n",
    "\n",
    "    def forward(self,x):\n",
    "        mean_x = self.mean_module(x)\n",
    "        covar_x = self.covar_module(x)\n",
    "        return GaussianRandomVariable(mean_x, covar_x)\n",
    "\n",
    "# Initialize the likelihood. We use a Gaussian for regression to get predictive mean\n",
    "# and variance and learn noise parameter\n",
    "likelihood = GaussianLikelihood(log_noise_bounds=(-5, 5))\n",
    "# Use the likelihood to initialize the model\n",
    "model = SpectralMixtureGPModel(train_x.data, train_y.data, likelihood)"
   ]
  },
  {
   "cell_type": "code",
   "execution_count": 14,
   "metadata": {
    "scrolled": false
   },
   "outputs": [
    {
     "name": "stdout",
     "output_type": "stream",
     "text": [
      "Iter 1/100 - Loss: 1.312\n",
      "Iter 2/100 - Loss: 1.284\n",
      "Iter 3/100 - Loss: 1.224\n",
      "Iter 4/100 - Loss: 1.172\n",
      "Iter 5/100 - Loss: 1.147\n",
      "Iter 6/100 - Loss: 1.101\n",
      "Iter 7/100 - Loss: 1.058\n",
      "Iter 8/100 - Loss: 1.027\n",
      "Iter 9/100 - Loss: 0.973\n",
      "Iter 10/100 - Loss: 0.964\n",
      "Iter 11/100 - Loss: 0.919\n",
      "Iter 12/100 - Loss: 0.912\n",
      "Iter 13/100 - Loss: 0.885\n",
      "Iter 14/100 - Loss: 0.867\n",
      "Iter 15/100 - Loss: 0.878\n",
      "Iter 16/100 - Loss: 0.865\n",
      "Iter 17/100 - Loss: 0.851\n",
      "Iter 18/100 - Loss: 0.836\n",
      "Iter 19/100 - Loss: 0.783\n",
      "Iter 20/100 - Loss: 0.736\n",
      "Iter 21/100 - Loss: 0.678\n",
      "Iter 22/100 - Loss: 0.637\n",
      "Iter 23/100 - Loss: 0.590\n",
      "Iter 24/100 - Loss: 0.561\n",
      "Iter 25/100 - Loss: 0.504\n",
      "Iter 26/100 - Loss: 0.466\n",
      "Iter 27/100 - Loss: 0.418\n",
      "Iter 28/100 - Loss: 0.356\n",
      "Iter 29/100 - Loss: 0.324\n",
      "Iter 30/100 - Loss: 0.291\n",
      "Iter 31/100 - Loss: 0.248\n",
      "Iter 32/100 - Loss: 0.209\n",
      "Iter 33/100 - Loss: 0.166\n",
      "Iter 34/100 - Loss: 0.130\n",
      "Iter 35/100 - Loss: 0.073\n",
      "Iter 36/100 - Loss: 0.044\n",
      "Iter 37/100 - Loss: -0.017\n",
      "Iter 38/100 - Loss: -0.034\n",
      "Iter 39/100 - Loss: -0.085\n",
      "Iter 40/100 - Loss: -0.111\n",
      "Iter 41/100 - Loss: -0.160\n",
      "Iter 42/100 - Loss: -0.187\n",
      "Iter 43/100 - Loss: -0.221\n",
      "Iter 44/100 - Loss: -0.262\n",
      "Iter 45/100 - Loss: -0.296\n",
      "Iter 46/100 - Loss: -0.313\n",
      "Iter 47/100 - Loss: -0.340\n",
      "Iter 48/100 - Loss: -0.382\n",
      "Iter 49/100 - Loss: -0.405\n",
      "Iter 50/100 - Loss: -0.445\n",
      "Iter 51/100 - Loss: -0.439\n",
      "Iter 52/100 - Loss: -0.447\n",
      "Iter 53/100 - Loss: -0.433\n",
      "Iter 54/100 - Loss: -0.428\n",
      "Iter 55/100 - Loss: -0.431\n",
      "Iter 56/100 - Loss: -0.456\n",
      "Iter 57/100 - Loss: -0.435\n",
      "Iter 58/100 - Loss: -0.410\n",
      "Iter 59/100 - Loss: -0.393\n",
      "Iter 60/100 - Loss: -0.440\n",
      "Iter 61/100 - Loss: -0.416\n",
      "Iter 62/100 - Loss: -0.453\n",
      "Iter 63/100 - Loss: -0.456\n",
      "Iter 64/100 - Loss: -0.482\n",
      "Iter 65/100 - Loss: -0.487\n",
      "Iter 66/100 - Loss: -0.491\n",
      "Iter 67/100 - Loss: -0.509\n",
      "Iter 68/100 - Loss: -0.503\n",
      "Iter 69/100 - Loss: -0.497\n",
      "Iter 70/100 - Loss: -0.512\n",
      "Iter 71/100 - Loss: -0.541\n",
      "Iter 72/100 - Loss: -0.566\n",
      "Iter 73/100 - Loss: -0.586\n",
      "Iter 74/100 - Loss: -0.593\n",
      "Iter 75/100 - Loss: -0.571\n",
      "Iter 76/100 - Loss: -0.584\n",
      "Iter 77/100 - Loss: -0.597\n",
      "Iter 78/100 - Loss: -0.610\n",
      "Iter 79/100 - Loss: -0.618\n",
      "Iter 80/100 - Loss: -0.613\n",
      "Iter 81/100 - Loss: -0.581\n",
      "Iter 82/100 - Loss: -0.573\n",
      "Iter 83/100 - Loss: -0.586\n",
      "Iter 84/100 - Loss: -0.610\n",
      "Iter 85/100 - Loss: -0.593\n",
      "Iter 86/100 - Loss: -0.534\n",
      "Iter 87/100 - Loss: -0.438\n",
      "Iter 88/100 - Loss: -0.409\n",
      "Iter 89/100 - Loss: -0.488\n",
      "Iter 90/100 - Loss: -0.573\n",
      "Iter 91/100 - Loss: -0.627\n",
      "Iter 92/100 - Loss: -0.634\n",
      "Iter 93/100 - Loss: -0.620\n",
      "Iter 94/100 - Loss: -0.636\n",
      "Iter 95/100 - Loss: -0.640\n",
      "Iter 96/100 - Loss: -0.635\n",
      "Iter 97/100 - Loss: -0.628\n",
      "Iter 98/100 - Loss: -0.626\n",
      "Iter 99/100 - Loss: -0.625\n",
      "Iter 100/100 - Loss: -0.606\n"
     ]
    }
   ],
   "source": [
    "# Find optimal model hyperparameters\n",
    "model.train()\n",
    "likelihood.train()\n",
    "\n",
    "# Use the adam optimizer\n",
    "optimizer = torch.optim.Adam([\n",
    "    {'params': model.parameters()},  # Includes GaussianLikelihood parameters\n",
    "], lr=0.1)\n",
    "\n",
    "# \"Loss\" for GPs - the marginal log likelihood\n",
    "mll = gpytorch.mlls.ExactMarginalLogLikelihood(likelihood, model)\n",
    "\n",
    "training_iter = 100\n",
    "for i in range(training_iter):\n",
    "    # Zero previously backpropped gradients\n",
    "    optimizer.zero_grad()\n",
    "    # Make prediction\n",
    "    output = model(train_x)\n",
    "    # Calc loss and backprop\n",
    "    loss = -mll(output, train_y)\n",
    "    loss.backward()\n",
    "    print('Iter %d/%d - Loss: %.3f' % (i + 1, training_iter, loss.data[0]))\n",
    "    optimizer.step()"
   ]
  },
  {
   "cell_type": "code",
   "execution_count": 15,
   "metadata": {
    "scrolled": false
   },
   "outputs": [
    {
     "data": {
      "image/png": "[encoded data removed]",
      "text/plain": [
       "<Figure size 288x216 with 1 Axes>"
      ]
     },
     "metadata": {},
     "output_type": "display_data"
    }
   ],
   "source": [
    "# Set into eval mode\n",
    "model.eval()\n",
    "likelihood.eval()\n",
    "\n",
    "# Initialize figure\n",
    "f, observed_ax = plt.subplots(1, 1, figsize=(4, 3))\n",
    "# Test points every 0.1 between 0 and 5\n",
    "# (note this is over 6 times the length of the region with training points)\n",
    "test_x = Variable(torch.linspace(0, 2, 51))\n",
    "# Make predictions\n",
    "observed_pred = likelihood(model(test_x))\n",
    "\n",
    "# Define plotting function\n",
    "def ax_plot(ax, rand_var, title):\n",
    "    # Get lower and upper confidence bounds\n",
    "    lower, upper = rand_var.confidence_region()\n",
    "    # Training data as black stars\n",
    "    ax.plot(train_x.data.numpy(), train_y.data.numpy(), 'k*')\n",
    "    # Plot predictive mean as blue line\n",
    "    ax.plot(test_x.data.numpy(), rand_var.mean().data.numpy(), 'b')\n",
    "    # Shade confidence region\n",
    "    ax.fill_between(test_x.data.numpy(), lower.data.numpy(), upper.data.numpy(), alpha=0.5)\n",
    "    ax.set_ylim([-3, 3])\n",
    "    # Labels + title\n",
    "    ax.legend(['Observed Data', 'Mean', 'Confidence'])\n",
    "    ax.set_title(title)\n",
    "# Plot figure\n",
    "ax_plot(observed_ax, observed_pred, 'Observed Values (Likelihood)')"
   ]
  },
  {
   "cell_type": "code",
   "execution_count": null,
   "metadata": {},
   "outputs": [],
   "source": []
  }
 ],
 "metadata": {
  "anaconda-cloud": {},
  "kernelspec": {
   "display_name": "Python 3",
   "language": "python",
   "name": "python3"
  },
  "language_info": {
   "codemirror_mode": {
    "name": "ipython",
    "version": 3
   },
   "file_extension": ".py",
   "mimetype": "text/x-python",
   "name": "python",
   "nbconvert_exporter": "python",
   "pygments_lexer": "ipython3",
   "version": "3.6.5"
  }
 },
 "nbformat": 4,
 "nbformat_minor": 1
}
