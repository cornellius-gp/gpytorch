{
 "cells": [
  {
   "cell_type": "code",
   "execution_count": 1,
   "metadata": {
    "collapsed": false
   },
   "outputs": [
    {
     "name": "stderr",
     "output_type": "stream",
     "text": [
      "\n",
      "Bad key \"hatch.linewidth\" on line 54 in\n",
      "/home/gpleiss/.dotfiles/matplotlibrc.\n",
      "You probably need to get an updated matplotlibrc file from\n",
      "http://github.com/matplotlib/matplotlib/blob/master/matplotlibrc.template\n",
      "or from the matplotlib source distribution\n"
     ]
    }
   ],
   "source": [
    "import math\n",
    "import torch\n",
    "import gpytorch\n",
    "from matplotlib import pyplot as plt\n",
    "\n",
    "%matplotlib inline\n",
    "%load_ext autoreload\n",
    "%autoreload 2"
   ]
  },
  {
   "cell_type": "code",
   "execution_count": 2,
   "metadata": {
    "collapsed": true
   },
   "outputs": [],
   "source": [
    "from torch.autograd import Variable\n",
    "train_x = Variable(torch.linspace(0, 1, 10))\n",
    "train_y = Variable(torch.sign(torch.cos(train_x.data * (4 * math.pi))))"
   ]
  },
  {
   "cell_type": "code",
   "execution_count": 3,
   "metadata": {
    "collapsed": false
   },
   "outputs": [],
   "source": [
    "from torch import nn, optim\n",
    "from gpytorch.kernels import RBFKernel\n",
    "from gpytorch.means import ConstantMean\n",
    "from gpytorch.likelihoods import GaussianLikelihood, BernoulliLikelihood\n",
    "from gpytorch.random_variables import GaussianRandomVariable"
   ]
  },
  {
   "cell_type": "code",
   "execution_count": 4,
   "metadata": {
    "collapsed": false
   },
   "outputs": [],
   "source": [
    "class GPClassificationModel(gpytorch.models.VariationalGP):\n",
    "    def __init__(self, train_inputs):\n",
    "        super(GPClassificationModel, self).__init__(train_inputs)\n",
    "        self.mean_module = ConstantMean(constant_bounds=[-1e-5,1e-5])\n",
    "        self.covar_module = RBFKernel(log_lengthscale_bounds=(-5, 6))\n",
    "        self.register_parameter('log_outputscale', nn.Parameter(torch.Tensor([0])), bounds=(-5,6))\n",
    "        \n",
    "    def forward(self,x):\n",
    "        mean_x = self.mean_module(x)\n",
    "        covar_x = self.covar_module(x)\n",
    "        covar_x = covar_x.mul(self.log_outputscale.exp().expand_as(covar_x))\n",
    "        latent_pred = GaussianRandomVariable(mean_x, covar_x)\n",
    "        return latent_pred\n",
    "\n",
    "    \n",
    "model = GPClassificationModel(train_x.data)\n",
    "likelihood = BernoulliLikelihood()"
   ]
  },
  {
   "cell_type": "code",
   "execution_count": 5,
   "metadata": {
    "collapsed": false,
    "scrolled": true
   },
   "outputs": [
    {
     "name": "stdout",
     "output_type": "stream",
     "text": [
      "Iter 1/50 - Loss: 285.957   log_lengthscale: 0.000\n",
      "Iter 2/50 - Loss: 198.650   log_lengthscale: -0.100\n",
      "Iter 3/50 - Loss: 138.575   log_lengthscale: -0.200\n",
      "Iter 4/50 - Loss: 89.964   log_lengthscale: -0.293\n",
      "Iter 5/50 - Loss: 56.444   log_lengthscale: -0.387\n",
      "Iter 6/50 - Loss: 31.271   log_lengthscale: -0.478\n",
      "Iter 7/50 - Loss: 24.314   log_lengthscale: -0.567\n",
      "Iter 8/50 - Loss: 22.223   log_lengthscale: -0.659\n",
      "Iter 9/50 - Loss: 15.125   log_lengthscale: -0.753\n",
      "Iter 10/50 - Loss: 11.434   log_lengthscale: -0.843\n",
      "Iter 11/50 - Loss: 15.864   log_lengthscale: -0.931\n",
      "Iter 12/50 - Loss: 15.044   log_lengthscale: -1.020\n",
      "Iter 13/50 - Loss: 14.783   log_lengthscale: -1.109\n",
      "Iter 14/50 - Loss: 10.466   log_lengthscale: -1.198\n",
      "Iter 15/50 - Loss: 10.803   log_lengthscale: -1.283\n",
      "Iter 16/50 - Loss: 10.204   log_lengthscale: -1.365\n",
      "Iter 17/50 - Loss: 8.580   log_lengthscale: -1.443\n",
      "Iter 18/50 - Loss: 10.007   log_lengthscale: -1.517\n",
      "Iter 19/50 - Loss: 7.119   log_lengthscale: -1.589\n",
      "Iter 20/50 - Loss: 2.101   log_lengthscale: -1.657\n",
      "Iter 21/50 - Loss: 3.430   log_lengthscale: -1.721\n",
      "Iter 22/50 - Loss: 3.732   log_lengthscale: -1.783\n",
      "Iter 23/50 - Loss: 4.674   log_lengthscale: -1.840\n",
      "Iter 24/50 - Loss: 6.226   log_lengthscale: -1.896\n",
      "Iter 25/50 - Loss: 2.496   log_lengthscale: -1.948\n",
      "Iter 26/50 - Loss: 2.059   log_lengthscale: -1.996\n",
      "Iter 27/50 - Loss: 2.116   log_lengthscale: -2.042\n",
      "Iter 28/50 - Loss: 1.709   log_lengthscale: -2.085\n",
      "Iter 29/50 - Loss: 1.334   log_lengthscale: -2.125\n",
      "Iter 30/50 - Loss: 1.036   log_lengthscale: -2.161\n",
      "Iter 31/50 - Loss: 2.296   log_lengthscale: -2.194\n",
      "Iter 32/50 - Loss: 2.808   log_lengthscale: -2.225\n",
      "Iter 33/50 - Loss: 1.922   log_lengthscale: -2.253\n",
      "Iter 34/50 - Loss: 2.660   log_lengthscale: -2.279\n",
      "Iter 35/50 - Loss: 2.815   log_lengthscale: -2.302\n",
      "Iter 36/50 - Loss: 2.185   log_lengthscale: -2.324\n",
      "Iter 37/50 - Loss: 2.472   log_lengthscale: -2.344\n",
      "Iter 38/50 - Loss: 3.060   log_lengthscale: -2.361\n",
      "Iter 39/50 - Loss: 2.153   log_lengthscale: -2.378\n",
      "Iter 40/50 - Loss: 2.858   log_lengthscale: -2.394\n",
      "Iter 41/50 - Loss: 2.498   log_lengthscale: -2.409\n",
      "Iter 42/50 - Loss: 2.450   log_lengthscale: -2.422\n",
      "Iter 43/50 - Loss: 2.625   log_lengthscale: -2.433\n",
      "Iter 44/50 - Loss: 2.362   log_lengthscale: -2.443\n",
      "Iter 45/50 - Loss: 2.293   log_lengthscale: -2.451\n",
      "Iter 46/50 - Loss: 2.653   log_lengthscale: -2.459\n",
      "Iter 47/50 - Loss: 2.452   log_lengthscale: -2.464\n",
      "Iter 48/50 - Loss: 2.069   log_lengthscale: -2.469\n",
      "Iter 49/50 - Loss: 2.859   log_lengthscale: -2.474\n",
      "Iter 50/50 - Loss: 1.829   log_lengthscale: -2.477\n"
     ]
    }
   ],
   "source": [
    "# Find optimal model hyperparameters\n",
    "model.train()\n",
    "likelihood.train()\n",
    "\n",
    "optimizer = optim.Adam(model.parameters(), lr=0.1)\n",
    "optimizer.n_iter = 0\n",
    "for i in range(50):\n",
    "    optimizer.zero_grad()\n",
    "    output = model(train_x)\n",
    "    loss = -model.marginal_log_likelihood(likelihood, output, train_y)\n",
    "    loss.backward()\n",
    "    optimizer.n_iter += 1\n",
    "    print('Iter %d/50 - Loss: %.3f   log_lengthscale: %.3f' % (\n",
    "        i + 1, loss.data[0],\n",
    "        model.covar_module.log_lengthscale.data.squeeze()[0],\n",
    "    ))\n",
    "    optimizer.step()"
   ]
  },
  {
   "cell_type": "code",
   "execution_count": 6,
   "metadata": {
    "collapsed": false
   },
   "outputs": [
    {
     "data": {
      "image/png": "[encoded data removed]",
      "text/plain": [
       "<matplotlib.figure.Figure at 0x7f7a3c726510>"
      ]
     },
     "metadata": {},
     "output_type": "display_data"
    }
   ],
   "source": [
    "model.eval()\n",
    "likelihood.eval()\n",
    "\n",
    "f, observed_ax = plt.subplots(1, 1, figsize=(4, 3))\n",
    "test_x = Variable(torch.linspace(0, 1, 101))\n",
    "observed_pred = likelihood(model(test_x))\n",
    "\n",
    "def ax_plot(ax, rand_var, title):\n",
    "    ax.plot(train_x.data.numpy(), train_y.data.numpy(), 'k*')\n",
    "    pred_labels = rand_var.mean().ge(0.5).float().mul(2).sub(1)\n",
    "    ax.plot(test_x.data.numpy(), pred_labels.data.numpy(), 'b')\n",
    "    ax.set_ylim([-3, 3])\n",
    "    ax.legend(['Observed Data', 'Mean', 'Confidence'])\n",
    "    ax.set_title(title)\n",
    "\n",
    "ax_plot(observed_ax, observed_pred, 'Observed Values (Likelihood)')"
   ]
  }
 ],
 "metadata": {
  "anaconda-cloud": {},
  "kernelspec": {
   "display_name": "Python [default]",
   "language": "python",
   "name": "python2"
  },
  "language_info": {
   "codemirror_mode": {
    "name": "ipython",
    "version": 2
   },
   "file_extension": ".py",
   "mimetype": "text/x-python",
   "name": "python",
   "nbconvert_exporter": "python",
   "pygments_lexer": "ipython2",
   "version": "2.7.12"
  }
 },
 "nbformat": 4,
 "nbformat_minor": 1
}
