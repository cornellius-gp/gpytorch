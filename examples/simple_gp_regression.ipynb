{
 "cells": [
  {
   "cell_type": "code",
   "execution_count": 1,
   "metadata": {
    "collapsed": false
   },
   "outputs": [
    {
     "name": "stderr",
     "output_type": "stream",
     "text": [
      "\n",
      "Bad key \"hatch.linewidth\" on line 54 in\n",
      "/home/gpleiss/.dotfiles/matplotlibrc.\n",
      "You probably need to get an updated matplotlibrc file from\n",
      "http://github.com/matplotlib/matplotlib/blob/master/matplotlibrc.template\n",
      "or from the matplotlib source distribution\n"
     ]
    }
   ],
   "source": [
    "import math\n",
    "import torch\n",
    "import gpytorch\n",
    "from matplotlib import pyplot as plt\n",
    "\n",
    "%matplotlib inline\n",
    "%load_ext autoreload\n",
    "%autoreload 2"
   ]
  },
  {
   "cell_type": "code",
   "execution_count": 2,
   "metadata": {
    "collapsed": true
   },
   "outputs": [],
   "source": [
    "from torch.autograd import Variable\n",
    "train_x = Variable(torch.linspace(0, 1, 11))\n",
    "train_y = Variable(torch.sin(train_x.data * (2 * math.pi)) + torch.randn(train_x.size()) * 0.2)"
   ]
  },
  {
   "cell_type": "code",
   "execution_count": 3,
   "metadata": {
    "collapsed": true
   },
   "outputs": [],
   "source": [
    "from torch import optim\n",
    "from gpytorch.kernels import RBFKernel\n",
    "from gpytorch.means import ConstantMean\n",
    "from gpytorch.likelihoods import GaussianLikelihood\n",
    "from gpytorch.random_variables import GaussianRandomVariable"
   ]
  },
  {
   "cell_type": "code",
   "execution_count": 4,
   "metadata": {
    "collapsed": false
   },
   "outputs": [],
   "source": [
    "class ExactGPModel(gpytorch.models.ExactGP):\n",
    "    def __init__(self, train_x, train_y, likelihood):\n",
    "        super(ExactGPModel, self).__init__(train_x, train_y, likelihood)\n",
    "        self.mean_module = ConstantMean(constant_bounds=(-1, 1))\n",
    "        self.covar_module = RBFKernel(log_lengthscale_bounds=(-5, 5))\n",
    "    \n",
    "    def forward(self, x):\n",
    "        mean_x = self.mean_module(x)\n",
    "        covar_x = self.covar_module(x)\n",
    "        return GaussianRandomVariable(mean_x, covar_x)\n",
    "\n",
    "likelihood = GaussianLikelihood(log_noise_bounds=(-5, 5))\n",
    "model = ExactGPModel(train_x.data, train_y.data, likelihood)"
   ]
  },
  {
   "cell_type": "code",
   "execution_count": 5,
   "metadata": {
    "collapsed": false,
    "scrolled": false
   },
   "outputs": [
    {
     "name": "stdout",
     "output_type": "stream",
     "text": [
      "Iter 1/20 - Loss: 1.239   log_lengthscale: 0.000   log_noise: 0.000\n",
      "Iter 2/20 - Loss: 1.101   log_lengthscale: -0.100   log_noise: -0.200\n",
      "Iter 3/20 - Loss: 1.074   log_lengthscale: -0.200   log_noise: -0.400\n",
      "Iter 4/20 - Loss: 1.130   log_lengthscale: -0.259   log_noise: -0.596\n",
      "Iter 5/20 - Loss: 0.994   log_lengthscale: -0.333   log_noise: -0.788\n",
      "Iter 6/20 - Loss: 0.951   log_lengthscale: -0.415   log_noise: -0.974\n",
      "Iter 7/20 - Loss: 0.972   log_lengthscale: -0.503   log_noise: -1.156\n",
      "Iter 8/20 - Loss: 0.818   log_lengthscale: -0.591   log_noise: -1.328\n",
      "Iter 9/20 - Loss: 0.964   log_lengthscale: -0.678   log_noise: -1.486\n",
      "Iter 10/20 - Loss: 0.922   log_lengthscale: -0.765   log_noise: -1.633\n",
      "Iter 11/20 - Loss: 0.849   log_lengthscale: -0.855   log_noise: -1.766\n",
      "Iter 12/20 - Loss: 0.708   log_lengthscale: -0.946   log_noise: -1.883\n",
      "Iter 13/20 - Loss: 0.586   log_lengthscale: -1.040   log_noise: -1.991\n",
      "Iter 14/20 - Loss: 0.852   log_lengthscale: -1.137   log_noise: -2.097\n",
      "Iter 15/20 - Loss: 0.765   log_lengthscale: -1.238   log_noise: -2.202\n",
      "Iter 16/20 - Loss: 0.700   log_lengthscale: -1.340   log_noise: -2.314\n",
      "Iter 17/20 - Loss: 0.653   log_lengthscale: -1.445   log_noise: -2.433\n",
      "Iter 18/20 - Loss: 0.567   log_lengthscale: -1.552   log_noise: -2.562\n",
      "Iter 19/20 - Loss: 0.651   log_lengthscale: -1.657   log_noise: -2.701\n",
      "Iter 20/20 - Loss: 0.452   log_lengthscale: -1.758   log_noise: -2.844\n",
      "Iter 21/20 - Loss: 0.779   log_lengthscale: -1.858   log_noise: -2.990\n",
      "Iter 22/20 - Loss: 0.551   log_lengthscale: -1.952   log_noise: -3.136\n",
      "Iter 23/20 - Loss: 0.540   log_lengthscale: -2.041   log_noise: -3.279\n",
      "Iter 24/20 - Loss: 0.554   log_lengthscale: -2.125   log_noise: -3.422\n",
      "Iter 25/20 - Loss: 0.210   log_lengthscale: -2.207   log_noise: -3.553\n",
      "Iter 26/20 - Loss: 0.436   log_lengthscale: -2.285   log_noise: -3.676\n",
      "Iter 27/20 - Loss: 0.556   log_lengthscale: -2.360   log_noise: -3.795\n",
      "Iter 28/20 - Loss: 0.400   log_lengthscale: -2.436   log_noise: -3.917\n",
      "Iter 29/20 - Loss: 0.101   log_lengthscale: -2.507   log_noise: -4.039\n",
      "Iter 30/20 - Loss: 0.178   log_lengthscale: -2.569   log_noise: -4.157\n",
      "Iter 31/20 - Loss: 0.031   log_lengthscale: -2.631   log_noise: -4.287\n",
      "Iter 32/20 - Loss: 0.317   log_lengthscale: -2.689   log_noise: -4.432\n",
      "Iter 33/20 - Loss: 0.245   log_lengthscale: -2.740   log_noise: -4.577\n",
      "Iter 34/20 - Loss: 0.478   log_lengthscale: -2.781   log_noise: -4.723\n",
      "Iter 35/20 - Loss: 0.336   log_lengthscale: -2.806   log_noise: -4.860\n",
      "Iter 36/20 - Loss: 0.276   log_lengthscale: -2.814   log_noise: -4.981\n",
      "Iter 37/20 - Loss: 0.298   log_lengthscale: -2.813   log_noise: -5.000\n",
      "Iter 38/20 - Loss: 0.114   log_lengthscale: -2.792   log_noise: -5.000\n",
      "Iter 39/20 - Loss: 0.206   log_lengthscale: -2.764   log_noise: -5.000\n",
      "Iter 40/20 - Loss: 0.351   log_lengthscale: -2.729   log_noise: -5.000\n",
      "Iter 41/20 - Loss: 0.339   log_lengthscale: -2.691   log_noise: -5.000\n",
      "Iter 42/20 - Loss: 0.142   log_lengthscale: -2.660   log_noise: -5.000\n",
      "Iter 43/20 - Loss: 0.311   log_lengthscale: -2.629   log_noise: -5.000\n",
      "Iter 44/20 - Loss: 0.170   log_lengthscale: -2.604   log_noise: -5.000\n",
      "Iter 45/20 - Loss: 0.232   log_lengthscale: -2.580   log_noise: -5.000\n",
      "Iter 46/20 - Loss: 0.306   log_lengthscale: -2.564   log_noise: -5.000\n",
      "Iter 47/20 - Loss: 0.366   log_lengthscale: -2.552   log_noise: -5.000\n",
      "Iter 48/20 - Loss: 0.238   log_lengthscale: -2.543   log_noise: -5.000\n",
      "Iter 49/20 - Loss: 0.083   log_lengthscale: -2.541   log_noise: -5.000\n",
      "Iter 50/20 - Loss: 0.372   log_lengthscale: -2.549   log_noise: -5.000\n"
     ]
    }
   ],
   "source": [
    "# Find optimal model hyperparameters\n",
    "model.train()\n",
    "likelihood.train()\n",
    "\n",
    "optimizer = optim.Adam(list(model.parameters()) + list(likelihood.parameters()), lr=0.1)\n",
    "optimizer.n_iter = 0\n",
    "for i in range(50):\n",
    "    optimizer.zero_grad()\n",
    "    output = model(train_x)\n",
    "    loss = -model.marginal_log_likelihood(likelihood, output, train_y)\n",
    "    loss.backward()\n",
    "    optimizer.n_iter += 1\n",
    "    print('Iter %d/20 - Loss: %.3f   log_lengthscale: %.3f   log_noise: %.3f' % (\n",
    "        i + 1, loss.data[0],\n",
    "        model.covar_module.log_lengthscale.data[0, 0],\n",
    "        model.likelihood.log_noise.data[0]\n",
    "    ))\n",
    "    optimizer.step()"
   ]
  },
  {
   "cell_type": "code",
   "execution_count": 6,
   "metadata": {
    "collapsed": false,
    "scrolled": false
   },
   "outputs": [
    {
     "data": {
      "image/png": "[encoded data removed]",
      "text/plain": [
       "<matplotlib.figure.Figure at 0x7f5d3131c350>"
      ]
     },
     "metadata": {},
     "output_type": "display_data"
    }
   ],
   "source": [
    "model.eval()\n",
    "likelihood.eval()\n",
    "\n",
    "f, observed_ax = plt.subplots(1, 1, figsize=(4, 3))\n",
    "test_x = Variable(torch.linspace(0, 1, 51))\n",
    "observed_pred = likelihood(model(test_x))\n",
    "\n",
    "def ax_plot(ax, rand_var, title):\n",
    "    lower, upper = rand_var.confidence_region()\n",
    "    ax.plot(train_x.data.numpy(), train_y.data.numpy(), 'k*')\n",
    "    ax.plot(test_x.data.numpy(), rand_var.mean().data.numpy(), 'b')\n",
    "    ax.fill_between(test_x.data.numpy(), lower.data.numpy(), upper.data.numpy(), alpha=0.5)\n",
    "    ax.set_ylim([-3, 3])\n",
    "    ax.legend(['Observed Data', 'Mean', 'Confidence'])\n",
    "    ax.set_title(title)\n",
    "\n",
    "ax_plot(observed_ax, observed_pred, 'Observed Values (Likelihood)')"
   ]
  }
 ],
 "metadata": {
  "anaconda-cloud": {},
  "kernelspec": {
   "display_name": "Python [default]",
   "language": "python",
   "name": "python2"
  },
  "language_info": {
   "codemirror_mode": {
    "name": "ipython",
    "version": 2
   },
   "file_extension": ".py",
   "mimetype": "text/x-python",
   "name": "python",
   "nbconvert_exporter": "python",
   "pygments_lexer": "ipython2",
   "version": "2.7.12"
  }
 },
 "nbformat": 4,
 "nbformat_minor": 1
}
